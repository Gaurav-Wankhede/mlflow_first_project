{
 "cells": [
  {
   "cell_type": "code",
   "execution_count": 150,
   "id": "initial_id",
   "metadata": {
    "ExecuteTime": {
     "end_time": "2024-12-20T22:01:39.097995Z",
     "start_time": "2024-12-20T22:01:38.975468Z"
    },
    "collapsed": true
   },
   "outputs": [],
   "source": [
    "import pandas as pd\n",
    "from matplotlib import pyplot as plt\n",
    "import seaborn as sns\n",
    "import numpy as np\n",
    "\n",
    "df = pd.read_csv('survey_results.csv')"
   ]
  },
  {
   "cell_type": "code",
   "execution_count": 151,
   "id": "931dcc6ca5e4d2ca",
   "metadata": {
    "ExecuteTime": {
     "end_time": "2024-12-20T22:01:39.125959Z",
     "start_time": "2024-12-20T22:01:39.110036Z"
    }
   },
   "outputs": [
    {
     "name": "stdout",
     "output_type": "stream",
     "text": [
      "(30010, 17)\n"
     ]
    },
    {
     "data": {
      "text/html": [
       "<div>\n",
       "<style scoped>\n",
       "    .dataframe tbody tr th:only-of-type {\n",
       "        vertical-align: middle;\n",
       "    }\n",
       "\n",
       "    .dataframe tbody tr th {\n",
       "        vertical-align: top;\n",
       "    }\n",
       "\n",
       "    .dataframe thead th {\n",
       "        text-align: right;\n",
       "    }\n",
       "</style>\n",
       "<table border=\"1\" class=\"dataframe\">\n",
       "  <thead>\n",
       "    <tr style=\"text-align: right;\">\n",
       "      <th></th>\n",
       "      <th>respondent_id</th>\n",
       "      <th>age</th>\n",
       "      <th>gender</th>\n",
       "      <th>zone</th>\n",
       "      <th>occupation</th>\n",
       "      <th>income_levels</th>\n",
       "      <th>consume_frequency(weekly)</th>\n",
       "      <th>current_brand</th>\n",
       "      <th>preferable_consumption_size</th>\n",
       "      <th>awareness_of_other_brands</th>\n",
       "      <th>reasons_for_choosing_brands</th>\n",
       "      <th>flavor_preference</th>\n",
       "      <th>purchase_channel</th>\n",
       "      <th>packaging_preference</th>\n",
       "      <th>health_concerns</th>\n",
       "      <th>typical_consumption_situations</th>\n",
       "      <th>price_range</th>\n",
       "    </tr>\n",
       "  </thead>\n",
       "  <tbody>\n",
       "    <tr>\n",
       "      <th>0</th>\n",
       "      <td>R00001</td>\n",
       "      <td>30</td>\n",
       "      <td>M</td>\n",
       "      <td>Urban</td>\n",
       "      <td>Working Professional</td>\n",
       "      <td>&lt;10L</td>\n",
       "      <td>3-4 times</td>\n",
       "      <td>Newcomer</td>\n",
       "      <td>Medium (500 ml)</td>\n",
       "      <td>0 to 1</td>\n",
       "      <td>Price</td>\n",
       "      <td>Traditional</td>\n",
       "      <td>Online</td>\n",
       "      <td>Simple</td>\n",
       "      <td>Medium (Moderately health-conscious)</td>\n",
       "      <td>Active (eg. Sports, gym)</td>\n",
       "      <td>100-150</td>\n",
       "    </tr>\n",
       "    <tr>\n",
       "      <th>1</th>\n",
       "      <td>R00002</td>\n",
       "      <td>46</td>\n",
       "      <td>F</td>\n",
       "      <td>Metro</td>\n",
       "      <td>Working Professional</td>\n",
       "      <td>&gt; 35L</td>\n",
       "      <td>5-7 times</td>\n",
       "      <td>Established</td>\n",
       "      <td>Medium (500 ml)</td>\n",
       "      <td>2 to 4</td>\n",
       "      <td>Quality</td>\n",
       "      <td>Exotic</td>\n",
       "      <td>Retail Store</td>\n",
       "      <td>Premium</td>\n",
       "      <td>Medium (Moderately health-conscious)</td>\n",
       "      <td>Social (eg. Parties)</td>\n",
       "      <td>200-250</td>\n",
       "    </tr>\n",
       "    <tr>\n",
       "      <th>2</th>\n",
       "      <td>R00003</td>\n",
       "      <td>41</td>\n",
       "      <td>F</td>\n",
       "      <td>Rural</td>\n",
       "      <td>Working Professional</td>\n",
       "      <td>&gt; 35L</td>\n",
       "      <td>3-4 times</td>\n",
       "      <td>Newcomer</td>\n",
       "      <td>Medium (500 ml)</td>\n",
       "      <td>2 to 4</td>\n",
       "      <td>Availability</td>\n",
       "      <td>Traditional</td>\n",
       "      <td>Retail Store</td>\n",
       "      <td>Premium</td>\n",
       "      <td>Medium (Moderately health-conscious)</td>\n",
       "      <td>Active (eg. Sports, gym)</td>\n",
       "      <td>200-250</td>\n",
       "    </tr>\n",
       "    <tr>\n",
       "      <th>3</th>\n",
       "      <td>R00004</td>\n",
       "      <td>33</td>\n",
       "      <td>F</td>\n",
       "      <td>Urban</td>\n",
       "      <td>Working Professional</td>\n",
       "      <td>16L - 25L</td>\n",
       "      <td>5-7 times</td>\n",
       "      <td>Newcomer</td>\n",
       "      <td>Medium (500 ml)</td>\n",
       "      <td>0 to 1</td>\n",
       "      <td>Brand Reputation</td>\n",
       "      <td>Exotic</td>\n",
       "      <td>Online</td>\n",
       "      <td>Eco-Friendly</td>\n",
       "      <td>Low (Not very concerned)</td>\n",
       "      <td>Active (eg. Sports, gym)</td>\n",
       "      <td>150-200</td>\n",
       "    </tr>\n",
       "    <tr>\n",
       "      <th>4</th>\n",
       "      <td>R00005</td>\n",
       "      <td>23</td>\n",
       "      <td>M</td>\n",
       "      <td>Metro</td>\n",
       "      <td>Student</td>\n",
       "      <td>NaN</td>\n",
       "      <td>3-4 times</td>\n",
       "      <td>Established</td>\n",
       "      <td>Medium (500 ml)</td>\n",
       "      <td>0 to 1</td>\n",
       "      <td>Availability</td>\n",
       "      <td>Traditional</td>\n",
       "      <td>Online</td>\n",
       "      <td>Premium</td>\n",
       "      <td>Medium (Moderately health-conscious)</td>\n",
       "      <td>Active (eg. Sports, gym)</td>\n",
       "      <td>50-100</td>\n",
       "    </tr>\n",
       "  </tbody>\n",
       "</table>\n",
       "</div>"
      ],
      "text/plain": [
       "  respondent_id  age gender   zone            occupation income_levels  \\\n",
       "0        R00001   30      M  Urban  Working Professional          <10L   \n",
       "1        R00002   46      F  Metro  Working Professional         > 35L   \n",
       "2        R00003   41      F  Rural  Working Professional         > 35L   \n",
       "3        R00004   33      F  Urban  Working Professional     16L - 25L   \n",
       "4        R00005   23      M  Metro               Student           NaN   \n",
       "\n",
       "  consume_frequency(weekly) current_brand preferable_consumption_size  \\\n",
       "0                 3-4 times      Newcomer             Medium (500 ml)   \n",
       "1                 5-7 times   Established             Medium (500 ml)   \n",
       "2                 3-4 times      Newcomer             Medium (500 ml)   \n",
       "3                 5-7 times      Newcomer             Medium (500 ml)   \n",
       "4                 3-4 times   Established             Medium (500 ml)   \n",
       "\n",
       "  awareness_of_other_brands reasons_for_choosing_brands flavor_preference  \\\n",
       "0                    0 to 1                       Price       Traditional   \n",
       "1                    2 to 4                     Quality            Exotic   \n",
       "2                    2 to 4                Availability       Traditional   \n",
       "3                    0 to 1            Brand Reputation            Exotic   \n",
       "4                    0 to 1                Availability       Traditional   \n",
       "\n",
       "  purchase_channel packaging_preference                       health_concerns  \\\n",
       "0           Online               Simple  Medium (Moderately health-conscious)   \n",
       "1     Retail Store              Premium  Medium (Moderately health-conscious)   \n",
       "2     Retail Store              Premium  Medium (Moderately health-conscious)   \n",
       "3           Online         Eco-Friendly              Low (Not very concerned)   \n",
       "4           Online              Premium  Medium (Moderately health-conscious)   \n",
       "\n",
       "  typical_consumption_situations price_range  \n",
       "0       Active (eg. Sports, gym)     100-150  \n",
       "1           Social (eg. Parties)     200-250  \n",
       "2       Active (eg. Sports, gym)     200-250  \n",
       "3       Active (eg. Sports, gym)     150-200  \n",
       "4       Active (eg. Sports, gym)      50-100  "
      ]
     },
     "execution_count": 151,
     "metadata": {},
     "output_type": "execute_result"
    }
   ],
   "source": [
    "print(df.shape)\n",
    "df.head()"
   ]
  },
  {
   "cell_type": "markdown",
   "id": "c1add72c67f9da33",
   "metadata": {},
   "source": [
    "<h1 align='center' style=\"color:#daa520\">Cleaning Data<h1>"
   ]
  },
  {
   "cell_type": "markdown",
   "id": "bc12c37cab5d3a55",
   "metadata": {},
   "source": [
    "### 1. Check duplicated"
   ]
  },
  {
   "cell_type": "code",
   "execution_count": 152,
   "id": "c8bf7a0892bd194e",
   "metadata": {
    "ExecuteTime": {
     "end_time": "2024-12-20T22:01:39.248485Z",
     "start_time": "2024-12-20T22:01:39.203514Z"
    }
   },
   "outputs": [
    {
     "data": {
      "text/plain": [
       "10"
      ]
     },
     "execution_count": 152,
     "metadata": {},
     "output_type": "execute_result"
    }
   ],
   "source": [
    "# 1. Check duplicated\n",
    "df.duplicated().sum()"
   ]
  },
  {
   "cell_type": "code",
   "execution_count": 153,
   "id": "45026cd37696244b",
   "metadata": {
    "ExecuteTime": {
     "end_time": "2024-12-20T22:01:39.386910Z",
     "start_time": "2024-12-20T22:01:39.333676Z"
    }
   },
   "outputs": [],
   "source": [
    "df.drop_duplicates(keep='first', inplace=True)"
   ]
  },
  {
   "cell_type": "code",
   "execution_count": 154,
   "id": "217b6a33d72794b4",
   "metadata": {
    "ExecuteTime": {
     "end_time": "2024-12-20T22:01:39.496121Z",
     "start_time": "2024-12-20T22:01:39.450753Z"
    }
   },
   "outputs": [
    {
     "data": {
      "text/plain": [
       "0"
      ]
     },
     "execution_count": 154,
     "metadata": {},
     "output_type": "execute_result"
    }
   ],
   "source": [
    "df.duplicated().sum()"
   ]
  },
  {
   "cell_type": "code",
   "execution_count": 155,
   "id": "caddc47bdfdb58d",
   "metadata": {
    "ExecuteTime": {
     "end_time": "2024-12-20T22:01:39.521357Z",
     "start_time": "2024-12-20T22:01:39.516450Z"
    }
   },
   "outputs": [
    {
     "data": {
      "text/plain": [
       "(30000, 17)"
      ]
     },
     "execution_count": 155,
     "metadata": {},
     "output_type": "execute_result"
    }
   ],
   "source": [
    "df.shape"
   ]
  },
  {
   "cell_type": "markdown",
   "id": "b4531dd5533e4178",
   "metadata": {},
   "source": [
    "### 2. Check outliers from age column"
   ]
  },
  {
   "cell_type": "code",
   "execution_count": 156,
   "id": "62492450b78df9e4",
   "metadata": {
    "ExecuteTime": {
     "end_time": "2024-12-20T22:01:39.633287Z",
     "start_time": "2024-12-20T22:01:39.601446Z"
    }
   },
   "outputs": [
    {
     "name": "stdout",
     "output_type": "stream",
     "text": [
      "<class 'pandas.core.frame.DataFrame'>\n",
      "Index: 30000 entries, 0 to 30009\n",
      "Data columns (total 17 columns):\n",
      " #   Column                          Non-Null Count  Dtype \n",
      "---  ------                          --------------  ----- \n",
      " 0   respondent_id                   30000 non-null  object\n",
      " 1   age                             30000 non-null  int64 \n",
      " 2   gender                          30000 non-null  object\n",
      " 3   zone                            30000 non-null  object\n",
      " 4   occupation                      30000 non-null  object\n",
      " 5   income_levels                   21939 non-null  object\n",
      " 6   consume_frequency(weekly)       29992 non-null  object\n",
      " 7   current_brand                   30000 non-null  object\n",
      " 8   preferable_consumption_size     30000 non-null  object\n",
      " 9   awareness_of_other_brands       30000 non-null  object\n",
      " 10  reasons_for_choosing_brands     30000 non-null  object\n",
      " 11  flavor_preference               30000 non-null  object\n",
      " 12  purchase_channel                29990 non-null  object\n",
      " 13  packaging_preference            30000 non-null  object\n",
      " 14  health_concerns                 30000 non-null  object\n",
      " 15  typical_consumption_situations  30000 non-null  object\n",
      " 16  price_range                     30000 non-null  object\n",
      "dtypes: int64(1), object(16)\n",
      "memory usage: 4.1+ MB\n"
     ]
    }
   ],
   "source": [
    "df.info()"
   ]
  },
  {
   "cell_type": "code",
   "execution_count": 157,
   "id": "37c8cd4837418c1c",
   "metadata": {
    "ExecuteTime": {
     "end_time": "2024-12-20T22:01:39.714444Z",
     "start_time": "2024-12-20T22:01:39.703398Z"
    }
   },
   "outputs": [
    {
     "data": {
      "text/html": [
       "<div>\n",
       "<style scoped>\n",
       "    .dataframe tbody tr th:only-of-type {\n",
       "        vertical-align: middle;\n",
       "    }\n",
       "\n",
       "    .dataframe tbody tr th {\n",
       "        vertical-align: top;\n",
       "    }\n",
       "\n",
       "    .dataframe thead th {\n",
       "        text-align: right;\n",
       "    }\n",
       "</style>\n",
       "<table border=\"1\" class=\"dataframe\">\n",
       "  <thead>\n",
       "    <tr style=\"text-align: right;\">\n",
       "      <th></th>\n",
       "      <th>age</th>\n",
       "    </tr>\n",
       "  </thead>\n",
       "  <tbody>\n",
       "    <tr>\n",
       "      <th>count</th>\n",
       "      <td>30000.000000</td>\n",
       "    </tr>\n",
       "    <tr>\n",
       "      <th>mean</th>\n",
       "      <td>33.048167</td>\n",
       "    </tr>\n",
       "    <tr>\n",
       "      <th>std</th>\n",
       "      <td>13.438904</td>\n",
       "    </tr>\n",
       "    <tr>\n",
       "      <th>min</th>\n",
       "      <td>18.000000</td>\n",
       "    </tr>\n",
       "    <tr>\n",
       "      <th>25%</th>\n",
       "      <td>23.000000</td>\n",
       "    </tr>\n",
       "    <tr>\n",
       "      <th>50%</th>\n",
       "      <td>31.000000</td>\n",
       "    </tr>\n",
       "    <tr>\n",
       "      <th>75%</th>\n",
       "      <td>40.000000</td>\n",
       "    </tr>\n",
       "    <tr>\n",
       "      <th>max</th>\n",
       "      <td>604.000000</td>\n",
       "    </tr>\n",
       "  </tbody>\n",
       "</table>\n",
       "</div>"
      ],
      "text/plain": [
       "                age\n",
       "count  30000.000000\n",
       "mean      33.048167\n",
       "std       13.438904\n",
       "min       18.000000\n",
       "25%       23.000000\n",
       "50%       31.000000\n",
       "75%       40.000000\n",
       "max      604.000000"
      ]
     },
     "execution_count": 157,
     "metadata": {},
     "output_type": "execute_result"
    }
   ],
   "source": [
    "df.describe()"
   ]
  },
  {
   "cell_type": "code",
   "execution_count": 158,
   "id": "7164de5400ab2e18",
   "metadata": {
    "ExecuteTime": {
     "end_time": "2024-12-20T22:01:39.967754Z",
     "start_time": "2024-12-20T22:01:39.798088Z"
    }
   },
   "outputs": [
    {
     "data": {
      "image/png": "[encoded data removed]",
      "text/plain": [
       "<Figure size 800x600 with 1 Axes>"
      ]
     },
     "metadata": {},
     "output_type": "display_data"
    }
   ],
   "source": [
    "plt.figure(figsize=(8, 6))\n",
    "sns.boxplot(data=df, y='age')\n",
    "plt.title('Boxplot of Age')\n",
    "plt.xlabel('Age')\n",
    "plt.show()"
   ]
  },
  {
   "cell_type": "code",
   "execution_count": 159,
   "id": "4b309691d94b7e00",
   "metadata": {
    "ExecuteTime": {
     "end_time": "2024-12-20T22:01:40.014297Z",
     "start_time": "2024-12-20T22:01:39.999035Z"
    }
   },
   "outputs": [
    {
     "name": "stdout",
     "output_type": "stream",
     "text": [
      "(9, 17)\n"
     ]
    },
    {
     "data": {
      "text/html": [
       "<div>\n",
       "<style scoped>\n",
       "    .dataframe tbody tr th:only-of-type {\n",
       "        vertical-align: middle;\n",
       "    }\n",
       "\n",
       "    .dataframe tbody tr th {\n",
       "        vertical-align: top;\n",
       "    }\n",
       "\n",
       "    .dataframe thead th {\n",
       "        text-align: right;\n",
       "    }\n",
       "</style>\n",
       "<table border=\"1\" class=\"dataframe\">\n",
       "  <thead>\n",
       "    <tr style=\"text-align: right;\">\n",
       "      <th></th>\n",
       "      <th>respondent_id</th>\n",
       "      <th>age</th>\n",
       "      <th>gender</th>\n",
       "      <th>zone</th>\n",
       "      <th>occupation</th>\n",
       "      <th>income_levels</th>\n",
       "      <th>consume_frequency(weekly)</th>\n",
       "      <th>current_brand</th>\n",
       "      <th>preferable_consumption_size</th>\n",
       "      <th>awareness_of_other_brands</th>\n",
       "      <th>reasons_for_choosing_brands</th>\n",
       "      <th>flavor_preference</th>\n",
       "      <th>purchase_channel</th>\n",
       "      <th>packaging_preference</th>\n",
       "      <th>health_concerns</th>\n",
       "      <th>typical_consumption_situations</th>\n",
       "      <th>price_range</th>\n",
       "    </tr>\n",
       "  </thead>\n",
       "  <tbody>\n",
       "    <tr>\n",
       "      <th>3099</th>\n",
       "      <td>R03098</td>\n",
       "      <td>453</td>\n",
       "      <td>M</td>\n",
       "      <td>Metro</td>\n",
       "      <td>Working Professional</td>\n",
       "      <td>26L - 35L</td>\n",
       "      <td>3-4 times</td>\n",
       "      <td>Established</td>\n",
       "      <td>Medium (500 ml)</td>\n",
       "      <td>2 to 4</td>\n",
       "      <td>Brand Reputation</td>\n",
       "      <td>Traditional</td>\n",
       "      <td>Retail Store</td>\n",
       "      <td>Premium</td>\n",
       "      <td>Medium (Moderately health-conscious)</td>\n",
       "      <td>Social (eg. Parties)</td>\n",
       "      <td>200-250</td>\n",
       "    </tr>\n",
       "    <tr>\n",
       "      <th>6262</th>\n",
       "      <td>R06260</td>\n",
       "      <td>428</td>\n",
       "      <td>M</td>\n",
       "      <td>Urban</td>\n",
       "      <td>Entrepreneur</td>\n",
       "      <td>16L - 25L</td>\n",
       "      <td>5-7 times</td>\n",
       "      <td>Established</td>\n",
       "      <td>Large (1 L)</td>\n",
       "      <td>above 4</td>\n",
       "      <td>Quality</td>\n",
       "      <td>Exotic</td>\n",
       "      <td>Online</td>\n",
       "      <td>Simple</td>\n",
       "      <td>High (Very health-conscious)</td>\n",
       "      <td>Social (eg. Parties)</td>\n",
       "      <td>200-250</td>\n",
       "    </tr>\n",
       "    <tr>\n",
       "      <th>12403</th>\n",
       "      <td>R12398</td>\n",
       "      <td>604</td>\n",
       "      <td>M</td>\n",
       "      <td>Metro</td>\n",
       "      <td>Retired</td>\n",
       "      <td>&lt;10L</td>\n",
       "      <td>0-2 times</td>\n",
       "      <td>Newcomer</td>\n",
       "      <td>Small (250 ml)</td>\n",
       "      <td>2 to 4</td>\n",
       "      <td>Availability</td>\n",
       "      <td>Traditional</td>\n",
       "      <td>Online</td>\n",
       "      <td>Simple</td>\n",
       "      <td>Medium (Moderately health-conscious)</td>\n",
       "      <td>Casual (eg. At home)</td>\n",
       "      <td>100-150</td>\n",
       "    </tr>\n",
       "    <tr>\n",
       "      <th>22549</th>\n",
       "      <td>R22542</td>\n",
       "      <td>457</td>\n",
       "      <td>M</td>\n",
       "      <td>Metro</td>\n",
       "      <td>Working Professional</td>\n",
       "      <td>16L - 25L</td>\n",
       "      <td>3-4 times</td>\n",
       "      <td>Newcomer</td>\n",
       "      <td>Small (250 ml)</td>\n",
       "      <td>2 to 4</td>\n",
       "      <td>Price</td>\n",
       "      <td>Traditional</td>\n",
       "      <td>Online</td>\n",
       "      <td>Premium</td>\n",
       "      <td>High (Very health-conscious)</td>\n",
       "      <td>Casual (eg. At home)</td>\n",
       "      <td>200-250</td>\n",
       "    </tr>\n",
       "    <tr>\n",
       "      <th>22918</th>\n",
       "      <td>R22911</td>\n",
       "      <td>267</td>\n",
       "      <td>F</td>\n",
       "      <td>Metro</td>\n",
       "      <td>Working Professional</td>\n",
       "      <td>16L - 25L</td>\n",
       "      <td>3-4 times</td>\n",
       "      <td>Established</td>\n",
       "      <td>Medium (500 ml)</td>\n",
       "      <td>above 4</td>\n",
       "      <td>Brand Reputation</td>\n",
       "      <td>Exotic</td>\n",
       "      <td>Online</td>\n",
       "      <td>Eco-Friendly</td>\n",
       "      <td>Low (Not very concerned)</td>\n",
       "      <td>Active (eg. Sports, gym)</td>\n",
       "      <td>150-200</td>\n",
       "    </tr>\n",
       "    <tr>\n",
       "      <th>24958</th>\n",
       "      <td>R24950</td>\n",
       "      <td>285</td>\n",
       "      <td>M</td>\n",
       "      <td>Semi-Urban</td>\n",
       "      <td>Working Professional</td>\n",
       "      <td>&gt; 35L</td>\n",
       "      <td>0-2 times</td>\n",
       "      <td>Newcomer</td>\n",
       "      <td>Small (250 ml)</td>\n",
       "      <td>2 to 4</td>\n",
       "      <td>Price</td>\n",
       "      <td>Traditional</td>\n",
       "      <td>Online</td>\n",
       "      <td>Simple</td>\n",
       "      <td>Medium (Moderately health-conscious)</td>\n",
       "      <td>Active (eg. Sports, gym)</td>\n",
       "      <td>150-200</td>\n",
       "    </tr>\n",
       "    <tr>\n",
       "      <th>24960</th>\n",
       "      <td>R24952</td>\n",
       "      <td>192</td>\n",
       "      <td>F</td>\n",
       "      <td>Urban</td>\n",
       "      <td>Student</td>\n",
       "      <td>NaN</td>\n",
       "      <td>3-4 times</td>\n",
       "      <td>Newcomer</td>\n",
       "      <td>Medium (500 ml)</td>\n",
       "      <td>0 to 1</td>\n",
       "      <td>Price</td>\n",
       "      <td>Traditional</td>\n",
       "      <td>Online</td>\n",
       "      <td>Simple</td>\n",
       "      <td>Low (Not very concerned)</td>\n",
       "      <td>Active (eg. Sports, gym)</td>\n",
       "      <td>50-100</td>\n",
       "    </tr>\n",
       "    <tr>\n",
       "      <th>25105</th>\n",
       "      <td>R25096</td>\n",
       "      <td>203</td>\n",
       "      <td>M</td>\n",
       "      <td>Metro</td>\n",
       "      <td>Working Professional</td>\n",
       "      <td>16L - 25L</td>\n",
       "      <td>0-2 times</td>\n",
       "      <td>Established</td>\n",
       "      <td>Small (250 ml)</td>\n",
       "      <td>2 to 4</td>\n",
       "      <td>Brand Reputation</td>\n",
       "      <td>Exotic</td>\n",
       "      <td>Retail Store</td>\n",
       "      <td>Premium</td>\n",
       "      <td>High (Very health-conscious)</td>\n",
       "      <td>Active (eg. Sports, gym)</td>\n",
       "      <td>150-200</td>\n",
       "    </tr>\n",
       "    <tr>\n",
       "      <th>28770</th>\n",
       "      <td>R28761</td>\n",
       "      <td>428</td>\n",
       "      <td>F</td>\n",
       "      <td>Rural</td>\n",
       "      <td>Working Professional</td>\n",
       "      <td>26L - 35L</td>\n",
       "      <td>0-2 times</td>\n",
       "      <td>Established</td>\n",
       "      <td>Small (250 ml)</td>\n",
       "      <td>2 to 4</td>\n",
       "      <td>Brand Reputation</td>\n",
       "      <td>Exotic</td>\n",
       "      <td>Online</td>\n",
       "      <td>Simple</td>\n",
       "      <td>Medium (Moderately health-conscious)</td>\n",
       "      <td>Casual (eg. At home)</td>\n",
       "      <td>150-200</td>\n",
       "    </tr>\n",
       "  </tbody>\n",
       "</table>\n",
       "</div>"
      ],
      "text/plain": [
       "      respondent_id  age gender        zone            occupation  \\\n",
       "3099         R03098  453      M       Metro  Working Professional   \n",
       "6262         R06260  428      M       Urban          Entrepreneur   \n",
       "12403        R12398  604      M       Metro               Retired   \n",
       "22549        R22542  457      M       Metro  Working Professional   \n",
       "22918        R22911  267      F       Metro  Working Professional   \n",
       "24958        R24950  285      M  Semi-Urban  Working Professional   \n",
       "24960        R24952  192      F       Urban               Student   \n",
       "25105        R25096  203      M       Metro  Working Professional   \n",
       "28770        R28761  428      F       Rural  Working Professional   \n",
       "\n",
       "      income_levels consume_frequency(weekly) current_brand  \\\n",
       "3099      26L - 35L                 3-4 times   Established   \n",
       "6262      16L - 25L                 5-7 times   Established   \n",
       "12403          <10L                 0-2 times      Newcomer   \n",
       "22549     16L - 25L                 3-4 times      Newcomer   \n",
       "22918     16L - 25L                 3-4 times   Established   \n",
       "24958         > 35L                 0-2 times      Newcomer   \n",
       "24960           NaN                 3-4 times      Newcomer   \n",
       "25105     16L - 25L                 0-2 times   Established   \n",
       "28770     26L - 35L                 0-2 times   Established   \n",
       "\n",
       "      preferable_consumption_size awareness_of_other_brands  \\\n",
       "3099              Medium (500 ml)                    2 to 4   \n",
       "6262                  Large (1 L)                   above 4   \n",
       "12403              Small (250 ml)                    2 to 4   \n",
       "22549              Small (250 ml)                    2 to 4   \n",
       "22918             Medium (500 ml)                   above 4   \n",
       "24958              Small (250 ml)                    2 to 4   \n",
       "24960             Medium (500 ml)                    0 to 1   \n",
       "25105              Small (250 ml)                    2 to 4   \n",
       "28770              Small (250 ml)                    2 to 4   \n",
       "\n",
       "      reasons_for_choosing_brands flavor_preference purchase_channel  \\\n",
       "3099             Brand Reputation       Traditional     Retail Store   \n",
       "6262                      Quality            Exotic           Online   \n",
       "12403                Availability       Traditional           Online   \n",
       "22549                       Price       Traditional           Online   \n",
       "22918            Brand Reputation            Exotic           Online   \n",
       "24958                       Price       Traditional           Online   \n",
       "24960                       Price       Traditional           Online   \n",
       "25105            Brand Reputation            Exotic     Retail Store   \n",
       "28770            Brand Reputation            Exotic           Online   \n",
       "\n",
       "      packaging_preference                       health_concerns  \\\n",
       "3099               Premium  Medium (Moderately health-conscious)   \n",
       "6262                Simple          High (Very health-conscious)   \n",
       "12403               Simple  Medium (Moderately health-conscious)   \n",
       "22549              Premium          High (Very health-conscious)   \n",
       "22918         Eco-Friendly              Low (Not very concerned)   \n",
       "24958               Simple  Medium (Moderately health-conscious)   \n",
       "24960               Simple              Low (Not very concerned)   \n",
       "25105              Premium          High (Very health-conscious)   \n",
       "28770               Simple  Medium (Moderately health-conscious)   \n",
       "\n",
       "      typical_consumption_situations price_range  \n",
       "3099            Social (eg. Parties)     200-250  \n",
       "6262            Social (eg. Parties)     200-250  \n",
       "12403           Casual (eg. At home)     100-150  \n",
       "22549           Casual (eg. At home)     200-250  \n",
       "22918       Active (eg. Sports, gym)     150-200  \n",
       "24958       Active (eg. Sports, gym)     150-200  \n",
       "24960       Active (eg. Sports, gym)      50-100  \n",
       "25105       Active (eg. Sports, gym)     150-200  \n",
       "28770           Casual (eg. At home)     150-200  "
      ]
     },
     "execution_count": 159,
     "metadata": {},
     "output_type": "execute_result"
    }
   ],
   "source": [
    "print(df[df['age'] > 100].shape)\n",
    "df[df['age'] > 100]\n"
   ]
  },
  {
   "cell_type": "code",
   "execution_count": 160,
   "id": "7cec7257906bdf75",
   "metadata": {
    "ExecuteTime": {
     "end_time": "2024-12-20T22:01:40.080474Z",
     "start_time": "2024-12-20T22:01:40.075779Z"
    }
   },
   "outputs": [
    {
     "data": {
      "text/plain": [
       "604"
      ]
     },
     "execution_count": 160,
     "metadata": {},
     "output_type": "execute_result"
    }
   ],
   "source": [
    "df[df['age'] > 100]['age'].max()"
   ]
  },
  {
   "cell_type": "code",
   "execution_count": 161,
   "id": "52cede4c9e633b7e",
   "metadata": {
    "ExecuteTime": {
     "end_time": "2024-12-20T22:01:40.185139Z",
     "start_time": "2024-12-20T22:01:40.174353Z"
    }
   },
   "outputs": [],
   "source": [
    "# Drop age which greater than 100\n",
    "df = df[df['age'] < 100]"
   ]
  },
  {
   "cell_type": "code",
   "execution_count": 162,
   "id": "c108567eb9fd3daf",
   "metadata": {
    "ExecuteTime": {
     "end_time": "2024-12-20T22:01:40.485646Z",
     "start_time": "2024-12-20T22:01:40.324818Z"
    }
   },
   "outputs": [
    {
     "data": {
      "image/png": "[encoded data removed]",
      "text/plain": [
       "<Figure size 800x600 with 1 Axes>"
      ]
     },
     "metadata": {},
     "output_type": "display_data"
    }
   ],
   "source": [
    "plt.figure(figsize=(8, 6))\n",
    "sns.boxplot(data=df, y='age')\n",
    "plt.title('Boxplot of Age')\n",
    "plt.xlabel('Age')\n",
    "plt.show()"
   ]
  },
  {
   "cell_type": "code",
   "execution_count": 163,
   "id": "611c0cfca377e34b",
   "metadata": {
    "ExecuteTime": {
     "end_time": "2024-12-20T22:01:40.494439Z",
     "start_time": "2024-12-20T22:01:40.491339Z"
    }
   },
   "outputs": [
    {
     "data": {
      "text/plain": [
       "(29991, 17)"
      ]
     },
     "execution_count": 163,
     "metadata": {},
     "output_type": "execute_result"
    }
   ],
   "source": [
    "df.shape"
   ]
  },
  {
   "cell_type": "markdown",
   "id": "8c6bc35a9d7f4d2c",
   "metadata": {},
   "source": [
    "### 3. How many null values are present in the consume_frequency(weekly) column? What is the mode value used to fill these null values?\n"
   ]
  },
  {
   "cell_type": "code",
   "execution_count": 164,
   "id": "702ffedcd927266f",
   "metadata": {
    "ExecuteTime": {
     "end_time": "2024-12-20T22:01:40.537902Z",
     "start_time": "2024-12-20T22:01:40.526720Z"
    }
   },
   "outputs": [
    {
     "data": {
      "text/html": [
       "<div>\n",
       "<style scoped>\n",
       "    .dataframe tbody tr th:only-of-type {\n",
       "        vertical-align: middle;\n",
       "    }\n",
       "\n",
       "    .dataframe tbody tr th {\n",
       "        vertical-align: top;\n",
       "    }\n",
       "\n",
       "    .dataframe thead th {\n",
       "        text-align: right;\n",
       "    }\n",
       "</style>\n",
       "<table border=\"1\" class=\"dataframe\">\n",
       "  <thead>\n",
       "    <tr style=\"text-align: right;\">\n",
       "      <th></th>\n",
       "      <th>respondent_id</th>\n",
       "      <th>age</th>\n",
       "      <th>gender</th>\n",
       "      <th>zone</th>\n",
       "      <th>occupation</th>\n",
       "      <th>income_levels</th>\n",
       "      <th>consume_frequency(weekly)</th>\n",
       "      <th>current_brand</th>\n",
       "      <th>preferable_consumption_size</th>\n",
       "      <th>awareness_of_other_brands</th>\n",
       "      <th>reasons_for_choosing_brands</th>\n",
       "      <th>flavor_preference</th>\n",
       "      <th>purchase_channel</th>\n",
       "      <th>packaging_preference</th>\n",
       "      <th>health_concerns</th>\n",
       "      <th>typical_consumption_situations</th>\n",
       "      <th>price_range</th>\n",
       "    </tr>\n",
       "  </thead>\n",
       "  <tbody>\n",
       "    <tr>\n",
       "      <th>0</th>\n",
       "      <td>R00001</td>\n",
       "      <td>30</td>\n",
       "      <td>M</td>\n",
       "      <td>Urban</td>\n",
       "      <td>Working Professional</td>\n",
       "      <td>&lt;10L</td>\n",
       "      <td>3-4 times</td>\n",
       "      <td>Newcomer</td>\n",
       "      <td>Medium (500 ml)</td>\n",
       "      <td>0 to 1</td>\n",
       "      <td>Price</td>\n",
       "      <td>Traditional</td>\n",
       "      <td>Online</td>\n",
       "      <td>Simple</td>\n",
       "      <td>Medium (Moderately health-conscious)</td>\n",
       "      <td>Active (eg. Sports, gym)</td>\n",
       "      <td>100-150</td>\n",
       "    </tr>\n",
       "    <tr>\n",
       "      <th>1</th>\n",
       "      <td>R00002</td>\n",
       "      <td>46</td>\n",
       "      <td>F</td>\n",
       "      <td>Metro</td>\n",
       "      <td>Working Professional</td>\n",
       "      <td>&gt; 35L</td>\n",
       "      <td>5-7 times</td>\n",
       "      <td>Established</td>\n",
       "      <td>Medium (500 ml)</td>\n",
       "      <td>2 to 4</td>\n",
       "      <td>Quality</td>\n",
       "      <td>Exotic</td>\n",
       "      <td>Retail Store</td>\n",
       "      <td>Premium</td>\n",
       "      <td>Medium (Moderately health-conscious)</td>\n",
       "      <td>Social (eg. Parties)</td>\n",
       "      <td>200-250</td>\n",
       "    </tr>\n",
       "    <tr>\n",
       "      <th>2</th>\n",
       "      <td>R00003</td>\n",
       "      <td>41</td>\n",
       "      <td>F</td>\n",
       "      <td>Rural</td>\n",
       "      <td>Working Professional</td>\n",
       "      <td>&gt; 35L</td>\n",
       "      <td>3-4 times</td>\n",
       "      <td>Newcomer</td>\n",
       "      <td>Medium (500 ml)</td>\n",
       "      <td>2 to 4</td>\n",
       "      <td>Availability</td>\n",
       "      <td>Traditional</td>\n",
       "      <td>Retail Store</td>\n",
       "      <td>Premium</td>\n",
       "      <td>Medium (Moderately health-conscious)</td>\n",
       "      <td>Active (eg. Sports, gym)</td>\n",
       "      <td>200-250</td>\n",
       "    </tr>\n",
       "  </tbody>\n",
       "</table>\n",
       "</div>"
      ],
      "text/plain": [
       "  respondent_id  age gender   zone            occupation income_levels  \\\n",
       "0        R00001   30      M  Urban  Working Professional          <10L   \n",
       "1        R00002   46      F  Metro  Working Professional         > 35L   \n",
       "2        R00003   41      F  Rural  Working Professional         > 35L   \n",
       "\n",
       "  consume_frequency(weekly) current_brand preferable_consumption_size  \\\n",
       "0                 3-4 times      Newcomer             Medium (500 ml)   \n",
       "1                 5-7 times   Established             Medium (500 ml)   \n",
       "2                 3-4 times      Newcomer             Medium (500 ml)   \n",
       "\n",
       "  awareness_of_other_brands reasons_for_choosing_brands flavor_preference  \\\n",
       "0                    0 to 1                       Price       Traditional   \n",
       "1                    2 to 4                     Quality            Exotic   \n",
       "2                    2 to 4                Availability       Traditional   \n",
       "\n",
       "  purchase_channel packaging_preference                       health_concerns  \\\n",
       "0           Online               Simple  Medium (Moderately health-conscious)   \n",
       "1     Retail Store              Premium  Medium (Moderately health-conscious)   \n",
       "2     Retail Store              Premium  Medium (Moderately health-conscious)   \n",
       "\n",
       "  typical_consumption_situations price_range  \n",
       "0       Active (eg. Sports, gym)     100-150  \n",
       "1           Social (eg. Parties)     200-250  \n",
       "2       Active (eg. Sports, gym)     200-250  "
      ]
     },
     "execution_count": 164,
     "metadata": {},
     "output_type": "execute_result"
    }
   ],
   "source": [
    "df.head(3)"
   ]
  },
  {
   "cell_type": "code",
   "execution_count": 165,
   "id": "c36fa1a3574b2a5d",
   "metadata": {
    "ExecuteTime": {
     "end_time": "2024-12-20T22:01:40.611473Z",
     "start_time": "2024-12-20T22:01:40.605440Z"
    }
   },
   "outputs": [
    {
     "data": {
      "text/plain": [
       "8"
      ]
     },
     "execution_count": 165,
     "metadata": {},
     "output_type": "execute_result"
    }
   ],
   "source": [
    "# Null value in consume_frequency\n",
    "df['consume_frequency(weekly)'].isna().sum()"
   ]
  },
  {
   "cell_type": "code",
   "execution_count": 166,
   "id": "28987cfe7f298cf5",
   "metadata": {
    "ExecuteTime": {
     "end_time": "2024-12-20T22:01:40.674252Z",
     "start_time": "2024-12-20T22:01:40.667142Z"
    }
   },
   "outputs": [
    {
     "data": {
      "text/plain": [
       "consume_frequency(weekly)\n",
       "3-4 times    11786\n",
       "5-7 times     9774\n",
       "0-2 times     8423\n",
       "Name: count, dtype: int64"
      ]
     },
     "execution_count": 166,
     "metadata": {},
     "output_type": "execute_result"
    }
   ],
   "source": [
    "df['consume_frequency(weekly)'].value_counts()"
   ]
  },
  {
   "cell_type": "code",
   "execution_count": 167,
   "id": "1c89a1ca867843a",
   "metadata": {
    "ExecuteTime": {
     "end_time": "2024-12-20T22:01:40.859987Z",
     "start_time": "2024-12-20T22:01:40.853698Z"
    }
   },
   "outputs": [
    {
     "data": {
      "text/plain": [
       "0    3-4 times\n",
       "Name: consume_frequency(weekly), dtype: object"
      ]
     },
     "execution_count": 167,
     "metadata": {},
     "output_type": "execute_result"
    }
   ],
   "source": [
    "df['consume_frequency(weekly)'].mode()"
   ]
  },
  {
   "cell_type": "markdown",
   "id": "d939a4fd5c5cfa4c",
   "metadata": {},
   "source": [
    "* We will use mode 3-4 times to fill N/A values for consume_frequency"
   ]
  },
  {
   "cell_type": "code",
   "execution_count": 168,
   "id": "5e73fc2a510ba038",
   "metadata": {
    "ExecuteTime": {
     "end_time": "2024-12-20T22:01:40.967850Z",
     "start_time": "2024-12-20T22:01:40.962323Z"
    }
   },
   "outputs": [],
   "source": [
    "df['consume_frequency(weekly)']=df['consume_frequency(weekly)'].fillna('3-4 times')"
   ]
  },
  {
   "cell_type": "code",
   "execution_count": 169,
   "id": "84b26acac09cc7fe",
   "metadata": {
    "ExecuteTime": {
     "end_time": "2024-12-20T22:01:41.044623Z",
     "start_time": "2024-12-20T22:01:41.037880Z"
    }
   },
   "outputs": [
    {
     "data": {
      "text/plain": [
       "consume_frequency(weekly)\n",
       "3-4 times    11794\n",
       "5-7 times     9774\n",
       "0-2 times     8423\n",
       "Name: count, dtype: int64"
      ]
     },
     "execution_count": 169,
     "metadata": {},
     "output_type": "execute_result"
    }
   ],
   "source": [
    "df['consume_frequency(weekly)'].value_counts()"
   ]
  },
  {
   "cell_type": "code",
   "execution_count": 170,
   "id": "ad3c42c6f844dfcd",
   "metadata": {
    "ExecuteTime": {
     "end_time": "2024-12-20T22:01:41.139429Z",
     "start_time": "2024-12-20T22:01:41.133139Z"
    }
   },
   "outputs": [
    {
     "data": {
      "text/plain": [
       "0"
      ]
     },
     "execution_count": 170,
     "metadata": {},
     "output_type": "execute_result"
    }
   ],
   "source": [
    "df['consume_frequency(weekly)'].isna().sum()"
   ]
  },
  {
   "cell_type": "code",
   "execution_count": 171,
   "id": "422d211b5e53872b",
   "metadata": {
    "ExecuteTime": {
     "end_time": "2024-12-20T22:01:41.228425Z",
     "start_time": "2024-12-20T22:01:41.224730Z"
    }
   },
   "outputs": [
    {
     "data": {
      "text/plain": [
       "(29991, 17)"
      ]
     },
     "execution_count": 171,
     "metadata": {},
     "output_type": "execute_result"
    }
   ],
   "source": [
    "df.shape"
   ]
  },
  {
   "cell_type": "code",
   "execution_count": 172,
   "id": "ffef491e51ebbf3a",
   "metadata": {
    "ExecuteTime": {
     "end_time": "2024-12-20T22:01:41.384887Z",
     "start_time": "2024-12-20T22:01:41.358098Z"
    }
   },
   "outputs": [
    {
     "data": {
      "text/plain": [
       "respondent_id                        0\n",
       "age                                  0\n",
       "gender                               0\n",
       "zone                                 0\n",
       "occupation                           0\n",
       "income_levels                     8060\n",
       "consume_frequency(weekly)            0\n",
       "current_brand                        0\n",
       "preferable_consumption_size          0\n",
       "awareness_of_other_brands            0\n",
       "reasons_for_choosing_brands          0\n",
       "flavor_preference                    0\n",
       "purchase_channel                    10\n",
       "packaging_preference                 0\n",
       "health_concerns                      0\n",
       "typical_consumption_situations       0\n",
       "price_range                          0\n",
       "dtype: int64"
      ]
     },
     "execution_count": 172,
     "metadata": {},
     "output_type": "execute_result"
    }
   ],
   "source": [
    "df.isnull().sum()"
   ]
  },
  {
   "cell_type": "markdown",
   "id": "5a6c1fef20e40092",
   "metadata": {
    "ExecuteTime": {
     "end_time": "2024-12-20T22:01:41.438725Z",
     "start_time": "2024-12-20T22:01:41.435895Z"
    }
   },
   "source": [
    "# Check N/A income_levels"
   ]
  },
  {
   "cell_type": "code",
   "execution_count": 173,
   "id": "94ed0825006b429b",
   "metadata": {
    "ExecuteTime": {
     "end_time": "2024-12-20T22:01:41.550835Z",
     "start_time": "2024-12-20T22:01:41.530761Z"
    }
   },
   "outputs": [
    {
     "data": {
      "text/html": [
       "<div>\n",
       "<style scoped>\n",
       "    .dataframe tbody tr th:only-of-type {\n",
       "        vertical-align: middle;\n",
       "    }\n",
       "\n",
       "    .dataframe tbody tr th {\n",
       "        vertical-align: top;\n",
       "    }\n",
       "\n",
       "    .dataframe thead th {\n",
       "        text-align: right;\n",
       "    }\n",
       "</style>\n",
       "<table border=\"1\" class=\"dataframe\">\n",
       "  <thead>\n",
       "    <tr style=\"text-align: right;\">\n",
       "      <th></th>\n",
       "      <th>respondent_id</th>\n",
       "      <th>age</th>\n",
       "      <th>gender</th>\n",
       "      <th>zone</th>\n",
       "      <th>occupation</th>\n",
       "      <th>income_levels</th>\n",
       "      <th>consume_frequency(weekly)</th>\n",
       "      <th>current_brand</th>\n",
       "      <th>preferable_consumption_size</th>\n",
       "      <th>awareness_of_other_brands</th>\n",
       "      <th>reasons_for_choosing_brands</th>\n",
       "      <th>flavor_preference</th>\n",
       "      <th>purchase_channel</th>\n",
       "      <th>packaging_preference</th>\n",
       "      <th>health_concerns</th>\n",
       "      <th>typical_consumption_situations</th>\n",
       "      <th>price_range</th>\n",
       "    </tr>\n",
       "  </thead>\n",
       "  <tbody>\n",
       "    <tr>\n",
       "      <th>4</th>\n",
       "      <td>R00005</td>\n",
       "      <td>23</td>\n",
       "      <td>M</td>\n",
       "      <td>Metro</td>\n",
       "      <td>Student</td>\n",
       "      <td>NaN</td>\n",
       "      <td>3-4 times</td>\n",
       "      <td>Established</td>\n",
       "      <td>Medium (500 ml)</td>\n",
       "      <td>0 to 1</td>\n",
       "      <td>Availability</td>\n",
       "      <td>Traditional</td>\n",
       "      <td>Online</td>\n",
       "      <td>Premium</td>\n",
       "      <td>Medium (Moderately health-conscious)</td>\n",
       "      <td>Active (eg. Sports, gym)</td>\n",
       "      <td>50-100</td>\n",
       "    </tr>\n",
       "    <tr>\n",
       "      <th>5</th>\n",
       "      <td>R00006</td>\n",
       "      <td>22</td>\n",
       "      <td>F</td>\n",
       "      <td>Urban</td>\n",
       "      <td>Student</td>\n",
       "      <td>NaN</td>\n",
       "      <td>5-7 times</td>\n",
       "      <td>Established</td>\n",
       "      <td>Large (1 L)</td>\n",
       "      <td>2 to 4</td>\n",
       "      <td>Price</td>\n",
       "      <td>Traditional</td>\n",
       "      <td>Online</td>\n",
       "      <td>Simple</td>\n",
       "      <td>Low (Not very concerned)</td>\n",
       "      <td>Active (eg. Sports, gym)</td>\n",
       "      <td>100-150</td>\n",
       "    </tr>\n",
       "    <tr>\n",
       "      <th>11</th>\n",
       "      <td>R00012</td>\n",
       "      <td>23</td>\n",
       "      <td>F</td>\n",
       "      <td>Urban</td>\n",
       "      <td>Student</td>\n",
       "      <td>NaN</td>\n",
       "      <td>0-2 times</td>\n",
       "      <td>Established</td>\n",
       "      <td>Small (250 ml)</td>\n",
       "      <td>0 to 1</td>\n",
       "      <td>Price</td>\n",
       "      <td>Exotic</td>\n",
       "      <td>Retail Store</td>\n",
       "      <td>Premium</td>\n",
       "      <td>Low (Not very concerned)</td>\n",
       "      <td>Social (eg. Parties)</td>\n",
       "      <td>50-100</td>\n",
       "    </tr>\n",
       "    <tr>\n",
       "      <th>14</th>\n",
       "      <td>R00015</td>\n",
       "      <td>22</td>\n",
       "      <td>M</td>\n",
       "      <td>Metro</td>\n",
       "      <td>Student</td>\n",
       "      <td>NaN</td>\n",
       "      <td>3-4 times</td>\n",
       "      <td>Established</td>\n",
       "      <td>Small (250 ml)</td>\n",
       "      <td>0 to 1</td>\n",
       "      <td>Price</td>\n",
       "      <td>Traditional</td>\n",
       "      <td>Retail Store</td>\n",
       "      <td>Simple</td>\n",
       "      <td>Medium (Moderately health-conscious)</td>\n",
       "      <td>Active (eg. Sports, gym)</td>\n",
       "      <td>100-150</td>\n",
       "    </tr>\n",
       "    <tr>\n",
       "      <th>20</th>\n",
       "      <td>R00021</td>\n",
       "      <td>23</td>\n",
       "      <td>M</td>\n",
       "      <td>Semi-Urban</td>\n",
       "      <td>Student</td>\n",
       "      <td>NaN</td>\n",
       "      <td>3-4 times</td>\n",
       "      <td>Newcomer</td>\n",
       "      <td>Large (1 L)</td>\n",
       "      <td>0 to 1</td>\n",
       "      <td>Availability</td>\n",
       "      <td>Traditional</td>\n",
       "      <td>Retail Store</td>\n",
       "      <td>Premium</td>\n",
       "      <td>Low (Not very concerned)</td>\n",
       "      <td>Active (eg. Sports, gym)</td>\n",
       "      <td>50-100</td>\n",
       "    </tr>\n",
       "    <tr>\n",
       "      <th>...</th>\n",
       "      <td>...</td>\n",
       "      <td>...</td>\n",
       "      <td>...</td>\n",
       "      <td>...</td>\n",
       "      <td>...</td>\n",
       "      <td>...</td>\n",
       "      <td>...</td>\n",
       "      <td>...</td>\n",
       "      <td>...</td>\n",
       "      <td>...</td>\n",
       "      <td>...</td>\n",
       "      <td>...</td>\n",
       "      <td>...</td>\n",
       "      <td>...</td>\n",
       "      <td>...</td>\n",
       "      <td>...</td>\n",
       "      <td>...</td>\n",
       "    </tr>\n",
       "    <tr>\n",
       "      <th>29995</th>\n",
       "      <td>R29986</td>\n",
       "      <td>24</td>\n",
       "      <td>F</td>\n",
       "      <td>Metro</td>\n",
       "      <td>Student</td>\n",
       "      <td>NaN</td>\n",
       "      <td>5-7 times</td>\n",
       "      <td>Newcomer</td>\n",
       "      <td>Small (250 ml)</td>\n",
       "      <td>0 to 1</td>\n",
       "      <td>Price</td>\n",
       "      <td>Traditional</td>\n",
       "      <td>Online</td>\n",
       "      <td>Premium</td>\n",
       "      <td>Low (Not very concerned)</td>\n",
       "      <td>Social (eg. Parties)</td>\n",
       "      <td>100-150</td>\n",
       "    </tr>\n",
       "    <tr>\n",
       "      <th>29996</th>\n",
       "      <td>R29987</td>\n",
       "      <td>22</td>\n",
       "      <td>M</td>\n",
       "      <td>Urban</td>\n",
       "      <td>Student</td>\n",
       "      <td>NaN</td>\n",
       "      <td>0-2 times</td>\n",
       "      <td>Established</td>\n",
       "      <td>Small (250 ml)</td>\n",
       "      <td>0 to 1</td>\n",
       "      <td>Price</td>\n",
       "      <td>Exotic</td>\n",
       "      <td>Online</td>\n",
       "      <td>Premium</td>\n",
       "      <td>Low (Not very concerned)</td>\n",
       "      <td>Social (eg. Parties)</td>\n",
       "      <td>50-100</td>\n",
       "    </tr>\n",
       "    <tr>\n",
       "      <th>29999</th>\n",
       "      <td>R29990</td>\n",
       "      <td>23</td>\n",
       "      <td>F</td>\n",
       "      <td>Metro</td>\n",
       "      <td>Student</td>\n",
       "      <td>NaN</td>\n",
       "      <td>3-4 times</td>\n",
       "      <td>Established</td>\n",
       "      <td>Small (250 ml)</td>\n",
       "      <td>2 to 4</td>\n",
       "      <td>Price</td>\n",
       "      <td>Exotic</td>\n",
       "      <td>Online</td>\n",
       "      <td>Simple</td>\n",
       "      <td>Medium (Moderately health-conscious)</td>\n",
       "      <td>Active (eg. Sports, gym)</td>\n",
       "      <td>100-150</td>\n",
       "    </tr>\n",
       "    <tr>\n",
       "      <th>30002</th>\n",
       "      <td>R29993</td>\n",
       "      <td>18</td>\n",
       "      <td>M</td>\n",
       "      <td>Metro</td>\n",
       "      <td>Student</td>\n",
       "      <td>NaN</td>\n",
       "      <td>0-2 times</td>\n",
       "      <td>Established</td>\n",
       "      <td>Medium (500 ml)</td>\n",
       "      <td>2 to 4</td>\n",
       "      <td>Availability</td>\n",
       "      <td>Exotic</td>\n",
       "      <td>Online</td>\n",
       "      <td>Premium</td>\n",
       "      <td>Low (Not very concerned)</td>\n",
       "      <td>Social (eg. Parties)</td>\n",
       "      <td>100-150</td>\n",
       "    </tr>\n",
       "    <tr>\n",
       "      <th>30009</th>\n",
       "      <td>R30000</td>\n",
       "      <td>26</td>\n",
       "      <td>M</td>\n",
       "      <td>Metro</td>\n",
       "      <td>Student</td>\n",
       "      <td>NaN</td>\n",
       "      <td>5-7 times</td>\n",
       "      <td>Newcomer</td>\n",
       "      <td>Medium (500 ml)</td>\n",
       "      <td>above 4</td>\n",
       "      <td>Price</td>\n",
       "      <td>Traditional</td>\n",
       "      <td>Retail Store</td>\n",
       "      <td>Simple</td>\n",
       "      <td>High (Very health-conscious)</td>\n",
       "      <td>Social (eg. Parties)</td>\n",
       "      <td>150-200</td>\n",
       "    </tr>\n",
       "  </tbody>\n",
       "</table>\n",
       "<p>8060 rows × 17 columns</p>\n",
       "</div>"
      ],
      "text/plain": [
       "      respondent_id  age gender        zone occupation income_levels  \\\n",
       "4            R00005   23      M       Metro    Student           NaN   \n",
       "5            R00006   22      F       Urban    Student           NaN   \n",
       "11           R00012   23      F       Urban    Student           NaN   \n",
       "14           R00015   22      M       Metro    Student           NaN   \n",
       "20           R00021   23      M  Semi-Urban    Student           NaN   \n",
       "...             ...  ...    ...         ...        ...           ...   \n",
       "29995        R29986   24      F       Metro    Student           NaN   \n",
       "29996        R29987   22      M       Urban    Student           NaN   \n",
       "29999        R29990   23      F       Metro    Student           NaN   \n",
       "30002        R29993   18      M       Metro    Student           NaN   \n",
       "30009        R30000   26      M       Metro    Student           NaN   \n",
       "\n",
       "      consume_frequency(weekly) current_brand preferable_consumption_size  \\\n",
       "4                     3-4 times   Established             Medium (500 ml)   \n",
       "5                     5-7 times   Established                 Large (1 L)   \n",
       "11                    0-2 times   Established              Small (250 ml)   \n",
       "14                    3-4 times   Established              Small (250 ml)   \n",
       "20                    3-4 times      Newcomer                 Large (1 L)   \n",
       "...                         ...           ...                         ...   \n",
       "29995                 5-7 times      Newcomer              Small (250 ml)   \n",
       "29996                 0-2 times   Established              Small (250 ml)   \n",
       "29999                 3-4 times   Established              Small (250 ml)   \n",
       "30002                 0-2 times   Established             Medium (500 ml)   \n",
       "30009                 5-7 times      Newcomer             Medium (500 ml)   \n",
       "\n",
       "      awareness_of_other_brands reasons_for_choosing_brands flavor_preference  \\\n",
       "4                        0 to 1                Availability       Traditional   \n",
       "5                        2 to 4                       Price       Traditional   \n",
       "11                       0 to 1                       Price            Exotic   \n",
       "14                       0 to 1                       Price       Traditional   \n",
       "20                       0 to 1                Availability       Traditional   \n",
       "...                         ...                         ...               ...   \n",
       "29995                    0 to 1                       Price       Traditional   \n",
       "29996                    0 to 1                       Price            Exotic   \n",
       "29999                    2 to 4                       Price            Exotic   \n",
       "30002                    2 to 4                Availability            Exotic   \n",
       "30009                   above 4                       Price       Traditional   \n",
       "\n",
       "      purchase_channel packaging_preference  \\\n",
       "4               Online              Premium   \n",
       "5               Online               Simple   \n",
       "11        Retail Store              Premium   \n",
       "14        Retail Store               Simple   \n",
       "20        Retail Store              Premium   \n",
       "...                ...                  ...   \n",
       "29995           Online              Premium   \n",
       "29996           Online              Premium   \n",
       "29999           Online               Simple   \n",
       "30002           Online              Premium   \n",
       "30009     Retail Store               Simple   \n",
       "\n",
       "                            health_concerns typical_consumption_situations  \\\n",
       "4      Medium (Moderately health-conscious)       Active (eg. Sports, gym)   \n",
       "5                  Low (Not very concerned)       Active (eg. Sports, gym)   \n",
       "11                 Low (Not very concerned)           Social (eg. Parties)   \n",
       "14     Medium (Moderately health-conscious)       Active (eg. Sports, gym)   \n",
       "20                 Low (Not very concerned)       Active (eg. Sports, gym)   \n",
       "...                                     ...                            ...   \n",
       "29995              Low (Not very concerned)           Social (eg. Parties)   \n",
       "29996              Low (Not very concerned)           Social (eg. Parties)   \n",
       "29999  Medium (Moderately health-conscious)       Active (eg. Sports, gym)   \n",
       "30002              Low (Not very concerned)           Social (eg. Parties)   \n",
       "30009          High (Very health-conscious)           Social (eg. Parties)   \n",
       "\n",
       "      price_range  \n",
       "4          50-100  \n",
       "5         100-150  \n",
       "11         50-100  \n",
       "14        100-150  \n",
       "20         50-100  \n",
       "...           ...  \n",
       "29995     100-150  \n",
       "29996      50-100  \n",
       "29999     100-150  \n",
       "30002     100-150  \n",
       "30009     150-200  \n",
       "\n",
       "[8060 rows x 17 columns]"
      ]
     },
     "execution_count": 173,
     "metadata": {},
     "output_type": "execute_result"
    }
   ],
   "source": [
    "df[df['income_levels'].isna()]"
   ]
  },
  {
   "cell_type": "code",
   "execution_count": 174,
   "id": "28ab412e8849f50",
   "metadata": {
    "ExecuteTime": {
     "end_time": "2024-12-20T22:01:41.635712Z",
     "start_time": "2024-12-20T22:01:41.628810Z"
    }
   },
   "outputs": [
    {
     "data": {
      "text/plain": [
       "income_levels\n",
       "16L - 25L    5897\n",
       "10L - 15L    5251\n",
       "<10L         4661\n",
       "26L - 35L    3872\n",
       "> 35L        2250\n",
       "Name: count, dtype: int64"
      ]
     },
     "execution_count": 174,
     "metadata": {},
     "output_type": "execute_result"
    }
   ],
   "source": [
    "df['income_levels'].value_counts()"
   ]
  },
  {
   "cell_type": "code",
   "execution_count": 175,
   "id": "61ed522ccca38af",
   "metadata": {
    "ExecuteTime": {
     "end_time": "2024-12-20T22:01:41.739455Z",
     "start_time": "2024-12-20T22:01:41.733880Z"
    }
   },
   "outputs": [
    {
     "name": "stderr",
     "output_type": "stream",
     "text": [
      "C:\\Users\\Gaurav\\AppData\\Local\\Temp\\ipykernel_15896\\3822980836.py:1: FutureWarning: A value is trying to be set on a copy of a DataFrame or Series through chained assignment using an inplace method.\n",
      "The behavior will change in pandas 3.0. This inplace method will never work because the intermediate object on which we are setting values always behaves as a copy.\n",
      "\n",
      "For example, when doing 'df[col].method(value, inplace=True)', try using 'df.method({col: value}, inplace=True)' or df[col] = df[col].method(value) instead, to perform the operation inplace on the original object.\n",
      "\n",
      "\n",
      "  df['income_levels'].fillna('Not Reported', inplace=True)\n"
     ]
    }
   ],
   "source": [
    "df['income_levels'].fillna('Not Reported', inplace=True)"
   ]
  },
  {
   "cell_type": "code",
   "execution_count": 176,
   "id": "356d8a17bbcce8f9",
   "metadata": {
    "ExecuteTime": {
     "end_time": "2024-12-20T22:01:41.891870Z",
     "start_time": "2024-12-20T22:01:41.865497Z"
    }
   },
   "outputs": [
    {
     "data": {
      "text/plain": [
       "respondent_id                      0\n",
       "age                                0\n",
       "gender                             0\n",
       "zone                               0\n",
       "occupation                         0\n",
       "income_levels                      0\n",
       "consume_frequency(weekly)          0\n",
       "current_brand                      0\n",
       "preferable_consumption_size        0\n",
       "awareness_of_other_brands          0\n",
       "reasons_for_choosing_brands        0\n",
       "flavor_preference                  0\n",
       "purchase_channel                  10\n",
       "packaging_preference               0\n",
       "health_concerns                    0\n",
       "typical_consumption_situations     0\n",
       "price_range                        0\n",
       "dtype: int64"
      ]
     },
     "execution_count": 176,
     "metadata": {},
     "output_type": "execute_result"
    }
   ],
   "source": [
    "df.isnull().sum()"
   ]
  },
  {
   "cell_type": "code",
   "execution_count": 177,
   "id": "15f3bf5e53c2f0fb",
   "metadata": {
    "ExecuteTime": {
     "end_time": "2024-12-20T22:01:41.989532Z",
     "start_time": "2024-12-20T22:01:41.982439Z"
    }
   },
   "outputs": [
    {
     "data": {
      "text/plain": [
       "purchase_channel\n",
       "Online          16562\n",
       "Retail Store    13419\n",
       "Name: count, dtype: int64"
      ]
     },
     "execution_count": 177,
     "metadata": {},
     "output_type": "execute_result"
    }
   ],
   "source": [
    "#Check purchase_channel\n",
    "df['purchase_channel'].value_counts()"
   ]
  },
  {
   "cell_type": "code",
   "execution_count": 178,
   "id": "d9c482b59cddefd2",
   "metadata": {
    "ExecuteTime": {
     "end_time": "2024-12-20T22:01:42.101658Z",
     "start_time": "2024-12-20T22:01:42.094453Z"
    }
   },
   "outputs": [
    {
     "data": {
      "text/plain": [
       "0    Online\n",
       "Name: purchase_channel, dtype: object"
      ]
     },
     "execution_count": 178,
     "metadata": {},
     "output_type": "execute_result"
    }
   ],
   "source": [
    "df['purchase_channel'].mode()"
   ]
  },
  {
   "cell_type": "code",
   "execution_count": 179,
   "id": "fc0cb5740cfb1fb6",
   "metadata": {
    "ExecuteTime": {
     "end_time": "2024-12-20T22:01:42.232121Z",
     "start_time": "2024-12-20T22:01:42.226903Z"
    }
   },
   "outputs": [],
   "source": [
    "df['purchase_channel'] =df['purchase_channel'].fillna('Online')"
   ]
  },
  {
   "cell_type": "code",
   "execution_count": 180,
   "id": "73dd6475d3a59f1e",
   "metadata": {
    "ExecuteTime": {
     "end_time": "2024-12-20T22:01:42.416877Z",
     "start_time": "2024-12-20T22:01:42.391201Z"
    }
   },
   "outputs": [
    {
     "data": {
      "text/plain": [
       "respondent_id                     0\n",
       "age                               0\n",
       "gender                            0\n",
       "zone                              0\n",
       "occupation                        0\n",
       "income_levels                     0\n",
       "consume_frequency(weekly)         0\n",
       "current_brand                     0\n",
       "preferable_consumption_size       0\n",
       "awareness_of_other_brands         0\n",
       "reasons_for_choosing_brands       0\n",
       "flavor_preference                 0\n",
       "purchase_channel                  0\n",
       "packaging_preference              0\n",
       "health_concerns                   0\n",
       "typical_consumption_situations    0\n",
       "price_range                       0\n",
       "dtype: int64"
      ]
     },
     "execution_count": 180,
     "metadata": {},
     "output_type": "execute_result"
    }
   ],
   "source": [
    "df.isnull().sum()"
   ]
  },
  {
   "cell_type": "code",
   "execution_count": 181,
   "id": "eef258ca0fd86085",
   "metadata": {
    "ExecuteTime": {
     "end_time": "2024-12-20T22:01:42.518970Z",
     "start_time": "2024-12-20T22:01:42.514473Z"
    }
   },
   "outputs": [
    {
     "data": {
      "text/plain": [
       "(29991, 17)"
      ]
     },
     "execution_count": 181,
     "metadata": {},
     "output_type": "execute_result"
    }
   ],
   "source": [
    "df.shape"
   ]
  },
  {
   "cell_type": "markdown",
   "id": "82d5d67885cb897a",
   "metadata": {},
   "source": [
    "### 4. Correct spelling"
   ]
  },
  {
   "cell_type": "code",
   "execution_count": 182,
   "id": "43513078985f1a80",
   "metadata": {
    "ExecuteTime": {
     "end_time": "2024-12-20T22:01:42.608439Z",
     "start_time": "2024-12-20T22:01:42.604452Z"
    }
   },
   "outputs": [
    {
     "data": {
      "text/plain": [
       "Index(['respondent_id', 'age', 'gender', 'zone', 'occupation', 'income_levels',\n",
       "       'consume_frequency(weekly)', 'current_brand',\n",
       "       'preferable_consumption_size', 'awareness_of_other_brands',\n",
       "       'reasons_for_choosing_brands', 'flavor_preference', 'purchase_channel',\n",
       "       'packaging_preference', 'health_concerns',\n",
       "       'typical_consumption_situations', 'price_range'],\n",
       "      dtype='object')"
      ]
     },
     "execution_count": 182,
     "metadata": {},
     "output_type": "execute_result"
    }
   ],
   "source": [
    "df.columns"
   ]
  },
  {
   "cell_type": "code",
   "execution_count": 183,
   "id": "15798c732d3f78b8",
   "metadata": {
    "ExecuteTime": {
     "end_time": "2024-12-20T22:01:42.748783Z",
     "start_time": "2024-12-20T22:01:42.702281Z"
    }
   },
   "outputs": [
    {
     "name": "stdout",
     "output_type": "stream",
     "text": [
      "respondent_id --> ['R00001' 'R00002' 'R00003' ... 'R29998' 'R29999' 'R30000']\n",
      "gender --> ['M' 'F']\n",
      "zone --> ['Urban' 'Metro' 'Rural' 'Semi-Urban' 'Metor' 'urbna']\n",
      "occupation --> ['Working Professional' 'Student' 'Entrepreneur' 'Retired']\n",
      "income_levels --> ['<10L' '> 35L' '16L - 25L' 'Not Reported' '10L - 15L' '26L - 35L']\n",
      "consume_frequency(weekly) --> ['3-4 times' '5-7 times' '0-2 times']\n",
      "current_brand --> ['Newcomer' 'Established' 'newcomer' 'Establishd']\n",
      "preferable_consumption_size --> ['Medium (500 ml)' 'Large (1 L)' 'Small (250 ml)']\n",
      "awareness_of_other_brands --> ['0 to 1' '2 to 4' 'above 4']\n",
      "reasons_for_choosing_brands --> ['Price' 'Quality' 'Availability' 'Brand Reputation']\n",
      "flavor_preference --> ['Traditional' 'Exotic']\n",
      "purchase_channel --> ['Online' 'Retail Store']\n",
      "packaging_preference --> ['Simple' 'Premium' 'Eco-Friendly']\n",
      "health_concerns --> ['Medium (Moderately health-conscious)' 'Low (Not very concerned)'\n",
      " 'High (Very health-conscious)']\n",
      "typical_consumption_situations --> ['Active (eg. Sports, gym)' 'Social (eg. Parties)' 'Casual (eg. At home)']\n",
      "price_range --> ['100-150' '200-250' '150-200' '50-100']\n"
     ]
    }
   ],
   "source": [
    "for col in df.select_dtypes('object').columns:\n",
    "    print(f\"{col} --> {df[col].unique()}\")"
   ]
  },
  {
   "cell_type": "code",
   "execution_count": 184,
   "id": "1d8629813f873c94",
   "metadata": {
    "ExecuteTime": {
     "end_time": "2024-12-20T22:01:42.808356Z",
     "start_time": "2024-12-20T22:01:42.796033Z"
    }
   },
   "outputs": [],
   "source": [
    "df['zone'] = df['zone'].replace('urbna', 'Urban')\n",
    "df['zone'] = df['zone'].replace('Metor', 'Metro')\n",
    "#df['current_brand'] = df['current_brand'].replace('newcomer', 'Newcomer')\n",
    "df['current_brand'] = df['current_brand'].replace('Establishd', 'Established')\n"
   ]
  },
  {
   "cell_type": "code",
   "execution_count": 185,
   "id": "b896100774a0e2b9",
   "metadata": {
    "ExecuteTime": {
     "end_time": "2024-12-20T22:01:42.868558Z",
     "start_time": "2024-12-20T22:01:42.863095Z"
    }
   },
   "outputs": [
    {
     "data": {
      "text/plain": [
       "array(['Newcomer', 'Established', 'newcomer'], dtype=object)"
      ]
     },
     "execution_count": 185,
     "metadata": {},
     "output_type": "execute_result"
    }
   ],
   "source": [
    "df['current_brand'].unique()"
   ]
  },
  {
   "cell_type": "code",
   "execution_count": 186,
   "id": "178809ed21d377d1",
   "metadata": {
    "ExecuteTime": {
     "end_time": "2024-12-20T22:01:42.924191Z",
     "start_time": "2024-12-20T22:01:42.907691Z"
    }
   },
   "outputs": [
    {
     "name": "stdout",
     "output_type": "stream",
     "text": [
      "(0, 17)\n"
     ]
    },
    {
     "data": {
      "text/html": [
       "<div>\n",
       "<style scoped>\n",
       "    .dataframe tbody tr th:only-of-type {\n",
       "        vertical-align: middle;\n",
       "    }\n",
       "\n",
       "    .dataframe tbody tr th {\n",
       "        vertical-align: top;\n",
       "    }\n",
       "\n",
       "    .dataframe thead th {\n",
       "        text-align: right;\n",
       "    }\n",
       "</style>\n",
       "<table border=\"1\" class=\"dataframe\">\n",
       "  <thead>\n",
       "    <tr style=\"text-align: right;\">\n",
       "      <th></th>\n",
       "      <th>respondent_id</th>\n",
       "      <th>age</th>\n",
       "      <th>gender</th>\n",
       "      <th>zone</th>\n",
       "      <th>occupation</th>\n",
       "      <th>income_levels</th>\n",
       "      <th>consume_frequency(weekly)</th>\n",
       "      <th>current_brand</th>\n",
       "      <th>preferable_consumption_size</th>\n",
       "      <th>awareness_of_other_brands</th>\n",
       "      <th>reasons_for_choosing_brands</th>\n",
       "      <th>flavor_preference</th>\n",
       "      <th>purchase_channel</th>\n",
       "      <th>packaging_preference</th>\n",
       "      <th>health_concerns</th>\n",
       "      <th>typical_consumption_situations</th>\n",
       "      <th>price_range</th>\n",
       "    </tr>\n",
       "  </thead>\n",
       "  <tbody>\n",
       "  </tbody>\n",
       "</table>\n",
       "</div>"
      ],
      "text/plain": [
       "Empty DataFrame\n",
       "Columns: [respondent_id, age, gender, zone, occupation, income_levels, consume_frequency(weekly), current_brand, preferable_consumption_size, awareness_of_other_brands, reasons_for_choosing_brands, flavor_preference, purchase_channel, packaging_preference, health_concerns, typical_consumption_situations, price_range]\n",
       "Index: []"
      ]
     },
     "execution_count": 186,
     "metadata": {},
     "output_type": "execute_result"
    }
   ],
   "source": [
    "print(df[df['zone'] == 'Metor'].shape)\n",
    "df[df['zone'] == 'Metor']"
   ]
  },
  {
   "cell_type": "code",
   "execution_count": 187,
   "id": "bd5dbb7e168be644",
   "metadata": {
    "ExecuteTime": {
     "end_time": "2024-12-20T22:01:43.027605Z",
     "start_time": "2024-12-20T22:01:43.019999Z"
    }
   },
   "outputs": [],
   "source": [
    "df['zone'] = df['zone'].replace('Metor', 'Metro')"
   ]
  },
  {
   "cell_type": "code",
   "execution_count": 188,
   "id": "3b6246c7e61ae7b0",
   "metadata": {
    "ExecuteTime": {
     "end_time": "2024-12-20T22:01:43.115020Z",
     "start_time": "2024-12-20T22:01:43.109550Z"
    }
   },
   "outputs": [
    {
     "data": {
      "text/plain": [
       "array(['Urban', 'Metro', 'Rural', 'Semi-Urban'], dtype=object)"
      ]
     },
     "execution_count": 188,
     "metadata": {},
     "output_type": "execute_result"
    }
   ],
   "source": [
    "df['zone'].unique()"
   ]
  },
  {
   "cell_type": "markdown",
   "id": "a823bddca1ec4be9",
   "metadata": {},
   "source": [
    "<h1 align = 'center' style=\"color:#daa520\">Feature Engineering<h1>"
   ]
  },
  {
   "cell_type": "markdown",
   "id": "46a7c08f3a3576b1",
   "metadata": {},
   "source": [
    "* Step 1:\n",
    "* Categorize Age into Age Groups\n",
    "* Objective: Create a new column `age_group` by categorizing the existing `age`\n",
    "column into specific age ranges.\n",
    "* ● Categorize ages into the following groups:\n",
    "* ○ 18-25 ○ 26-35 ○ 36-45 ○ 46-55 ○ 56-70 ○ 70+\n",
    "* ● Ensure that each age in the dataset is mapped to one of these age groups.\n",
    "* ● After that, remove the original `age` column from the dataset."
   ]
  },
  {
   "cell_type": "code",
   "execution_count": 189,
   "id": "840e25bdcbd72c43",
   "metadata": {
    "ExecuteTime": {
     "end_time": "2024-12-20T22:01:43.217768Z",
     "start_time": "2024-12-20T22:01:43.203522Z"
    }
   },
   "outputs": [
    {
     "data": {
      "text/html": [
       "<div>\n",
       "<style scoped>\n",
       "    .dataframe tbody tr th:only-of-type {\n",
       "        vertical-align: middle;\n",
       "    }\n",
       "\n",
       "    .dataframe tbody tr th {\n",
       "        vertical-align: top;\n",
       "    }\n",
       "\n",
       "    .dataframe thead th {\n",
       "        text-align: right;\n",
       "    }\n",
       "</style>\n",
       "<table border=\"1\" class=\"dataframe\">\n",
       "  <thead>\n",
       "    <tr style=\"text-align: right;\">\n",
       "      <th></th>\n",
       "      <th>respondent_id</th>\n",
       "      <th>age</th>\n",
       "      <th>gender</th>\n",
       "      <th>zone</th>\n",
       "      <th>occupation</th>\n",
       "      <th>income_levels</th>\n",
       "      <th>consume_frequency(weekly)</th>\n",
       "      <th>current_brand</th>\n",
       "      <th>preferable_consumption_size</th>\n",
       "      <th>awareness_of_other_brands</th>\n",
       "      <th>reasons_for_choosing_brands</th>\n",
       "      <th>flavor_preference</th>\n",
       "      <th>purchase_channel</th>\n",
       "      <th>packaging_preference</th>\n",
       "      <th>health_concerns</th>\n",
       "      <th>typical_consumption_situations</th>\n",
       "      <th>price_range</th>\n",
       "    </tr>\n",
       "  </thead>\n",
       "  <tbody>\n",
       "    <tr>\n",
       "      <th>0</th>\n",
       "      <td>R00001</td>\n",
       "      <td>30</td>\n",
       "      <td>M</td>\n",
       "      <td>Urban</td>\n",
       "      <td>Working Professional</td>\n",
       "      <td>&lt;10L</td>\n",
       "      <td>3-4 times</td>\n",
       "      <td>Newcomer</td>\n",
       "      <td>Medium (500 ml)</td>\n",
       "      <td>0 to 1</td>\n",
       "      <td>Price</td>\n",
       "      <td>Traditional</td>\n",
       "      <td>Online</td>\n",
       "      <td>Simple</td>\n",
       "      <td>Medium (Moderately health-conscious)</td>\n",
       "      <td>Active (eg. Sports, gym)</td>\n",
       "      <td>100-150</td>\n",
       "    </tr>\n",
       "    <tr>\n",
       "      <th>1</th>\n",
       "      <td>R00002</td>\n",
       "      <td>46</td>\n",
       "      <td>F</td>\n",
       "      <td>Metro</td>\n",
       "      <td>Working Professional</td>\n",
       "      <td>&gt; 35L</td>\n",
       "      <td>5-7 times</td>\n",
       "      <td>Established</td>\n",
       "      <td>Medium (500 ml)</td>\n",
       "      <td>2 to 4</td>\n",
       "      <td>Quality</td>\n",
       "      <td>Exotic</td>\n",
       "      <td>Retail Store</td>\n",
       "      <td>Premium</td>\n",
       "      <td>Medium (Moderately health-conscious)</td>\n",
       "      <td>Social (eg. Parties)</td>\n",
       "      <td>200-250</td>\n",
       "    </tr>\n",
       "    <tr>\n",
       "      <th>2</th>\n",
       "      <td>R00003</td>\n",
       "      <td>41</td>\n",
       "      <td>F</td>\n",
       "      <td>Rural</td>\n",
       "      <td>Working Professional</td>\n",
       "      <td>&gt; 35L</td>\n",
       "      <td>3-4 times</td>\n",
       "      <td>Newcomer</td>\n",
       "      <td>Medium (500 ml)</td>\n",
       "      <td>2 to 4</td>\n",
       "      <td>Availability</td>\n",
       "      <td>Traditional</td>\n",
       "      <td>Retail Store</td>\n",
       "      <td>Premium</td>\n",
       "      <td>Medium (Moderately health-conscious)</td>\n",
       "      <td>Active (eg. Sports, gym)</td>\n",
       "      <td>200-250</td>\n",
       "    </tr>\n",
       "    <tr>\n",
       "      <th>3</th>\n",
       "      <td>R00004</td>\n",
       "      <td>33</td>\n",
       "      <td>F</td>\n",
       "      <td>Urban</td>\n",
       "      <td>Working Professional</td>\n",
       "      <td>16L - 25L</td>\n",
       "      <td>5-7 times</td>\n",
       "      <td>Newcomer</td>\n",
       "      <td>Medium (500 ml)</td>\n",
       "      <td>0 to 1</td>\n",
       "      <td>Brand Reputation</td>\n",
       "      <td>Exotic</td>\n",
       "      <td>Online</td>\n",
       "      <td>Eco-Friendly</td>\n",
       "      <td>Low (Not very concerned)</td>\n",
       "      <td>Active (eg. Sports, gym)</td>\n",
       "      <td>150-200</td>\n",
       "    </tr>\n",
       "    <tr>\n",
       "      <th>4</th>\n",
       "      <td>R00005</td>\n",
       "      <td>23</td>\n",
       "      <td>M</td>\n",
       "      <td>Metro</td>\n",
       "      <td>Student</td>\n",
       "      <td>Not Reported</td>\n",
       "      <td>3-4 times</td>\n",
       "      <td>Established</td>\n",
       "      <td>Medium (500 ml)</td>\n",
       "      <td>0 to 1</td>\n",
       "      <td>Availability</td>\n",
       "      <td>Traditional</td>\n",
       "      <td>Online</td>\n",
       "      <td>Premium</td>\n",
       "      <td>Medium (Moderately health-conscious)</td>\n",
       "      <td>Active (eg. Sports, gym)</td>\n",
       "      <td>50-100</td>\n",
       "    </tr>\n",
       "  </tbody>\n",
       "</table>\n",
       "</div>"
      ],
      "text/plain": [
       "  respondent_id  age gender   zone            occupation income_levels  \\\n",
       "0        R00001   30      M  Urban  Working Professional          <10L   \n",
       "1        R00002   46      F  Metro  Working Professional         > 35L   \n",
       "2        R00003   41      F  Rural  Working Professional         > 35L   \n",
       "3        R00004   33      F  Urban  Working Professional     16L - 25L   \n",
       "4        R00005   23      M  Metro               Student  Not Reported   \n",
       "\n",
       "  consume_frequency(weekly) current_brand preferable_consumption_size  \\\n",
       "0                 3-4 times      Newcomer             Medium (500 ml)   \n",
       "1                 5-7 times   Established             Medium (500 ml)   \n",
       "2                 3-4 times      Newcomer             Medium (500 ml)   \n",
       "3                 5-7 times      Newcomer             Medium (500 ml)   \n",
       "4                 3-4 times   Established             Medium (500 ml)   \n",
       "\n",
       "  awareness_of_other_brands reasons_for_choosing_brands flavor_preference  \\\n",
       "0                    0 to 1                       Price       Traditional   \n",
       "1                    2 to 4                     Quality            Exotic   \n",
       "2                    2 to 4                Availability       Traditional   \n",
       "3                    0 to 1            Brand Reputation            Exotic   \n",
       "4                    0 to 1                Availability       Traditional   \n",
       "\n",
       "  purchase_channel packaging_preference                       health_concerns  \\\n",
       "0           Online               Simple  Medium (Moderately health-conscious)   \n",
       "1     Retail Store              Premium  Medium (Moderately health-conscious)   \n",
       "2     Retail Store              Premium  Medium (Moderately health-conscious)   \n",
       "3           Online         Eco-Friendly              Low (Not very concerned)   \n",
       "4           Online              Premium  Medium (Moderately health-conscious)   \n",
       "\n",
       "  typical_consumption_situations price_range  \n",
       "0       Active (eg. Sports, gym)     100-150  \n",
       "1           Social (eg. Parties)     200-250  \n",
       "2       Active (eg. Sports, gym)     200-250  \n",
       "3       Active (eg. Sports, gym)     150-200  \n",
       "4       Active (eg. Sports, gym)      50-100  "
      ]
     },
     "execution_count": 189,
     "metadata": {},
     "output_type": "execute_result"
    }
   ],
   "source": [
    "df.head()"
   ]
  },
  {
   "cell_type": "code",
   "execution_count": 190,
   "id": "b6428f8915d050df",
   "metadata": {
    "ExecuteTime": {
     "end_time": "2024-12-20T22:01:43.290161Z",
     "start_time": "2024-12-20T22:01:43.285761Z"
    }
   },
   "outputs": [],
   "source": [
    "def categorize_age_group(age):\n",
    "    if 18 <= age <= 25:\n",
    "        return '18-25'\n",
    "    elif 26 <= age <= 35:\n",
    "        return '26-35'\n",
    "    elif 36 <= age <= 45:\n",
    "        return '36-45'\n",
    "    elif 46 <= age <= 55:\n",
    "        return '46-55'\n",
    "    elif 56 <= age <= 70:\n",
    "        return '56-70'\n",
    "    elif age > 70:\n",
    "        return '70+'\n",
    "    else:\n",
    "        return None"
   ]
  },
  {
   "cell_type": "code",
   "execution_count": 191,
   "id": "6830e2eaa5534fb6",
   "metadata": {
    "ExecuteTime": {
     "end_time": "2024-12-20T22:01:43.383273Z",
     "start_time": "2024-12-20T22:01:43.349796Z"
    }
   },
   "outputs": [
    {
     "data": {
      "text/html": [
       "<div>\n",
       "<style scoped>\n",
       "    .dataframe tbody tr th:only-of-type {\n",
       "        vertical-align: middle;\n",
       "    }\n",
       "\n",
       "    .dataframe tbody tr th {\n",
       "        vertical-align: top;\n",
       "    }\n",
       "\n",
       "    .dataframe thead th {\n",
       "        text-align: right;\n",
       "    }\n",
       "</style>\n",
       "<table border=\"1\" class=\"dataframe\">\n",
       "  <thead>\n",
       "    <tr style=\"text-align: right;\">\n",
       "      <th></th>\n",
       "      <th>respondent_id</th>\n",
       "      <th>gender</th>\n",
       "      <th>zone</th>\n",
       "      <th>occupation</th>\n",
       "      <th>income_levels</th>\n",
       "      <th>consume_frequency(weekly)</th>\n",
       "      <th>current_brand</th>\n",
       "      <th>preferable_consumption_size</th>\n",
       "      <th>awareness_of_other_brands</th>\n",
       "      <th>reasons_for_choosing_brands</th>\n",
       "      <th>flavor_preference</th>\n",
       "      <th>purchase_channel</th>\n",
       "      <th>packaging_preference</th>\n",
       "      <th>health_concerns</th>\n",
       "      <th>typical_consumption_situations</th>\n",
       "      <th>price_range</th>\n",
       "      <th>age_group</th>\n",
       "    </tr>\n",
       "  </thead>\n",
       "  <tbody>\n",
       "    <tr>\n",
       "      <th>0</th>\n",
       "      <td>R00001</td>\n",
       "      <td>M</td>\n",
       "      <td>Urban</td>\n",
       "      <td>Working Professional</td>\n",
       "      <td>&lt;10L</td>\n",
       "      <td>3-4 times</td>\n",
       "      <td>Newcomer</td>\n",
       "      <td>Medium (500 ml)</td>\n",
       "      <td>0 to 1</td>\n",
       "      <td>Price</td>\n",
       "      <td>Traditional</td>\n",
       "      <td>Online</td>\n",
       "      <td>Simple</td>\n",
       "      <td>Medium (Moderately health-conscious)</td>\n",
       "      <td>Active (eg. Sports, gym)</td>\n",
       "      <td>100-150</td>\n",
       "      <td>26-35</td>\n",
       "    </tr>\n",
       "    <tr>\n",
       "      <th>1</th>\n",
       "      <td>R00002</td>\n",
       "      <td>F</td>\n",
       "      <td>Metro</td>\n",
       "      <td>Working Professional</td>\n",
       "      <td>&gt; 35L</td>\n",
       "      <td>5-7 times</td>\n",
       "      <td>Established</td>\n",
       "      <td>Medium (500 ml)</td>\n",
       "      <td>2 to 4</td>\n",
       "      <td>Quality</td>\n",
       "      <td>Exotic</td>\n",
       "      <td>Retail Store</td>\n",
       "      <td>Premium</td>\n",
       "      <td>Medium (Moderately health-conscious)</td>\n",
       "      <td>Social (eg. Parties)</td>\n",
       "      <td>200-250</td>\n",
       "      <td>46-55</td>\n",
       "    </tr>\n",
       "    <tr>\n",
       "      <th>2</th>\n",
       "      <td>R00003</td>\n",
       "      <td>F</td>\n",
       "      <td>Rural</td>\n",
       "      <td>Working Professional</td>\n",
       "      <td>&gt; 35L</td>\n",
       "      <td>3-4 times</td>\n",
       "      <td>Newcomer</td>\n",
       "      <td>Medium (500 ml)</td>\n",
       "      <td>2 to 4</td>\n",
       "      <td>Availability</td>\n",
       "      <td>Traditional</td>\n",
       "      <td>Retail Store</td>\n",
       "      <td>Premium</td>\n",
       "      <td>Medium (Moderately health-conscious)</td>\n",
       "      <td>Active (eg. Sports, gym)</td>\n",
       "      <td>200-250</td>\n",
       "      <td>36-45</td>\n",
       "    </tr>\n",
       "    <tr>\n",
       "      <th>3</th>\n",
       "      <td>R00004</td>\n",
       "      <td>F</td>\n",
       "      <td>Urban</td>\n",
       "      <td>Working Professional</td>\n",
       "      <td>16L - 25L</td>\n",
       "      <td>5-7 times</td>\n",
       "      <td>Newcomer</td>\n",
       "      <td>Medium (500 ml)</td>\n",
       "      <td>0 to 1</td>\n",
       "      <td>Brand Reputation</td>\n",
       "      <td>Exotic</td>\n",
       "      <td>Online</td>\n",
       "      <td>Eco-Friendly</td>\n",
       "      <td>Low (Not very concerned)</td>\n",
       "      <td>Active (eg. Sports, gym)</td>\n",
       "      <td>150-200</td>\n",
       "      <td>26-35</td>\n",
       "    </tr>\n",
       "    <tr>\n",
       "      <th>4</th>\n",
       "      <td>R00005</td>\n",
       "      <td>M</td>\n",
       "      <td>Metro</td>\n",
       "      <td>Student</td>\n",
       "      <td>Not Reported</td>\n",
       "      <td>3-4 times</td>\n",
       "      <td>Established</td>\n",
       "      <td>Medium (500 ml)</td>\n",
       "      <td>0 to 1</td>\n",
       "      <td>Availability</td>\n",
       "      <td>Traditional</td>\n",
       "      <td>Online</td>\n",
       "      <td>Premium</td>\n",
       "      <td>Medium (Moderately health-conscious)</td>\n",
       "      <td>Active (eg. Sports, gym)</td>\n",
       "      <td>50-100</td>\n",
       "      <td>18-25</td>\n",
       "    </tr>\n",
       "  </tbody>\n",
       "</table>\n",
       "</div>"
      ],
      "text/plain": [
       "  respondent_id gender   zone            occupation income_levels  \\\n",
       "0        R00001      M  Urban  Working Professional          <10L   \n",
       "1        R00002      F  Metro  Working Professional         > 35L   \n",
       "2        R00003      F  Rural  Working Professional         > 35L   \n",
       "3        R00004      F  Urban  Working Professional     16L - 25L   \n",
       "4        R00005      M  Metro               Student  Not Reported   \n",
       "\n",
       "  consume_frequency(weekly) current_brand preferable_consumption_size  \\\n",
       "0                 3-4 times      Newcomer             Medium (500 ml)   \n",
       "1                 5-7 times   Established             Medium (500 ml)   \n",
       "2                 3-4 times      Newcomer             Medium (500 ml)   \n",
       "3                 5-7 times      Newcomer             Medium (500 ml)   \n",
       "4                 3-4 times   Established             Medium (500 ml)   \n",
       "\n",
       "  awareness_of_other_brands reasons_for_choosing_brands flavor_preference  \\\n",
       "0                    0 to 1                       Price       Traditional   \n",
       "1                    2 to 4                     Quality            Exotic   \n",
       "2                    2 to 4                Availability       Traditional   \n",
       "3                    0 to 1            Brand Reputation            Exotic   \n",
       "4                    0 to 1                Availability       Traditional   \n",
       "\n",
       "  purchase_channel packaging_preference                       health_concerns  \\\n",
       "0           Online               Simple  Medium (Moderately health-conscious)   \n",
       "1     Retail Store              Premium  Medium (Moderately health-conscious)   \n",
       "2     Retail Store              Premium  Medium (Moderately health-conscious)   \n",
       "3           Online         Eco-Friendly              Low (Not very concerned)   \n",
       "4           Online              Premium  Medium (Moderately health-conscious)   \n",
       "\n",
       "  typical_consumption_situations price_range age_group  \n",
       "0       Active (eg. Sports, gym)     100-150     26-35  \n",
       "1           Social (eg. Parties)     200-250     46-55  \n",
       "2       Active (eg. Sports, gym)     200-250     36-45  \n",
       "3       Active (eg. Sports, gym)     150-200     26-35  \n",
       "4       Active (eg. Sports, gym)      50-100     18-25  "
      ]
     },
     "execution_count": 191,
     "metadata": {},
     "output_type": "execute_result"
    }
   ],
   "source": [
    "df['age_group'] = df['age'].apply(categorize_age_group)\n",
    "df.drop('age', axis=1, inplace=True)\n",
    "df.head()"
   ]
  },
  {
   "cell_type": "markdown",
   "id": "a72b2d79c28ff99a",
   "metadata": {
    "ExecuteTime": {
     "end_time": "2024-12-20T22:01:43.532619Z",
     "start_time": "2024-12-20T22:01:43.529525Z"
    }
   },
   "source": [
    "### Step 2: Create `cf_ab_score` (Consume Frequency and Awareness Brand Score)\n",
    " <p>Objective: Create a new column `cf_ab_score` by combining the information from `consume_frequency(weekly)` and `awareness_of_other_brands` columns.\n",
    " </p>\n",
    " <li>\n",
    "Use the following mappings for consume_frequency(weekly):\n",
    " <ul>○ \"0-2 times\" → 1</ul>\n",
    " <ul>○ \"3-4 times\" → 2</ul>\n",
    " <ul>○ \"5-7 times\" → 3</ul>\n",
    " </li>\n",
    " <li>Use the following mappings for awareness_of_other_brands:\n",
    " <ul> ○ \"0to1\"→1</ul>\n",
    "  <ul>○ \"2to4\"→2</ul>\n",
    "  <ul>○ \"above 4\" → 3</ul>\n",
    " </li>\n",
    " <li>\n",
    " Calculate cf_ab_score using the following formula:\n",
    "  <ul>cf_ab_score = (consume_frequency) / (consume_frequency + awareness_of_other_brands)</ul>\n",
    "</li>"
   ]
  },
  {
   "cell_type": "code",
   "execution_count": 192,
   "id": "39c58f15b5bc46a2",
   "metadata": {
    "ExecuteTime": {
     "end_time": "2024-12-20T22:01:43.620497Z",
     "start_time": "2024-12-20T22:01:43.613590Z"
    }
   },
   "outputs": [
    {
     "data": {
      "text/plain": [
       "array(['3-4 times', '5-7 times', '0-2 times'], dtype=object)"
      ]
     },
     "execution_count": 192,
     "metadata": {},
     "output_type": "execute_result"
    }
   ],
   "source": [
    "df['consume_frequency(weekly)'].unique()"
   ]
  },
  {
   "cell_type": "code",
   "execution_count": 193,
   "id": "ec77b804d9933817",
   "metadata": {
    "ExecuteTime": {
     "end_time": "2024-12-20T22:01:43.707509Z",
     "start_time": "2024-12-20T22:01:43.701564Z"
    }
   },
   "outputs": [
    {
     "data": {
      "text/plain": [
       "array(['0 to 1', '2 to 4', 'above 4'], dtype=object)"
      ]
     },
     "execution_count": 193,
     "metadata": {},
     "output_type": "execute_result"
    }
   ],
   "source": [
    "df['awareness_of_other_brands'].unique()"
   ]
  },
  {
   "cell_type": "code",
   "execution_count": 194,
   "id": "13ac7947a14e7af5",
   "metadata": {
    "ExecuteTime": {
     "end_time": "2024-12-20T22:01:43.833365Z",
     "start_time": "2024-12-20T22:01:43.812045Z"
    }
   },
   "outputs": [
    {
     "data": {
      "text/html": [
       "<div>\n",
       "<style scoped>\n",
       "    .dataframe tbody tr th:only-of-type {\n",
       "        vertical-align: middle;\n",
       "    }\n",
       "\n",
       "    .dataframe tbody tr th {\n",
       "        vertical-align: top;\n",
       "    }\n",
       "\n",
       "    .dataframe thead th {\n",
       "        text-align: right;\n",
       "    }\n",
       "</style>\n",
       "<table border=\"1\" class=\"dataframe\">\n",
       "  <thead>\n",
       "    <tr style=\"text-align: right;\">\n",
       "      <th></th>\n",
       "      <th>respondent_id</th>\n",
       "      <th>gender</th>\n",
       "      <th>zone</th>\n",
       "      <th>occupation</th>\n",
       "      <th>income_levels</th>\n",
       "      <th>consume_frequency(weekly)</th>\n",
       "      <th>current_brand</th>\n",
       "      <th>preferable_consumption_size</th>\n",
       "      <th>awareness_of_other_brands</th>\n",
       "      <th>reasons_for_choosing_brands</th>\n",
       "      <th>flavor_preference</th>\n",
       "      <th>purchase_channel</th>\n",
       "      <th>packaging_preference</th>\n",
       "      <th>health_concerns</th>\n",
       "      <th>typical_consumption_situations</th>\n",
       "      <th>price_range</th>\n",
       "      <th>age_group</th>\n",
       "    </tr>\n",
       "  </thead>\n",
       "  <tbody>\n",
       "    <tr>\n",
       "      <th>0</th>\n",
       "      <td>R00001</td>\n",
       "      <td>M</td>\n",
       "      <td>Urban</td>\n",
       "      <td>Working Professional</td>\n",
       "      <td>&lt;10L</td>\n",
       "      <td>2</td>\n",
       "      <td>Newcomer</td>\n",
       "      <td>Medium (500 ml)</td>\n",
       "      <td>1</td>\n",
       "      <td>Price</td>\n",
       "      <td>Traditional</td>\n",
       "      <td>Online</td>\n",
       "      <td>Simple</td>\n",
       "      <td>Medium (Moderately health-conscious)</td>\n",
       "      <td>Active (eg. Sports, gym)</td>\n",
       "      <td>100-150</td>\n",
       "      <td>26-35</td>\n",
       "    </tr>\n",
       "    <tr>\n",
       "      <th>1</th>\n",
       "      <td>R00002</td>\n",
       "      <td>F</td>\n",
       "      <td>Metro</td>\n",
       "      <td>Working Professional</td>\n",
       "      <td>&gt; 35L</td>\n",
       "      <td>3</td>\n",
       "      <td>Established</td>\n",
       "      <td>Medium (500 ml)</td>\n",
       "      <td>2</td>\n",
       "      <td>Quality</td>\n",
       "      <td>Exotic</td>\n",
       "      <td>Retail Store</td>\n",
       "      <td>Premium</td>\n",
       "      <td>Medium (Moderately health-conscious)</td>\n",
       "      <td>Social (eg. Parties)</td>\n",
       "      <td>200-250</td>\n",
       "      <td>46-55</td>\n",
       "    </tr>\n",
       "    <tr>\n",
       "      <th>2</th>\n",
       "      <td>R00003</td>\n",
       "      <td>F</td>\n",
       "      <td>Rural</td>\n",
       "      <td>Working Professional</td>\n",
       "      <td>&gt; 35L</td>\n",
       "      <td>2</td>\n",
       "      <td>Newcomer</td>\n",
       "      <td>Medium (500 ml)</td>\n",
       "      <td>2</td>\n",
       "      <td>Availability</td>\n",
       "      <td>Traditional</td>\n",
       "      <td>Retail Store</td>\n",
       "      <td>Premium</td>\n",
       "      <td>Medium (Moderately health-conscious)</td>\n",
       "      <td>Active (eg. Sports, gym)</td>\n",
       "      <td>200-250</td>\n",
       "      <td>36-45</td>\n",
       "    </tr>\n",
       "    <tr>\n",
       "      <th>3</th>\n",
       "      <td>R00004</td>\n",
       "      <td>F</td>\n",
       "      <td>Urban</td>\n",
       "      <td>Working Professional</td>\n",
       "      <td>16L - 25L</td>\n",
       "      <td>3</td>\n",
       "      <td>Newcomer</td>\n",
       "      <td>Medium (500 ml)</td>\n",
       "      <td>1</td>\n",
       "      <td>Brand Reputation</td>\n",
       "      <td>Exotic</td>\n",
       "      <td>Online</td>\n",
       "      <td>Eco-Friendly</td>\n",
       "      <td>Low (Not very concerned)</td>\n",
       "      <td>Active (eg. Sports, gym)</td>\n",
       "      <td>150-200</td>\n",
       "      <td>26-35</td>\n",
       "    </tr>\n",
       "    <tr>\n",
       "      <th>4</th>\n",
       "      <td>R00005</td>\n",
       "      <td>M</td>\n",
       "      <td>Metro</td>\n",
       "      <td>Student</td>\n",
       "      <td>Not Reported</td>\n",
       "      <td>2</td>\n",
       "      <td>Established</td>\n",
       "      <td>Medium (500 ml)</td>\n",
       "      <td>1</td>\n",
       "      <td>Availability</td>\n",
       "      <td>Traditional</td>\n",
       "      <td>Online</td>\n",
       "      <td>Premium</td>\n",
       "      <td>Medium (Moderately health-conscious)</td>\n",
       "      <td>Active (eg. Sports, gym)</td>\n",
       "      <td>50-100</td>\n",
       "      <td>18-25</td>\n",
       "    </tr>\n",
       "  </tbody>\n",
       "</table>\n",
       "</div>"
      ],
      "text/plain": [
       "  respondent_id gender   zone            occupation income_levels  \\\n",
       "0        R00001      M  Urban  Working Professional          <10L   \n",
       "1        R00002      F  Metro  Working Professional         > 35L   \n",
       "2        R00003      F  Rural  Working Professional         > 35L   \n",
       "3        R00004      F  Urban  Working Professional     16L - 25L   \n",
       "4        R00005      M  Metro               Student  Not Reported   \n",
       "\n",
       "   consume_frequency(weekly) current_brand preferable_consumption_size  \\\n",
       "0                          2      Newcomer             Medium (500 ml)   \n",
       "1                          3   Established             Medium (500 ml)   \n",
       "2                          2      Newcomer             Medium (500 ml)   \n",
       "3                          3      Newcomer             Medium (500 ml)   \n",
       "4                          2   Established             Medium (500 ml)   \n",
       "\n",
       "   awareness_of_other_brands reasons_for_choosing_brands flavor_preference  \\\n",
       "0                          1                       Price       Traditional   \n",
       "1                          2                     Quality            Exotic   \n",
       "2                          2                Availability       Traditional   \n",
       "3                          1            Brand Reputation            Exotic   \n",
       "4                          1                Availability       Traditional   \n",
       "\n",
       "  purchase_channel packaging_preference                       health_concerns  \\\n",
       "0           Online               Simple  Medium (Moderately health-conscious)   \n",
       "1     Retail Store              Premium  Medium (Moderately health-conscious)   \n",
       "2     Retail Store              Premium  Medium (Moderately health-conscious)   \n",
       "3           Online         Eco-Friendly              Low (Not very concerned)   \n",
       "4           Online              Premium  Medium (Moderately health-conscious)   \n",
       "\n",
       "  typical_consumption_situations price_range age_group  \n",
       "0       Active (eg. Sports, gym)     100-150     26-35  \n",
       "1           Social (eg. Parties)     200-250     46-55  \n",
       "2       Active (eg. Sports, gym)     200-250     36-45  \n",
       "3       Active (eg. Sports, gym)     150-200     26-35  \n",
       "4       Active (eg. Sports, gym)      50-100     18-25  "
      ]
     },
     "execution_count": 194,
     "metadata": {},
     "output_type": "execute_result"
    }
   ],
   "source": [
    "df['consume_frequency(weekly)'] = df['consume_frequency(weekly)'].map({'0-2 times': 1, '3-4 times': 2, '5-7 times': 3})\n",
    "df['awareness_of_other_brands'] = df['awareness_of_other_brands'].map({'0 to 1' : 1, '2 to 4' : 2, 'above 4' : 3})\n",
    "df.head()"
   ]
  },
  {
   "cell_type": "code",
   "execution_count": 195,
   "id": "12c3009a7c64de1b",
   "metadata": {
    "ExecuteTime": {
     "end_time": "2024-12-20T22:01:43.956293Z",
     "start_time": "2024-12-20T22:01:43.939536Z"
    }
   },
   "outputs": [
    {
     "data": {
      "text/html": [
       "<div>\n",
       "<style scoped>\n",
       "    .dataframe tbody tr th:only-of-type {\n",
       "        vertical-align: middle;\n",
       "    }\n",
       "\n",
       "    .dataframe tbody tr th {\n",
       "        vertical-align: top;\n",
       "    }\n",
       "\n",
       "    .dataframe thead th {\n",
       "        text-align: right;\n",
       "    }\n",
       "</style>\n",
       "<table border=\"1\" class=\"dataframe\">\n",
       "  <thead>\n",
       "    <tr style=\"text-align: right;\">\n",
       "      <th></th>\n",
       "      <th>respondent_id</th>\n",
       "      <th>gender</th>\n",
       "      <th>zone</th>\n",
       "      <th>occupation</th>\n",
       "      <th>income_levels</th>\n",
       "      <th>consume_frequency(weekly)</th>\n",
       "      <th>current_brand</th>\n",
       "      <th>preferable_consumption_size</th>\n",
       "      <th>awareness_of_other_brands</th>\n",
       "      <th>reasons_for_choosing_brands</th>\n",
       "      <th>flavor_preference</th>\n",
       "      <th>purchase_channel</th>\n",
       "      <th>packaging_preference</th>\n",
       "      <th>health_concerns</th>\n",
       "      <th>typical_consumption_situations</th>\n",
       "      <th>price_range</th>\n",
       "      <th>age_group</th>\n",
       "      <th>cf_ab_score</th>\n",
       "    </tr>\n",
       "  </thead>\n",
       "  <tbody>\n",
       "    <tr>\n",
       "      <th>0</th>\n",
       "      <td>R00001</td>\n",
       "      <td>M</td>\n",
       "      <td>Urban</td>\n",
       "      <td>Working Professional</td>\n",
       "      <td>&lt;10L</td>\n",
       "      <td>2</td>\n",
       "      <td>Newcomer</td>\n",
       "      <td>Medium (500 ml)</td>\n",
       "      <td>1</td>\n",
       "      <td>Price</td>\n",
       "      <td>Traditional</td>\n",
       "      <td>Online</td>\n",
       "      <td>Simple</td>\n",
       "      <td>Medium (Moderately health-conscious)</td>\n",
       "      <td>Active (eg. Sports, gym)</td>\n",
       "      <td>100-150</td>\n",
       "      <td>26-35</td>\n",
       "      <td>0.67</td>\n",
       "    </tr>\n",
       "    <tr>\n",
       "      <th>1</th>\n",
       "      <td>R00002</td>\n",
       "      <td>F</td>\n",
       "      <td>Metro</td>\n",
       "      <td>Working Professional</td>\n",
       "      <td>&gt; 35L</td>\n",
       "      <td>3</td>\n",
       "      <td>Established</td>\n",
       "      <td>Medium (500 ml)</td>\n",
       "      <td>2</td>\n",
       "      <td>Quality</td>\n",
       "      <td>Exotic</td>\n",
       "      <td>Retail Store</td>\n",
       "      <td>Premium</td>\n",
       "      <td>Medium (Moderately health-conscious)</td>\n",
       "      <td>Social (eg. Parties)</td>\n",
       "      <td>200-250</td>\n",
       "      <td>46-55</td>\n",
       "      <td>0.60</td>\n",
       "    </tr>\n",
       "    <tr>\n",
       "      <th>2</th>\n",
       "      <td>R00003</td>\n",
       "      <td>F</td>\n",
       "      <td>Rural</td>\n",
       "      <td>Working Professional</td>\n",
       "      <td>&gt; 35L</td>\n",
       "      <td>2</td>\n",
       "      <td>Newcomer</td>\n",
       "      <td>Medium (500 ml)</td>\n",
       "      <td>2</td>\n",
       "      <td>Availability</td>\n",
       "      <td>Traditional</td>\n",
       "      <td>Retail Store</td>\n",
       "      <td>Premium</td>\n",
       "      <td>Medium (Moderately health-conscious)</td>\n",
       "      <td>Active (eg. Sports, gym)</td>\n",
       "      <td>200-250</td>\n",
       "      <td>36-45</td>\n",
       "      <td>0.50</td>\n",
       "    </tr>\n",
       "    <tr>\n",
       "      <th>3</th>\n",
       "      <td>R00004</td>\n",
       "      <td>F</td>\n",
       "      <td>Urban</td>\n",
       "      <td>Working Professional</td>\n",
       "      <td>16L - 25L</td>\n",
       "      <td>3</td>\n",
       "      <td>Newcomer</td>\n",
       "      <td>Medium (500 ml)</td>\n",
       "      <td>1</td>\n",
       "      <td>Brand Reputation</td>\n",
       "      <td>Exotic</td>\n",
       "      <td>Online</td>\n",
       "      <td>Eco-Friendly</td>\n",
       "      <td>Low (Not very concerned)</td>\n",
       "      <td>Active (eg. Sports, gym)</td>\n",
       "      <td>150-200</td>\n",
       "      <td>26-35</td>\n",
       "      <td>0.75</td>\n",
       "    </tr>\n",
       "    <tr>\n",
       "      <th>4</th>\n",
       "      <td>R00005</td>\n",
       "      <td>M</td>\n",
       "      <td>Metro</td>\n",
       "      <td>Student</td>\n",
       "      <td>Not Reported</td>\n",
       "      <td>2</td>\n",
       "      <td>Established</td>\n",
       "      <td>Medium (500 ml)</td>\n",
       "      <td>1</td>\n",
       "      <td>Availability</td>\n",
       "      <td>Traditional</td>\n",
       "      <td>Online</td>\n",
       "      <td>Premium</td>\n",
       "      <td>Medium (Moderately health-conscious)</td>\n",
       "      <td>Active (eg. Sports, gym)</td>\n",
       "      <td>50-100</td>\n",
       "      <td>18-25</td>\n",
       "      <td>0.67</td>\n",
       "    </tr>\n",
       "  </tbody>\n",
       "</table>\n",
       "</div>"
      ],
      "text/plain": [
       "  respondent_id gender   zone            occupation income_levels  \\\n",
       "0        R00001      M  Urban  Working Professional          <10L   \n",
       "1        R00002      F  Metro  Working Professional         > 35L   \n",
       "2        R00003      F  Rural  Working Professional         > 35L   \n",
       "3        R00004      F  Urban  Working Professional     16L - 25L   \n",
       "4        R00005      M  Metro               Student  Not Reported   \n",
       "\n",
       "   consume_frequency(weekly) current_brand preferable_consumption_size  \\\n",
       "0                          2      Newcomer             Medium (500 ml)   \n",
       "1                          3   Established             Medium (500 ml)   \n",
       "2                          2      Newcomer             Medium (500 ml)   \n",
       "3                          3      Newcomer             Medium (500 ml)   \n",
       "4                          2   Established             Medium (500 ml)   \n",
       "\n",
       "   awareness_of_other_brands reasons_for_choosing_brands flavor_preference  \\\n",
       "0                          1                       Price       Traditional   \n",
       "1                          2                     Quality            Exotic   \n",
       "2                          2                Availability       Traditional   \n",
       "3                          1            Brand Reputation            Exotic   \n",
       "4                          1                Availability       Traditional   \n",
       "\n",
       "  purchase_channel packaging_preference                       health_concerns  \\\n",
       "0           Online               Simple  Medium (Moderately health-conscious)   \n",
       "1     Retail Store              Premium  Medium (Moderately health-conscious)   \n",
       "2     Retail Store              Premium  Medium (Moderately health-conscious)   \n",
       "3           Online         Eco-Friendly              Low (Not very concerned)   \n",
       "4           Online              Premium  Medium (Moderately health-conscious)   \n",
       "\n",
       "  typical_consumption_situations price_range age_group  cf_ab_score  \n",
       "0       Active (eg. Sports, gym)     100-150     26-35         0.67  \n",
       "1           Social (eg. Parties)     200-250     46-55         0.60  \n",
       "2       Active (eg. Sports, gym)     200-250     36-45         0.50  \n",
       "3       Active (eg. Sports, gym)     150-200     26-35         0.75  \n",
       "4       Active (eg. Sports, gym)      50-100     18-25         0.67  "
      ]
     },
     "execution_count": 195,
     "metadata": {},
     "output_type": "execute_result"
    }
   ],
   "source": [
    "df['cf_ab_score'] = (df['consume_frequency(weekly)'] / (df['consume_frequency(weekly)'] + df['awareness_of_other_brands'])).round(2)\n",
    "df.head()"
   ]
  },
  {
   "cell_type": "code",
   "execution_count": 196,
   "id": "7d922da0d2c24ea2",
   "metadata": {
    "ExecuteTime": {
     "end_time": "2024-12-20T22:01:44.035907Z",
     "start_time": "2024-12-20T22:01:44.032184Z"
    }
   },
   "outputs": [
    {
     "data": {
      "text/plain": [
       "0.75"
      ]
     },
     "execution_count": 196,
     "metadata": {},
     "output_type": "execute_result"
    }
   ],
   "source": [
    "df['cf_ab_score'].max()"
   ]
  },
  {
   "cell_type": "markdown",
   "id": "818babf83b4f58a3",
   "metadata": {
    "ExecuteTime": {
     "end_time": "2024-12-20T22:01:44.141854Z",
     "start_time": "2024-12-20T22:01:44.138692Z"
    }
   },
   "source": [
    "# Step 3: Create Zone Affluence Score (ZAS)\n",
    "Objective: Calculate the `zas_score` using a combination of the `zone` and\n",
    " `income_levels` columns.\n",
    "<li>Use the following mappings for the zone column:\n",
    "<ul>\"Urban\" → 3</ul>\n",
    "<ul>\"Metro\" → 4</ul>\n",
    "<ul>\"Rural\" → 1</ul>\n",
    "<ul>\"Semi-Urban\" → 2</ul>\n",
    "</li> \n",
    "<li>Use the following mappings for the income_levels column:\n",
    "<ul>\"<10L\" → 1</ul>\n",
    "<ul>\"10L-15L\"→2</ul>\n",
    "<ul>\"16L-25L\"→3</ul>\n",
    "<ul>\"26L-35L\"→4</ul>\n",
    "<ul>\">35L\"→5</ul>\n",
    "<ul>\"Not Reported\" → 0</ul>\n",
    "</li>\n",
    "<li>Calculate the zas_score using the following formula:\n",
    "<ul>zas_score = zone_score * income_score</ul>\n",
    "</li>"
   ]
  },
  {
   "cell_type": "code",
   "execution_count": 197,
   "id": "b9ac1f1980639cfa",
   "metadata": {
    "ExecuteTime": {
     "end_time": "2024-12-20T22:01:44.256655Z",
     "start_time": "2024-12-20T22:01:44.250785Z"
    }
   },
   "outputs": [
    {
     "data": {
      "text/plain": [
       "array(['Urban', 'Metro', 'Rural', 'Semi-Urban'], dtype=object)"
      ]
     },
     "execution_count": 197,
     "metadata": {},
     "output_type": "execute_result"
    }
   ],
   "source": [
    "df['zone'].unique()"
   ]
  },
  {
   "cell_type": "code",
   "execution_count": 198,
   "id": "792cbbcd0c30d652",
   "metadata": {
    "ExecuteTime": {
     "end_time": "2024-12-20T22:01:44.323282Z",
     "start_time": "2024-12-20T22:01:44.317537Z"
    }
   },
   "outputs": [
    {
     "data": {
      "text/plain": [
       "array(['<10L', '> 35L', '16L - 25L', 'Not Reported', '10L - 15L',\n",
       "       '26L - 35L'], dtype=object)"
      ]
     },
     "execution_count": 198,
     "metadata": {},
     "output_type": "execute_result"
    }
   ],
   "source": [
    "df['income_levels'].unique()"
   ]
  },
  {
   "cell_type": "code",
   "execution_count": 199,
   "id": "3177b99dbf606a70",
   "metadata": {
    "ExecuteTime": {
     "end_time": "2024-12-20T22:01:44.381715Z",
     "start_time": "2024-12-20T22:01:44.377087Z"
    }
   },
   "outputs": [
    {
     "data": {
      "text/plain": [
       "'>35L'"
      ]
     },
     "execution_count": 199,
     "metadata": {},
     "output_type": "execute_result"
    }
   ],
   "source": [
    "def strip_income_leve(text):\n",
    "    return text.replace(' ', '')\n",
    "\n",
    "strip_income_leve('> 35L')"
   ]
  },
  {
   "cell_type": "code",
   "execution_count": 200,
   "id": "45f6135685bda80f",
   "metadata": {
    "ExecuteTime": {
     "end_time": "2024-12-20T22:01:44.460865Z",
     "start_time": "2024-12-20T22:01:44.447933Z"
    }
   },
   "outputs": [],
   "source": [
    "df['income_levels'] = df['income_levels'].apply(strip_income_leve)"
   ]
  },
  {
   "cell_type": "code",
   "execution_count": 201,
   "id": "ef833be594cef5af",
   "metadata": {
    "ExecuteTime": {
     "end_time": "2024-12-20T22:01:44.505433Z",
     "start_time": "2024-12-20T22:01:44.499228Z"
    }
   },
   "outputs": [
    {
     "data": {
      "text/plain": [
       "array(['<10L', '>35L', '16L-25L', 'NotReported', '10L-15L', '26L-35L'],\n",
       "      dtype=object)"
      ]
     },
     "execution_count": 201,
     "metadata": {},
     "output_type": "execute_result"
    }
   ],
   "source": [
    "df['income_levels'].unique()"
   ]
  },
  {
   "cell_type": "code",
   "execution_count": 202,
   "id": "5775a2e09879a64e",
   "metadata": {
    "ExecuteTime": {
     "end_time": "2024-12-20T22:01:44.538717Z",
     "start_time": "2024-12-20T22:01:44.516317Z"
    }
   },
   "outputs": [
    {
     "data": {
      "text/html": [
       "<div>\n",
       "<style scoped>\n",
       "    .dataframe tbody tr th:only-of-type {\n",
       "        vertical-align: middle;\n",
       "    }\n",
       "\n",
       "    .dataframe tbody tr th {\n",
       "        vertical-align: top;\n",
       "    }\n",
       "\n",
       "    .dataframe thead th {\n",
       "        text-align: right;\n",
       "    }\n",
       "</style>\n",
       "<table border=\"1\" class=\"dataframe\">\n",
       "  <thead>\n",
       "    <tr style=\"text-align: right;\">\n",
       "      <th></th>\n",
       "      <th>respondent_id</th>\n",
       "      <th>gender</th>\n",
       "      <th>zone</th>\n",
       "      <th>occupation</th>\n",
       "      <th>income_levels</th>\n",
       "      <th>consume_frequency(weekly)</th>\n",
       "      <th>current_brand</th>\n",
       "      <th>preferable_consumption_size</th>\n",
       "      <th>awareness_of_other_brands</th>\n",
       "      <th>reasons_for_choosing_brands</th>\n",
       "      <th>flavor_preference</th>\n",
       "      <th>purchase_channel</th>\n",
       "      <th>packaging_preference</th>\n",
       "      <th>health_concerns</th>\n",
       "      <th>typical_consumption_situations</th>\n",
       "      <th>price_range</th>\n",
       "      <th>age_group</th>\n",
       "      <th>cf_ab_score</th>\n",
       "      <th>zas_score</th>\n",
       "    </tr>\n",
       "  </thead>\n",
       "  <tbody>\n",
       "    <tr>\n",
       "      <th>0</th>\n",
       "      <td>R00001</td>\n",
       "      <td>M</td>\n",
       "      <td>3</td>\n",
       "      <td>Working Professional</td>\n",
       "      <td>1</td>\n",
       "      <td>2</td>\n",
       "      <td>Newcomer</td>\n",
       "      <td>Medium (500 ml)</td>\n",
       "      <td>1</td>\n",
       "      <td>Price</td>\n",
       "      <td>Traditional</td>\n",
       "      <td>Online</td>\n",
       "      <td>Simple</td>\n",
       "      <td>Medium (Moderately health-conscious)</td>\n",
       "      <td>Active (eg. Sports, gym)</td>\n",
       "      <td>100-150</td>\n",
       "      <td>26-35</td>\n",
       "      <td>0.67</td>\n",
       "      <td>3</td>\n",
       "    </tr>\n",
       "    <tr>\n",
       "      <th>1</th>\n",
       "      <td>R00002</td>\n",
       "      <td>F</td>\n",
       "      <td>4</td>\n",
       "      <td>Working Professional</td>\n",
       "      <td>5</td>\n",
       "      <td>3</td>\n",
       "      <td>Established</td>\n",
       "      <td>Medium (500 ml)</td>\n",
       "      <td>2</td>\n",
       "      <td>Quality</td>\n",
       "      <td>Exotic</td>\n",
       "      <td>Retail Store</td>\n",
       "      <td>Premium</td>\n",
       "      <td>Medium (Moderately health-conscious)</td>\n",
       "      <td>Social (eg. Parties)</td>\n",
       "      <td>200-250</td>\n",
       "      <td>46-55</td>\n",
       "      <td>0.60</td>\n",
       "      <td>20</td>\n",
       "    </tr>\n",
       "    <tr>\n",
       "      <th>2</th>\n",
       "      <td>R00003</td>\n",
       "      <td>F</td>\n",
       "      <td>1</td>\n",
       "      <td>Working Professional</td>\n",
       "      <td>5</td>\n",
       "      <td>2</td>\n",
       "      <td>Newcomer</td>\n",
       "      <td>Medium (500 ml)</td>\n",
       "      <td>2</td>\n",
       "      <td>Availability</td>\n",
       "      <td>Traditional</td>\n",
       "      <td>Retail Store</td>\n",
       "      <td>Premium</td>\n",
       "      <td>Medium (Moderately health-conscious)</td>\n",
       "      <td>Active (eg. Sports, gym)</td>\n",
       "      <td>200-250</td>\n",
       "      <td>36-45</td>\n",
       "      <td>0.50</td>\n",
       "      <td>5</td>\n",
       "    </tr>\n",
       "    <tr>\n",
       "      <th>3</th>\n",
       "      <td>R00004</td>\n",
       "      <td>F</td>\n",
       "      <td>3</td>\n",
       "      <td>Working Professional</td>\n",
       "      <td>3</td>\n",
       "      <td>3</td>\n",
       "      <td>Newcomer</td>\n",
       "      <td>Medium (500 ml)</td>\n",
       "      <td>1</td>\n",
       "      <td>Brand Reputation</td>\n",
       "      <td>Exotic</td>\n",
       "      <td>Online</td>\n",
       "      <td>Eco-Friendly</td>\n",
       "      <td>Low (Not very concerned)</td>\n",
       "      <td>Active (eg. Sports, gym)</td>\n",
       "      <td>150-200</td>\n",
       "      <td>26-35</td>\n",
       "      <td>0.75</td>\n",
       "      <td>9</td>\n",
       "    </tr>\n",
       "    <tr>\n",
       "      <th>4</th>\n",
       "      <td>R00005</td>\n",
       "      <td>M</td>\n",
       "      <td>4</td>\n",
       "      <td>Student</td>\n",
       "      <td>0</td>\n",
       "      <td>2</td>\n",
       "      <td>Established</td>\n",
       "      <td>Medium (500 ml)</td>\n",
       "      <td>1</td>\n",
       "      <td>Availability</td>\n",
       "      <td>Traditional</td>\n",
       "      <td>Online</td>\n",
       "      <td>Premium</td>\n",
       "      <td>Medium (Moderately health-conscious)</td>\n",
       "      <td>Active (eg. Sports, gym)</td>\n",
       "      <td>50-100</td>\n",
       "      <td>18-25</td>\n",
       "      <td>0.67</td>\n",
       "      <td>0</td>\n",
       "    </tr>\n",
       "  </tbody>\n",
       "</table>\n",
       "</div>"
      ],
      "text/plain": [
       "  respondent_id gender  zone            occupation  income_levels  \\\n",
       "0        R00001      M     3  Working Professional              1   \n",
       "1        R00002      F     4  Working Professional              5   \n",
       "2        R00003      F     1  Working Professional              5   \n",
       "3        R00004      F     3  Working Professional              3   \n",
       "4        R00005      M     4               Student              0   \n",
       "\n",
       "   consume_frequency(weekly) current_brand preferable_consumption_size  \\\n",
       "0                          2      Newcomer             Medium (500 ml)   \n",
       "1                          3   Established             Medium (500 ml)   \n",
       "2                          2      Newcomer             Medium (500 ml)   \n",
       "3                          3      Newcomer             Medium (500 ml)   \n",
       "4                          2   Established             Medium (500 ml)   \n",
       "\n",
       "   awareness_of_other_brands reasons_for_choosing_brands flavor_preference  \\\n",
       "0                          1                       Price       Traditional   \n",
       "1                          2                     Quality            Exotic   \n",
       "2                          2                Availability       Traditional   \n",
       "3                          1            Brand Reputation            Exotic   \n",
       "4                          1                Availability       Traditional   \n",
       "\n",
       "  purchase_channel packaging_preference                       health_concerns  \\\n",
       "0           Online               Simple  Medium (Moderately health-conscious)   \n",
       "1     Retail Store              Premium  Medium (Moderately health-conscious)   \n",
       "2     Retail Store              Premium  Medium (Moderately health-conscious)   \n",
       "3           Online         Eco-Friendly              Low (Not very concerned)   \n",
       "4           Online              Premium  Medium (Moderately health-conscious)   \n",
       "\n",
       "  typical_consumption_situations price_range age_group  cf_ab_score  zas_score  \n",
       "0       Active (eg. Sports, gym)     100-150     26-35         0.67          3  \n",
       "1           Social (eg. Parties)     200-250     46-55         0.60         20  \n",
       "2       Active (eg. Sports, gym)     200-250     36-45         0.50          5  \n",
       "3       Active (eg. Sports, gym)     150-200     26-35         0.75          9  \n",
       "4       Active (eg. Sports, gym)      50-100     18-25         0.67          0  "
      ]
     },
     "execution_count": 202,
     "metadata": {},
     "output_type": "execute_result"
    }
   ],
   "source": [
    "df['zone'] = df['zone'].map({\"Rural\" :1, \"Urban\" :3, \"Semi-Urban\" :2, \"Metro\" :4})\n",
    "df['income_levels'] = df['income_levels'].map({\"<10L\": 1, \"10L-15L\":2, \"16L-25L\":3, \"26L-35L\":4, \">35L\":5, \"NotReported\":0})\n",
    "df['zas_score'] = df['zone'] * df['income_levels']\n",
    "df.head()"
   ]
  },
  {
   "cell_type": "code",
   "execution_count": 203,
   "id": "218ca380fddc6441",
   "metadata": {
    "ExecuteTime": {
     "end_time": "2024-12-20T22:01:44.619711Z",
     "start_time": "2024-12-20T22:01:44.615466Z"
    }
   },
   "outputs": [
    {
     "data": {
      "text/plain": [
       "14"
      ]
     },
     "execution_count": 203,
     "metadata": {},
     "output_type": "execute_result"
    }
   ],
   "source": [
    "df['zas_score'].nunique()"
   ]
  },
  {
   "cell_type": "markdown",
   "id": "a1ad94c7000f2296",
   "metadata": {
    "ExecuteTime": {
     "end_time": "2024-12-20T22:01:44.754870Z",
     "start_time": "2024-12-20T22:01:44.751963Z"
    }
   },
   "source": [
    "### Step 4: Brand Switching Indicator (BSI)\n",
    "Objective: Create a binary indicator column `bsi` that identifies if a respondent is likely to switch brands.\n",
    "<li>Check if the respondent’s current_brand is not \"Established\".\n",
    "<li>Also check if the reasons_for_choosing_brands are either \"Price\" or\n",
    "\"Quality\".\n",
    "<li>If both conditions are true, assign a value of 1 to indicate potential for brand\n",
    "switching. Otherwise, assign 0."
   ]
  },
  {
   "cell_type": "code",
   "execution_count": 204,
   "id": "834cb12858756cc2",
   "metadata": {
    "ExecuteTime": {
     "end_time": "2024-12-20T22:01:44.872706Z",
     "start_time": "2024-12-20T22:01:44.846661Z"
    }
   },
   "outputs": [
    {
     "data": {
      "text/html": [
       "<div>\n",
       "<style scoped>\n",
       "    .dataframe tbody tr th:only-of-type {\n",
       "        vertical-align: middle;\n",
       "    }\n",
       "\n",
       "    .dataframe tbody tr th {\n",
       "        vertical-align: top;\n",
       "    }\n",
       "\n",
       "    .dataframe thead th {\n",
       "        text-align: right;\n",
       "    }\n",
       "</style>\n",
       "<table border=\"1\" class=\"dataframe\">\n",
       "  <thead>\n",
       "    <tr style=\"text-align: right;\">\n",
       "      <th></th>\n",
       "      <th>respondent_id</th>\n",
       "      <th>gender</th>\n",
       "      <th>zone</th>\n",
       "      <th>occupation</th>\n",
       "      <th>income_levels</th>\n",
       "      <th>consume_frequency(weekly)</th>\n",
       "      <th>current_brand</th>\n",
       "      <th>preferable_consumption_size</th>\n",
       "      <th>awareness_of_other_brands</th>\n",
       "      <th>reasons_for_choosing_brands</th>\n",
       "      <th>flavor_preference</th>\n",
       "      <th>purchase_channel</th>\n",
       "      <th>packaging_preference</th>\n",
       "      <th>health_concerns</th>\n",
       "      <th>typical_consumption_situations</th>\n",
       "      <th>price_range</th>\n",
       "      <th>age_group</th>\n",
       "      <th>cf_ab_score</th>\n",
       "      <th>zas_score</th>\n",
       "      <th>bsi</th>\n",
       "    </tr>\n",
       "  </thead>\n",
       "  <tbody>\n",
       "    <tr>\n",
       "      <th>8986</th>\n",
       "      <td>R08982</td>\n",
       "      <td>M</td>\n",
       "      <td>4</td>\n",
       "      <td>Entrepreneur</td>\n",
       "      <td>5</td>\n",
       "      <td>3</td>\n",
       "      <td>Established</td>\n",
       "      <td>Large (1 L)</td>\n",
       "      <td>3</td>\n",
       "      <td>Brand Reputation</td>\n",
       "      <td>Traditional</td>\n",
       "      <td>Online</td>\n",
       "      <td>Premium</td>\n",
       "      <td>Low (Not very concerned)</td>\n",
       "      <td>Casual (eg. At home)</td>\n",
       "      <td>200-250</td>\n",
       "      <td>36-45</td>\n",
       "      <td>0.50</td>\n",
       "      <td>20</td>\n",
       "      <td>0</td>\n",
       "    </tr>\n",
       "    <tr>\n",
       "      <th>12931</th>\n",
       "      <td>R12926</td>\n",
       "      <td>F</td>\n",
       "      <td>3</td>\n",
       "      <td>Student</td>\n",
       "      <td>0</td>\n",
       "      <td>1</td>\n",
       "      <td>Established</td>\n",
       "      <td>Small (250 ml)</td>\n",
       "      <td>1</td>\n",
       "      <td>Price</td>\n",
       "      <td>Exotic</td>\n",
       "      <td>Online</td>\n",
       "      <td>Eco-Friendly</td>\n",
       "      <td>High (Very health-conscious)</td>\n",
       "      <td>Social (eg. Parties)</td>\n",
       "      <td>50-100</td>\n",
       "      <td>18-25</td>\n",
       "      <td>0.50</td>\n",
       "      <td>0</td>\n",
       "      <td>0</td>\n",
       "    </tr>\n",
       "    <tr>\n",
       "      <th>24372</th>\n",
       "      <td>R24364</td>\n",
       "      <td>M</td>\n",
       "      <td>3</td>\n",
       "      <td>Student</td>\n",
       "      <td>0</td>\n",
       "      <td>2</td>\n",
       "      <td>Newcomer</td>\n",
       "      <td>Small (250 ml)</td>\n",
       "      <td>1</td>\n",
       "      <td>Availability</td>\n",
       "      <td>Exotic</td>\n",
       "      <td>Online</td>\n",
       "      <td>Eco-Friendly</td>\n",
       "      <td>Low (Not very concerned)</td>\n",
       "      <td>Casual (eg. At home)</td>\n",
       "      <td>50-100</td>\n",
       "      <td>26-35</td>\n",
       "      <td>0.67</td>\n",
       "      <td>0</td>\n",
       "      <td>0</td>\n",
       "    </tr>\n",
       "    <tr>\n",
       "      <th>14516</th>\n",
       "      <td>R14511</td>\n",
       "      <td>M</td>\n",
       "      <td>4</td>\n",
       "      <td>Working Professional</td>\n",
       "      <td>3</td>\n",
       "      <td>3</td>\n",
       "      <td>Newcomer</td>\n",
       "      <td>Large (1 L)</td>\n",
       "      <td>1</td>\n",
       "      <td>Brand Reputation</td>\n",
       "      <td>Traditional</td>\n",
       "      <td>Online</td>\n",
       "      <td>Eco-Friendly</td>\n",
       "      <td>Medium (Moderately health-conscious)</td>\n",
       "      <td>Casual (eg. At home)</td>\n",
       "      <td>150-200</td>\n",
       "      <td>26-35</td>\n",
       "      <td>0.75</td>\n",
       "      <td>12</td>\n",
       "      <td>0</td>\n",
       "    </tr>\n",
       "    <tr>\n",
       "      <th>1758</th>\n",
       "      <td>R01759</td>\n",
       "      <td>F</td>\n",
       "      <td>3</td>\n",
       "      <td>Retired</td>\n",
       "      <td>2</td>\n",
       "      <td>2</td>\n",
       "      <td>Newcomer</td>\n",
       "      <td>Medium (500 ml)</td>\n",
       "      <td>1</td>\n",
       "      <td>Price</td>\n",
       "      <td>Traditional</td>\n",
       "      <td>Retail Store</td>\n",
       "      <td>Simple</td>\n",
       "      <td>Medium (Moderately health-conscious)</td>\n",
       "      <td>Casual (eg. At home)</td>\n",
       "      <td>100-150</td>\n",
       "      <td>56-70</td>\n",
       "      <td>0.67</td>\n",
       "      <td>6</td>\n",
       "      <td>1</td>\n",
       "    </tr>\n",
       "    <tr>\n",
       "      <th>21252</th>\n",
       "      <td>R21246</td>\n",
       "      <td>M</td>\n",
       "      <td>3</td>\n",
       "      <td>Entrepreneur</td>\n",
       "      <td>2</td>\n",
       "      <td>2</td>\n",
       "      <td>Established</td>\n",
       "      <td>Small (250 ml)</td>\n",
       "      <td>2</td>\n",
       "      <td>Price</td>\n",
       "      <td>Exotic</td>\n",
       "      <td>Retail Store</td>\n",
       "      <td>Eco-Friendly</td>\n",
       "      <td>Medium (Moderately health-conscious)</td>\n",
       "      <td>Active (eg. Sports, gym)</td>\n",
       "      <td>150-200</td>\n",
       "      <td>26-35</td>\n",
       "      <td>0.50</td>\n",
       "      <td>6</td>\n",
       "      <td>0</td>\n",
       "    </tr>\n",
       "    <tr>\n",
       "      <th>10363</th>\n",
       "      <td>R10359</td>\n",
       "      <td>M</td>\n",
       "      <td>4</td>\n",
       "      <td>Student</td>\n",
       "      <td>0</td>\n",
       "      <td>2</td>\n",
       "      <td>Newcomer</td>\n",
       "      <td>Large (1 L)</td>\n",
       "      <td>1</td>\n",
       "      <td>Price</td>\n",
       "      <td>Traditional</td>\n",
       "      <td>Retail Store</td>\n",
       "      <td>Simple</td>\n",
       "      <td>Medium (Moderately health-conscious)</td>\n",
       "      <td>Active (eg. Sports, gym)</td>\n",
       "      <td>50-100</td>\n",
       "      <td>18-25</td>\n",
       "      <td>0.67</td>\n",
       "      <td>0</td>\n",
       "      <td>1</td>\n",
       "    </tr>\n",
       "    <tr>\n",
       "      <th>4036</th>\n",
       "      <td>R04035</td>\n",
       "      <td>M</td>\n",
       "      <td>3</td>\n",
       "      <td>Student</td>\n",
       "      <td>0</td>\n",
       "      <td>3</td>\n",
       "      <td>Newcomer</td>\n",
       "      <td>Large (1 L)</td>\n",
       "      <td>2</td>\n",
       "      <td>Price</td>\n",
       "      <td>Exotic</td>\n",
       "      <td>Online</td>\n",
       "      <td>Simple</td>\n",
       "      <td>High (Very health-conscious)</td>\n",
       "      <td>Active (eg. Sports, gym)</td>\n",
       "      <td>150-200</td>\n",
       "      <td>18-25</td>\n",
       "      <td>0.60</td>\n",
       "      <td>0</td>\n",
       "      <td>1</td>\n",
       "    </tr>\n",
       "    <tr>\n",
       "      <th>24621</th>\n",
       "      <td>R24613</td>\n",
       "      <td>F</td>\n",
       "      <td>2</td>\n",
       "      <td>Retired</td>\n",
       "      <td>1</td>\n",
       "      <td>1</td>\n",
       "      <td>Newcomer</td>\n",
       "      <td>Medium (500 ml)</td>\n",
       "      <td>1</td>\n",
       "      <td>Price</td>\n",
       "      <td>Exotic</td>\n",
       "      <td>Online</td>\n",
       "      <td>Eco-Friendly</td>\n",
       "      <td>Low (Not very concerned)</td>\n",
       "      <td>Active (eg. Sports, gym)</td>\n",
       "      <td>100-150</td>\n",
       "      <td>56-70</td>\n",
       "      <td>0.50</td>\n",
       "      <td>2</td>\n",
       "      <td>1</td>\n",
       "    </tr>\n",
       "    <tr>\n",
       "      <th>18391</th>\n",
       "      <td>R18386</td>\n",
       "      <td>M</td>\n",
       "      <td>2</td>\n",
       "      <td>Student</td>\n",
       "      <td>0</td>\n",
       "      <td>1</td>\n",
       "      <td>Established</td>\n",
       "      <td>Small (250 ml)</td>\n",
       "      <td>2</td>\n",
       "      <td>Price</td>\n",
       "      <td>Traditional</td>\n",
       "      <td>Retail Store</td>\n",
       "      <td>Simple</td>\n",
       "      <td>Low (Not very concerned)</td>\n",
       "      <td>Casual (eg. At home)</td>\n",
       "      <td>50-100</td>\n",
       "      <td>18-25</td>\n",
       "      <td>0.33</td>\n",
       "      <td>0</td>\n",
       "      <td>0</td>\n",
       "    </tr>\n",
       "    <tr>\n",
       "      <th>7721</th>\n",
       "      <td>R07719</td>\n",
       "      <td>M</td>\n",
       "      <td>2</td>\n",
       "      <td>Working Professional</td>\n",
       "      <td>2</td>\n",
       "      <td>2</td>\n",
       "      <td>Newcomer</td>\n",
       "      <td>Small (250 ml)</td>\n",
       "      <td>2</td>\n",
       "      <td>Price</td>\n",
       "      <td>Exotic</td>\n",
       "      <td>Retail Store</td>\n",
       "      <td>Simple</td>\n",
       "      <td>Medium (Moderately health-conscious)</td>\n",
       "      <td>Casual (eg. At home)</td>\n",
       "      <td>100-150</td>\n",
       "      <td>36-45</td>\n",
       "      <td>0.50</td>\n",
       "      <td>4</td>\n",
       "      <td>1</td>\n",
       "    </tr>\n",
       "    <tr>\n",
       "      <th>11929</th>\n",
       "      <td>R11924</td>\n",
       "      <td>M</td>\n",
       "      <td>2</td>\n",
       "      <td>Working Professional</td>\n",
       "      <td>1</td>\n",
       "      <td>2</td>\n",
       "      <td>Established</td>\n",
       "      <td>Medium (500 ml)</td>\n",
       "      <td>1</td>\n",
       "      <td>Price</td>\n",
       "      <td>Exotic</td>\n",
       "      <td>Retail Store</td>\n",
       "      <td>Premium</td>\n",
       "      <td>Medium (Moderately health-conscious)</td>\n",
       "      <td>Social (eg. Parties)</td>\n",
       "      <td>100-150</td>\n",
       "      <td>36-45</td>\n",
       "      <td>0.67</td>\n",
       "      <td>2</td>\n",
       "      <td>0</td>\n",
       "    </tr>\n",
       "    <tr>\n",
       "      <th>25940</th>\n",
       "      <td>R25931</td>\n",
       "      <td>M</td>\n",
       "      <td>3</td>\n",
       "      <td>Working Professional</td>\n",
       "      <td>3</td>\n",
       "      <td>2</td>\n",
       "      <td>Established</td>\n",
       "      <td>Large (1 L)</td>\n",
       "      <td>3</td>\n",
       "      <td>Quality</td>\n",
       "      <td>Traditional</td>\n",
       "      <td>Online</td>\n",
       "      <td>Premium</td>\n",
       "      <td>Low (Not very concerned)</td>\n",
       "      <td>Casual (eg. At home)</td>\n",
       "      <td>150-200</td>\n",
       "      <td>18-25</td>\n",
       "      <td>0.40</td>\n",
       "      <td>9</td>\n",
       "      <td>0</td>\n",
       "    </tr>\n",
       "    <tr>\n",
       "      <th>9858</th>\n",
       "      <td>R09854</td>\n",
       "      <td>F</td>\n",
       "      <td>3</td>\n",
       "      <td>Working Professional</td>\n",
       "      <td>4</td>\n",
       "      <td>1</td>\n",
       "      <td>Established</td>\n",
       "      <td>Medium (500 ml)</td>\n",
       "      <td>3</td>\n",
       "      <td>Brand Reputation</td>\n",
       "      <td>Exotic</td>\n",
       "      <td>Online</td>\n",
       "      <td>Eco-Friendly</td>\n",
       "      <td>High (Very health-conscious)</td>\n",
       "      <td>Casual (eg. At home)</td>\n",
       "      <td>200-250</td>\n",
       "      <td>46-55</td>\n",
       "      <td>0.25</td>\n",
       "      <td>12</td>\n",
       "      <td>0</td>\n",
       "    </tr>\n",
       "    <tr>\n",
       "      <th>27317</th>\n",
       "      <td>R27308</td>\n",
       "      <td>F</td>\n",
       "      <td>4</td>\n",
       "      <td>Working Professional</td>\n",
       "      <td>3</td>\n",
       "      <td>3</td>\n",
       "      <td>Newcomer</td>\n",
       "      <td>Medium (500 ml)</td>\n",
       "      <td>1</td>\n",
       "      <td>Brand Reputation</td>\n",
       "      <td>Exotic</td>\n",
       "      <td>Retail Store</td>\n",
       "      <td>Simple</td>\n",
       "      <td>Medium (Moderately health-conscious)</td>\n",
       "      <td>Social (eg. Parties)</td>\n",
       "      <td>200-250</td>\n",
       "      <td>46-55</td>\n",
       "      <td>0.75</td>\n",
       "      <td>12</td>\n",
       "      <td>0</td>\n",
       "    </tr>\n",
       "    <tr>\n",
       "      <th>8350</th>\n",
       "      <td>R08347</td>\n",
       "      <td>M</td>\n",
       "      <td>4</td>\n",
       "      <td>Working Professional</td>\n",
       "      <td>3</td>\n",
       "      <td>2</td>\n",
       "      <td>Newcomer</td>\n",
       "      <td>Large (1 L)</td>\n",
       "      <td>2</td>\n",
       "      <td>Quality</td>\n",
       "      <td>Exotic</td>\n",
       "      <td>Online</td>\n",
       "      <td>Simple</td>\n",
       "      <td>High (Very health-conscious)</td>\n",
       "      <td>Casual (eg. At home)</td>\n",
       "      <td>150-200</td>\n",
       "      <td>18-25</td>\n",
       "      <td>0.50</td>\n",
       "      <td>12</td>\n",
       "      <td>1</td>\n",
       "    </tr>\n",
       "    <tr>\n",
       "      <th>1579</th>\n",
       "      <td>R01580</td>\n",
       "      <td>M</td>\n",
       "      <td>4</td>\n",
       "      <td>Working Professional</td>\n",
       "      <td>1</td>\n",
       "      <td>3</td>\n",
       "      <td>Newcomer</td>\n",
       "      <td>Large (1 L)</td>\n",
       "      <td>2</td>\n",
       "      <td>Availability</td>\n",
       "      <td>Exotic</td>\n",
       "      <td>Retail Store</td>\n",
       "      <td>Simple</td>\n",
       "      <td>Medium (Moderately health-conscious)</td>\n",
       "      <td>Active (eg. Sports, gym)</td>\n",
       "      <td>150-200</td>\n",
       "      <td>46-55</td>\n",
       "      <td>0.60</td>\n",
       "      <td>4</td>\n",
       "      <td>0</td>\n",
       "    </tr>\n",
       "    <tr>\n",
       "      <th>22236</th>\n",
       "      <td>R22230</td>\n",
       "      <td>F</td>\n",
       "      <td>4</td>\n",
       "      <td>Student</td>\n",
       "      <td>0</td>\n",
       "      <td>3</td>\n",
       "      <td>Established</td>\n",
       "      <td>Large (1 L)</td>\n",
       "      <td>1</td>\n",
       "      <td>Availability</td>\n",
       "      <td>Traditional</td>\n",
       "      <td>Online</td>\n",
       "      <td>Premium</td>\n",
       "      <td>Low (Not very concerned)</td>\n",
       "      <td>Social (eg. Parties)</td>\n",
       "      <td>100-150</td>\n",
       "      <td>18-25</td>\n",
       "      <td>0.75</td>\n",
       "      <td>0</td>\n",
       "      <td>0</td>\n",
       "    </tr>\n",
       "    <tr>\n",
       "      <th>743</th>\n",
       "      <td>R00744</td>\n",
       "      <td>M</td>\n",
       "      <td>4</td>\n",
       "      <td>Working Professional</td>\n",
       "      <td>3</td>\n",
       "      <td>3</td>\n",
       "      <td>Established</td>\n",
       "      <td>Medium (500 ml)</td>\n",
       "      <td>1</td>\n",
       "      <td>Quality</td>\n",
       "      <td>Exotic</td>\n",
       "      <td>Retail Store</td>\n",
       "      <td>Simple</td>\n",
       "      <td>Medium (Moderately health-conscious)</td>\n",
       "      <td>Casual (eg. At home)</td>\n",
       "      <td>150-200</td>\n",
       "      <td>26-35</td>\n",
       "      <td>0.75</td>\n",
       "      <td>12</td>\n",
       "      <td>0</td>\n",
       "    </tr>\n",
       "    <tr>\n",
       "      <th>23449</th>\n",
       "      <td>R23441</td>\n",
       "      <td>M</td>\n",
       "      <td>3</td>\n",
       "      <td>Working Professional</td>\n",
       "      <td>2</td>\n",
       "      <td>1</td>\n",
       "      <td>Established</td>\n",
       "      <td>Medium (500 ml)</td>\n",
       "      <td>3</td>\n",
       "      <td>Availability</td>\n",
       "      <td>Exotic</td>\n",
       "      <td>Retail Store</td>\n",
       "      <td>Premium</td>\n",
       "      <td>Low (Not very concerned)</td>\n",
       "      <td>Casual (eg. At home)</td>\n",
       "      <td>100-150</td>\n",
       "      <td>18-25</td>\n",
       "      <td>0.25</td>\n",
       "      <td>6</td>\n",
       "      <td>0</td>\n",
       "    </tr>\n",
       "    <tr>\n",
       "      <th>29183</th>\n",
       "      <td>R29174</td>\n",
       "      <td>F</td>\n",
       "      <td>3</td>\n",
       "      <td>Working Professional</td>\n",
       "      <td>3</td>\n",
       "      <td>1</td>\n",
       "      <td>Newcomer</td>\n",
       "      <td>Small (250 ml)</td>\n",
       "      <td>2</td>\n",
       "      <td>Availability</td>\n",
       "      <td>Exotic</td>\n",
       "      <td>Online</td>\n",
       "      <td>Simple</td>\n",
       "      <td>High (Very health-conscious)</td>\n",
       "      <td>Social (eg. Parties)</td>\n",
       "      <td>150-200</td>\n",
       "      <td>26-35</td>\n",
       "      <td>0.33</td>\n",
       "      <td>9</td>\n",
       "      <td>0</td>\n",
       "    </tr>\n",
       "    <tr>\n",
       "      <th>9405</th>\n",
       "      <td>R09401</td>\n",
       "      <td>F</td>\n",
       "      <td>3</td>\n",
       "      <td>Student</td>\n",
       "      <td>0</td>\n",
       "      <td>3</td>\n",
       "      <td>Established</td>\n",
       "      <td>Small (250 ml)</td>\n",
       "      <td>2</td>\n",
       "      <td>Price</td>\n",
       "      <td>Traditional</td>\n",
       "      <td>Online</td>\n",
       "      <td>Simple</td>\n",
       "      <td>Low (Not very concerned)</td>\n",
       "      <td>Active (eg. Sports, gym)</td>\n",
       "      <td>100-150</td>\n",
       "      <td>26-35</td>\n",
       "      <td>0.60</td>\n",
       "      <td>0</td>\n",
       "      <td>0</td>\n",
       "    </tr>\n",
       "    <tr>\n",
       "      <th>20189</th>\n",
       "      <td>R20183</td>\n",
       "      <td>M</td>\n",
       "      <td>2</td>\n",
       "      <td>Entrepreneur</td>\n",
       "      <td>4</td>\n",
       "      <td>1</td>\n",
       "      <td>Established</td>\n",
       "      <td>Small (250 ml)</td>\n",
       "      <td>1</td>\n",
       "      <td>Brand Reputation</td>\n",
       "      <td>Exotic</td>\n",
       "      <td>Online</td>\n",
       "      <td>Simple</td>\n",
       "      <td>High (Very health-conscious)</td>\n",
       "      <td>Active (eg. Sports, gym)</td>\n",
       "      <td>150-200</td>\n",
       "      <td>36-45</td>\n",
       "      <td>0.50</td>\n",
       "      <td>8</td>\n",
       "      <td>0</td>\n",
       "    </tr>\n",
       "    <tr>\n",
       "      <th>12870</th>\n",
       "      <td>R12865</td>\n",
       "      <td>M</td>\n",
       "      <td>4</td>\n",
       "      <td>Student</td>\n",
       "      <td>0</td>\n",
       "      <td>3</td>\n",
       "      <td>Established</td>\n",
       "      <td>Large (1 L)</td>\n",
       "      <td>1</td>\n",
       "      <td>Availability</td>\n",
       "      <td>Exotic</td>\n",
       "      <td>Retail Store</td>\n",
       "      <td>Simple</td>\n",
       "      <td>Medium (Moderately health-conscious)</td>\n",
       "      <td>Casual (eg. At home)</td>\n",
       "      <td>100-150</td>\n",
       "      <td>18-25</td>\n",
       "      <td>0.75</td>\n",
       "      <td>0</td>\n",
       "      <td>0</td>\n",
       "    </tr>\n",
       "    <tr>\n",
       "      <th>1155</th>\n",
       "      <td>R01156</td>\n",
       "      <td>M</td>\n",
       "      <td>3</td>\n",
       "      <td>Student</td>\n",
       "      <td>0</td>\n",
       "      <td>3</td>\n",
       "      <td>Established</td>\n",
       "      <td>Small (250 ml)</td>\n",
       "      <td>3</td>\n",
       "      <td>Price</td>\n",
       "      <td>Traditional</td>\n",
       "      <td>Online</td>\n",
       "      <td>Simple</td>\n",
       "      <td>High (Very health-conscious)</td>\n",
       "      <td>Casual (eg. At home)</td>\n",
       "      <td>150-200</td>\n",
       "      <td>26-35</td>\n",
       "      <td>0.50</td>\n",
       "      <td>0</td>\n",
       "      <td>0</td>\n",
       "    </tr>\n",
       "  </tbody>\n",
       "</table>\n",
       "</div>"
      ],
      "text/plain": [
       "      respondent_id gender  zone            occupation  income_levels  \\\n",
       "8986         R08982      M     4          Entrepreneur              5   \n",
       "12931        R12926      F     3               Student              0   \n",
       "24372        R24364      M     3               Student              0   \n",
       "14516        R14511      M     4  Working Professional              3   \n",
       "1758         R01759      F     3               Retired              2   \n",
       "21252        R21246      M     3          Entrepreneur              2   \n",
       "10363        R10359      M     4               Student              0   \n",
       "4036         R04035      M     3               Student              0   \n",
       "24621        R24613      F     2               Retired              1   \n",
       "18391        R18386      M     2               Student              0   \n",
       "7721         R07719      M     2  Working Professional              2   \n",
       "11929        R11924      M     2  Working Professional              1   \n",
       "25940        R25931      M     3  Working Professional              3   \n",
       "9858         R09854      F     3  Working Professional              4   \n",
       "27317        R27308      F     4  Working Professional              3   \n",
       "8350         R08347      M     4  Working Professional              3   \n",
       "1579         R01580      M     4  Working Professional              1   \n",
       "22236        R22230      F     4               Student              0   \n",
       "743          R00744      M     4  Working Professional              3   \n",
       "23449        R23441      M     3  Working Professional              2   \n",
       "29183        R29174      F     3  Working Professional              3   \n",
       "9405         R09401      F     3               Student              0   \n",
       "20189        R20183      M     2          Entrepreneur              4   \n",
       "12870        R12865      M     4               Student              0   \n",
       "1155         R01156      M     3               Student              0   \n",
       "\n",
       "       consume_frequency(weekly) current_brand preferable_consumption_size  \\\n",
       "8986                           3   Established                 Large (1 L)   \n",
       "12931                          1   Established              Small (250 ml)   \n",
       "24372                          2      Newcomer              Small (250 ml)   \n",
       "14516                          3      Newcomer                 Large (1 L)   \n",
       "1758                           2      Newcomer             Medium (500 ml)   \n",
       "21252                          2   Established              Small (250 ml)   \n",
       "10363                          2      Newcomer                 Large (1 L)   \n",
       "4036                           3      Newcomer                 Large (1 L)   \n",
       "24621                          1      Newcomer             Medium (500 ml)   \n",
       "18391                          1   Established              Small (250 ml)   \n",
       "7721                           2      Newcomer              Small (250 ml)   \n",
       "11929                          2   Established             Medium (500 ml)   \n",
       "25940                          2   Established                 Large (1 L)   \n",
       "9858                           1   Established             Medium (500 ml)   \n",
       "27317                          3      Newcomer             Medium (500 ml)   \n",
       "8350                           2      Newcomer                 Large (1 L)   \n",
       "1579                           3      Newcomer                 Large (1 L)   \n",
       "22236                          3   Established                 Large (1 L)   \n",
       "743                            3   Established             Medium (500 ml)   \n",
       "23449                          1   Established             Medium (500 ml)   \n",
       "29183                          1      Newcomer              Small (250 ml)   \n",
       "9405                           3   Established              Small (250 ml)   \n",
       "20189                          1   Established              Small (250 ml)   \n",
       "12870                          3   Established                 Large (1 L)   \n",
       "1155                           3   Established              Small (250 ml)   \n",
       "\n",
       "       awareness_of_other_brands reasons_for_choosing_brands  \\\n",
       "8986                           3            Brand Reputation   \n",
       "12931                          1                       Price   \n",
       "24372                          1                Availability   \n",
       "14516                          1            Brand Reputation   \n",
       "1758                           1                       Price   \n",
       "21252                          2                       Price   \n",
       "10363                          1                       Price   \n",
       "4036                           2                       Price   \n",
       "24621                          1                       Price   \n",
       "18391                          2                       Price   \n",
       "7721                           2                       Price   \n",
       "11929                          1                       Price   \n",
       "25940                          3                     Quality   \n",
       "9858                           3            Brand Reputation   \n",
       "27317                          1            Brand Reputation   \n",
       "8350                           2                     Quality   \n",
       "1579                           2                Availability   \n",
       "22236                          1                Availability   \n",
       "743                            1                     Quality   \n",
       "23449                          3                Availability   \n",
       "29183                          2                Availability   \n",
       "9405                           2                       Price   \n",
       "20189                          1            Brand Reputation   \n",
       "12870                          1                Availability   \n",
       "1155                           3                       Price   \n",
       "\n",
       "      flavor_preference purchase_channel packaging_preference  \\\n",
       "8986        Traditional           Online              Premium   \n",
       "12931            Exotic           Online         Eco-Friendly   \n",
       "24372            Exotic           Online         Eco-Friendly   \n",
       "14516       Traditional           Online         Eco-Friendly   \n",
       "1758        Traditional     Retail Store               Simple   \n",
       "21252            Exotic     Retail Store         Eco-Friendly   \n",
       "10363       Traditional     Retail Store               Simple   \n",
       "4036             Exotic           Online               Simple   \n",
       "24621            Exotic           Online         Eco-Friendly   \n",
       "18391       Traditional     Retail Store               Simple   \n",
       "7721             Exotic     Retail Store               Simple   \n",
       "11929            Exotic     Retail Store              Premium   \n",
       "25940       Traditional           Online              Premium   \n",
       "9858             Exotic           Online         Eco-Friendly   \n",
       "27317            Exotic     Retail Store               Simple   \n",
       "8350             Exotic           Online               Simple   \n",
       "1579             Exotic     Retail Store               Simple   \n",
       "22236       Traditional           Online              Premium   \n",
       "743              Exotic     Retail Store               Simple   \n",
       "23449            Exotic     Retail Store              Premium   \n",
       "29183            Exotic           Online               Simple   \n",
       "9405        Traditional           Online               Simple   \n",
       "20189            Exotic           Online               Simple   \n",
       "12870            Exotic     Retail Store               Simple   \n",
       "1155        Traditional           Online               Simple   \n",
       "\n",
       "                            health_concerns typical_consumption_situations  \\\n",
       "8986               Low (Not very concerned)           Casual (eg. At home)   \n",
       "12931          High (Very health-conscious)           Social (eg. Parties)   \n",
       "24372              Low (Not very concerned)           Casual (eg. At home)   \n",
       "14516  Medium (Moderately health-conscious)           Casual (eg. At home)   \n",
       "1758   Medium (Moderately health-conscious)           Casual (eg. At home)   \n",
       "21252  Medium (Moderately health-conscious)       Active (eg. Sports, gym)   \n",
       "10363  Medium (Moderately health-conscious)       Active (eg. Sports, gym)   \n",
       "4036           High (Very health-conscious)       Active (eg. Sports, gym)   \n",
       "24621              Low (Not very concerned)       Active (eg. Sports, gym)   \n",
       "18391              Low (Not very concerned)           Casual (eg. At home)   \n",
       "7721   Medium (Moderately health-conscious)           Casual (eg. At home)   \n",
       "11929  Medium (Moderately health-conscious)           Social (eg. Parties)   \n",
       "25940              Low (Not very concerned)           Casual (eg. At home)   \n",
       "9858           High (Very health-conscious)           Casual (eg. At home)   \n",
       "27317  Medium (Moderately health-conscious)           Social (eg. Parties)   \n",
       "8350           High (Very health-conscious)           Casual (eg. At home)   \n",
       "1579   Medium (Moderately health-conscious)       Active (eg. Sports, gym)   \n",
       "22236              Low (Not very concerned)           Social (eg. Parties)   \n",
       "743    Medium (Moderately health-conscious)           Casual (eg. At home)   \n",
       "23449              Low (Not very concerned)           Casual (eg. At home)   \n",
       "29183          High (Very health-conscious)           Social (eg. Parties)   \n",
       "9405               Low (Not very concerned)       Active (eg. Sports, gym)   \n",
       "20189          High (Very health-conscious)       Active (eg. Sports, gym)   \n",
       "12870  Medium (Moderately health-conscious)           Casual (eg. At home)   \n",
       "1155           High (Very health-conscious)           Casual (eg. At home)   \n",
       "\n",
       "      price_range age_group  cf_ab_score  zas_score  bsi  \n",
       "8986      200-250     36-45         0.50         20    0  \n",
       "12931      50-100     18-25         0.50          0    0  \n",
       "24372      50-100     26-35         0.67          0    0  \n",
       "14516     150-200     26-35         0.75         12    0  \n",
       "1758      100-150     56-70         0.67          6    1  \n",
       "21252     150-200     26-35         0.50          6    0  \n",
       "10363      50-100     18-25         0.67          0    1  \n",
       "4036      150-200     18-25         0.60          0    1  \n",
       "24621     100-150     56-70         0.50          2    1  \n",
       "18391      50-100     18-25         0.33          0    0  \n",
       "7721      100-150     36-45         0.50          4    1  \n",
       "11929     100-150     36-45         0.67          2    0  \n",
       "25940     150-200     18-25         0.40          9    0  \n",
       "9858      200-250     46-55         0.25         12    0  \n",
       "27317     200-250     46-55         0.75         12    0  \n",
       "8350      150-200     18-25         0.50         12    1  \n",
       "1579      150-200     46-55         0.60          4    0  \n",
       "22236     100-150     18-25         0.75          0    0  \n",
       "743       150-200     26-35         0.75         12    0  \n",
       "23449     100-150     18-25         0.25          6    0  \n",
       "29183     150-200     26-35         0.33          9    0  \n",
       "9405      100-150     26-35         0.60          0    0  \n",
       "20189     150-200     36-45         0.50          8    0  \n",
       "12870     100-150     18-25         0.75          0    0  \n",
       "1155      150-200     26-35         0.50          0    0  "
      ]
     },
     "execution_count": 204,
     "metadata": {},
     "output_type": "execute_result"
    }
   ],
   "source": [
    "df['bsi'] = ((df['current_brand'] != 'Established') & (df['reasons_for_choosing_brands'].isin(['Price', 'Quality']))).astype(int)\n",
    "df.sample(25)"
   ]
  },
  {
   "cell_type": "code",
   "execution_count": 205,
   "id": "89764d2468797e42",
   "metadata": {
    "ExecuteTime": {
     "end_time": "2024-12-20T22:01:44.959482Z",
     "start_time": "2024-12-20T22:01:44.954822Z"
    }
   },
   "outputs": [
    {
     "data": {
      "text/plain": [
       "(dtype('O'), dtype('O'))"
      ]
     },
     "execution_count": 205,
     "metadata": {},
     "output_type": "execute_result"
    }
   ],
   "source": [
    "df['current_brand'].dtype, df['reasons_for_choosing_brands'].dtype"
   ]
  },
  {
   "cell_type": "code",
   "execution_count": 206,
   "id": "1712685b2b0c6153",
   "metadata": {
    "ExecuteTime": {
     "end_time": "2024-12-20T22:01:45.026360Z",
     "start_time": "2024-12-20T22:01:45.019416Z"
    }
   },
   "outputs": [
    {
     "data": {
      "text/plain": [
       "(0, 0)"
      ]
     },
     "execution_count": 206,
     "metadata": {},
     "output_type": "execute_result"
    }
   ],
   "source": [
    "df['current_brand'].isna().sum(), df['reasons_for_choosing_brands'].isna().sum()"
   ]
  },
  {
   "cell_type": "code",
   "execution_count": 207,
   "id": "458b17378c377101",
   "metadata": {
    "ExecuteTime": {
     "end_time": "2024-12-20T22:01:45.198282Z",
     "start_time": "2024-12-20T22:01:45.194321Z"
    }
   },
   "outputs": [
    {
     "data": {
      "text/plain": [
       "0"
      ]
     },
     "execution_count": 207,
     "metadata": {},
     "output_type": "execute_result"
    }
   ],
   "source": [
    "df['bsi'].isna().sum()"
   ]
  },
  {
   "cell_type": "markdown",
   "id": "ef0769f2b4141eaf",
   "metadata": {},
   "source": [
    "### Final Cleaning Step:\n",
    "#### Removing Logical Outliers:"
   ]
  },
  {
   "cell_type": "code",
   "execution_count": 208,
   "id": "310b6211663688f7",
   "metadata": {
    "ExecuteTime": {
     "end_time": "2024-12-20T22:01:45.278069Z",
     "start_time": "2024-12-20T22:01:45.263532Z"
    }
   },
   "outputs": [
    {
     "data": {
      "text/html": [
       "<div>\n",
       "<style scoped>\n",
       "    .dataframe tbody tr th:only-of-type {\n",
       "        vertical-align: middle;\n",
       "    }\n",
       "\n",
       "    .dataframe tbody tr th {\n",
       "        vertical-align: top;\n",
       "    }\n",
       "\n",
       "    .dataframe thead th {\n",
       "        text-align: right;\n",
       "    }\n",
       "</style>\n",
       "<table border=\"1\" class=\"dataframe\">\n",
       "  <thead>\n",
       "    <tr style=\"text-align: right;\">\n",
       "      <th></th>\n",
       "      <th>respondent_id</th>\n",
       "      <th>gender</th>\n",
       "      <th>zone</th>\n",
       "      <th>occupation</th>\n",
       "      <th>income_levels</th>\n",
       "      <th>consume_frequency(weekly)</th>\n",
       "      <th>current_brand</th>\n",
       "      <th>preferable_consumption_size</th>\n",
       "      <th>awareness_of_other_brands</th>\n",
       "      <th>reasons_for_choosing_brands</th>\n",
       "      <th>flavor_preference</th>\n",
       "      <th>purchase_channel</th>\n",
       "      <th>packaging_preference</th>\n",
       "      <th>health_concerns</th>\n",
       "      <th>typical_consumption_situations</th>\n",
       "      <th>price_range</th>\n",
       "      <th>age_group</th>\n",
       "      <th>cf_ab_score</th>\n",
       "      <th>zas_score</th>\n",
       "      <th>bsi</th>\n",
       "    </tr>\n",
       "  </thead>\n",
       "  <tbody>\n",
       "    <tr>\n",
       "      <th>0</th>\n",
       "      <td>R00001</td>\n",
       "      <td>M</td>\n",
       "      <td>3</td>\n",
       "      <td>Working Professional</td>\n",
       "      <td>1</td>\n",
       "      <td>2</td>\n",
       "      <td>Newcomer</td>\n",
       "      <td>Medium (500 ml)</td>\n",
       "      <td>1</td>\n",
       "      <td>Price</td>\n",
       "      <td>Traditional</td>\n",
       "      <td>Online</td>\n",
       "      <td>Simple</td>\n",
       "      <td>Medium (Moderately health-conscious)</td>\n",
       "      <td>Active (eg. Sports, gym)</td>\n",
       "      <td>100-150</td>\n",
       "      <td>26-35</td>\n",
       "      <td>0.67</td>\n",
       "      <td>3</td>\n",
       "      <td>1</td>\n",
       "    </tr>\n",
       "    <tr>\n",
       "      <th>1</th>\n",
       "      <td>R00002</td>\n",
       "      <td>F</td>\n",
       "      <td>4</td>\n",
       "      <td>Working Professional</td>\n",
       "      <td>5</td>\n",
       "      <td>3</td>\n",
       "      <td>Established</td>\n",
       "      <td>Medium (500 ml)</td>\n",
       "      <td>2</td>\n",
       "      <td>Quality</td>\n",
       "      <td>Exotic</td>\n",
       "      <td>Retail Store</td>\n",
       "      <td>Premium</td>\n",
       "      <td>Medium (Moderately health-conscious)</td>\n",
       "      <td>Social (eg. Parties)</td>\n",
       "      <td>200-250</td>\n",
       "      <td>46-55</td>\n",
       "      <td>0.60</td>\n",
       "      <td>20</td>\n",
       "      <td>0</td>\n",
       "    </tr>\n",
       "    <tr>\n",
       "      <th>2</th>\n",
       "      <td>R00003</td>\n",
       "      <td>F</td>\n",
       "      <td>1</td>\n",
       "      <td>Working Professional</td>\n",
       "      <td>5</td>\n",
       "      <td>2</td>\n",
       "      <td>Newcomer</td>\n",
       "      <td>Medium (500 ml)</td>\n",
       "      <td>2</td>\n",
       "      <td>Availability</td>\n",
       "      <td>Traditional</td>\n",
       "      <td>Retail Store</td>\n",
       "      <td>Premium</td>\n",
       "      <td>Medium (Moderately health-conscious)</td>\n",
       "      <td>Active (eg. Sports, gym)</td>\n",
       "      <td>200-250</td>\n",
       "      <td>36-45</td>\n",
       "      <td>0.50</td>\n",
       "      <td>5</td>\n",
       "      <td>0</td>\n",
       "    </tr>\n",
       "    <tr>\n",
       "      <th>3</th>\n",
       "      <td>R00004</td>\n",
       "      <td>F</td>\n",
       "      <td>3</td>\n",
       "      <td>Working Professional</td>\n",
       "      <td>3</td>\n",
       "      <td>3</td>\n",
       "      <td>Newcomer</td>\n",
       "      <td>Medium (500 ml)</td>\n",
       "      <td>1</td>\n",
       "      <td>Brand Reputation</td>\n",
       "      <td>Exotic</td>\n",
       "      <td>Online</td>\n",
       "      <td>Eco-Friendly</td>\n",
       "      <td>Low (Not very concerned)</td>\n",
       "      <td>Active (eg. Sports, gym)</td>\n",
       "      <td>150-200</td>\n",
       "      <td>26-35</td>\n",
       "      <td>0.75</td>\n",
       "      <td>9</td>\n",
       "      <td>0</td>\n",
       "    </tr>\n",
       "    <tr>\n",
       "      <th>4</th>\n",
       "      <td>R00005</td>\n",
       "      <td>M</td>\n",
       "      <td>4</td>\n",
       "      <td>Student</td>\n",
       "      <td>0</td>\n",
       "      <td>2</td>\n",
       "      <td>Established</td>\n",
       "      <td>Medium (500 ml)</td>\n",
       "      <td>1</td>\n",
       "      <td>Availability</td>\n",
       "      <td>Traditional</td>\n",
       "      <td>Online</td>\n",
       "      <td>Premium</td>\n",
       "      <td>Medium (Moderately health-conscious)</td>\n",
       "      <td>Active (eg. Sports, gym)</td>\n",
       "      <td>50-100</td>\n",
       "      <td>18-25</td>\n",
       "      <td>0.67</td>\n",
       "      <td>0</td>\n",
       "      <td>0</td>\n",
       "    </tr>\n",
       "  </tbody>\n",
       "</table>\n",
       "</div>"
      ],
      "text/plain": [
       "  respondent_id gender  zone            occupation  income_levels  \\\n",
       "0        R00001      M     3  Working Professional              1   \n",
       "1        R00002      F     4  Working Professional              5   \n",
       "2        R00003      F     1  Working Professional              5   \n",
       "3        R00004      F     3  Working Professional              3   \n",
       "4        R00005      M     4               Student              0   \n",
       "\n",
       "   consume_frequency(weekly) current_brand preferable_consumption_size  \\\n",
       "0                          2      Newcomer             Medium (500 ml)   \n",
       "1                          3   Established             Medium (500 ml)   \n",
       "2                          2      Newcomer             Medium (500 ml)   \n",
       "3                          3      Newcomer             Medium (500 ml)   \n",
       "4                          2   Established             Medium (500 ml)   \n",
       "\n",
       "   awareness_of_other_brands reasons_for_choosing_brands flavor_preference  \\\n",
       "0                          1                       Price       Traditional   \n",
       "1                          2                     Quality            Exotic   \n",
       "2                          2                Availability       Traditional   \n",
       "3                          1            Brand Reputation            Exotic   \n",
       "4                          1                Availability       Traditional   \n",
       "\n",
       "  purchase_channel packaging_preference                       health_concerns  \\\n",
       "0           Online               Simple  Medium (Moderately health-conscious)   \n",
       "1     Retail Store              Premium  Medium (Moderately health-conscious)   \n",
       "2     Retail Store              Premium  Medium (Moderately health-conscious)   \n",
       "3           Online         Eco-Friendly              Low (Not very concerned)   \n",
       "4           Online              Premium  Medium (Moderately health-conscious)   \n",
       "\n",
       "  typical_consumption_situations price_range age_group  cf_ab_score  \\\n",
       "0       Active (eg. Sports, gym)     100-150     26-35         0.67   \n",
       "1           Social (eg. Parties)     200-250     46-55         0.60   \n",
       "2       Active (eg. Sports, gym)     200-250     36-45         0.50   \n",
       "3       Active (eg. Sports, gym)     150-200     26-35         0.75   \n",
       "4       Active (eg. Sports, gym)      50-100     18-25         0.67   \n",
       "\n",
       "   zas_score  bsi  \n",
       "0          3    1  \n",
       "1         20    0  \n",
       "2          5    0  \n",
       "3          9    0  \n",
       "4          0    0  "
      ]
     },
     "execution_count": 208,
     "metadata": {},
     "output_type": "execute_result"
    }
   ],
   "source": [
    "df.head()"
   ]
  },
  {
   "cell_type": "code",
   "execution_count": 209,
   "id": "cade44d12fa9f4b5",
   "metadata": {
    "ExecuteTime": {
     "end_time": "2024-12-20T22:01:45.362664Z",
     "start_time": "2024-12-20T22:01:45.348809Z"
    }
   },
   "outputs": [
    {
     "data": {
      "text/plain": [
       "age_group  occupation          \n",
       "18-25      Student                 7328\n",
       "           Working Professional    2605\n",
       "           Entrepreneur             535\n",
       "26-35      Working Professional    6570\n",
       "           Entrepreneur            1826\n",
       "           Student                  697\n",
       "36-45      Working Professional    4353\n",
       "           Entrepreneur            1619\n",
       "46-55      Working Professional    2167\n",
       "           Entrepreneur             799\n",
       "56-70      Retired                 1130\n",
       "           Entrepreneur             221\n",
       "           Working Professional     106\n",
       "           Student                   35\n",
       "Name: count, dtype: int64"
      ]
     },
     "execution_count": 209,
     "metadata": {},
     "output_type": "execute_result"
    }
   ],
   "source": [
    "df.groupby('age_group')['occupation'].value_counts()"
   ]
  },
  {
   "cell_type": "code",
   "execution_count": 210,
   "id": "86f296c8a6016227",
   "metadata": {
    "ExecuteTime": {
     "end_time": "2024-12-20T22:01:45.476623Z",
     "start_time": "2024-12-20T22:01:45.453676Z"
    }
   },
   "outputs": [
    {
     "data": {
      "text/html": [
       "<div>\n",
       "<style scoped>\n",
       "    .dataframe tbody tr th:only-of-type {\n",
       "        vertical-align: middle;\n",
       "    }\n",
       "\n",
       "    .dataframe tbody tr th {\n",
       "        vertical-align: top;\n",
       "    }\n",
       "\n",
       "    .dataframe thead th {\n",
       "        text-align: right;\n",
       "    }\n",
       "</style>\n",
       "<table border=\"1\" class=\"dataframe\">\n",
       "  <thead>\n",
       "    <tr style=\"text-align: right;\">\n",
       "      <th></th>\n",
       "      <th>respondent_id</th>\n",
       "      <th>gender</th>\n",
       "      <th>zone</th>\n",
       "      <th>occupation</th>\n",
       "      <th>income_levels</th>\n",
       "      <th>consume_frequency(weekly)</th>\n",
       "      <th>current_brand</th>\n",
       "      <th>preferable_consumption_size</th>\n",
       "      <th>awareness_of_other_brands</th>\n",
       "      <th>reasons_for_choosing_brands</th>\n",
       "      <th>flavor_preference</th>\n",
       "      <th>purchase_channel</th>\n",
       "      <th>packaging_preference</th>\n",
       "      <th>health_concerns</th>\n",
       "      <th>typical_consumption_situations</th>\n",
       "      <th>price_range</th>\n",
       "      <th>age_group</th>\n",
       "      <th>cf_ab_score</th>\n",
       "      <th>zas_score</th>\n",
       "      <th>bsi</th>\n",
       "    </tr>\n",
       "  </thead>\n",
       "  <tbody>\n",
       "    <tr>\n",
       "      <th>25</th>\n",
       "      <td>R00026</td>\n",
       "      <td>F</td>\n",
       "      <td>4</td>\n",
       "      <td>Entrepreneur</td>\n",
       "      <td>4</td>\n",
       "      <td>3</td>\n",
       "      <td>Established</td>\n",
       "      <td>Large (1 L)</td>\n",
       "      <td>3</td>\n",
       "      <td>Quality</td>\n",
       "      <td>Exotic</td>\n",
       "      <td>Online</td>\n",
       "      <td>Premium</td>\n",
       "      <td>Medium (Moderately health-conscious)</td>\n",
       "      <td>Social (eg. Parties)</td>\n",
       "      <td>200-250</td>\n",
       "      <td>18-25</td>\n",
       "      <td>0.50</td>\n",
       "      <td>16</td>\n",
       "      <td>0</td>\n",
       "    </tr>\n",
       "    <tr>\n",
       "      <th>58</th>\n",
       "      <td>R00059</td>\n",
       "      <td>F</td>\n",
       "      <td>3</td>\n",
       "      <td>Entrepreneur</td>\n",
       "      <td>3</td>\n",
       "      <td>2</td>\n",
       "      <td>Established</td>\n",
       "      <td>Medium (500 ml)</td>\n",
       "      <td>1</td>\n",
       "      <td>Quality</td>\n",
       "      <td>Traditional</td>\n",
       "      <td>Online</td>\n",
       "      <td>Eco-Friendly</td>\n",
       "      <td>Low (Not very concerned)</td>\n",
       "      <td>Social (eg. Parties)</td>\n",
       "      <td>150-200</td>\n",
       "      <td>18-25</td>\n",
       "      <td>0.67</td>\n",
       "      <td>9</td>\n",
       "      <td>0</td>\n",
       "    </tr>\n",
       "    <tr>\n",
       "      <th>81</th>\n",
       "      <td>R00082</td>\n",
       "      <td>M</td>\n",
       "      <td>4</td>\n",
       "      <td>Entrepreneur</td>\n",
       "      <td>2</td>\n",
       "      <td>2</td>\n",
       "      <td>Established</td>\n",
       "      <td>Medium (500 ml)</td>\n",
       "      <td>3</td>\n",
       "      <td>Price</td>\n",
       "      <td>Traditional</td>\n",
       "      <td>Retail Store</td>\n",
       "      <td>Premium</td>\n",
       "      <td>High (Very health-conscious)</td>\n",
       "      <td>Active (eg. Sports, gym)</td>\n",
       "      <td>200-250</td>\n",
       "      <td>18-25</td>\n",
       "      <td>0.40</td>\n",
       "      <td>8</td>\n",
       "      <td>0</td>\n",
       "    </tr>\n",
       "    <tr>\n",
       "      <th>113</th>\n",
       "      <td>R00114</td>\n",
       "      <td>F</td>\n",
       "      <td>3</td>\n",
       "      <td>Entrepreneur</td>\n",
       "      <td>3</td>\n",
       "      <td>3</td>\n",
       "      <td>Established</td>\n",
       "      <td>Medium (500 ml)</td>\n",
       "      <td>3</td>\n",
       "      <td>Quality</td>\n",
       "      <td>Traditional</td>\n",
       "      <td>Retail Store</td>\n",
       "      <td>Premium</td>\n",
       "      <td>Low (Not very concerned)</td>\n",
       "      <td>Active (eg. Sports, gym)</td>\n",
       "      <td>200-250</td>\n",
       "      <td>18-25</td>\n",
       "      <td>0.50</td>\n",
       "      <td>9</td>\n",
       "      <td>0</td>\n",
       "    </tr>\n",
       "    <tr>\n",
       "      <th>159</th>\n",
       "      <td>R00160</td>\n",
       "      <td>M</td>\n",
       "      <td>1</td>\n",
       "      <td>Entrepreneur</td>\n",
       "      <td>2</td>\n",
       "      <td>1</td>\n",
       "      <td>Newcomer</td>\n",
       "      <td>Small (250 ml)</td>\n",
       "      <td>3</td>\n",
       "      <td>Price</td>\n",
       "      <td>Traditional</td>\n",
       "      <td>Online</td>\n",
       "      <td>Simple</td>\n",
       "      <td>Low (Not very concerned)</td>\n",
       "      <td>Casual (eg. At home)</td>\n",
       "      <td>100-150</td>\n",
       "      <td>18-25</td>\n",
       "      <td>0.25</td>\n",
       "      <td>2</td>\n",
       "      <td>1</td>\n",
       "    </tr>\n",
       "    <tr>\n",
       "      <th>...</th>\n",
       "      <td>...</td>\n",
       "      <td>...</td>\n",
       "      <td>...</td>\n",
       "      <td>...</td>\n",
       "      <td>...</td>\n",
       "      <td>...</td>\n",
       "      <td>...</td>\n",
       "      <td>...</td>\n",
       "      <td>...</td>\n",
       "      <td>...</td>\n",
       "      <td>...</td>\n",
       "      <td>...</td>\n",
       "      <td>...</td>\n",
       "      <td>...</td>\n",
       "      <td>...</td>\n",
       "      <td>...</td>\n",
       "      <td>...</td>\n",
       "      <td>...</td>\n",
       "      <td>...</td>\n",
       "      <td>...</td>\n",
       "    </tr>\n",
       "    <tr>\n",
       "      <th>29777</th>\n",
       "      <td>R29768</td>\n",
       "      <td>M</td>\n",
       "      <td>3</td>\n",
       "      <td>Entrepreneur</td>\n",
       "      <td>2</td>\n",
       "      <td>1</td>\n",
       "      <td>Newcomer</td>\n",
       "      <td>Medium (500 ml)</td>\n",
       "      <td>1</td>\n",
       "      <td>Price</td>\n",
       "      <td>Exotic</td>\n",
       "      <td>Online</td>\n",
       "      <td>Simple</td>\n",
       "      <td>Medium (Moderately health-conscious)</td>\n",
       "      <td>Social (eg. Parties)</td>\n",
       "      <td>100-150</td>\n",
       "      <td>18-25</td>\n",
       "      <td>0.50</td>\n",
       "      <td>6</td>\n",
       "      <td>1</td>\n",
       "    </tr>\n",
       "    <tr>\n",
       "      <th>29852</th>\n",
       "      <td>R29843</td>\n",
       "      <td>M</td>\n",
       "      <td>2</td>\n",
       "      <td>Entrepreneur</td>\n",
       "      <td>3</td>\n",
       "      <td>3</td>\n",
       "      <td>Established</td>\n",
       "      <td>Medium (500 ml)</td>\n",
       "      <td>1</td>\n",
       "      <td>Brand Reputation</td>\n",
       "      <td>Traditional</td>\n",
       "      <td>Retail Store</td>\n",
       "      <td>Eco-Friendly</td>\n",
       "      <td>Medium (Moderately health-conscious)</td>\n",
       "      <td>Active (eg. Sports, gym)</td>\n",
       "      <td>100-150</td>\n",
       "      <td>18-25</td>\n",
       "      <td>0.75</td>\n",
       "      <td>6</td>\n",
       "      <td>0</td>\n",
       "    </tr>\n",
       "    <tr>\n",
       "      <th>29894</th>\n",
       "      <td>R29885</td>\n",
       "      <td>F</td>\n",
       "      <td>3</td>\n",
       "      <td>Entrepreneur</td>\n",
       "      <td>3</td>\n",
       "      <td>3</td>\n",
       "      <td>Newcomer</td>\n",
       "      <td>Medium (500 ml)</td>\n",
       "      <td>2</td>\n",
       "      <td>Brand Reputation</td>\n",
       "      <td>Traditional</td>\n",
       "      <td>Online</td>\n",
       "      <td>Simple</td>\n",
       "      <td>Medium (Moderately health-conscious)</td>\n",
       "      <td>Casual (eg. At home)</td>\n",
       "      <td>200-250</td>\n",
       "      <td>18-25</td>\n",
       "      <td>0.60</td>\n",
       "      <td>9</td>\n",
       "      <td>0</td>\n",
       "    </tr>\n",
       "    <tr>\n",
       "      <th>29968</th>\n",
       "      <td>R29959</td>\n",
       "      <td>M</td>\n",
       "      <td>4</td>\n",
       "      <td>Entrepreneur</td>\n",
       "      <td>1</td>\n",
       "      <td>1</td>\n",
       "      <td>Established</td>\n",
       "      <td>Small (250 ml)</td>\n",
       "      <td>1</td>\n",
       "      <td>Price</td>\n",
       "      <td>Traditional</td>\n",
       "      <td>Retail Store</td>\n",
       "      <td>Simple</td>\n",
       "      <td>High (Very health-conscious)</td>\n",
       "      <td>Casual (eg. At home)</td>\n",
       "      <td>100-150</td>\n",
       "      <td>18-25</td>\n",
       "      <td>0.50</td>\n",
       "      <td>4</td>\n",
       "      <td>0</td>\n",
       "    </tr>\n",
       "    <tr>\n",
       "      <th>29994</th>\n",
       "      <td>R29985</td>\n",
       "      <td>F</td>\n",
       "      <td>3</td>\n",
       "      <td>Entrepreneur</td>\n",
       "      <td>2</td>\n",
       "      <td>2</td>\n",
       "      <td>Newcomer</td>\n",
       "      <td>Large (1 L)</td>\n",
       "      <td>2</td>\n",
       "      <td>Price</td>\n",
       "      <td>Traditional</td>\n",
       "      <td>Online</td>\n",
       "      <td>Premium</td>\n",
       "      <td>Low (Not very concerned)</td>\n",
       "      <td>Active (eg. Sports, gym)</td>\n",
       "      <td>150-200</td>\n",
       "      <td>18-25</td>\n",
       "      <td>0.50</td>\n",
       "      <td>6</td>\n",
       "      <td>1</td>\n",
       "    </tr>\n",
       "  </tbody>\n",
       "</table>\n",
       "<p>535 rows × 20 columns</p>\n",
       "</div>"
      ],
      "text/plain": [
       "      respondent_id gender  zone    occupation  income_levels  \\\n",
       "25           R00026      F     4  Entrepreneur              4   \n",
       "58           R00059      F     3  Entrepreneur              3   \n",
       "81           R00082      M     4  Entrepreneur              2   \n",
       "113          R00114      F     3  Entrepreneur              3   \n",
       "159          R00160      M     1  Entrepreneur              2   \n",
       "...             ...    ...   ...           ...            ...   \n",
       "29777        R29768      M     3  Entrepreneur              2   \n",
       "29852        R29843      M     2  Entrepreneur              3   \n",
       "29894        R29885      F     3  Entrepreneur              3   \n",
       "29968        R29959      M     4  Entrepreneur              1   \n",
       "29994        R29985      F     3  Entrepreneur              2   \n",
       "\n",
       "       consume_frequency(weekly) current_brand preferable_consumption_size  \\\n",
       "25                             3   Established                 Large (1 L)   \n",
       "58                             2   Established             Medium (500 ml)   \n",
       "81                             2   Established             Medium (500 ml)   \n",
       "113                            3   Established             Medium (500 ml)   \n",
       "159                            1      Newcomer              Small (250 ml)   \n",
       "...                          ...           ...                         ...   \n",
       "29777                          1      Newcomer             Medium (500 ml)   \n",
       "29852                          3   Established             Medium (500 ml)   \n",
       "29894                          3      Newcomer             Medium (500 ml)   \n",
       "29968                          1   Established              Small (250 ml)   \n",
       "29994                          2      Newcomer                 Large (1 L)   \n",
       "\n",
       "       awareness_of_other_brands reasons_for_choosing_brands  \\\n",
       "25                             3                     Quality   \n",
       "58                             1                     Quality   \n",
       "81                             3                       Price   \n",
       "113                            3                     Quality   \n",
       "159                            3                       Price   \n",
       "...                          ...                         ...   \n",
       "29777                          1                       Price   \n",
       "29852                          1            Brand Reputation   \n",
       "29894                          2            Brand Reputation   \n",
       "29968                          1                       Price   \n",
       "29994                          2                       Price   \n",
       "\n",
       "      flavor_preference purchase_channel packaging_preference  \\\n",
       "25               Exotic           Online              Premium   \n",
       "58          Traditional           Online         Eco-Friendly   \n",
       "81          Traditional     Retail Store              Premium   \n",
       "113         Traditional     Retail Store              Premium   \n",
       "159         Traditional           Online               Simple   \n",
       "...                 ...              ...                  ...   \n",
       "29777            Exotic           Online               Simple   \n",
       "29852       Traditional     Retail Store         Eco-Friendly   \n",
       "29894       Traditional           Online               Simple   \n",
       "29968       Traditional     Retail Store               Simple   \n",
       "29994       Traditional           Online              Premium   \n",
       "\n",
       "                            health_concerns typical_consumption_situations  \\\n",
       "25     Medium (Moderately health-conscious)           Social (eg. Parties)   \n",
       "58                 Low (Not very concerned)           Social (eg. Parties)   \n",
       "81             High (Very health-conscious)       Active (eg. Sports, gym)   \n",
       "113                Low (Not very concerned)       Active (eg. Sports, gym)   \n",
       "159                Low (Not very concerned)           Casual (eg. At home)   \n",
       "...                                     ...                            ...   \n",
       "29777  Medium (Moderately health-conscious)           Social (eg. Parties)   \n",
       "29852  Medium (Moderately health-conscious)       Active (eg. Sports, gym)   \n",
       "29894  Medium (Moderately health-conscious)           Casual (eg. At home)   \n",
       "29968          High (Very health-conscious)           Casual (eg. At home)   \n",
       "29994              Low (Not very concerned)       Active (eg. Sports, gym)   \n",
       "\n",
       "      price_range age_group  cf_ab_score  zas_score  bsi  \n",
       "25        200-250     18-25         0.50         16    0  \n",
       "58        150-200     18-25         0.67          9    0  \n",
       "81        200-250     18-25         0.40          8    0  \n",
       "113       200-250     18-25         0.50          9    0  \n",
       "159       100-150     18-25         0.25          2    1  \n",
       "...           ...       ...          ...        ...  ...  \n",
       "29777     100-150     18-25         0.50          6    1  \n",
       "29852     100-150     18-25         0.75          6    0  \n",
       "29894     200-250     18-25         0.60          9    0  \n",
       "29968     100-150     18-25         0.50          4    0  \n",
       "29994     150-200     18-25         0.50          6    1  \n",
       "\n",
       "[535 rows x 20 columns]"
      ]
     },
     "execution_count": 210,
     "metadata": {},
     "output_type": "execute_result"
    }
   ],
   "source": [
    "df[(df['age_group'] == '18-25') & (df['occupation']=='Entrepreneur')]"
   ]
  },
  {
   "cell_type": "code",
   "execution_count": 211,
   "id": "409be7b7414c1c5b",
   "metadata": {
    "ExecuteTime": {
     "end_time": "2024-12-20T22:01:45.675851Z",
     "start_time": "2024-12-20T22:01:45.647011Z"
    }
   },
   "outputs": [
    {
     "name": "stdout",
     "output_type": "stream",
     "text": [
      "(29956, 20)\n"
     ]
    },
    {
     "data": {
      "text/html": [
       "<div>\n",
       "<style scoped>\n",
       "    .dataframe tbody tr th:only-of-type {\n",
       "        vertical-align: middle;\n",
       "    }\n",
       "\n",
       "    .dataframe tbody tr th {\n",
       "        vertical-align: top;\n",
       "    }\n",
       "\n",
       "    .dataframe thead th {\n",
       "        text-align: right;\n",
       "    }\n",
       "</style>\n",
       "<table border=\"1\" class=\"dataframe\">\n",
       "  <thead>\n",
       "    <tr style=\"text-align: right;\">\n",
       "      <th></th>\n",
       "      <th>respondent_id</th>\n",
       "      <th>gender</th>\n",
       "      <th>zone</th>\n",
       "      <th>occupation</th>\n",
       "      <th>income_levels</th>\n",
       "      <th>consume_frequency(weekly)</th>\n",
       "      <th>current_brand</th>\n",
       "      <th>preferable_consumption_size</th>\n",
       "      <th>awareness_of_other_brands</th>\n",
       "      <th>reasons_for_choosing_brands</th>\n",
       "      <th>flavor_preference</th>\n",
       "      <th>purchase_channel</th>\n",
       "      <th>packaging_preference</th>\n",
       "      <th>health_concerns</th>\n",
       "      <th>typical_consumption_situations</th>\n",
       "      <th>price_range</th>\n",
       "      <th>age_group</th>\n",
       "      <th>cf_ab_score</th>\n",
       "      <th>zas_score</th>\n",
       "      <th>bsi</th>\n",
       "    </tr>\n",
       "  </thead>\n",
       "  <tbody>\n",
       "    <tr>\n",
       "      <th>0</th>\n",
       "      <td>R00001</td>\n",
       "      <td>M</td>\n",
       "      <td>3</td>\n",
       "      <td>Working Professional</td>\n",
       "      <td>1</td>\n",
       "      <td>2</td>\n",
       "      <td>Newcomer</td>\n",
       "      <td>Medium (500 ml)</td>\n",
       "      <td>1</td>\n",
       "      <td>Price</td>\n",
       "      <td>Traditional</td>\n",
       "      <td>Online</td>\n",
       "      <td>Simple</td>\n",
       "      <td>Medium (Moderately health-conscious)</td>\n",
       "      <td>Active (eg. Sports, gym)</td>\n",
       "      <td>100-150</td>\n",
       "      <td>26-35</td>\n",
       "      <td>0.67</td>\n",
       "      <td>3</td>\n",
       "      <td>1</td>\n",
       "    </tr>\n",
       "    <tr>\n",
       "      <th>1</th>\n",
       "      <td>R00002</td>\n",
       "      <td>F</td>\n",
       "      <td>4</td>\n",
       "      <td>Working Professional</td>\n",
       "      <td>5</td>\n",
       "      <td>3</td>\n",
       "      <td>Established</td>\n",
       "      <td>Medium (500 ml)</td>\n",
       "      <td>2</td>\n",
       "      <td>Quality</td>\n",
       "      <td>Exotic</td>\n",
       "      <td>Retail Store</td>\n",
       "      <td>Premium</td>\n",
       "      <td>Medium (Moderately health-conscious)</td>\n",
       "      <td>Social (eg. Parties)</td>\n",
       "      <td>200-250</td>\n",
       "      <td>46-55</td>\n",
       "      <td>0.60</td>\n",
       "      <td>20</td>\n",
       "      <td>0</td>\n",
       "    </tr>\n",
       "    <tr>\n",
       "      <th>2</th>\n",
       "      <td>R00003</td>\n",
       "      <td>F</td>\n",
       "      <td>1</td>\n",
       "      <td>Working Professional</td>\n",
       "      <td>5</td>\n",
       "      <td>2</td>\n",
       "      <td>Newcomer</td>\n",
       "      <td>Medium (500 ml)</td>\n",
       "      <td>2</td>\n",
       "      <td>Availability</td>\n",
       "      <td>Traditional</td>\n",
       "      <td>Retail Store</td>\n",
       "      <td>Premium</td>\n",
       "      <td>Medium (Moderately health-conscious)</td>\n",
       "      <td>Active (eg. Sports, gym)</td>\n",
       "      <td>200-250</td>\n",
       "      <td>36-45</td>\n",
       "      <td>0.50</td>\n",
       "      <td>5</td>\n",
       "      <td>0</td>\n",
       "    </tr>\n",
       "    <tr>\n",
       "      <th>3</th>\n",
       "      <td>R00004</td>\n",
       "      <td>F</td>\n",
       "      <td>3</td>\n",
       "      <td>Working Professional</td>\n",
       "      <td>3</td>\n",
       "      <td>3</td>\n",
       "      <td>Newcomer</td>\n",
       "      <td>Medium (500 ml)</td>\n",
       "      <td>1</td>\n",
       "      <td>Brand Reputation</td>\n",
       "      <td>Exotic</td>\n",
       "      <td>Online</td>\n",
       "      <td>Eco-Friendly</td>\n",
       "      <td>Low (Not very concerned)</td>\n",
       "      <td>Active (eg. Sports, gym)</td>\n",
       "      <td>150-200</td>\n",
       "      <td>26-35</td>\n",
       "      <td>0.75</td>\n",
       "      <td>9</td>\n",
       "      <td>0</td>\n",
       "    </tr>\n",
       "    <tr>\n",
       "      <th>4</th>\n",
       "      <td>R00005</td>\n",
       "      <td>M</td>\n",
       "      <td>4</td>\n",
       "      <td>Student</td>\n",
       "      <td>0</td>\n",
       "      <td>2</td>\n",
       "      <td>Established</td>\n",
       "      <td>Medium (500 ml)</td>\n",
       "      <td>1</td>\n",
       "      <td>Availability</td>\n",
       "      <td>Traditional</td>\n",
       "      <td>Online</td>\n",
       "      <td>Premium</td>\n",
       "      <td>Medium (Moderately health-conscious)</td>\n",
       "      <td>Active (eg. Sports, gym)</td>\n",
       "      <td>50-100</td>\n",
       "      <td>18-25</td>\n",
       "      <td>0.67</td>\n",
       "      <td>0</td>\n",
       "      <td>0</td>\n",
       "    </tr>\n",
       "  </tbody>\n",
       "</table>\n",
       "</div>"
      ],
      "text/plain": [
       "  respondent_id gender  zone            occupation  income_levels  \\\n",
       "0        R00001      M     3  Working Professional              1   \n",
       "1        R00002      F     4  Working Professional              5   \n",
       "2        R00003      F     1  Working Professional              5   \n",
       "3        R00004      F     3  Working Professional              3   \n",
       "4        R00005      M     4               Student              0   \n",
       "\n",
       "   consume_frequency(weekly) current_brand preferable_consumption_size  \\\n",
       "0                          2      Newcomer             Medium (500 ml)   \n",
       "1                          3   Established             Medium (500 ml)   \n",
       "2                          2      Newcomer             Medium (500 ml)   \n",
       "3                          3      Newcomer             Medium (500 ml)   \n",
       "4                          2   Established             Medium (500 ml)   \n",
       "\n",
       "   awareness_of_other_brands reasons_for_choosing_brands flavor_preference  \\\n",
       "0                          1                       Price       Traditional   \n",
       "1                          2                     Quality            Exotic   \n",
       "2                          2                Availability       Traditional   \n",
       "3                          1            Brand Reputation            Exotic   \n",
       "4                          1                Availability       Traditional   \n",
       "\n",
       "  purchase_channel packaging_preference                       health_concerns  \\\n",
       "0           Online               Simple  Medium (Moderately health-conscious)   \n",
       "1     Retail Store              Premium  Medium (Moderately health-conscious)   \n",
       "2     Retail Store              Premium  Medium (Moderately health-conscious)   \n",
       "3           Online         Eco-Friendly              Low (Not very concerned)   \n",
       "4           Online              Premium  Medium (Moderately health-conscious)   \n",
       "\n",
       "  typical_consumption_situations price_range age_group  cf_ab_score  \\\n",
       "0       Active (eg. Sports, gym)     100-150     26-35         0.67   \n",
       "1           Social (eg. Parties)     200-250     46-55         0.60   \n",
       "2       Active (eg. Sports, gym)     200-250     36-45         0.50   \n",
       "3       Active (eg. Sports, gym)     150-200     26-35         0.75   \n",
       "4       Active (eg. Sports, gym)      50-100     18-25         0.67   \n",
       "\n",
       "   zas_score  bsi  \n",
       "0          3    1  \n",
       "1         20    0  \n",
       "2          5    0  \n",
       "3          9    0  \n",
       "4          0    0  "
      ]
     },
     "execution_count": 211,
     "metadata": {},
     "output_type": "execute_result"
    }
   ],
   "source": [
    "df = df[~((df['age_group'] == '56-70') & (df['occupation']=='Student'))]\n",
    "print(df.shape)\n",
    "df.head()"
   ]
  },
  {
   "cell_type": "code",
   "execution_count": 212,
   "id": "32b7b08418c5bc16",
   "metadata": {
    "ExecuteTime": {
     "end_time": "2024-12-20T22:01:45.807203Z",
     "start_time": "2024-12-20T22:01:45.794960Z"
    }
   },
   "outputs": [
    {
     "data": {
      "text/plain": [
       "age_group  occupation          \n",
       "18-25      Student                 7328\n",
       "           Working Professional    2605\n",
       "           Entrepreneur             535\n",
       "26-35      Working Professional    6570\n",
       "           Entrepreneur            1826\n",
       "           Student                  697\n",
       "36-45      Working Professional    4353\n",
       "           Entrepreneur            1619\n",
       "46-55      Working Professional    2167\n",
       "           Entrepreneur             799\n",
       "56-70      Retired                 1130\n",
       "           Entrepreneur             221\n",
       "           Working Professional     106\n",
       "Name: count, dtype: int64"
      ]
     },
     "execution_count": 212,
     "metadata": {},
     "output_type": "execute_result"
    }
   ],
   "source": [
    "df.groupby('age_group')['occupation'].value_counts()"
   ]
  },
  {
   "cell_type": "code",
   "execution_count": 213,
   "id": "b9d5c9ba451bbe0e",
   "metadata": {
    "ExecuteTime": {
     "end_time": "2024-12-20T22:01:45.950709Z",
     "start_time": "2024-12-20T22:01:45.946930Z"
    }
   },
   "outputs": [
    {
     "data": {
      "text/plain": [
       "(29956, 20)"
      ]
     },
     "execution_count": 213,
     "metadata": {},
     "output_type": "execute_result"
    }
   ],
   "source": [
    "df.shape"
   ]
  },
  {
   "cell_type": "code",
   "execution_count": 214,
   "id": "93613d802690544b",
   "metadata": {
    "ExecuteTime": {
     "end_time": "2024-12-20T22:01:46.090430Z",
     "start_time": "2024-12-20T22:01:46.084713Z"
    }
   },
   "outputs": [
    {
     "data": {
      "text/plain": [
       "bsi\n",
       "0    20796\n",
       "1     9160\n",
       "Name: count, dtype: int64"
      ]
     },
     "execution_count": 214,
     "metadata": {},
     "output_type": "execute_result"
    }
   ],
   "source": [
    "df['bsi'].value_counts()"
   ]
  },
  {
   "cell_type": "markdown",
   "id": "1122a7192accd38f",
   "metadata": {
    "ExecuteTime": {
     "end_time": "2024-12-20T22:01:46.265225Z",
     "start_time": "2024-12-20T22:01:46.262545Z"
    }
   },
   "source": [
    "<h1 align='center' style='color:#daa520'>Modeling Instructions</h1>"
   ]
  },
  {
   "cell_type": "markdown",
   "id": "0b4fc029",
   "metadata": {},
   "source": [
    "### 1. Prepare Features and Target Variables:"
   ]
  },
  {
   "cell_type": "code",
   "execution_count": 215,
   "id": "7deb641b",
   "metadata": {},
   "outputs": [
    {
     "name": "stdout",
     "output_type": "stream",
     "text": [
      "Shape of Feature Matrix (X): (29956, 18)\n",
      "Shape of Target Variable (y): (29956,)\n"
     ]
    }
   ],
   "source": [
    "# Prepare Feature Matrix (X) and Target Variable (y)\\n\n",
    "X = df.drop(['respondent_id', 'price_range'], axis=1)\n",
    "y = df['price_range']\n",
    "print(\"Shape of Feature Matrix (X):\", X.shape)\n",
    "print(\"Shape of Target Variable (y):\", y.shape)"
   ]
  },
  {
   "cell_type": "markdown",
   "id": "7449272d",
   "metadata": {},
   "source": [
    "### 2. Data Splitting:"
   ]
  },
  {
   "cell_type": "code",
   "execution_count": 216,
   "id": "1ce158aa",
   "metadata": {},
   "outputs": [
    {
     "name": "stdout",
     "output_type": "stream",
     "text": [
      "X_train shape: (22467, 18)\n",
      "X_test shape: (7489, 18)\n",
      "y_train shape: (22467,)\n",
      "y_test shape: (7489,)\n"
     ]
    }
   ],
   "source": [
    "from sklearn.model_selection import train_test_split\n",
    "# Split data into training and testing sets\n",
    "X_train, X_test, y_train, y_test = train_test_split(X, y, test_size=0.25, random_state=42)\n",
    "print(\"X_train shape:\", X_train.shape)\n",
    "print(\"X_test shape:\", X_test.shape)\n",
    "print(\"y_train shape:\", y_train.shape)\n",
    "print(\"y_test shape:\", y_test.shape)"
   ]
  },
  {
   "cell_type": "markdown",
   "id": "ab52b360",
   "metadata": {},
   "source": [
    "### 3. Feature Encoding"
   ]
  },
  {
   "cell_type": "markdown",
   "id": "fd6cbe0b",
   "metadata": {},
   "source": [
    "#### Use Label Encoding for the following Columns:\n",
    "age_groups, income_levels. health_concerns, consume_frequency(weekly), and preferable_consumption_size"
   ]
  },
  {
   "cell_type": "code",
   "execution_count": 217,
   "id": "a0455f07",
   "metadata": {},
   "outputs": [
    {
     "name": "stdout",
     "output_type": "stream",
     "text": [
      "Label Encoding completed for specified columns.\n"
     ]
    }
   ],
   "source": [
    "from sklearn.preprocessing import LabelEncoder\n",
    "# Columns for Label Encoding\n",
    "label_encode_cols = ['age_group', 'income_levels', 'health_concerns', 'consume_frequency(weekly)', 'preferable_consumption_size', 'price_range']\n",
    "# Initialize LabelEncoder\n",
    "label_encoder = LabelEncoder()\n",
    "# Apply Label Encoding to target variable\n",
    "y_train_encoded = label_encoder.fit_transform(y_train)\n",
    "y_test_encoded = label_encoder.transform(y_test)\n",
    "\n",
    "# Apply Label Encoding to specified feature columns in training set\n",
    "for col in label_encode_cols:\n",
    "    if col != 'price_range': # Avoid encoding price_range here, it's target\n",
    "        X_train[col] = label_encoder.fit_transform(X_train[col])\n",
    "        X_test[col] = label_encoder.transform(X_test[col])\n",
    "\n",
    "print(\"Label Encoding completed for specified columns.\")"
   ]
  },
  {
   "cell_type": "markdown",
   "id": "ba7c2019",
   "metadata": {},
   "source": [
    "#### Apply One-Hot-Encoding to all remaining categorical columns"
   ]
  },
  {
   "cell_type": "code",
   "execution_count": 218,
   "id": "ce8426d6",
   "metadata": {},
   "outputs": [
    {
     "name": "stdout",
     "output_type": "stream",
     "text": [
      "One-Hot Encoding completed for remaining categorical columns.\n",
      "Shape of encoded X_train: (22467, 33)\n",
      "Shape of encoded X_test: (7489, 33)\n"
     ]
    }
   ],
   "source": [
    "from sklearn.preprocessing import OneHotEncoder\n",
    "import pandas as pd\n",
    "\n",
    "# Identify categorical columns for One-Hot Encoding (excluding already Label Encoded and target)\n",
    "categorical_cols = X_train.select_dtypes(include='object').columns.tolist()\n",
    "\n",
    "# Initialize OneHotEncoder with handle_unknown='ignore'\n",
    "onehot_encoder = OneHotEncoder(sparse_output=False, handle_unknown='ignore')\n",
    "\n",
    "# Apply One-Hot Encoding to categorical columns in training set\n",
    "X_train_encoded = onehot_encoder.fit_transform(X_train[categorical_cols])\n",
    "X_test_encoded = onehot_encoder.transform(X_test[categorical_cols])\n",
    "\n",
    "# Create DataFrame from encoded features\n",
    "X_train_encoded_df = pd.DataFrame(X_train_encoded, columns=onehot_encoder.get_feature_names_out(categorical_cols), index=X_train.index)\n",
    "X_test_encoded_df = pd.DataFrame(X_test_encoded, columns=onehot_encoder.get_feature_names_out(categorical_cols), index=X_test.index)\n",
    "\n",
    "# Drop original categorical columns and concatenate encoded features\n",
    "X_train = X_train.drop(categorical_cols, axis=1)\n",
    "X_test = X_test.drop(categorical_cols, axis=1)\n",
    "\n",
    "X_train = pd.concat([X_train, X_train_encoded_df], axis=1)\n",
    "X_test = pd.concat([X_test, X_test_encoded_df], axis=1)\n",
    "\n",
    "print(\"One-Hot Encoding completed for remaining categorical columns.\")\n",
    "print(\"Shape of encoded X_train:\", X_train.shape)\n",
    "print(\"Shape of encoded X_test:\", X_test.shape)"
   ]
  },
  {
   "cell_type": "markdown",
   "id": "8f7ceb7c",
   "metadata": {},
   "source": [
    "### 4. Model Selection"
   ]
  },
  {
   "cell_type": "code",
   "execution_count": 219,
   "id": "49e175db",
   "metadata": {},
   "outputs": [
    {
     "data": {
      "text/html": [
       "<pre style=\"white-space:pre;overflow-x:auto;line-height:normal;font-family:Menlo,'DejaVu Sans Mono',consolas,'Courier New',monospace\">Initialized MLflow to track repo <span style=\"color: #008000; text-decoration-color: #008000\">\"gauravanilwankhede2002/my-first-repo\"</span>\n",
       "</pre>\n"
      ],
      "text/plain": [
       "Initialized MLflow to track repo \u001b[32m\"gauravanilwankhede2002/my-first-repo\"\u001b[0m\n"
      ]
     },
     "metadata": {},
     "output_type": "display_data"
    },
    {
     "data": {
      "text/html": [
       "<pre style=\"white-space:pre;overflow-x:auto;line-height:normal;font-family:Menlo,'DejaVu Sans Mono',consolas,'Courier New',monospace\">Repository gauravanilwankhede2002/my-first-repo initialized!\n",
       "</pre>\n"
      ],
      "text/plain": [
       "Repository gauravanilwankhede2002/my-first-repo initialized!\n"
      ]
     },
     "metadata": {},
     "output_type": "display_data"
    }
   ],
   "source": [
    "import dagshub\n",
    "dagshub.init(repo_owner='gauravanilwankhede2002', repo_name='my-first-repo', mlflow=True)"
   ]
  },
  {
   "cell_type": "code",
   "execution_count": 222,
   "id": "3a9e5c35",
   "metadata": {},
   "outputs": [
    {
     "name": "stderr",
     "output_type": "stream",
     "text": [
      "2025/01/25 14:33:57 INFO mlflow.tracking.fluent: Autologging successfully enabled for lightgbm.\n",
      "2025/01/25 14:33:57 INFO mlflow.tracking.fluent: Autologging successfully enabled for sklearn.\n",
      "2025/01/25 14:33:57 INFO mlflow.tracking.fluent: Autologging successfully enabled for statsmodels.\n",
      "2025/01/25 14:33:57 INFO mlflow.tracking.fluent: Autologging successfully enabled for xgboost.\n"
     ]
    },
    {
     "name": "stdout",
     "output_type": "stream",
     "text": [
      "\n",
      "Training and evaluating Gaussian Naive Bayes...\n"
     ]
    },
    {
     "ename": "MlflowException",
     "evalue": "API request to endpoint /api/2.0/mlflow/runs/create failed with error code 404 != 200. Response body: '<!DOCTYPE html>\n<html lang=\"en-US\">\n  <head data-suburl=\"\">\n    <meta http-equiv=\"Content-Type\" content=\"text/html; charset=UTF-8\"/>\n    <meta http-equiv=\"X-UA-Compatible\" content=\"IE=edge\"/>\n    \n    \n      <meta name=\"viewport\" content=\"width=device-width, initial-scale=1\"/>\n    \n    <meta name=\"referrer\" content=\"no-referrer\"/>\n    <meta name=\"_csrf\" content=\"8NkB_R5L33IUfK854haZSWTnmCo6MTczNzc5NTc4NjgzMTQyMDczNg\"/>\n    <meta name=\"_suburl\" content=\"\"/>\n    <meta name=\"_appversion\" content=\"7e93152b02a11856d9a165aed4f4539a540caedb\" />\n    <meta name=\"_bareRepo\" content=\"\"/>\n\n    \n    \n  <script>(function(w, d, s, l, i) {\n      w[l] = w[l] || [];\n      w[l].push({\n        'gtm.start':\n          new Date().getTime(), event: 'gtm.js'\n      });\n      var f = d.getElementsByTagName(s)[0],\n        j = d.createElement(s),\n        dl = l != 'dataLayer' ? '&l=' + l : '';\n      j.async = true;\n      j.src =\n        'https://www.googletagmanager.com/gtm.js?id=' + i + dl;\n      f.parentNode.insertBefore(j, f);\n    })(window, document, 'script', 'dataLayer', 'GTM-PGHTMDN');</script>\n\n    \n\n    \n    \n      \n    \n    \n  \n    <title>Page Not Found · DAGsHub</title>\n    <meta name=\"description\"\n          content=\"DagsHub is where people build machine learning projects. DagsHub helps AI teams build better models and manage their data effectively.\"/>\n  \n  \n  <meta property=\"og:url\" content=\"https://dagshub.com/\"/>\n  <meta property=\"og:type\" content=\"website\"/>\n  <meta property=\"og:site_name\" content=\"DagsHub\">\n  <meta property=\"og:title\" content=\"DagsHub: The Home for Machine Learning Collaboration\">\n  <meta property=\"og:description\"\n        content=\"DagsHub is where people build machine learning projects. DagsHub helps AI teams build better models and manage their data effectively.\">\n  <meta property=\"og:image\" content=\"https://dagshub.com/img/open_graph/dagshub-logo.jpg\"/>\n  <meta property=\"og:image:type\" content=\"image/png\">\n  <meta property=\"og:image:width\" content=\"1200\">\n  <meta property=\"og:image:height\" content=\"630\">\n  \n  <meta property=\"twitter:site\" content=\"@TheRealDagsHub\">\n  <meta property=\"twitter:creator\" content=\"@TheRealDagsHub\">\n  <meta property=\"twitter:card\" content=\"summary_large_image\">\n  <meta property=\"twitter:title\" content=\"DagsHub: The Home for Machine Learning Collaboration\">\n  <meta property=\"twitter:description\"\n        content=\"DagsHub is where people build machine learning projects. DagsHub helps AI teams build better models and manage their data effectively.\">\n  <meta property=\"twitter:image:src\" content=\"https://dagshub.com/img/open_graph/dagshub-logo.jpg\">\n  <meta property=\"twitter:image:width\" content=\"1200\">\n  <meta property=\"twitter:image:height\" content=\"630\">\n\n  <script type=\"application/ld+json\">\n    {\n        \"@context\": \"http://schema.org\",\n        \"@type\": \"WebSite\",\n        \"name\": \"DagsHub\",\n        \"url\": \"https://dagshub.com/\",\n        \"sameAs\": [\n            \"https://www.facebook.com/DagsHub/\",\n            \"https://twitter.com/TheRealDagsHub/\",\n            \"https://linkedin.com/company/dagshub/\"\n        ],\n        \"potentialAction\": {\n        \"@type\": \"SearchAction\",\n        \"description\": \"Search for data science projects on DagsHub.\",\n        \"target\": \"https://dagshub.com/explore/repos?q={search_term}\",\n        \"query-input\": \"required name=search_term\"\n        }\n    }\n  </script>\n\n\n    \n\n    <link rel=\"shortcut icon\" href=\"/img/favicon-black.svg\"/>\n\n    <script src=\"/js/jquery-3.6.0.min.js\"></script>\n    \n  <link rel=\"stylesheet\" href=\"https://cdnjs.cloudflare.com/ajax/libs/font-awesome/5.15.3/css/all.css\"\n        integrity=\"sha512-3icgkoIO5qm2D4bGSUkPqeQ96LS8+ukJC7Eqhl1H5B2OJMEnFqLmNDxXVmtV/eq5M65tTDkUYS/Q0P4gvZv+yA==\"\n        crossorigin=\"anonymous\"\n        referrerpolicy=\"no-referrer\" />\n\n\n    <link rel=\"stylesheet\" href=\"/assets/octicons-4.3.0/octicons.min.css\">\n\n    \n    \n\n    \n\n    \n\n    \n\n    \n\n    \n\n    \n\n    \n\n    \n    \n    <link rel=\"preload\" href=\"/css/themes/default/assets/fonts/brand-icons.woff2\" as=\"font\"\n          type=\"font/woff2\" crossorigin/>\n    <link rel=\"preload\" href=\"/css/themes/default/assets/fonts/icons.woff2\" as=\"font\" type=\"font/woff2\"\n          crossorigin/>\n    <link rel=\"preload\" href=\"/assets/fontawesome-5.15.3/webfonts/fa-solid-900.woff2\" as=\"font\"\n          type=\"font/woff2\" crossorigin/>\n\n    \n    <link rel=\"stylesheet\" href=\"/css/semantic-2.4.2.min.css\">\n\n    \n    <link rel=\"stylesheet\" href=\"/css/build/dagshub.css?v=7e93152b02a11856d9a165aed4f4539a540caedb\">\n    <link rel=\"stylesheet\" href=\"/css/gogs.css?v=7e93152b02a11856d9a165aed4f4539a540caedb\">\n\n    \n    \n    <link rel=\"preconnect\" href=\"https://fonts.googleapis.com\">\n    <link rel=\"preconnect\" href=\"https://fonts.gstatic.com\" crossorigin>\n    <link href=\"https://fonts.googleapis.com/css?family=Comfortaa|Lato:300,400,700,900|Jaldi|Open+Sans&display=swap\" rel=\"stylesheet\">\n    \n\n    <noscript>\n      <style>\n        .dropdown:hover > .menu {\n          display: block;\n        }\n\n        .ui.secondary.menu .dropdown.item > .menu {\n          margin-top: 0;\n        }\n      </style>\n    </noscript>\n    <script src=\"/js/semantic-2.4.2.min.js\"></script>\n\n    \n    \n      <link rel=\"stylesheet\" href=\"/css/build/static_dagshub.css?v=7e93152b02a11856d9a165aed4f4539a540caedb\">\n      \n      <link href=\"https://fonts.googleapis.com/css2?family=Inter:wght@300;400;500;600;700;900&display=swap\" rel=\"stylesheet\">\n      <link href='https://fonts.googleapis.com/css?family=Fira Code:wght@300;400;500;600;700;900' rel='stylesheet'>\n      \n    \n\n    <meta name=\"theme-color\" content=\"#103037\">\n\n    \n  <script src=\"https://www.google.com/recaptcha/api.js\" async defer></script>\n\n\n\n    \n  </head>\n  <body>\n\n    \n\n\n\n  <noscript>\n    <iframe src=\"https://www.googletagmanager.com/ns.html?id=GTM-PGHTMDN\"\n            height=\"0\" width=\"0\" style=\"display:none;visibility:hidden\"></iframe>\n  </noscript>\n\n\n\n\n<div class=\"ui tiny modal\" id=\"contact-modal\">\n  <i class=\"close icon\"></i>\n  <div class=\"header\">\n    Contact us\n  </div>\n  <form id=\"contact-form\" class=\"ui form content\" action=\"contact_form\" method=\"post\">\n    <input type=\"hidden\" name=\"_csrf\" value=\"8NkB_R5L33IUfK854haZSWTnmCo6MTczNzc5NTc4NjgzMTQyMDczNg\">\n    <div class=\"required field\">\n      <label for=\"user_name\">Your email address</label>\n      <input name=\"email\" type=\"email\" value=\"\"\n             placeholder=\"tony@stark-industries.com\" required>\n    </div>\n    <div class=\"required field\">\n      <label for=\"subject\">Subject</label>\n      <input name=\"subject\" value=\"Hi DagsHub, let's talk\" placeholder=\"What would you like to talk about?\" required>\n    </div>\n    <div class=\"required field\">\n      <textarea class=\"autosize\" name=\"body\" rows=\"7\" ></textarea>\n    </div>\n    \n      <script type=\"text/javascript\">\n        var myRecaptchaListeners = {\n          callAllListeners: function(listeners) {\n            return () => listeners.forEach((f) => f());\n          },\n          successListeners: [],\n          expireListeners: [],\n        };\n        contactFormCaptchaCallback = myRecaptchaListeners.callAllListeners(myRecaptchaListeners.successListeners);\n        contactFormCaptchaExpired = myRecaptchaListeners.callAllListeners(myRecaptchaListeners.expireListeners);\n      </script>\n      <div class=\"g-recaptcha field\"\n           data-sitekey=\"6Lf0Z7gUAAAAAKCsW1V-PqN58BcBNAUxe-oIU3nw\"\n           data-callback=\"contactFormCaptchaCallback\"\n           data-expired-callback=\"contactFormCaptchaExpired\"></div>\n    \n    <input type=\"hidden\" name=\"page\"/>\n    <input type=\"hidden\" name=\"referring_page\"/>\n    <input type=\"hidden\" name=\"referrer\"/>\n    <button class=\"ui positive center aligned labeled icon button\" id=\"send-contact-request-btn\">\n      Send\n      <i class=\"checkmark icon\"></i>\n    </button>\n    \n      <script type=\"text/javascript\">\n        (function() {\n          const submitBtn = document.getElementById('send-contact-request-btn');\n          onExpire = () => submitBtn.style.display = 'none';\n          onExpire();\n          myRecaptchaListeners.successListeners.push(() => {\n            submitBtn.style.display = 'block';\n          });\n          myRecaptchaListeners.expireListeners.push(onExpire);\n        })();\n      </script>\n    \n    <div class=\"ui hidden dimmer inverted\">\n      <div class=\"ui loader\"></div>\n      <div class=\"ui hidden positive message\">\n        <p>Thank you! We'll be in touch ASAP.</p>\n      </div>\n      <div class=\"ui hidden negative message\">\n        <p>Something went wrong, please try again or contact us directly at <a\n                  href=\"mailto:contact@dagshub.com\">contact@dagshub.com</a></p>\n      </div>\n    </div>\n  </form>\n  <script>\n    (function() {\n      const $contactModal = $('#contact-modal');\n      const $contactForm = $('#contact-form');\n      const $dimmer = $contactForm.find('.dimmer');\n      const $loader = $dimmer.find('.loader');\n      const $okMsg = $dimmer.find('.positive');\n      const $errorMsg = $dimmer.find('.negative');\n\n      $contactForm.find('input[name=page]').val(document.URL);\n      $contactForm.find('input[name=referring_page]').val(new URL(document.URL).searchParams.get('referring_page'));\n      $contactForm.find('input[name=referrer]').val(document.referrer);\n\n      \n      $contactModal.modal({\n        onShow: () => {\n          $dimmer.dimmer('hide');\n          $loader.transition('fade in', 0);\n          $okMsg.transition('fade out', 0);\n          $errorMsg.transition('fade out', 0);\n        }\n      });\n\n      $contactForm.submit((e) => {\n        e.preventDefault();\n\n        $dimmer.dimmer('show');\n\n        function hideModal() {\n          setTimeout(() => {\n            $contactModal.modal('hide');\n          }, 3000);\n        }\n\n        \n        const loaderToMessage = function(targetMsg = $okMsg, afterMsg = hideModal) {\n          $loader.transition('fade out');\n          targetMsg.transition('fade in');\n          if (afterMsg) afterMsg();\n        };\n\n        $.ajax({\n          url: $contactForm.attr('action'),\n          method: 'post',\n          data: $contactForm.serialize(),\n          success: () => loaderToMessage(),\n          error: e => {\n            console.error(e);\n            \n            loaderToMessage($errorMsg, null);\n          }\n        });\n        \n        \n        \n        \n      });\n    })();\n  </script>\n  <div class=\"ui secondary segment\">\n    Or if you want, you can join our community at <a href=\"https://discord.com/invite/9gU36Y6\"\n                                                     class=\"ui basic discord icon\"><i class=\"discord grey icon big\"></i></a>\n  </div>\n</div>\n\n\n\n    \n      \n\n<div class=\"mobile dagshub-navbar\">\n    <div class=\"line-divider\"></div>\n\n\n\n\n  \n    \n      <div class=\"primary center button\" style=\"margin-bottom: 10px;\">\n        <a  id=\"sign-up-navbar-mobile\" data-analytics-event=\"Navbar_Register_Clicked\"\n            href=\"/user/sign_up?redirect_to=%2fgauravanilwankhede2002%2fmy-first-repo%2fapi%2f2.0%2fmlflow%2fruns%2fcreate\n\n\">\n          Register\n        </a>\n      </div>\n    \n      <div class=\"secondary center button\">\n        <a id=\"sign-in-navbar-mobile\" data-analytics-event=\"Navbar_Login_Clicked\"\n           href=\"/user/login?redirect_to=%2fgauravanilwankhede2002%2fmy-first-repo%2fapi%2f2.0%2fmlflow%2fruns%2fcreate\n\n\">\n          Login\n        </a>\n      </div>\n  \n  <div class=\"line-divider\"></div>\n  \n  \n    <div class=\"subtitle\">Resources</div>\n    <a class=\"navbar-item\"\n       href=\"/docs\" onclick=\"trackAnalyticsEvent('Resources_Docs_Clicked')\">Docs</a>\n    <a class=\"navbar-item\" href=\"/blog\" onclick=\"trackAnalyticsEvent('Resources_Blog_Clicked')\">Blog</a>\n    <a class=\"navbar-item\" data-analytics-event=\"Resources_Datasets_Clicked\" href=\"/datasets\">Datasets</a>\n    <a class=\"navbar-item\" data-analytics-event=\"Resources_Glossary_Clicked\" href=\"/glossary\">Glossary</a>\n    <a class=\"navbar-item\" href=\"/blog/tag/case-study\" onclick=\"trackAnalyticsEvent('Resources_Case_Studies_Clicked')\">Case Studies</a>\n    <a class=\"navbar-item\" href=\"/blog/tag/tutorials\" onclick=\"trackAnalyticsEvent('Resources_Tutorials_Clicked')\">Tutorials &amp; Webinars</a>\n    \n      <div class=\"line-divider\"></div>\n      <div class=\"subtitle\">Product</div>\n      <a class=\"navbar-item\" tabindex=\"0\" href=\"/data-engine\">Data Engine</a>\n      <a class=\"navbar-item\" tabindex=\"0\" href=\"/use-cases/llm\">LLMs</a>\n      <a class=\"navbar-item\" tabindex=\"0\" href=\"/product\">Platform</a>\n      <a class=\"navbar-item\" tabindex=\"0\" href=\"/enterprise\">Enterprise</a>\n    \n    <div class=\"line-divider\"></div>\n    <a class=\"navbar-item\" href=\"/pricing\">Pricing</a>\n  \n  <a class=\"navbar-item\" href=\"/explore/repos\">Explore</a>\n  <div class=\"line-divider\"></div>\n  <a class=\"navbar-item\" href=\"https://discord.com/invite/9gU36Y6\" onclick=\"trackAnalyticsEvent('DiscordIcon_Clicked')\">\n    <img src=\"/assets/social_icons/discord.svg\" aria-label=\"Connect to our Discord channel\">\n    <span>Connect to our Discord channel</span>\n  </a>\n    \n</div>\n<div class=\"pusher\">\n<div class=\"ui full height\">\n  <noscript>This website works better with JavaScript</noscript>\n  \n    <div class=\" navbar-container\">\n      <div id=\"menu-container\" class=\"dagshub-navbar \">\n        <div class=\"left-menu\">\n          <div class=\"fixed-content\">\n            <a href=\"https://dagshub.com/\" tabindex=\"0\">\n              \n              <img width=\"34\" height=\"30\" alt=\"DagsHub navbar logo\" aria-label=\"DagsHub Home\" class=\"navbar-logo\"\n                   src=\"/img/favicon.svg\">\n              \n            </a>\n            <form class=\"search-bar-container\" action=\"/explore/repos\">\n                <input class=\"search-bar\" name=\"q\" value=\"\" aria-label=\"Search public projects\"\n                       placeholder=\"Search public repositories...\" tabindex=\"0\" autocomplete=\"off\">\n            </form>\n          </div>\n          \n          \n            <div class=\"dropdown navbar-item\" tabindex=\"0\">\n              Resources &nbsp; <img class=\"flip\" src=\"/assets/chevron-icon.svg\">\n                <div class=\"submenu\">\n                  <a href=\"/docs\" tabindex=\"0\" onclick=\"trackAnalyticsEvent('Resources_Docs_Clicked')\">Docs</a>\n                  <a href=\"/blog\" tabindex=\"0\" onclick=\"trackAnalyticsEvent('Resources_Blog_Clicked')\">Blog</a>\n                  <a href=\"/datasets\" tabindex=\"0\" data-analytics-event=\"Resources_Datasets_Clicked\">Datasets</a>\n                  <a href=\"/glossary\" tabindex=\"0\" data-analytics-event=\"Resources_Glossary_Clicked\">Glossary</a>\n                  <a href=\"/blog/tag/case-study\" tabindex=\"0\" onclick=\"trackAnalyticsEvent('Resources_Case_Studies_Clicked')\">Case Studies</a>\n                  <a href=\"/blog/tag/tutorials\" tabindex=\"0\" onclick=\"trackAnalyticsEvent('Resources_Tutorials_Clicked')\">Tutorials &amp; Webinars</a>\n                </div>\n            </div>\n          \n          <a class=\"navbar-item\" tabindex=\"0\"\n             href=\"/explore/repos\" onclick=\"trackAnalyticsEvent('ExploreTab_Clicked')\">Explore</a>\n          \n            <a class=\"navbar-item\" tabindex=\"0\" href=\"/pricing\">Pricing</a>\n          \n          <div class=\"dropdown navbar-item\" tabindex=\"0\">\n            Product &nbsp; <img class=\"flip\" src=\"/assets/chevron-icon.svg\">\n            <div class=\"submenu\">\n              <a class=\"navbar-item\" tabindex=\"0\" href=\"/data-engine\">Data Engine</a>\n              <a class=\"navbar-item\" tabindex=\"0\" href=\"/use-cases/llm\">LLMs</a>\n              <a class=\"navbar-item\" tabindex=\"0\" href=\"/product\">Platform</a>\n              <a class=\"navbar-item\" tabindex=\"0\" href=\"/enterprise\">Enterprise</a>\n            </div>\n          </div>\n          \n        \n        </div>\n        \n          <input type=\"checkbox\" id=\"menu-toggle\" style=\"display: none;\" tabindex=\"0\">\n          <label id=\"menu-toggle-label\" for=\"menu-toggle\"><img src=\"/assets/menu-open.svg\"></label>\n          <div id=\"menu-close-label\" style=\"display: none;\"><img src=\"/assets/x.svg\"></div>\n          <div id=\"menu-open-label\" style=\"display: none;\"><img src=\"/assets/menu-open.svg\"></div>\n        \n        <div class=\"right-menu\">\n            <a aria-label=\"join our discord\"\n               class=\"navbar-icon dagshub-tooltip\"\n               tabindex=\"0\"\n               href=\"https://discord.com/invite/9gU36Y6\" onclick=\"trackAnalyticsEvent('DiscordIcon_Clicked')\">\n              <img src=\"/assets/social_icons/discord.svg\" aria-label=\"Connect to our Discord channel\">\n              <span>Connect to Dagshub Discord channel</span>\n            </a>\n            \n              \n                <div class=\"primary button\">\n                  <a id=\"sign-up-navbar\" data-analytics-event=\"Navbar_Register_Clicked\"\n                     href=\"/user/sign_up?redirect_to=%2fgauravanilwankhede2002%2fmy-first-repo%2fapi%2f2.0%2fmlflow%2fruns%2fcreate\n\n\">\n                    Register\n                  </a>\n                </div>\n              \n              <a id=\"sign-in-navbar\" class=\"secondary button\"\n                 data-analytics-event=\"Navbar_Login_Clicked\"\n                 href=\"/user/login?redirect_to=%2fgauravanilwankhede2002%2fmy-first-repo%2fapi%2f2.0%2fmlflow%2fruns%2fcreate\n\n\">\n                Login\n              </a>\n            \n        </div>\n      </div>\n    </div>\n  \n\n    \n\n<div class=\"ui container center\">\n  <p style=\"margin-top: 100px\"><img src=\"/img/404.png\" alt=\"404\"/></p>\n  <div class=\"ui divider\"></div>\n  <br>\n  \n  <p>\n    If you think this is an error, please report it on our\n    <strong>\n      <a href=\"https://discord.com/invite/9gU36Y6\">Discord support channel <i class=\"discord icon\"></i></a>\n    </strong>\n  </p>\n    Or, contact us at <a href=\"mailto:support@dagshub.com\">support@dagshub.com</a>.</p>\n  <br><br>\n  Provide this support ID: <strong>51689dcf-1bfe-42d8-b157-9da1c92b146e</strong>\n</div>\n\n\n</div>\n<footer>\n  <div class=\"ui footer\">\n      <div class=\"dagshub-footer\">\n          <a href=\"https://dagshub.com/\">\n            <img alt=\"footer DagsHub logo\" id=\"footer-logo\" class=\"ui centered image\" aria-label=\"Dagshub home\"\n                           src=\"/img/footerlogo.svg\">\n          </a>\n          <div id=\"footer-social\" class=\"\">\n            <a aria-label=\"DagsHub on Twitter\" class=\"icon-link\"\n               rel=\"nofollow\" target=\"_blank\"\n               href=\"https://twitter.com/TheRealDAGsHub\">\n              <i class=\"twitter large icon\"></i>\n            </a>\n            <a aria-label=\"DagsHub on YouTube\" class=\"icon-link\"\n               rel=\"nofollow\" target=\"_blank\"\n               href=\"https://youtube.com/c/dagshub\">\n              <i class=\"youtube large icon\"></i>\n            </a>\n            <a aria-label=\"DagsHub on LinkedIn\" class=\"icon-link\"\n               rel=\"nofollow\" target=\"_blank\"\n               href=\"https://www.linkedin.com/company/dagshub\">\n              <i class=\"linkedin large icon\"></i>\n            </a>\n            <a aria-label=\"join our Discord\" class=\"icon-link\"\n               rel=\"nofollow\" target=\"_blank\"\n               href=\"https://discord.com/invite/9gU36Y6\">\n              \n              <svg width=\"24\" height=\"19\" viewBox=\"0 0 24 19\" fill=\"none\" xmlns=\"http://www.w3.org/2000/svg\">\n                <path d=\"M20.2415 2.18566C18.7257 1.49015 17.1003 0.977731 15.4007 0.684245C15.3698 0.678581 15.3389 0.692736 15.3229 0.721047C15.1139 1.09286 14.8823 1.57791 14.7202 1.95916C12.8922 1.6855 11.0736 1.6855 9.28318 1.95916C9.12099 1.56944 8.88103 1.09286 8.67104 0.721047C8.6551 0.693681 8.62418 0.679525 8.59323 0.684245C6.89465 0.976793 5.26918 1.48921 3.75245 2.18566C3.73932 2.19133 3.72807 2.20077 3.7206 2.21303C0.637438 6.8192 -0.207169 11.3122 0.207167 15.7494C0.209041 15.7711 0.221228 15.7919 0.238101 15.8051C2.27228 17.2989 4.24273 18.2058 6.17659 18.807C6.20754 18.8164 6.24034 18.8051 6.26003 18.7796C6.71749 18.1549 7.12527 17.4962 7.4749 16.8035C7.49553 16.7629 7.47584 16.7148 7.43366 16.6988C6.78686 16.4534 6.17097 16.1542 5.57852 15.8145C5.53166 15.7872 5.52791 15.7201 5.57102 15.688C5.69569 15.5946 5.8204 15.4974 5.93944 15.3993C5.96098 15.3814 5.99099 15.3776 6.01631 15.3889C9.90842 17.1659 14.1221 17.1659 17.9683 15.3889C17.9936 15.3766 18.0236 15.3804 18.0461 15.3983C18.1652 15.4965 18.2898 15.5946 18.4154 15.688C18.4585 15.7201 18.4557 15.7872 18.4089 15.8145C17.8164 16.1608 17.2005 16.4534 16.5528 16.6978C16.5106 16.7139 16.4919 16.7629 16.5125 16.8035C16.8696 17.4952 17.2774 18.1539 17.7264 18.7787C17.7452 18.8051 17.7789 18.8164 17.8099 18.807C19.7531 18.2058 21.7235 17.2989 23.7577 15.8051C23.7755 15.7919 23.7868 15.7721 23.7887 15.7503C24.2845 10.6204 22.9581 6.16429 20.2724 2.21397C20.2659 2.20077 20.2546 2.19133 20.2415 2.18566ZM8.05612 13.0476C6.88433 13.0476 5.91881 11.9718 5.91881 10.6506C5.91881 9.32943 6.86561 8.25364 8.05612 8.25364C9.25598 8.25364 10.2122 9.33887 10.1934 10.6506C10.1934 11.9718 9.2466 13.0476 8.05612 13.0476ZM15.9585 13.0476C14.7867 13.0476 13.8212 11.9718 13.8212 10.6506C13.8212 9.32943 14.768 8.25364 15.9585 8.25364C17.1584 8.25364 18.1145 9.33887 18.0958 10.6506C18.0958 11.9718 17.1584 13.0476 15.9585 13.0476Z\"/>\n              </svg>\n            </a>\n          </div>\n        <div class=\"links\">\n          <a class=\"footer-item\" rel=\"noopener noreferrer\" href=\"/about\">Our Story</a>\n          <a class=\"footer-item\" rel=\"noopener noreferrer\" href=\"/careers\">Careers</a>\n              \n          <a id=\"merch-store\" class=\"footer-item\" rel=\"noopener noreferrer\"\n             href=\"https://teespring.com/stores/dagshub\">Merch</a>\n          <a class=\"footer-item\" id=\"contact-us-footer\" href=\"javascript:\">Contact Us</a>\n          <script>\n            (function() {\n              const $contactModal = $('#contact-modal');\n              const $contactForm = $contactModal.find('#contact-form');\n              $contactModal.modal('attach events', '#contact-us-footer', 'show');\n              $('#contact-us-footer').on('click', () => {\n                $contactForm.attr('action', 'contact_form');\n              });\n            })();\n          </script>\n              \n                <a class=\"footer-item\" rel=\"noopener noreferrer\" href=\"/enterprise\">Enterprise</a>\n                <a class=\"footer-item\" rel=\"noopener noreferrer\" href=\"/pricing\">Pricing</a>\n              \n        </div>\n          <h2>The home for data science collaboration</h2>\n          <div class=\"legal\">\n            <p>© Copyright Dagshub 2024</p>\n            <div class=\"\">\n              <a class=\"footer-item\" rel=\"noopener noreferrer\" href=\"/terms\">Terms of Service</a>\n              <a class=\"footer-item\" rel=\"noopener noreferrer\" href=\"/privacy\">Privacy Policy</a>\n            </div>\n          </div>\n\n        </div>\n\n      \n      \n      \n      \n      \n      \n      \n      \n      \n      \n      \n      \n\n\n  </div>\n</footer>\n\n\n</div>\n</body>\n\n\n\n\n\n\n\n\n\n\n\n<script src=\"/js/libs/emojify-1.1.0.min.js\"></script>\n<script src=\"/js/libs/clipboard-1.5.9.min.js\"></script>\n\n\n\n<script src=\"/js/gogs.js?v=7e93152b02a11856d9a165aed4f4539a540caedb\"></script>\n<script src=\"/js/dagshub.js?v=7e93152b02a11856d9a165aed4f4539a540caedb\"></script>\n\n\n\n\n\n\n\n\n\n\n\n\n\n\n\n\n\n\n</html>\n\n\n'",
     "output_type": "error",
     "traceback": [
      "\u001b[1;31m---------------------------------------------------------------------------\u001b[0m",
      "\u001b[1;31mMlflowException\u001b[0m                           Traceback (most recent call last)",
      "Cell \u001b[1;32mIn[222], line 36\u001b[0m\n\u001b[0;32m     34\u001b[0m \u001b[38;5;28;01mfor\u001b[39;00m name, model \u001b[38;5;129;01min\u001b[39;00m models\u001b[38;5;241m.\u001b[39mitems():\n\u001b[0;32m     35\u001b[0m     \u001b[38;5;28mprint\u001b[39m(\u001b[38;5;124mf\u001b[39m\u001b[38;5;124m'\u001b[39m\u001b[38;5;130;01m\\n\u001b[39;00m\u001b[38;5;124mTraining and evaluating \u001b[39m\u001b[38;5;132;01m{\u001b[39;00mname\u001b[38;5;132;01m}\u001b[39;00m\u001b[38;5;124m...\u001b[39m\u001b[38;5;124m'\u001b[39m)\n\u001b[1;32m---> 36\u001b[0m     \u001b[38;5;28;01mwith\u001b[39;00m mlflow\u001b[38;5;241m.\u001b[39mstart_run(run_name\u001b[38;5;241m=\u001b[39mname) \u001b[38;5;28;01mas\u001b[39;00m run:  \u001b[38;5;66;03m# Added run_name\u001b[39;00m\n\u001b[0;32m     37\u001b[0m         \u001b[38;5;66;03m# Log parameters (manual logging for specific models)\u001b[39;00m\n\u001b[0;32m     38\u001b[0m         \u001b[38;5;28;01mif\u001b[39;00m name \u001b[38;5;241m==\u001b[39m \u001b[38;5;124m'\u001b[39m\u001b[38;5;124mLogistic Regression\u001b[39m\u001b[38;5;124m'\u001b[39m:\n\u001b[0;32m     39\u001b[0m             mlflow\u001b[38;5;241m.\u001b[39mlog_param(\u001b[38;5;124m\"\u001b[39m\u001b[38;5;124mmax_iter\u001b[39m\u001b[38;5;124m\"\u001b[39m, \u001b[38;5;241m1000\u001b[39m)\n",
      "File \u001b[1;32m~\\AppData\\Roaming\\Python\\Python312\\site-packages\\mlflow\\tracking\\fluent.py:446\u001b[0m, in \u001b[0;36mstart_run\u001b[1;34m(run_id, experiment_id, run_name, nested, parent_run_id, tags, description, log_system_metrics)\u001b[0m\n\u001b[0;32m    442\u001b[0m         user_specified_tags[MLFLOW_RUN_NAME] \u001b[38;5;241m=\u001b[39m run_name\n\u001b[0;32m    444\u001b[0m     resolved_tags \u001b[38;5;241m=\u001b[39m context_registry\u001b[38;5;241m.\u001b[39mresolve_tags(user_specified_tags)\n\u001b[1;32m--> 446\u001b[0m     active_run_obj \u001b[38;5;241m=\u001b[39m client\u001b[38;5;241m.\u001b[39mcreate_run(\n\u001b[0;32m    447\u001b[0m         experiment_id\u001b[38;5;241m=\u001b[39mexp_id_for_run,\n\u001b[0;32m    448\u001b[0m         tags\u001b[38;5;241m=\u001b[39mresolved_tags,\n\u001b[0;32m    449\u001b[0m         run_name\u001b[38;5;241m=\u001b[39mrun_name,\n\u001b[0;32m    450\u001b[0m     )\n\u001b[0;32m    452\u001b[0m \u001b[38;5;28;01mif\u001b[39;00m log_system_metrics \u001b[38;5;129;01mis\u001b[39;00m \u001b[38;5;28;01mNone\u001b[39;00m:\n\u001b[0;32m    453\u001b[0m     \u001b[38;5;66;03m# If `log_system_metrics` is not specified, we will check environment variable.\u001b[39;00m\n\u001b[0;32m    454\u001b[0m     log_system_metrics \u001b[38;5;241m=\u001b[39m MLFLOW_ENABLE_SYSTEM_METRICS_LOGGING\u001b[38;5;241m.\u001b[39mget()\n",
      "File \u001b[1;32m~\\AppData\\Roaming\\Python\\Python312\\site-packages\\mlflow\\tracking\\client.py:393\u001b[0m, in \u001b[0;36mMlflowClient.create_run\u001b[1;34m(self, experiment_id, start_time, tags, run_name)\u001b[0m\n\u001b[0;32m    339\u001b[0m \u001b[38;5;28;01mdef\u001b[39;00m \u001b[38;5;21mcreate_run\u001b[39m(\n\u001b[0;32m    340\u001b[0m     \u001b[38;5;28mself\u001b[39m,\n\u001b[0;32m    341\u001b[0m     experiment_id: \u001b[38;5;28mstr\u001b[39m,\n\u001b[1;32m   (...)\u001b[0m\n\u001b[0;32m    344\u001b[0m     run_name: Optional[\u001b[38;5;28mstr\u001b[39m] \u001b[38;5;241m=\u001b[39m \u001b[38;5;28;01mNone\u001b[39;00m,\n\u001b[0;32m    345\u001b[0m ) \u001b[38;5;241m-\u001b[39m\u001b[38;5;241m>\u001b[39m Run:\n\u001b[0;32m    346\u001b[0m \u001b[38;5;250m    \u001b[39m\u001b[38;5;124;03m\"\"\"\u001b[39;00m\n\u001b[0;32m    347\u001b[0m \u001b[38;5;124;03m    Create a :py:class:`mlflow.entities.Run` object that can be associated with\u001b[39;00m\n\u001b[0;32m    348\u001b[0m \u001b[38;5;124;03m    metrics, parameters, artifacts, etc.\u001b[39;00m\n\u001b[1;32m   (...)\u001b[0m\n\u001b[0;32m    391\u001b[0m \u001b[38;5;124;03m        status: RUNNING\u001b[39;00m\n\u001b[0;32m    392\u001b[0m \u001b[38;5;124;03m    \"\"\"\u001b[39;00m\n\u001b[1;32m--> 393\u001b[0m     \u001b[38;5;28;01mreturn\u001b[39;00m \u001b[38;5;28mself\u001b[39m\u001b[38;5;241m.\u001b[39m_tracking_client\u001b[38;5;241m.\u001b[39mcreate_run(experiment_id, start_time, tags, run_name)\n",
      "File \u001b[1;32m~\\AppData\\Roaming\\Python\\Python312\\site-packages\\mlflow\\tracking\\_tracking_service\\client.py:169\u001b[0m, in \u001b[0;36mTrackingServiceClient.create_run\u001b[1;34m(self, experiment_id, start_time, tags, run_name)\u001b[0m\n\u001b[0;32m    164\u001b[0m \u001b[38;5;66;03m# Extract user from tags\u001b[39;00m\n\u001b[0;32m    165\u001b[0m \u001b[38;5;66;03m# This logic is temporary; the user_id attribute of runs is deprecated and will be removed\u001b[39;00m\n\u001b[0;32m    166\u001b[0m \u001b[38;5;66;03m# in a later release.\u001b[39;00m\n\u001b[0;32m    167\u001b[0m user_id \u001b[38;5;241m=\u001b[39m tags\u001b[38;5;241m.\u001b[39mget(MLFLOW_USER, \u001b[38;5;124m\"\u001b[39m\u001b[38;5;124munknown\u001b[39m\u001b[38;5;124m\"\u001b[39m)\n\u001b[1;32m--> 169\u001b[0m \u001b[38;5;28;01mreturn\u001b[39;00m \u001b[38;5;28mself\u001b[39m\u001b[38;5;241m.\u001b[39mstore\u001b[38;5;241m.\u001b[39mcreate_run(\n\u001b[0;32m    170\u001b[0m     experiment_id\u001b[38;5;241m=\u001b[39mexperiment_id,\n\u001b[0;32m    171\u001b[0m     user_id\u001b[38;5;241m=\u001b[39muser_id,\n\u001b[0;32m    172\u001b[0m     start_time\u001b[38;5;241m=\u001b[39mstart_time \u001b[38;5;129;01mor\u001b[39;00m get_current_time_millis(),\n\u001b[0;32m    173\u001b[0m     tags\u001b[38;5;241m=\u001b[39m[RunTag(key, value) \u001b[38;5;28;01mfor\u001b[39;00m (key, value) \u001b[38;5;129;01min\u001b[39;00m tags\u001b[38;5;241m.\u001b[39mitems()],\n\u001b[0;32m    174\u001b[0m     run_name\u001b[38;5;241m=\u001b[39mrun_name,\n\u001b[0;32m    175\u001b[0m )\n",
      "File \u001b[1;32m~\\AppData\\Roaming\\Python\\Python312\\site-packages\\mlflow\\store\\tracking\\rest_store.py:212\u001b[0m, in \u001b[0;36mRestStore.create_run\u001b[1;34m(self, experiment_id, user_id, start_time, tags, run_name)\u001b[0m\n\u001b[0;32m    202\u001b[0m tag_protos \u001b[38;5;241m=\u001b[39m [tag\u001b[38;5;241m.\u001b[39mto_proto() \u001b[38;5;28;01mfor\u001b[39;00m tag \u001b[38;5;129;01min\u001b[39;00m tags]\n\u001b[0;32m    203\u001b[0m req_body \u001b[38;5;241m=\u001b[39m message_to_json(\n\u001b[0;32m    204\u001b[0m     CreateRun(\n\u001b[0;32m    205\u001b[0m         experiment_id\u001b[38;5;241m=\u001b[39m\u001b[38;5;28mstr\u001b[39m(experiment_id),\n\u001b[1;32m   (...)\u001b[0m\n\u001b[0;32m    210\u001b[0m     )\n\u001b[0;32m    211\u001b[0m )\n\u001b[1;32m--> 212\u001b[0m response_proto \u001b[38;5;241m=\u001b[39m \u001b[38;5;28mself\u001b[39m\u001b[38;5;241m.\u001b[39m_call_endpoint(CreateRun, req_body)\n\u001b[0;32m    213\u001b[0m \u001b[38;5;28;01mreturn\u001b[39;00m Run\u001b[38;5;241m.\u001b[39mfrom_proto(response_proto\u001b[38;5;241m.\u001b[39mrun)\n",
      "File \u001b[1;32m~\\AppData\\Roaming\\Python\\Python312\\site-packages\\mlflow\\store\\tracking\\rest_store.py:82\u001b[0m, in \u001b[0;36mRestStore._call_endpoint\u001b[1;34m(self, api, json_body, endpoint)\u001b[0m\n\u001b[0;32m     80\u001b[0m     endpoint, method \u001b[38;5;241m=\u001b[39m _METHOD_TO_INFO[api]\n\u001b[0;32m     81\u001b[0m response_proto \u001b[38;5;241m=\u001b[39m api\u001b[38;5;241m.\u001b[39mResponse()\n\u001b[1;32m---> 82\u001b[0m \u001b[38;5;28;01mreturn\u001b[39;00m call_endpoint(\u001b[38;5;28mself\u001b[39m\u001b[38;5;241m.\u001b[39mget_host_creds(), endpoint, method, json_body, response_proto)\n",
      "File \u001b[1;32m~\\AppData\\Roaming\\Python\\Python312\\site-packages\\mlflow\\utils\\rest_utils.py:379\u001b[0m, in \u001b[0;36mcall_endpoint\u001b[1;34m(host_creds, endpoint, method, json_body, response_proto, extra_headers)\u001b[0m\n\u001b[0;32m    376\u001b[0m     call_kwargs[\u001b[38;5;124m\"\u001b[39m\u001b[38;5;124mjson\u001b[39m\u001b[38;5;124m\"\u001b[39m] \u001b[38;5;241m=\u001b[39m json_body\n\u001b[0;32m    377\u001b[0m     response \u001b[38;5;241m=\u001b[39m http_request(\u001b[38;5;241m*\u001b[39m\u001b[38;5;241m*\u001b[39mcall_kwargs)\n\u001b[1;32m--> 379\u001b[0m response \u001b[38;5;241m=\u001b[39m verify_rest_response(response, endpoint)\n\u001b[0;32m    380\u001b[0m response_to_parse \u001b[38;5;241m=\u001b[39m response\u001b[38;5;241m.\u001b[39mtext\n\u001b[0;32m    381\u001b[0m js_dict \u001b[38;5;241m=\u001b[39m json\u001b[38;5;241m.\u001b[39mloads(response_to_parse)\n",
      "File \u001b[1;32m~\\AppData\\Roaming\\Python\\Python312\\site-packages\\mlflow\\utils\\rest_utils.py:255\u001b[0m, in \u001b[0;36mverify_rest_response\u001b[1;34m(response, endpoint)\u001b[0m\n\u001b[0;32m    250\u001b[0m     \u001b[38;5;28;01melse\u001b[39;00m:\n\u001b[0;32m    251\u001b[0m         base_msg \u001b[38;5;241m=\u001b[39m (\n\u001b[0;32m    252\u001b[0m             \u001b[38;5;124mf\u001b[39m\u001b[38;5;124m\"\u001b[39m\u001b[38;5;124mAPI request to endpoint \u001b[39m\u001b[38;5;132;01m{\u001b[39;00mendpoint\u001b[38;5;132;01m}\u001b[39;00m\u001b[38;5;124m \u001b[39m\u001b[38;5;124m\"\u001b[39m\n\u001b[0;32m    253\u001b[0m             \u001b[38;5;124mf\u001b[39m\u001b[38;5;124m\"\u001b[39m\u001b[38;5;124mfailed with error code \u001b[39m\u001b[38;5;132;01m{\u001b[39;00mresponse\u001b[38;5;241m.\u001b[39mstatus_code\u001b[38;5;132;01m}\u001b[39;00m\u001b[38;5;124m != 200\u001b[39m\u001b[38;5;124m\"\u001b[39m\n\u001b[0;32m    254\u001b[0m         )\n\u001b[1;32m--> 255\u001b[0m         \u001b[38;5;28;01mraise\u001b[39;00m MlflowException(\n\u001b[0;32m    256\u001b[0m             \u001b[38;5;124mf\u001b[39m\u001b[38;5;124m\"\u001b[39m\u001b[38;5;132;01m{\u001b[39;00mbase_msg\u001b[38;5;132;01m}\u001b[39;00m\u001b[38;5;124m. Response body: \u001b[39m\u001b[38;5;124m'\u001b[39m\u001b[38;5;132;01m{\u001b[39;00mresponse\u001b[38;5;241m.\u001b[39mtext\u001b[38;5;132;01m}\u001b[39;00m\u001b[38;5;124m'\u001b[39m\u001b[38;5;124m\"\u001b[39m,\n\u001b[0;32m    257\u001b[0m             error_code\u001b[38;5;241m=\u001b[39mget_error_code(response\u001b[38;5;241m.\u001b[39mstatus_code),\n\u001b[0;32m    258\u001b[0m         )\n\u001b[0;32m    260\u001b[0m \u001b[38;5;66;03m# Skip validation for endpoints (e.g. DBFS file-download API) which may return a non-JSON\u001b[39;00m\n\u001b[0;32m    261\u001b[0m \u001b[38;5;66;03m# response\u001b[39;00m\n\u001b[0;32m    262\u001b[0m \u001b[38;5;28;01mif\u001b[39;00m endpoint\u001b[38;5;241m.\u001b[39mstartswith(_REST_API_PATH_PREFIX) \u001b[38;5;129;01mand\u001b[39;00m \u001b[38;5;129;01mnot\u001b[39;00m _can_parse_as_json_object(response\u001b[38;5;241m.\u001b[39mtext):\n",
      "\u001b[1;31mMlflowException\u001b[0m: API request to endpoint /api/2.0/mlflow/runs/create failed with error code 404 != 200. Response body: '<!DOCTYPE html>\n<html lang=\"en-US\">\n  <head data-suburl=\"\">\n    <meta http-equiv=\"Content-Type\" content=\"text/html; charset=UTF-8\"/>\n    <meta http-equiv=\"X-UA-Compatible\" content=\"IE=edge\"/>\n    \n    \n      <meta name=\"viewport\" content=\"width=device-width, initial-scale=1\"/>\n    \n    <meta name=\"referrer\" content=\"no-referrer\"/>\n    <meta name=\"_csrf\" content=\"8NkB_R5L33IUfK854haZSWTnmCo6MTczNzc5NTc4NjgzMTQyMDczNg\"/>\n    <meta name=\"_suburl\" content=\"\"/>\n    <meta name=\"_appversion\" content=\"7e93152b02a11856d9a165aed4f4539a540caedb\" />\n    <meta name=\"_bareRepo\" content=\"\"/>\n\n    \n    \n  <script>(function(w, d, s, l, i) {\n      w[l] = w[l] || [];\n      w[l].push({\n        'gtm.start':\n          new Date().getTime(), event: 'gtm.js'\n      });\n      var f = d.getElementsByTagName(s)[0],\n        j = d.createElement(s),\n        dl = l != 'dataLayer' ? '&l=' + l : '';\n      j.async = true;\n      j.src =\n        'https://www.googletagmanager.com/gtm.js?id=' + i + dl;\n      f.parentNode.insertBefore(j, f);\n    })(window, document, 'script', 'dataLayer', 'GTM-PGHTMDN');</script>\n\n    \n\n    \n    \n      \n    \n    \n  \n    <title>Page Not Found · DAGsHub</title>\n    <meta name=\"description\"\n          content=\"DagsHub is where people build machine learning projects. DagsHub helps AI teams build better models and manage their data effectively.\"/>\n  \n  \n  <meta property=\"og:url\" content=\"https://dagshub.com/\"/>\n  <meta property=\"og:type\" content=\"website\"/>\n  <meta property=\"og:site_name\" content=\"DagsHub\">\n  <meta property=\"og:title\" content=\"DagsHub: The Home for Machine Learning Collaboration\">\n  <meta property=\"og:description\"\n        content=\"DagsHub is where people build machine learning projects. DagsHub helps AI teams build better models and manage their data effectively.\">\n  <meta property=\"og:image\" content=\"https://dagshub.com/img/open_graph/dagshub-logo.jpg\"/>\n  <meta property=\"og:image:type\" content=\"image/png\">\n  <meta property=\"og:image:width\" content=\"1200\">\n  <meta property=\"og:image:height\" content=\"630\">\n  \n  <meta property=\"twitter:site\" content=\"@TheRealDagsHub\">\n  <meta property=\"twitter:creator\" content=\"@TheRealDagsHub\">\n  <meta property=\"twitter:card\" content=\"summary_large_image\">\n  <meta property=\"twitter:title\" content=\"DagsHub: The Home for Machine Learning Collaboration\">\n  <meta property=\"twitter:description\"\n        content=\"DagsHub is where people build machine learning projects. DagsHub helps AI teams build better models and manage their data effectively.\">\n  <meta property=\"twitter:image:src\" content=\"https://dagshub.com/img/open_graph/dagshub-logo.jpg\">\n  <meta property=\"twitter:image:width\" content=\"1200\">\n  <meta property=\"twitter:image:height\" content=\"630\">\n\n  <script type=\"application/ld+json\">\n    {\n        \"@context\": \"http://schema.org\",\n        \"@type\": \"WebSite\",\n        \"name\": \"DagsHub\",\n        \"url\": \"https://dagshub.com/\",\n        \"sameAs\": [\n            \"https://www.facebook.com/DagsHub/\",\n            \"https://twitter.com/TheRealDagsHub/\",\n            \"https://linkedin.com/company/dagshub/\"\n        ],\n        \"potentialAction\": {\n        \"@type\": \"SearchAction\",\n        \"description\": \"Search for data science projects on DagsHub.\",\n        \"target\": \"https://dagshub.com/explore/repos?q={search_term}\",\n        \"query-input\": \"required name=search_term\"\n        }\n    }\n  </script>\n\n\n    \n\n    <link rel=\"shortcut icon\" href=\"/img/favicon-black.svg\"/>\n\n    <script src=\"/js/jquery-3.6.0.min.js\"></script>\n    \n  <link rel=\"stylesheet\" href=\"https://cdnjs.cloudflare.com/ajax/libs/font-awesome/5.15.3/css/all.css\"\n        integrity=\"sha512-3icgkoIO5qm2D4bGSUkPqeQ96LS8+ukJC7Eqhl1H5B2OJMEnFqLmNDxXVmtV/eq5M65tTDkUYS/Q0P4gvZv+yA==\"\n        crossorigin=\"anonymous\"\n        referrerpolicy=\"no-referrer\" />\n\n\n    <link rel=\"stylesheet\" href=\"/assets/octicons-4.3.0/octicons.min.css\">\n\n    \n    \n\n    \n\n    \n\n    \n\n    \n\n    \n\n    \n\n    \n\n    \n    \n    <link rel=\"preload\" href=\"/css/themes/default/assets/fonts/brand-icons.woff2\" as=\"font\"\n          type=\"font/woff2\" crossorigin/>\n    <link rel=\"preload\" href=\"/css/themes/default/assets/fonts/icons.woff2\" as=\"font\" type=\"font/woff2\"\n          crossorigin/>\n    <link rel=\"preload\" href=\"/assets/fontawesome-5.15.3/webfonts/fa-solid-900.woff2\" as=\"font\"\n          type=\"font/woff2\" crossorigin/>\n\n    \n    <link rel=\"stylesheet\" href=\"/css/semantic-2.4.2.min.css\">\n\n    \n    <link rel=\"stylesheet\" href=\"/css/build/dagshub.css?v=7e93152b02a11856d9a165aed4f4539a540caedb\">\n    <link rel=\"stylesheet\" href=\"/css/gogs.css?v=7e93152b02a11856d9a165aed4f4539a540caedb\">\n\n    \n    \n    <link rel=\"preconnect\" href=\"https://fonts.googleapis.com\">\n    <link rel=\"preconnect\" href=\"https://fonts.gstatic.com\" crossorigin>\n    <link href=\"https://fonts.googleapis.com/css?family=Comfortaa|Lato:300,400,700,900|Jaldi|Open+Sans&display=swap\" rel=\"stylesheet\">\n    \n\n    <noscript>\n      <style>\n        .dropdown:hover > .menu {\n          display: block;\n        }\n\n        .ui.secondary.menu .dropdown.item > .menu {\n          margin-top: 0;\n        }\n      </style>\n    </noscript>\n    <script src=\"/js/semantic-2.4.2.min.js\"></script>\n\n    \n    \n      <link rel=\"stylesheet\" href=\"/css/build/static_dagshub.css?v=7e93152b02a11856d9a165aed4f4539a540caedb\">\n      \n      <link href=\"https://fonts.googleapis.com/css2?family=Inter:wght@300;400;500;600;700;900&display=swap\" rel=\"stylesheet\">\n      <link href='https://fonts.googleapis.com/css?family=Fira Code:wght@300;400;500;600;700;900' rel='stylesheet'>\n      \n    \n\n    <meta name=\"theme-color\" content=\"#103037\">\n\n    \n  <script src=\"https://www.google.com/recaptcha/api.js\" async defer></script>\n\n\n\n    \n  </head>\n  <body>\n\n    \n\n\n\n  <noscript>\n    <iframe src=\"https://www.googletagmanager.com/ns.html?id=GTM-PGHTMDN\"\n            height=\"0\" width=\"0\" style=\"display:none;visibility:hidden\"></iframe>\n  </noscript>\n\n\n\n\n<div class=\"ui tiny modal\" id=\"contact-modal\">\n  <i class=\"close icon\"></i>\n  <div class=\"header\">\n    Contact us\n  </div>\n  <form id=\"contact-form\" class=\"ui form content\" action=\"contact_form\" method=\"post\">\n    <input type=\"hidden\" name=\"_csrf\" value=\"8NkB_R5L33IUfK854haZSWTnmCo6MTczNzc5NTc4NjgzMTQyMDczNg\">\n    <div class=\"required field\">\n      <label for=\"user_name\">Your email address</label>\n      <input name=\"email\" type=\"email\" value=\"\"\n             placeholder=\"tony@stark-industries.com\" required>\n    </div>\n    <div class=\"required field\">\n      <label for=\"subject\">Subject</label>\n      <input name=\"subject\" value=\"Hi DagsHub, let's talk\" placeholder=\"What would you like to talk about?\" required>\n    </div>\n    <div class=\"required field\">\n      <textarea class=\"autosize\" name=\"body\" rows=\"7\" ></textarea>\n    </div>\n    \n      <script type=\"text/javascript\">\n        var myRecaptchaListeners = {\n          callAllListeners: function(listeners) {\n            return () => listeners.forEach((f) => f());\n          },\n          successListeners: [],\n          expireListeners: [],\n        };\n        contactFormCaptchaCallback = myRecaptchaListeners.callAllListeners(myRecaptchaListeners.successListeners);\n        contactFormCaptchaExpired = myRecaptchaListeners.callAllListeners(myRecaptchaListeners.expireListeners);\n      </script>\n      <div class=\"g-recaptcha field\"\n           data-sitekey=\"6Lf0Z7gUAAAAAKCsW1V-PqN58BcBNAUxe-oIU3nw\"\n           data-callback=\"contactFormCaptchaCallback\"\n           data-expired-callback=\"contactFormCaptchaExpired\"></div>\n    \n    <input type=\"hidden\" name=\"page\"/>\n    <input type=\"hidden\" name=\"referring_page\"/>\n    <input type=\"hidden\" name=\"referrer\"/>\n    <button class=\"ui positive center aligned labeled icon button\" id=\"send-contact-request-btn\">\n      Send\n      <i class=\"checkmark icon\"></i>\n    </button>\n    \n      <script type=\"text/javascript\">\n        (function() {\n          const submitBtn = document.getElementById('send-contact-request-btn');\n          onExpire = () => submitBtn.style.display = 'none';\n          onExpire();\n          myRecaptchaListeners.successListeners.push(() => {\n            submitBtn.style.display = 'block';\n          });\n          myRecaptchaListeners.expireListeners.push(onExpire);\n        })();\n      </script>\n    \n    <div class=\"ui hidden dimmer inverted\">\n      <div class=\"ui loader\"></div>\n      <div class=\"ui hidden positive message\">\n        <p>Thank you! We'll be in touch ASAP.</p>\n      </div>\n      <div class=\"ui hidden negative message\">\n        <p>Something went wrong, please try again or contact us directly at <a\n                  href=\"mailto:contact@dagshub.com\">contact@dagshub.com</a></p>\n      </div>\n    </div>\n  </form>\n  <script>\n    (function() {\n      const $contactModal = $('#contact-modal');\n      const $contactForm = $('#contact-form');\n      const $dimmer = $contactForm.find('.dimmer');\n      const $loader = $dimmer.find('.loader');\n      const $okMsg = $dimmer.find('.positive');\n      const $errorMsg = $dimmer.find('.negative');\n\n      $contactForm.find('input[name=page]').val(document.URL);\n      $contactForm.find('input[name=referring_page]').val(new URL(document.URL).searchParams.get('referring_page'));\n      $contactForm.find('input[name=referrer]').val(document.referrer);\n\n      \n      $contactModal.modal({\n        onShow: () => {\n          $dimmer.dimmer('hide');\n          $loader.transition('fade in', 0);\n          $okMsg.transition('fade out', 0);\n          $errorMsg.transition('fade out', 0);\n        }\n      });\n\n      $contactForm.submit((e) => {\n        e.preventDefault();\n\n        $dimmer.dimmer('show');\n\n        function hideModal() {\n          setTimeout(() => {\n            $contactModal.modal('hide');\n          }, 3000);\n        }\n\n        \n        const loaderToMessage = function(targetMsg = $okMsg, afterMsg = hideModal) {\n          $loader.transition('fade out');\n          targetMsg.transition('fade in');\n          if (afterMsg) afterMsg();\n        };\n\n        $.ajax({\n          url: $contactForm.attr('action'),\n          method: 'post',\n          data: $contactForm.serialize(),\n          success: () => loaderToMessage(),\n          error: e => {\n            console.error(e);\n            \n            loaderToMessage($errorMsg, null);\n          }\n        });\n        \n        \n        \n        \n      });\n    })();\n  </script>\n  <div class=\"ui secondary segment\">\n    Or if you want, you can join our community at <a href=\"https://discord.com/invite/9gU36Y6\"\n                                                     class=\"ui basic discord icon\"><i class=\"discord grey icon big\"></i></a>\n  </div>\n</div>\n\n\n\n    \n      \n\n<div class=\"mobile dagshub-navbar\">\n    <div class=\"line-divider\"></div>\n\n\n\n\n  \n    \n      <div class=\"primary center button\" style=\"margin-bottom: 10px;\">\n        <a  id=\"sign-up-navbar-mobile\" data-analytics-event=\"Navbar_Register_Clicked\"\n            href=\"/user/sign_up?redirect_to=%2fgauravanilwankhede2002%2fmy-first-repo%2fapi%2f2.0%2fmlflow%2fruns%2fcreate\n\n\">\n          Register\n        </a>\n      </div>\n    \n      <div class=\"secondary center button\">\n        <a id=\"sign-in-navbar-mobile\" data-analytics-event=\"Navbar_Login_Clicked\"\n           href=\"/user/login?redirect_to=%2fgauravanilwankhede2002%2fmy-first-repo%2fapi%2f2.0%2fmlflow%2fruns%2fcreate\n\n\">\n          Login\n        </a>\n      </div>\n  \n  <div class=\"line-divider\"></div>\n  \n  \n    <div class=\"subtitle\">Resources</div>\n    <a class=\"navbar-item\"\n       href=\"/docs\" onclick=\"trackAnalyticsEvent('Resources_Docs_Clicked')\">Docs</a>\n    <a class=\"navbar-item\" href=\"/blog\" onclick=\"trackAnalyticsEvent('Resources_Blog_Clicked')\">Blog</a>\n    <a class=\"navbar-item\" data-analytics-event=\"Resources_Datasets_Clicked\" href=\"/datasets\">Datasets</a>\n    <a class=\"navbar-item\" data-analytics-event=\"Resources_Glossary_Clicked\" href=\"/glossary\">Glossary</a>\n    <a class=\"navbar-item\" href=\"/blog/tag/case-study\" onclick=\"trackAnalyticsEvent('Resources_Case_Studies_Clicked')\">Case Studies</a>\n    <a class=\"navbar-item\" href=\"/blog/tag/tutorials\" onclick=\"trackAnalyticsEvent('Resources_Tutorials_Clicked')\">Tutorials &amp; Webinars</a>\n    \n      <div class=\"line-divider\"></div>\n      <div class=\"subtitle\">Product</div>\n      <a class=\"navbar-item\" tabindex=\"0\" href=\"/data-engine\">Data Engine</a>\n      <a class=\"navbar-item\" tabindex=\"0\" href=\"/use-cases/llm\">LLMs</a>\n      <a class=\"navbar-item\" tabindex=\"0\" href=\"/product\">Platform</a>\n      <a class=\"navbar-item\" tabindex=\"0\" href=\"/enterprise\">Enterprise</a>\n    \n    <div class=\"line-divider\"></div>\n    <a class=\"navbar-item\" href=\"/pricing\">Pricing</a>\n  \n  <a class=\"navbar-item\" href=\"/explore/repos\">Explore</a>\n  <div class=\"line-divider\"></div>\n  <a class=\"navbar-item\" href=\"https://discord.com/invite/9gU36Y6\" onclick=\"trackAnalyticsEvent('DiscordIcon_Clicked')\">\n    <img src=\"/assets/social_icons/discord.svg\" aria-label=\"Connect to our Discord channel\">\n    <span>Connect to our Discord channel</span>\n  </a>\n    \n</div>\n<div class=\"pusher\">\n<div class=\"ui full height\">\n  <noscript>This website works better with JavaScript</noscript>\n  \n    <div class=\" navbar-container\">\n      <div id=\"menu-container\" class=\"dagshub-navbar \">\n        <div class=\"left-menu\">\n          <div class=\"fixed-content\">\n            <a href=\"https://dagshub.com/\" tabindex=\"0\">\n              \n              <img width=\"34\" height=\"30\" alt=\"DagsHub navbar logo\" aria-label=\"DagsHub Home\" class=\"navbar-logo\"\n                   src=\"/img/favicon.svg\">\n              \n            </a>\n            <form class=\"search-bar-container\" action=\"/explore/repos\">\n                <input class=\"search-bar\" name=\"q\" value=\"\" aria-label=\"Search public projects\"\n                       placeholder=\"Search public repositories...\" tabindex=\"0\" autocomplete=\"off\">\n            </form>\n          </div>\n          \n          \n            <div class=\"dropdown navbar-item\" tabindex=\"0\">\n              Resources &nbsp; <img class=\"flip\" src=\"/assets/chevron-icon.svg\">\n                <div class=\"submenu\">\n                  <a href=\"/docs\" tabindex=\"0\" onclick=\"trackAnalyticsEvent('Resources_Docs_Clicked')\">Docs</a>\n                  <a href=\"/blog\" tabindex=\"0\" onclick=\"trackAnalyticsEvent('Resources_Blog_Clicked')\">Blog</a>\n                  <a href=\"/datasets\" tabindex=\"0\" data-analytics-event=\"Resources_Datasets_Clicked\">Datasets</a>\n                  <a href=\"/glossary\" tabindex=\"0\" data-analytics-event=\"Resources_Glossary_Clicked\">Glossary</a>\n                  <a href=\"/blog/tag/case-study\" tabindex=\"0\" onclick=\"trackAnalyticsEvent('Resources_Case_Studies_Clicked')\">Case Studies</a>\n                  <a href=\"/blog/tag/tutorials\" tabindex=\"0\" onclick=\"trackAnalyticsEvent('Resources_Tutorials_Clicked')\">Tutorials &amp; Webinars</a>\n                </div>\n            </div>\n          \n          <a class=\"navbar-item\" tabindex=\"0\"\n             href=\"/explore/repos\" onclick=\"trackAnalyticsEvent('ExploreTab_Clicked')\">Explore</a>\n          \n            <a class=\"navbar-item\" tabindex=\"0\" href=\"/pricing\">Pricing</a>\n          \n          <div class=\"dropdown navbar-item\" tabindex=\"0\">\n            Product &nbsp; <img class=\"flip\" src=\"/assets/chevron-icon.svg\">\n            <div class=\"submenu\">\n              <a class=\"navbar-item\" tabindex=\"0\" href=\"/data-engine\">Data Engine</a>\n              <a class=\"navbar-item\" tabindex=\"0\" href=\"/use-cases/llm\">LLMs</a>\n              <a class=\"navbar-item\" tabindex=\"0\" href=\"/product\">Platform</a>\n              <a class=\"navbar-item\" tabindex=\"0\" href=\"/enterprise\">Enterprise</a>\n            </div>\n          </div>\n          \n        \n        </div>\n        \n          <input type=\"checkbox\" id=\"menu-toggle\" style=\"display: none;\" tabindex=\"0\">\n          <label id=\"menu-toggle-label\" for=\"menu-toggle\"><img src=\"/assets/menu-open.svg\"></label>\n          <div id=\"menu-close-label\" style=\"display: none;\"><img src=\"/assets/x.svg\"></div>\n          <div id=\"menu-open-label\" style=\"display: none;\"><img src=\"/assets/menu-open.svg\"></div>\n        \n        <div class=\"right-menu\">\n            <a aria-label=\"join our discord\"\n               class=\"navbar-icon dagshub-tooltip\"\n               tabindex=\"0\"\n               href=\"https://discord.com/invite/9gU36Y6\" onclick=\"trackAnalyticsEvent('DiscordIcon_Clicked')\">\n              <img src=\"/assets/social_icons/discord.svg\" aria-label=\"Connect to our Discord channel\">\n              <span>Connect to Dagshub Discord channel</span>\n            </a>\n            \n              \n                <div class=\"primary button\">\n                  <a id=\"sign-up-navbar\" data-analytics-event=\"Navbar_Register_Clicked\"\n                     href=\"/user/sign_up?redirect_to=%2fgauravanilwankhede2002%2fmy-first-repo%2fapi%2f2.0%2fmlflow%2fruns%2fcreate\n\n\">\n                    Register\n                  </a>\n                </div>\n              \n              <a id=\"sign-in-navbar\" class=\"secondary button\"\n                 data-analytics-event=\"Navbar_Login_Clicked\"\n                 href=\"/user/login?redirect_to=%2fgauravanilwankhede2002%2fmy-first-repo%2fapi%2f2.0%2fmlflow%2fruns%2fcreate\n\n\">\n                Login\n              </a>\n            \n        </div>\n      </div>\n    </div>\n  \n\n    \n\n<div class=\"ui container center\">\n  <p style=\"margin-top: 100px\"><img src=\"/img/404.png\" alt=\"404\"/></p>\n  <div class=\"ui divider\"></div>\n  <br>\n  \n  <p>\n    If you think this is an error, please report it on our\n    <strong>\n      <a href=\"https://discord.com/invite/9gU36Y6\">Discord support channel <i class=\"discord icon\"></i></a>\n    </strong>\n  </p>\n    Or, contact us at <a href=\"mailto:support@dagshub.com\">support@dagshub.com</a>.</p>\n  <br><br>\n  Provide this support ID: <strong>51689dcf-1bfe-42d8-b157-9da1c92b146e</strong>\n</div>\n\n\n</div>\n<footer>\n  <div class=\"ui footer\">\n      <div class=\"dagshub-footer\">\n          <a href=\"https://dagshub.com/\">\n            <img alt=\"footer DagsHub logo\" id=\"footer-logo\" class=\"ui centered image\" aria-label=\"Dagshub home\"\n                           src=\"/img/footerlogo.svg\">\n          </a>\n          <div id=\"footer-social\" class=\"\">\n            <a aria-label=\"DagsHub on Twitter\" class=\"icon-link\"\n               rel=\"nofollow\" target=\"_blank\"\n               href=\"https://twitter.com/TheRealDAGsHub\">\n              <i class=\"twitter large icon\"></i>\n            </a>\n            <a aria-label=\"DagsHub on YouTube\" class=\"icon-link\"\n               rel=\"nofollow\" target=\"_blank\"\n               href=\"https://youtube.com/c/dagshub\">\n              <i class=\"youtube large icon\"></i>\n            </a>\n            <a aria-label=\"DagsHub on LinkedIn\" class=\"icon-link\"\n               rel=\"nofollow\" target=\"_blank\"\n               href=\"https://www.linkedin.com/company/dagshub\">\n              <i class=\"linkedin large icon\"></i>\n            </a>\n            <a aria-label=\"join our Discord\" class=\"icon-link\"\n               rel=\"nofollow\" target=\"_blank\"\n               href=\"https://discord.com/invite/9gU36Y6\">\n              \n              <svg width=\"24\" height=\"19\" viewBox=\"0 0 24 19\" fill=\"none\" xmlns=\"http://www.w3.org/2000/svg\">\n                <path d=\"M20.2415 2.18566C18.7257 1.49015 17.1003 0.977731 15.4007 0.684245C15.3698 0.678581 15.3389 0.692736 15.3229 0.721047C15.1139 1.09286 14.8823 1.57791 14.7202 1.95916C12.8922 1.6855 11.0736 1.6855 9.28318 1.95916C9.12099 1.56944 8.88103 1.09286 8.67104 0.721047C8.6551 0.693681 8.62418 0.679525 8.59323 0.684245C6.89465 0.976793 5.26918 1.48921 3.75245 2.18566C3.73932 2.19133 3.72807 2.20077 3.7206 2.21303C0.637438 6.8192 -0.207169 11.3122 0.207167 15.7494C0.209041 15.7711 0.221228 15.7919 0.238101 15.8051C2.27228 17.2989 4.24273 18.2058 6.17659 18.807C6.20754 18.8164 6.24034 18.8051 6.26003 18.7796C6.71749 18.1549 7.12527 17.4962 7.4749 16.8035C7.49553 16.7629 7.47584 16.7148 7.43366 16.6988C6.78686 16.4534 6.17097 16.1542 5.57852 15.8145C5.53166 15.7872 5.52791 15.7201 5.57102 15.688C5.69569 15.5946 5.8204 15.4974 5.93944 15.3993C5.96098 15.3814 5.99099 15.3776 6.01631 15.3889C9.90842 17.1659 14.1221 17.1659 17.9683 15.3889C17.9936 15.3766 18.0236 15.3804 18.0461 15.3983C18.1652 15.4965 18.2898 15.5946 18.4154 15.688C18.4585 15.7201 18.4557 15.7872 18.4089 15.8145C17.8164 16.1608 17.2005 16.4534 16.5528 16.6978C16.5106 16.7139 16.4919 16.7629 16.5125 16.8035C16.8696 17.4952 17.2774 18.1539 17.7264 18.7787C17.7452 18.8051 17.7789 18.8164 17.8099 18.807C19.7531 18.2058 21.7235 17.2989 23.7577 15.8051C23.7755 15.7919 23.7868 15.7721 23.7887 15.7503C24.2845 10.6204 22.9581 6.16429 20.2724 2.21397C20.2659 2.20077 20.2546 2.19133 20.2415 2.18566ZM8.05612 13.0476C6.88433 13.0476 5.91881 11.9718 5.91881 10.6506C5.91881 9.32943 6.86561 8.25364 8.05612 8.25364C9.25598 8.25364 10.2122 9.33887 10.1934 10.6506C10.1934 11.9718 9.2466 13.0476 8.05612 13.0476ZM15.9585 13.0476C14.7867 13.0476 13.8212 11.9718 13.8212 10.6506C13.8212 9.32943 14.768 8.25364 15.9585 8.25364C17.1584 8.25364 18.1145 9.33887 18.0958 10.6506C18.0958 11.9718 17.1584 13.0476 15.9585 13.0476Z\"/>\n              </svg>\n            </a>\n          </div>\n        <div class=\"links\">\n          <a class=\"footer-item\" rel=\"noopener noreferrer\" href=\"/about\">Our Story</a>\n          <a class=\"footer-item\" rel=\"noopener noreferrer\" href=\"/careers\">Careers</a>\n              \n          <a id=\"merch-store\" class=\"footer-item\" rel=\"noopener noreferrer\"\n             href=\"https://teespring.com/stores/dagshub\">Merch</a>\n          <a class=\"footer-item\" id=\"contact-us-footer\" href=\"javascript:\">Contact Us</a>\n          <script>\n            (function() {\n              const $contactModal = $('#contact-modal');\n              const $contactForm = $contactModal.find('#contact-form');\n              $contactModal.modal('attach events', '#contact-us-footer', 'show');\n              $('#contact-us-footer').on('click', () => {\n                $contactForm.attr('action', 'contact_form');\n              });\n            })();\n          </script>\n              \n                <a class=\"footer-item\" rel=\"noopener noreferrer\" href=\"/enterprise\">Enterprise</a>\n                <a class=\"footer-item\" rel=\"noopener noreferrer\" href=\"/pricing\">Pricing</a>\n              \n        </div>\n          <h2>The home for data science collaboration</h2>\n          <div class=\"legal\">\n            <p>© Copyright Dagshub 2024</p>\n            <div class=\"\">\n              <a class=\"footer-item\" rel=\"noopener noreferrer\" href=\"/terms\">Terms of Service</a>\n              <a class=\"footer-item\" rel=\"noopener noreferrer\" href=\"/privacy\">Privacy Policy</a>\n            </div>\n          </div>\n\n        </div>\n\n      \n      \n      \n      \n      \n      \n      \n      \n      \n      \n      \n      \n\n\n  </div>\n</footer>\n\n\n</div>\n</body>\n\n\n\n\n\n\n\n\n\n\n\n<script src=\"/js/libs/emojify-1.1.0.min.js\"></script>\n<script src=\"/js/libs/clipboard-1.5.9.min.js\"></script>\n\n\n\n<script src=\"/js/gogs.js?v=7e93152b02a11856d9a165aed4f4539a540caedb\"></script>\n<script src=\"/js/dagshub.js?v=7e93152b02a11856d9a165aed4f4539a540caedb\"></script>\n\n\n\n\n\n\n\n\n\n\n\n\n\n\n\n\n\n\n</html>\n\n\n'"
     ]
    }
   ],
   "source": [
    "import mlflow\n",
    "from sklearn.naive_bayes import GaussianNB\n",
    "from sklearn.linear_model import LogisticRegression\n",
    "from sklearn.svm import SVC\n",
    "from sklearn.ensemble import RandomForestClassifier\n",
    "import xgboost as xgb\n",
    "from lightgbm import LGBMClassifier\n",
    "from sklearn.metrics import accuracy_score, classification_report\n",
    "import pandas as pd\n",
    "\n",
    "\n",
    "# Enable autologging\n",
    "mlflow.autolog()\n",
    "\n",
    "# Clean feature names to be compatible with LightGBM\n",
    "X_train.columns = [\"\".join(c if c.isalnum() else \"_\" for c in str(x)) for x in X_train.columns]\n",
    "X_test.columns = [\"\".join(c if c.isalnum() else \"_\" for c in str(x)) for x in X_test.columns]\n",
    "\n",
    "# Initialize models dictionary to store different classifiers\n",
    "models = {\n",
    "    'Gaussian Naive Bayes': GaussianNB(),\n",
    "    'Logistic Regression': LogisticRegression(max_iter=1000, random_state=42),\n",
    "    'Support Vector Machine': SVC(random_state=42),\n",
    "    'Random Forest': RandomForestClassifier(random_state=42),\n",
    "    'XGBoost': xgb.XGBClassifier(random_state=42, use_label_encoder=False, eval_metric='logloss'),\n",
    "    'LightGBM': LGBMClassifier(random_state=42)\n",
    "}\n",
    "\n",
    "# Dictionary to store model performance metrics\n",
    "model_performance = {}\n",
    "\n",
    "# Loop through each model to train and evaluate\n",
    "for name, model in models.items():\n",
    "    print(f'\\nTraining and evaluating {name}...')\n",
    "    with mlflow.start_run(run_name=name) as run:  # Added run_name\n",
    "        # Log parameters (manual logging for specific models)\n",
    "        if name == 'Logistic Regression':\n",
    "            mlflow.log_param(\"max_iter\", 1000)\n",
    "            mlflow.log_param(\"random_state\", 42)\n",
    "        elif name == 'XGBoost':\n",
    "            mlflow.log_param(\"random_state\", 42)\n",
    "            mlflow.log_param(\"use_label_encoder\", False)\n",
    "            mlflow.log_param(\"eval_metric\", 'logloss')\n",
    "        else:\n",
    "            mlflow.log_param(\"random_state\", 42)\n",
    "\n",
    "        # Add a tag for the model type\n",
    "        mlflow.set_tag(\"model_type\", name)\n",
    "\n",
    "        # Train the model on the training data\n",
    "        model.fit(X_train, y_train_encoded)\n",
    "\n",
    "        # Make predictions on the test data\n",
    "        y_pred = model.predict(X_test)\n",
    "\n",
    "        # Evaluate model performance\n",
    "        accuracy = accuracy_score(y_test_encoded, y_pred)\n",
    "        class_report = classification_report(y_test_encoded, y_pred)\n",
    "\n",
    "        # Store accuracy in model_performance dictionary\n",
    "        model_performance[name] = accuracy\n",
    "\n",
    "        # Log metrics (manual logging for accuracy)\n",
    "        mlflow.log_metric(\"accuracy\", accuracy)\n",
    "\n",
    "        # Log classification report metrics (manual logging)\n",
    "        report_dict = classification_report(y_test_encoded, y_pred, output_dict=True)\n",
    "        for label, metrics in report_dict.items():\n",
    "            if isinstance(metrics, dict):\n",
    "                for metric_name, metric_value in metrics.items():\n",
    "                    mlflow.log_metric(f\"{name}_{label}_{metric_name}\", metric_value)\n",
    "\n",
    "        # Log the model (autologging will also log the model)\n",
    "        mlflow.sklearn.log_model(model, artifact_path=\"model\")\n",
    "\n",
    "        # Print accuracy and classification report for each model\n",
    "        print(f'{name} - Accuracy: {accuracy:.4f}')\n",
    "        print(f'{name} - Classification Report:\\n{class_report}')\n",
    "\n",
    "print('\\nModel Comparison based on Accuracy:')\n",
    "\n",
    "# Iterate through the model_performance dictionary to compare accuracies\n",
    "for model, accuracy in model_performance.items():\n",
    "    print(f'{model}: Accuracy = {accuracy:.4f}')\n",
    "\n",
    "# Identify the best performing model based on accuracy\n",
    "best_model_name = max(model_performance, key=model_performance.get)\n",
    "best_accuracy = model_performance[best_model_name]\n",
    "\n",
    "# Print the best performing model and its accuracy\n",
    "print(f'\\nBest Performing Model: {best_model_name} with Accuracy = {best_accuracy:.4f}')"
   ]
  }
 ],
 "metadata": {
  "kernelspec": {
   "display_name": "base",
   "language": "python",
   "name": "python3"
  },
  "language_info": {
   "codemirror_mode": {
    "name": "ipython",
    "version": 3
   },
   "file_extension": ".py",
   "mimetype": "text/x-python",
   "name": "python",
   "nbconvert_exporter": "python",
   "pygments_lexer": "ipython3",
   "version": "3.12.4"
  }
 },
 "nbformat": 4,
 "nbformat_minor": 5
}
