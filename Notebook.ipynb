{
 "cells": [
  {
   "cell_type": "code",
   "execution_count": 1,
   "id": "initial_id",
   "metadata": {
    "ExecuteTime": {
     "end_time": "2024-12-20T22:01:39.097995Z",
     "start_time": "2024-12-20T22:01:38.975468Z"
    },
    "collapsed": true
   },
   "outputs": [],
   "source": [
    "import pandas as pd\n",
    "from matplotlib import pyplot as plt\n",
    "import seaborn as sns\n",
    "import numpy as np\n",
    "\n",
    "df = pd.read_csv('survey_results.csv')"
   ]
  },
  {
   "cell_type": "code",
   "execution_count": 2,
   "id": "931dcc6ca5e4d2ca",
   "metadata": {
    "ExecuteTime": {
     "end_time": "2024-12-20T22:01:39.125959Z",
     "start_time": "2024-12-20T22:01:39.110036Z"
    }
   },
   "outputs": [
    {
     "name": "stdout",
     "output_type": "stream",
     "text": [
      "(30010, 17)\n"
     ]
    },
    {
     "data": {
      "text/html": [
       "<div>\n",
       "<style scoped>\n",
       "    .dataframe tbody tr th:only-of-type {\n",
       "        vertical-align: middle;\n",
       "    }\n",
       "\n",
       "    .dataframe tbody tr th {\n",
       "        vertical-align: top;\n",
       "    }\n",
       "\n",
       "    .dataframe thead th {\n",
       "        text-align: right;\n",
       "    }\n",
       "</style>\n",
       "<table border=\"1\" class=\"dataframe\">\n",
       "  <thead>\n",
       "    <tr style=\"text-align: right;\">\n",
       "      <th></th>\n",
       "      <th>respondent_id</th>\n",
       "      <th>age</th>\n",
       "      <th>gender</th>\n",
       "      <th>zone</th>\n",
       "      <th>occupation</th>\n",
       "      <th>income_levels</th>\n",
       "      <th>consume_frequency(weekly)</th>\n",
       "      <th>current_brand</th>\n",
       "      <th>preferable_consumption_size</th>\n",
       "      <th>awareness_of_other_brands</th>\n",
       "      <th>reasons_for_choosing_brands</th>\n",
       "      <th>flavor_preference</th>\n",
       "      <th>purchase_channel</th>\n",
       "      <th>packaging_preference</th>\n",
       "      <th>health_concerns</th>\n",
       "      <th>typical_consumption_situations</th>\n",
       "      <th>price_range</th>\n",
       "    </tr>\n",
       "  </thead>\n",
       "  <tbody>\n",
       "    <tr>\n",
       "      <th>0</th>\n",
       "      <td>R00001</td>\n",
       "      <td>30</td>\n",
       "      <td>M</td>\n",
       "      <td>Urban</td>\n",
       "      <td>Working Professional</td>\n",
       "      <td>&lt;10L</td>\n",
       "      <td>3-4 times</td>\n",
       "      <td>Newcomer</td>\n",
       "      <td>Medium (500 ml)</td>\n",
       "      <td>0 to 1</td>\n",
       "      <td>Price</td>\n",
       "      <td>Traditional</td>\n",
       "      <td>Online</td>\n",
       "      <td>Simple</td>\n",
       "      <td>Medium (Moderately health-conscious)</td>\n",
       "      <td>Active (eg. Sports, gym)</td>\n",
       "      <td>100-150</td>\n",
       "    </tr>\n",
       "    <tr>\n",
       "      <th>1</th>\n",
       "      <td>R00002</td>\n",
       "      <td>46</td>\n",
       "      <td>F</td>\n",
       "      <td>Metro</td>\n",
       "      <td>Working Professional</td>\n",
       "      <td>&gt; 35L</td>\n",
       "      <td>5-7 times</td>\n",
       "      <td>Established</td>\n",
       "      <td>Medium (500 ml)</td>\n",
       "      <td>2 to 4</td>\n",
       "      <td>Quality</td>\n",
       "      <td>Exotic</td>\n",
       "      <td>Retail Store</td>\n",
       "      <td>Premium</td>\n",
       "      <td>Medium (Moderately health-conscious)</td>\n",
       "      <td>Social (eg. Parties)</td>\n",
       "      <td>200-250</td>\n",
       "    </tr>\n",
       "    <tr>\n",
       "      <th>2</th>\n",
       "      <td>R00003</td>\n",
       "      <td>41</td>\n",
       "      <td>F</td>\n",
       "      <td>Rural</td>\n",
       "      <td>Working Professional</td>\n",
       "      <td>&gt; 35L</td>\n",
       "      <td>3-4 times</td>\n",
       "      <td>Newcomer</td>\n",
       "      <td>Medium (500 ml)</td>\n",
       "      <td>2 to 4</td>\n",
       "      <td>Availability</td>\n",
       "      <td>Traditional</td>\n",
       "      <td>Retail Store</td>\n",
       "      <td>Premium</td>\n",
       "      <td>Medium (Moderately health-conscious)</td>\n",
       "      <td>Active (eg. Sports, gym)</td>\n",
       "      <td>200-250</td>\n",
       "    </tr>\n",
       "    <tr>\n",
       "      <th>3</th>\n",
       "      <td>R00004</td>\n",
       "      <td>33</td>\n",
       "      <td>F</td>\n",
       "      <td>Urban</td>\n",
       "      <td>Working Professional</td>\n",
       "      <td>16L - 25L</td>\n",
       "      <td>5-7 times</td>\n",
       "      <td>Newcomer</td>\n",
       "      <td>Medium (500 ml)</td>\n",
       "      <td>0 to 1</td>\n",
       "      <td>Brand Reputation</td>\n",
       "      <td>Exotic</td>\n",
       "      <td>Online</td>\n",
       "      <td>Eco-Friendly</td>\n",
       "      <td>Low (Not very concerned)</td>\n",
       "      <td>Active (eg. Sports, gym)</td>\n",
       "      <td>150-200</td>\n",
       "    </tr>\n",
       "    <tr>\n",
       "      <th>4</th>\n",
       "      <td>R00005</td>\n",
       "      <td>23</td>\n",
       "      <td>M</td>\n",
       "      <td>Metro</td>\n",
       "      <td>Student</td>\n",
       "      <td>NaN</td>\n",
       "      <td>3-4 times</td>\n",
       "      <td>Established</td>\n",
       "      <td>Medium (500 ml)</td>\n",
       "      <td>0 to 1</td>\n",
       "      <td>Availability</td>\n",
       "      <td>Traditional</td>\n",
       "      <td>Online</td>\n",
       "      <td>Premium</td>\n",
       "      <td>Medium (Moderately health-conscious)</td>\n",
       "      <td>Active (eg. Sports, gym)</td>\n",
       "      <td>50-100</td>\n",
       "    </tr>\n",
       "  </tbody>\n",
       "</table>\n",
       "</div>"
      ],
      "text/plain": [
       "  respondent_id  age gender   zone            occupation income_levels  \\\n",
       "0        R00001   30      M  Urban  Working Professional          <10L   \n",
       "1        R00002   46      F  Metro  Working Professional         > 35L   \n",
       "2        R00003   41      F  Rural  Working Professional         > 35L   \n",
       "3        R00004   33      F  Urban  Working Professional     16L - 25L   \n",
       "4        R00005   23      M  Metro               Student           NaN   \n",
       "\n",
       "  consume_frequency(weekly) current_brand preferable_consumption_size  \\\n",
       "0                 3-4 times      Newcomer             Medium (500 ml)   \n",
       "1                 5-7 times   Established             Medium (500 ml)   \n",
       "2                 3-4 times      Newcomer             Medium (500 ml)   \n",
       "3                 5-7 times      Newcomer             Medium (500 ml)   \n",
       "4                 3-4 times   Established             Medium (500 ml)   \n",
       "\n",
       "  awareness_of_other_brands reasons_for_choosing_brands flavor_preference  \\\n",
       "0                    0 to 1                       Price       Traditional   \n",
       "1                    2 to 4                     Quality            Exotic   \n",
       "2                    2 to 4                Availability       Traditional   \n",
       "3                    0 to 1            Brand Reputation            Exotic   \n",
       "4                    0 to 1                Availability       Traditional   \n",
       "\n",
       "  purchase_channel packaging_preference                       health_concerns  \\\n",
       "0           Online               Simple  Medium (Moderately health-conscious)   \n",
       "1     Retail Store              Premium  Medium (Moderately health-conscious)   \n",
       "2     Retail Store              Premium  Medium (Moderately health-conscious)   \n",
       "3           Online         Eco-Friendly              Low (Not very concerned)   \n",
       "4           Online              Premium  Medium (Moderately health-conscious)   \n",
       "\n",
       "  typical_consumption_situations price_range  \n",
       "0       Active (eg. Sports, gym)     100-150  \n",
       "1           Social (eg. Parties)     200-250  \n",
       "2       Active (eg. Sports, gym)     200-250  \n",
       "3       Active (eg. Sports, gym)     150-200  \n",
       "4       Active (eg. Sports, gym)      50-100  "
      ]
     },
     "execution_count": 2,
     "metadata": {},
     "output_type": "execute_result"
    }
   ],
   "source": [
    "print(df.shape)\n",
    "df.head()"
   ]
  },
  {
   "cell_type": "markdown",
   "id": "c1add72c67f9da33",
   "metadata": {},
   "source": [
    "<h1 align='center' style=\"color:#daa520\">Cleaning Data<h1>"
   ]
  },
  {
   "cell_type": "markdown",
   "id": "bc12c37cab5d3a55",
   "metadata": {},
   "source": [
    "### 1. Check duplicated"
   ]
  },
  {
   "cell_type": "code",
   "execution_count": 3,
   "id": "c8bf7a0892bd194e",
   "metadata": {
    "ExecuteTime": {
     "end_time": "2024-12-20T22:01:39.248485Z",
     "start_time": "2024-12-20T22:01:39.203514Z"
    }
   },
   "outputs": [
    {
     "data": {
      "text/plain": [
       "10"
      ]
     },
     "execution_count": 3,
     "metadata": {},
     "output_type": "execute_result"
    }
   ],
   "source": [
    "# 1. Check duplicated\n",
    "df.duplicated().sum()"
   ]
  },
  {
   "cell_type": "code",
   "execution_count": 4,
   "id": "45026cd37696244b",
   "metadata": {
    "ExecuteTime": {
     "end_time": "2024-12-20T22:01:39.386910Z",
     "start_time": "2024-12-20T22:01:39.333676Z"
    }
   },
   "outputs": [],
   "source": [
    "df.drop_duplicates(keep='first', inplace=True)"
   ]
  },
  {
   "cell_type": "code",
   "execution_count": 5,
   "id": "217b6a33d72794b4",
   "metadata": {
    "ExecuteTime": {
     "end_time": "2024-12-20T22:01:39.496121Z",
     "start_time": "2024-12-20T22:01:39.450753Z"
    }
   },
   "outputs": [
    {
     "data": {
      "text/plain": [
       "0"
      ]
     },
     "execution_count": 5,
     "metadata": {},
     "output_type": "execute_result"
    }
   ],
   "source": [
    "df.duplicated().sum()"
   ]
  },
  {
   "cell_type": "code",
   "execution_count": 6,
   "id": "caddc47bdfdb58d",
   "metadata": {
    "ExecuteTime": {
     "end_time": "2024-12-20T22:01:39.521357Z",
     "start_time": "2024-12-20T22:01:39.516450Z"
    }
   },
   "outputs": [
    {
     "data": {
      "text/plain": [
       "(30000, 17)"
      ]
     },
     "execution_count": 6,
     "metadata": {},
     "output_type": "execute_result"
    }
   ],
   "source": [
    "df.shape"
   ]
  },
  {
   "cell_type": "markdown",
   "id": "b4531dd5533e4178",
   "metadata": {},
   "source": [
    "### 2. Check outliers from age column"
   ]
  },
  {
   "cell_type": "code",
   "execution_count": 7,
   "id": "62492450b78df9e4",
   "metadata": {
    "ExecuteTime": {
     "end_time": "2024-12-20T22:01:39.633287Z",
     "start_time": "2024-12-20T22:01:39.601446Z"
    }
   },
   "outputs": [
    {
     "name": "stdout",
     "output_type": "stream",
     "text": [
      "<class 'pandas.core.frame.DataFrame'>\n",
      "Index: 30000 entries, 0 to 30009\n",
      "Data columns (total 17 columns):\n",
      " #   Column                          Non-Null Count  Dtype \n",
      "---  ------                          --------------  ----- \n",
      " 0   respondent_id                   30000 non-null  object\n",
      " 1   age                             30000 non-null  int64 \n",
      " 2   gender                          30000 non-null  object\n",
      " 3   zone                            30000 non-null  object\n",
      " 4   occupation                      30000 non-null  object\n",
      " 5   income_levels                   21939 non-null  object\n",
      " 6   consume_frequency(weekly)       29992 non-null  object\n",
      " 7   current_brand                   30000 non-null  object\n",
      " 8   preferable_consumption_size     30000 non-null  object\n",
      " 9   awareness_of_other_brands       30000 non-null  object\n",
      " 10  reasons_for_choosing_brands     30000 non-null  object\n",
      " 11  flavor_preference               30000 non-null  object\n",
      " 12  purchase_channel                29990 non-null  object\n",
      " 13  packaging_preference            30000 non-null  object\n",
      " 14  health_concerns                 30000 non-null  object\n",
      " 15  typical_consumption_situations  30000 non-null  object\n",
      " 16  price_range                     30000 non-null  object\n",
      "dtypes: int64(1), object(16)\n",
      "memory usage: 4.1+ MB\n"
     ]
    }
   ],
   "source": [
    "df.info()"
   ]
  },
  {
   "cell_type": "code",
   "execution_count": 8,
   "id": "37c8cd4837418c1c",
   "metadata": {
    "ExecuteTime": {
     "end_time": "2024-12-20T22:01:39.714444Z",
     "start_time": "2024-12-20T22:01:39.703398Z"
    }
   },
   "outputs": [
    {
     "data": {
      "text/html": [
       "<div>\n",
       "<style scoped>\n",
       "    .dataframe tbody tr th:only-of-type {\n",
       "        vertical-align: middle;\n",
       "    }\n",
       "\n",
       "    .dataframe tbody tr th {\n",
       "        vertical-align: top;\n",
       "    }\n",
       "\n",
       "    .dataframe thead th {\n",
       "        text-align: right;\n",
       "    }\n",
       "</style>\n",
       "<table border=\"1\" class=\"dataframe\">\n",
       "  <thead>\n",
       "    <tr style=\"text-align: right;\">\n",
       "      <th></th>\n",
       "      <th>age</th>\n",
       "    </tr>\n",
       "  </thead>\n",
       "  <tbody>\n",
       "    <tr>\n",
       "      <th>count</th>\n",
       "      <td>30000.000000</td>\n",
       "    </tr>\n",
       "    <tr>\n",
       "      <th>mean</th>\n",
       "      <td>33.048167</td>\n",
       "    </tr>\n",
       "    <tr>\n",
       "      <th>std</th>\n",
       "      <td>13.438904</td>\n",
       "    </tr>\n",
       "    <tr>\n",
       "      <th>min</th>\n",
       "      <td>18.000000</td>\n",
       "    </tr>\n",
       "    <tr>\n",
       "      <th>25%</th>\n",
       "      <td>23.000000</td>\n",
       "    </tr>\n",
       "    <tr>\n",
       "      <th>50%</th>\n",
       "      <td>31.000000</td>\n",
       "    </tr>\n",
       "    <tr>\n",
       "      <th>75%</th>\n",
       "      <td>40.000000</td>\n",
       "    </tr>\n",
       "    <tr>\n",
       "      <th>max</th>\n",
       "      <td>604.000000</td>\n",
       "    </tr>\n",
       "  </tbody>\n",
       "</table>\n",
       "</div>"
      ],
      "text/plain": [
       "                age\n",
       "count  30000.000000\n",
       "mean      33.048167\n",
       "std       13.438904\n",
       "min       18.000000\n",
       "25%       23.000000\n",
       "50%       31.000000\n",
       "75%       40.000000\n",
       "max      604.000000"
      ]
     },
     "execution_count": 8,
     "metadata": {},
     "output_type": "execute_result"
    }
   ],
   "source": [
    "df.describe()"
   ]
  },
  {
   "cell_type": "code",
   "execution_count": 9,
   "id": "7164de5400ab2e18",
   "metadata": {
    "ExecuteTime": {
     "end_time": "2024-12-20T22:01:39.967754Z",
     "start_time": "2024-12-20T22:01:39.798088Z"
    }
   },
   "outputs": [
    {
     "data": {
      "image/png": "[encoded data removed]",
      "text/plain": [
       "<Figure size 800x600 with 1 Axes>"
      ]
     },
     "metadata": {},
     "output_type": "display_data"
    }
   ],
   "source": [
    "plt.figure(figsize=(8, 6))\n",
    "sns.boxplot(data=df, y='age')\n",
    "plt.title('Boxplot of Age')\n",
    "plt.xlabel('Age')\n",
    "plt.show()"
   ]
  },
  {
   "cell_type": "code",
   "execution_count": 10,
   "id": "4b309691d94b7e00",
   "metadata": {
    "ExecuteTime": {
     "end_time": "2024-12-20T22:01:40.014297Z",
     "start_time": "2024-12-20T22:01:39.999035Z"
    }
   },
   "outputs": [
    {
     "name": "stdout",
     "output_type": "stream",
     "text": [
      "(9, 17)\n"
     ]
    },
    {
     "data": {
      "text/html": [
       "<div>\n",
       "<style scoped>\n",
       "    .dataframe tbody tr th:only-of-type {\n",
       "        vertical-align: middle;\n",
       "    }\n",
       "\n",
       "    .dataframe tbody tr th {\n",
       "        vertical-align: top;\n",
       "    }\n",
       "\n",
       "    .dataframe thead th {\n",
       "        text-align: right;\n",
       "    }\n",
       "</style>\n",
       "<table border=\"1\" class=\"dataframe\">\n",
       "  <thead>\n",
       "    <tr style=\"text-align: right;\">\n",
       "      <th></th>\n",
       "      <th>respondent_id</th>\n",
       "      <th>age</th>\n",
       "      <th>gender</th>\n",
       "      <th>zone</th>\n",
       "      <th>occupation</th>\n",
       "      <th>income_levels</th>\n",
       "      <th>consume_frequency(weekly)</th>\n",
       "      <th>current_brand</th>\n",
       "      <th>preferable_consumption_size</th>\n",
       "      <th>awareness_of_other_brands</th>\n",
       "      <th>reasons_for_choosing_brands</th>\n",
       "      <th>flavor_preference</th>\n",
       "      <th>purchase_channel</th>\n",
       "      <th>packaging_preference</th>\n",
       "      <th>health_concerns</th>\n",
       "      <th>typical_consumption_situations</th>\n",
       "      <th>price_range</th>\n",
       "    </tr>\n",
       "  </thead>\n",
       "  <tbody>\n",
       "    <tr>\n",
       "      <th>3099</th>\n",
       "      <td>R03098</td>\n",
       "      <td>453</td>\n",
       "      <td>M</td>\n",
       "      <td>Metro</td>\n",
       "      <td>Working Professional</td>\n",
       "      <td>26L - 35L</td>\n",
       "      <td>3-4 times</td>\n",
       "      <td>Established</td>\n",
       "      <td>Medium (500 ml)</td>\n",
       "      <td>2 to 4</td>\n",
       "      <td>Brand Reputation</td>\n",
       "      <td>Traditional</td>\n",
       "      <td>Retail Store</td>\n",
       "      <td>Premium</td>\n",
       "      <td>Medium (Moderately health-conscious)</td>\n",
       "      <td>Social (eg. Parties)</td>\n",
       "      <td>200-250</td>\n",
       "    </tr>\n",
       "    <tr>\n",
       "      <th>6262</th>\n",
       "      <td>R06260</td>\n",
       "      <td>428</td>\n",
       "      <td>M</td>\n",
       "      <td>Urban</td>\n",
       "      <td>Entrepreneur</td>\n",
       "      <td>16L - 25L</td>\n",
       "      <td>5-7 times</td>\n",
       "      <td>Established</td>\n",
       "      <td>Large (1 L)</td>\n",
       "      <td>above 4</td>\n",
       "      <td>Quality</td>\n",
       "      <td>Exotic</td>\n",
       "      <td>Online</td>\n",
       "      <td>Simple</td>\n",
       "      <td>High (Very health-conscious)</td>\n",
       "      <td>Social (eg. Parties)</td>\n",
       "      <td>200-250</td>\n",
       "    </tr>\n",
       "    <tr>\n",
       "      <th>12403</th>\n",
       "      <td>R12398</td>\n",
       "      <td>604</td>\n",
       "      <td>M</td>\n",
       "      <td>Metro</td>\n",
       "      <td>Retired</td>\n",
       "      <td>&lt;10L</td>\n",
       "      <td>0-2 times</td>\n",
       "      <td>Newcomer</td>\n",
       "      <td>Small (250 ml)</td>\n",
       "      <td>2 to 4</td>\n",
       "      <td>Availability</td>\n",
       "      <td>Traditional</td>\n",
       "      <td>Online</td>\n",
       "      <td>Simple</td>\n",
       "      <td>Medium (Moderately health-conscious)</td>\n",
       "      <td>Casual (eg. At home)</td>\n",
       "      <td>100-150</td>\n",
       "    </tr>\n",
       "    <tr>\n",
       "      <th>22549</th>\n",
       "      <td>R22542</td>\n",
       "      <td>457</td>\n",
       "      <td>M</td>\n",
       "      <td>Metro</td>\n",
       "      <td>Working Professional</td>\n",
       "      <td>16L - 25L</td>\n",
       "      <td>3-4 times</td>\n",
       "      <td>Newcomer</td>\n",
       "      <td>Small (250 ml)</td>\n",
       "      <td>2 to 4</td>\n",
       "      <td>Price</td>\n",
       "      <td>Traditional</td>\n",
       "      <td>Online</td>\n",
       "      <td>Premium</td>\n",
       "      <td>High (Very health-conscious)</td>\n",
       "      <td>Casual (eg. At home)</td>\n",
       "      <td>200-250</td>\n",
       "    </tr>\n",
       "    <tr>\n",
       "      <th>22918</th>\n",
       "      <td>R22911</td>\n",
       "      <td>267</td>\n",
       "      <td>F</td>\n",
       "      <td>Metro</td>\n",
       "      <td>Working Professional</td>\n",
       "      <td>16L - 25L</td>\n",
       "      <td>3-4 times</td>\n",
       "      <td>Established</td>\n",
       "      <td>Medium (500 ml)</td>\n",
       "      <td>above 4</td>\n",
       "      <td>Brand Reputation</td>\n",
       "      <td>Exotic</td>\n",
       "      <td>Online</td>\n",
       "      <td>Eco-Friendly</td>\n",
       "      <td>Low (Not very concerned)</td>\n",
       "      <td>Active (eg. Sports, gym)</td>\n",
       "      <td>150-200</td>\n",
       "    </tr>\n",
       "    <tr>\n",
       "      <th>24958</th>\n",
       "      <td>R24950</td>\n",
       "      <td>285</td>\n",
       "      <td>M</td>\n",
       "      <td>Semi-Urban</td>\n",
       "      <td>Working Professional</td>\n",
       "      <td>&gt; 35L</td>\n",
       "      <td>0-2 times</td>\n",
       "      <td>Newcomer</td>\n",
       "      <td>Small (250 ml)</td>\n",
       "      <td>2 to 4</td>\n",
       "      <td>Price</td>\n",
       "      <td>Traditional</td>\n",
       "      <td>Online</td>\n",
       "      <td>Simple</td>\n",
       "      <td>Medium (Moderately health-conscious)</td>\n",
       "      <td>Active (eg. Sports, gym)</td>\n",
       "      <td>150-200</td>\n",
       "    </tr>\n",
       "    <tr>\n",
       "      <th>24960</th>\n",
       "      <td>R24952</td>\n",
       "      <td>192</td>\n",
       "      <td>F</td>\n",
       "      <td>Urban</td>\n",
       "      <td>Student</td>\n",
       "      <td>NaN</td>\n",
       "      <td>3-4 times</td>\n",
       "      <td>Newcomer</td>\n",
       "      <td>Medium (500 ml)</td>\n",
       "      <td>0 to 1</td>\n",
       "      <td>Price</td>\n",
       "      <td>Traditional</td>\n",
       "      <td>Online</td>\n",
       "      <td>Simple</td>\n",
       "      <td>Low (Not very concerned)</td>\n",
       "      <td>Active (eg. Sports, gym)</td>\n",
       "      <td>50-100</td>\n",
       "    </tr>\n",
       "    <tr>\n",
       "      <th>25105</th>\n",
       "      <td>R25096</td>\n",
       "      <td>203</td>\n",
       "      <td>M</td>\n",
       "      <td>Metro</td>\n",
       "      <td>Working Professional</td>\n",
       "      <td>16L - 25L</td>\n",
       "      <td>0-2 times</td>\n",
       "      <td>Established</td>\n",
       "      <td>Small (250 ml)</td>\n",
       "      <td>2 to 4</td>\n",
       "      <td>Brand Reputation</td>\n",
       "      <td>Exotic</td>\n",
       "      <td>Retail Store</td>\n",
       "      <td>Premium</td>\n",
       "      <td>High (Very health-conscious)</td>\n",
       "      <td>Active (eg. Sports, gym)</td>\n",
       "      <td>150-200</td>\n",
       "    </tr>\n",
       "    <tr>\n",
       "      <th>28770</th>\n",
       "      <td>R28761</td>\n",
       "      <td>428</td>\n",
       "      <td>F</td>\n",
       "      <td>Rural</td>\n",
       "      <td>Working Professional</td>\n",
       "      <td>26L - 35L</td>\n",
       "      <td>0-2 times</td>\n",
       "      <td>Established</td>\n",
       "      <td>Small (250 ml)</td>\n",
       "      <td>2 to 4</td>\n",
       "      <td>Brand Reputation</td>\n",
       "      <td>Exotic</td>\n",
       "      <td>Online</td>\n",
       "      <td>Simple</td>\n",
       "      <td>Medium (Moderately health-conscious)</td>\n",
       "      <td>Casual (eg. At home)</td>\n",
       "      <td>150-200</td>\n",
       "    </tr>\n",
       "  </tbody>\n",
       "</table>\n",
       "</div>"
      ],
      "text/plain": [
       "      respondent_id  age gender        zone            occupation  \\\n",
       "3099         R03098  453      M       Metro  Working Professional   \n",
       "6262         R06260  428      M       Urban          Entrepreneur   \n",
       "12403        R12398  604      M       Metro               Retired   \n",
       "22549        R22542  457      M       Metro  Working Professional   \n",
       "22918        R22911  267      F       Metro  Working Professional   \n",
       "24958        R24950  285      M  Semi-Urban  Working Professional   \n",
       "24960        R24952  192      F       Urban               Student   \n",
       "25105        R25096  203      M       Metro  Working Professional   \n",
       "28770        R28761  428      F       Rural  Working Professional   \n",
       "\n",
       "      income_levels consume_frequency(weekly) current_brand  \\\n",
       "3099      26L - 35L                 3-4 times   Established   \n",
       "6262      16L - 25L                 5-7 times   Established   \n",
       "12403          <10L                 0-2 times      Newcomer   \n",
       "22549     16L - 25L                 3-4 times      Newcomer   \n",
       "22918     16L - 25L                 3-4 times   Established   \n",
       "24958         > 35L                 0-2 times      Newcomer   \n",
       "24960           NaN                 3-4 times      Newcomer   \n",
       "25105     16L - 25L                 0-2 times   Established   \n",
       "28770     26L - 35L                 0-2 times   Established   \n",
       "\n",
       "      preferable_consumption_size awareness_of_other_brands  \\\n",
       "3099              Medium (500 ml)                    2 to 4   \n",
       "6262                  Large (1 L)                   above 4   \n",
       "12403              Small (250 ml)                    2 to 4   \n",
       "22549              Small (250 ml)                    2 to 4   \n",
       "22918             Medium (500 ml)                   above 4   \n",
       "24958              Small (250 ml)                    2 to 4   \n",
       "24960             Medium (500 ml)                    0 to 1   \n",
       "25105              Small (250 ml)                    2 to 4   \n",
       "28770              Small (250 ml)                    2 to 4   \n",
       "\n",
       "      reasons_for_choosing_brands flavor_preference purchase_channel  \\\n",
       "3099             Brand Reputation       Traditional     Retail Store   \n",
       "6262                      Quality            Exotic           Online   \n",
       "12403                Availability       Traditional           Online   \n",
       "22549                       Price       Traditional           Online   \n",
       "22918            Brand Reputation            Exotic           Online   \n",
       "24958                       Price       Traditional           Online   \n",
       "24960                       Price       Traditional           Online   \n",
       "25105            Brand Reputation            Exotic     Retail Store   \n",
       "28770            Brand Reputation            Exotic           Online   \n",
       "\n",
       "      packaging_preference                       health_concerns  \\\n",
       "3099               Premium  Medium (Moderately health-conscious)   \n",
       "6262                Simple          High (Very health-conscious)   \n",
       "12403               Simple  Medium (Moderately health-conscious)   \n",
       "22549              Premium          High (Very health-conscious)   \n",
       "22918         Eco-Friendly              Low (Not very concerned)   \n",
       "24958               Simple  Medium (Moderately health-conscious)   \n",
       "24960               Simple              Low (Not very concerned)   \n",
       "25105              Premium          High (Very health-conscious)   \n",
       "28770               Simple  Medium (Moderately health-conscious)   \n",
       "\n",
       "      typical_consumption_situations price_range  \n",
       "3099            Social (eg. Parties)     200-250  \n",
       "6262            Social (eg. Parties)     200-250  \n",
       "12403           Casual (eg. At home)     100-150  \n",
       "22549           Casual (eg. At home)     200-250  \n",
       "22918       Active (eg. Sports, gym)     150-200  \n",
       "24958       Active (eg. Sports, gym)     150-200  \n",
       "24960       Active (eg. Sports, gym)      50-100  \n",
       "25105       Active (eg. Sports, gym)     150-200  \n",
       "28770           Casual (eg. At home)     150-200  "
      ]
     },
     "execution_count": 10,
     "metadata": {},
     "output_type": "execute_result"
    }
   ],
   "source": [
    "print(df[df['age'] > 100].shape)\n",
    "df[df['age'] > 100]\n"
   ]
  },
  {
   "cell_type": "code",
   "execution_count": 11,
   "id": "7cec7257906bdf75",
   "metadata": {
    "ExecuteTime": {
     "end_time": "2024-12-20T22:01:40.080474Z",
     "start_time": "2024-12-20T22:01:40.075779Z"
    }
   },
   "outputs": [
    {
     "data": {
      "text/plain": [
       "604"
      ]
     },
     "execution_count": 11,
     "metadata": {},
     "output_type": "execute_result"
    }
   ],
   "source": [
    "df[df['age'] > 100]['age'].max()"
   ]
  },
  {
   "cell_type": "code",
   "execution_count": 12,
   "id": "52cede4c9e633b7e",
   "metadata": {
    "ExecuteTime": {
     "end_time": "2024-12-20T22:01:40.185139Z",
     "start_time": "2024-12-20T22:01:40.174353Z"
    }
   },
   "outputs": [],
   "source": [
    "# Drop age which greater than 100\n",
    "df = df[df['age'] < 100]"
   ]
  },
  {
   "cell_type": "code",
   "execution_count": 13,
   "id": "c108567eb9fd3daf",
   "metadata": {
    "ExecuteTime": {
     "end_time": "2024-12-20T22:01:40.485646Z",
     "start_time": "2024-12-20T22:01:40.324818Z"
    }
   },
   "outputs": [
    {
     "data": {
      "image/png": "[encoded data removed]",
      "text/plain": [
       "<Figure size 800x600 with 1 Axes>"
      ]
     },
     "metadata": {},
     "output_type": "display_data"
    }
   ],
   "source": [
    "plt.figure(figsize=(8, 6))\n",
    "sns.boxplot(data=df, y='age')\n",
    "plt.title('Boxplot of Age')\n",
    "plt.xlabel('Age')\n",
    "plt.show()"
   ]
  },
  {
   "cell_type": "code",
   "execution_count": 14,
   "id": "611c0cfca377e34b",
   "metadata": {
    "ExecuteTime": {
     "end_time": "2024-12-20T22:01:40.494439Z",
     "start_time": "2024-12-20T22:01:40.491339Z"
    }
   },
   "outputs": [
    {
     "data": {
      "text/plain": [
       "(29991, 17)"
      ]
     },
     "execution_count": 14,
     "metadata": {},
     "output_type": "execute_result"
    }
   ],
   "source": [
    "df.shape"
   ]
  },
  {
   "cell_type": "markdown",
   "id": "8c6bc35a9d7f4d2c",
   "metadata": {},
   "source": [
    "### 3. How many null values are present in the consume_frequency(weekly) column? What is the mode value used to fill these null values?\n"
   ]
  },
  {
   "cell_type": "code",
   "execution_count": 15,
   "id": "702ffedcd927266f",
   "metadata": {
    "ExecuteTime": {
     "end_time": "2024-12-20T22:01:40.537902Z",
     "start_time": "2024-12-20T22:01:40.526720Z"
    }
   },
   "outputs": [
    {
     "data": {
      "text/html": [
       "<div>\n",
       "<style scoped>\n",
       "    .dataframe tbody tr th:only-of-type {\n",
       "        vertical-align: middle;\n",
       "    }\n",
       "\n",
       "    .dataframe tbody tr th {\n",
       "        vertical-align: top;\n",
       "    }\n",
       "\n",
       "    .dataframe thead th {\n",
       "        text-align: right;\n",
       "    }\n",
       "</style>\n",
       "<table border=\"1\" class=\"dataframe\">\n",
       "  <thead>\n",
       "    <tr style=\"text-align: right;\">\n",
       "      <th></th>\n",
       "      <th>respondent_id</th>\n",
       "      <th>age</th>\n",
       "      <th>gender</th>\n",
       "      <th>zone</th>\n",
       "      <th>occupation</th>\n",
       "      <th>income_levels</th>\n",
       "      <th>consume_frequency(weekly)</th>\n",
       "      <th>current_brand</th>\n",
       "      <th>preferable_consumption_size</th>\n",
       "      <th>awareness_of_other_brands</th>\n",
       "      <th>reasons_for_choosing_brands</th>\n",
       "      <th>flavor_preference</th>\n",
       "      <th>purchase_channel</th>\n",
       "      <th>packaging_preference</th>\n",
       "      <th>health_concerns</th>\n",
       "      <th>typical_consumption_situations</th>\n",
       "      <th>price_range</th>\n",
       "    </tr>\n",
       "  </thead>\n",
       "  <tbody>\n",
       "    <tr>\n",
       "      <th>0</th>\n",
       "      <td>R00001</td>\n",
       "      <td>30</td>\n",
       "      <td>M</td>\n",
       "      <td>Urban</td>\n",
       "      <td>Working Professional</td>\n",
       "      <td>&lt;10L</td>\n",
       "      <td>3-4 times</td>\n",
       "      <td>Newcomer</td>\n",
       "      <td>Medium (500 ml)</td>\n",
       "      <td>0 to 1</td>\n",
       "      <td>Price</td>\n",
       "      <td>Traditional</td>\n",
       "      <td>Online</td>\n",
       "      <td>Simple</td>\n",
       "      <td>Medium (Moderately health-conscious)</td>\n",
       "      <td>Active (eg. Sports, gym)</td>\n",
       "      <td>100-150</td>\n",
       "    </tr>\n",
       "    <tr>\n",
       "      <th>1</th>\n",
       "      <td>R00002</td>\n",
       "      <td>46</td>\n",
       "      <td>F</td>\n",
       "      <td>Metro</td>\n",
       "      <td>Working Professional</td>\n",
       "      <td>&gt; 35L</td>\n",
       "      <td>5-7 times</td>\n",
       "      <td>Established</td>\n",
       "      <td>Medium (500 ml)</td>\n",
       "      <td>2 to 4</td>\n",
       "      <td>Quality</td>\n",
       "      <td>Exotic</td>\n",
       "      <td>Retail Store</td>\n",
       "      <td>Premium</td>\n",
       "      <td>Medium (Moderately health-conscious)</td>\n",
       "      <td>Social (eg. Parties)</td>\n",
       "      <td>200-250</td>\n",
       "    </tr>\n",
       "    <tr>\n",
       "      <th>2</th>\n",
       "      <td>R00003</td>\n",
       "      <td>41</td>\n",
       "      <td>F</td>\n",
       "      <td>Rural</td>\n",
       "      <td>Working Professional</td>\n",
       "      <td>&gt; 35L</td>\n",
       "      <td>3-4 times</td>\n",
       "      <td>Newcomer</td>\n",
       "      <td>Medium (500 ml)</td>\n",
       "      <td>2 to 4</td>\n",
       "      <td>Availability</td>\n",
       "      <td>Traditional</td>\n",
       "      <td>Retail Store</td>\n",
       "      <td>Premium</td>\n",
       "      <td>Medium (Moderately health-conscious)</td>\n",
       "      <td>Active (eg. Sports, gym)</td>\n",
       "      <td>200-250</td>\n",
       "    </tr>\n",
       "  </tbody>\n",
       "</table>\n",
       "</div>"
      ],
      "text/plain": [
       "  respondent_id  age gender   zone            occupation income_levels  \\\n",
       "0        R00001   30      M  Urban  Working Professional          <10L   \n",
       "1        R00002   46      F  Metro  Working Professional         > 35L   \n",
       "2        R00003   41      F  Rural  Working Professional         > 35L   \n",
       "\n",
       "  consume_frequency(weekly) current_brand preferable_consumption_size  \\\n",
       "0                 3-4 times      Newcomer             Medium (500 ml)   \n",
       "1                 5-7 times   Established             Medium (500 ml)   \n",
       "2                 3-4 times      Newcomer             Medium (500 ml)   \n",
       "\n",
       "  awareness_of_other_brands reasons_for_choosing_brands flavor_preference  \\\n",
       "0                    0 to 1                       Price       Traditional   \n",
       "1                    2 to 4                     Quality            Exotic   \n",
       "2                    2 to 4                Availability       Traditional   \n",
       "\n",
       "  purchase_channel packaging_preference                       health_concerns  \\\n",
       "0           Online               Simple  Medium (Moderately health-conscious)   \n",
       "1     Retail Store              Premium  Medium (Moderately health-conscious)   \n",
       "2     Retail Store              Premium  Medium (Moderately health-conscious)   \n",
       "\n",
       "  typical_consumption_situations price_range  \n",
       "0       Active (eg. Sports, gym)     100-150  \n",
       "1           Social (eg. Parties)     200-250  \n",
       "2       Active (eg. Sports, gym)     200-250  "
      ]
     },
     "execution_count": 15,
     "metadata": {},
     "output_type": "execute_result"
    }
   ],
   "source": [
    "df.head(3)"
   ]
  },
  {
   "cell_type": "code",
   "execution_count": 16,
   "id": "c36fa1a3574b2a5d",
   "metadata": {
    "ExecuteTime": {
     "end_time": "2024-12-20T22:01:40.611473Z",
     "start_time": "2024-12-20T22:01:40.605440Z"
    }
   },
   "outputs": [
    {
     "data": {
      "text/plain": [
       "8"
      ]
     },
     "execution_count": 16,
     "metadata": {},
     "output_type": "execute_result"
    }
   ],
   "source": [
    "# Null value in consume_frequency\n",
    "df['consume_frequency(weekly)'].isna().sum()"
   ]
  },
  {
   "cell_type": "code",
   "execution_count": 17,
   "id": "28987cfe7f298cf5",
   "metadata": {
    "ExecuteTime": {
     "end_time": "2024-12-20T22:01:40.674252Z",
     "start_time": "2024-12-20T22:01:40.667142Z"
    }
   },
   "outputs": [
    {
     "data": {
      "text/plain": [
       "consume_frequency(weekly)\n",
       "3-4 times    11786\n",
       "5-7 times     9774\n",
       "0-2 times     8423\n",
       "Name: count, dtype: int64"
      ]
     },
     "execution_count": 17,
     "metadata": {},
     "output_type": "execute_result"
    }
   ],
   "source": [
    "df['consume_frequency(weekly)'].value_counts()"
   ]
  },
  {
   "cell_type": "code",
   "execution_count": 18,
   "id": "1c89a1ca867843a",
   "metadata": {
    "ExecuteTime": {
     "end_time": "2024-12-20T22:01:40.859987Z",
     "start_time": "2024-12-20T22:01:40.853698Z"
    }
   },
   "outputs": [
    {
     "data": {
      "text/plain": [
       "0    3-4 times\n",
       "Name: consume_frequency(weekly), dtype: object"
      ]
     },
     "execution_count": 18,
     "metadata": {},
     "output_type": "execute_result"
    }
   ],
   "source": [
    "df['consume_frequency(weekly)'].mode()"
   ]
  },
  {
   "cell_type": "markdown",
   "id": "d939a4fd5c5cfa4c",
   "metadata": {},
   "source": [
    "* We will use mode 3-4 times to fill N/A values for consume_frequency"
   ]
  },
  {
   "cell_type": "code",
   "execution_count": 19,
   "id": "5e73fc2a510ba038",
   "metadata": {
    "ExecuteTime": {
     "end_time": "2024-12-20T22:01:40.967850Z",
     "start_time": "2024-12-20T22:01:40.962323Z"
    }
   },
   "outputs": [],
   "source": [
    "df['consume_frequency(weekly)']=df['consume_frequency(weekly)'].fillna('3-4 times')"
   ]
  },
  {
   "cell_type": "code",
   "execution_count": 20,
   "id": "84b26acac09cc7fe",
   "metadata": {
    "ExecuteTime": {
     "end_time": "2024-12-20T22:01:41.044623Z",
     "start_time": "2024-12-20T22:01:41.037880Z"
    }
   },
   "outputs": [
    {
     "data": {
      "text/plain": [
       "consume_frequency(weekly)\n",
       "3-4 times    11794\n",
       "5-7 times     9774\n",
       "0-2 times     8423\n",
       "Name: count, dtype: int64"
      ]
     },
     "execution_count": 20,
     "metadata": {},
     "output_type": "execute_result"
    }
   ],
   "source": [
    "df['consume_frequency(weekly)'].value_counts()"
   ]
  },
  {
   "cell_type": "code",
   "execution_count": 21,
   "id": "ad3c42c6f844dfcd",
   "metadata": {
    "ExecuteTime": {
     "end_time": "2024-12-20T22:01:41.139429Z",
     "start_time": "2024-12-20T22:01:41.133139Z"
    }
   },
   "outputs": [
    {
     "data": {
      "text/plain": [
       "0"
      ]
     },
     "execution_count": 21,
     "metadata": {},
     "output_type": "execute_result"
    }
   ],
   "source": [
    "df['consume_frequency(weekly)'].isna().sum()"
   ]
  },
  {
   "cell_type": "code",
   "execution_count": 22,
   "id": "422d211b5e53872b",
   "metadata": {
    "ExecuteTime": {
     "end_time": "2024-12-20T22:01:41.228425Z",
     "start_time": "2024-12-20T22:01:41.224730Z"
    }
   },
   "outputs": [
    {
     "data": {
      "text/plain": [
       "(29991, 17)"
      ]
     },
     "execution_count": 22,
     "metadata": {},
     "output_type": "execute_result"
    }
   ],
   "source": [
    "df.shape"
   ]
  },
  {
   "cell_type": "code",
   "execution_count": 23,
   "id": "ffef491e51ebbf3a",
   "metadata": {
    "ExecuteTime": {
     "end_time": "2024-12-20T22:01:41.384887Z",
     "start_time": "2024-12-20T22:01:41.358098Z"
    }
   },
   "outputs": [
    {
     "data": {
      "text/plain": [
       "respondent_id                        0\n",
       "age                                  0\n",
       "gender                               0\n",
       "zone                                 0\n",
       "occupation                           0\n",
       "income_levels                     8060\n",
       "consume_frequency(weekly)            0\n",
       "current_brand                        0\n",
       "preferable_consumption_size          0\n",
       "awareness_of_other_brands            0\n",
       "reasons_for_choosing_brands          0\n",
       "flavor_preference                    0\n",
       "purchase_channel                    10\n",
       "packaging_preference                 0\n",
       "health_concerns                      0\n",
       "typical_consumption_situations       0\n",
       "price_range                          0\n",
       "dtype: int64"
      ]
     },
     "execution_count": 23,
     "metadata": {},
     "output_type": "execute_result"
    }
   ],
   "source": [
    "df.isnull().sum()"
   ]
  },
  {
   "cell_type": "markdown",
   "id": "5a6c1fef20e40092",
   "metadata": {
    "ExecuteTime": {
     "end_time": "2024-12-20T22:01:41.438725Z",
     "start_time": "2024-12-20T22:01:41.435895Z"
    }
   },
   "source": [
    "# Check N/A income_levels"
   ]
  },
  {
   "cell_type": "code",
   "execution_count": 24,
   "id": "94ed0825006b429b",
   "metadata": {
    "ExecuteTime": {
     "end_time": "2024-12-20T22:01:41.550835Z",
     "start_time": "2024-12-20T22:01:41.530761Z"
    }
   },
   "outputs": [
    {
     "data": {
      "text/html": [
       "<div>\n",
       "<style scoped>\n",
       "    .dataframe tbody tr th:only-of-type {\n",
       "        vertical-align: middle;\n",
       "    }\n",
       "\n",
       "    .dataframe tbody tr th {\n",
       "        vertical-align: top;\n",
       "    }\n",
       "\n",
       "    .dataframe thead th {\n",
       "        text-align: right;\n",
       "    }\n",
       "</style>\n",
       "<table border=\"1\" class=\"dataframe\">\n",
       "  <thead>\n",
       "    <tr style=\"text-align: right;\">\n",
       "      <th></th>\n",
       "      <th>respondent_id</th>\n",
       "      <th>age</th>\n",
       "      <th>gender</th>\n",
       "      <th>zone</th>\n",
       "      <th>occupation</th>\n",
       "      <th>income_levels</th>\n",
       "      <th>consume_frequency(weekly)</th>\n",
       "      <th>current_brand</th>\n",
       "      <th>preferable_consumption_size</th>\n",
       "      <th>awareness_of_other_brands</th>\n",
       "      <th>reasons_for_choosing_brands</th>\n",
       "      <th>flavor_preference</th>\n",
       "      <th>purchase_channel</th>\n",
       "      <th>packaging_preference</th>\n",
       "      <th>health_concerns</th>\n",
       "      <th>typical_consumption_situations</th>\n",
       "      <th>price_range</th>\n",
       "    </tr>\n",
       "  </thead>\n",
       "  <tbody>\n",
       "    <tr>\n",
       "      <th>4</th>\n",
       "      <td>R00005</td>\n",
       "      <td>23</td>\n",
       "      <td>M</td>\n",
       "      <td>Metro</td>\n",
       "      <td>Student</td>\n",
       "      <td>NaN</td>\n",
       "      <td>3-4 times</td>\n",
       "      <td>Established</td>\n",
       "      <td>Medium (500 ml)</td>\n",
       "      <td>0 to 1</td>\n",
       "      <td>Availability</td>\n",
       "      <td>Traditional</td>\n",
       "      <td>Online</td>\n",
       "      <td>Premium</td>\n",
       "      <td>Medium (Moderately health-conscious)</td>\n",
       "      <td>Active (eg. Sports, gym)</td>\n",
       "      <td>50-100</td>\n",
       "    </tr>\n",
       "    <tr>\n",
       "      <th>5</th>\n",
       "      <td>R00006</td>\n",
       "      <td>22</td>\n",
       "      <td>F</td>\n",
       "      <td>Urban</td>\n",
       "      <td>Student</td>\n",
       "      <td>NaN</td>\n",
       "      <td>5-7 times</td>\n",
       "      <td>Established</td>\n",
       "      <td>Large (1 L)</td>\n",
       "      <td>2 to 4</td>\n",
       "      <td>Price</td>\n",
       "      <td>Traditional</td>\n",
       "      <td>Online</td>\n",
       "      <td>Simple</td>\n",
       "      <td>Low (Not very concerned)</td>\n",
       "      <td>Active (eg. Sports, gym)</td>\n",
       "      <td>100-150</td>\n",
       "    </tr>\n",
       "    <tr>\n",
       "      <th>11</th>\n",
       "      <td>R00012</td>\n",
       "      <td>23</td>\n",
       "      <td>F</td>\n",
       "      <td>Urban</td>\n",
       "      <td>Student</td>\n",
       "      <td>NaN</td>\n",
       "      <td>0-2 times</td>\n",
       "      <td>Established</td>\n",
       "      <td>Small (250 ml)</td>\n",
       "      <td>0 to 1</td>\n",
       "      <td>Price</td>\n",
       "      <td>Exotic</td>\n",
       "      <td>Retail Store</td>\n",
       "      <td>Premium</td>\n",
       "      <td>Low (Not very concerned)</td>\n",
       "      <td>Social (eg. Parties)</td>\n",
       "      <td>50-100</td>\n",
       "    </tr>\n",
       "    <tr>\n",
       "      <th>14</th>\n",
       "      <td>R00015</td>\n",
       "      <td>22</td>\n",
       "      <td>M</td>\n",
       "      <td>Metro</td>\n",
       "      <td>Student</td>\n",
       "      <td>NaN</td>\n",
       "      <td>3-4 times</td>\n",
       "      <td>Established</td>\n",
       "      <td>Small (250 ml)</td>\n",
       "      <td>0 to 1</td>\n",
       "      <td>Price</td>\n",
       "      <td>Traditional</td>\n",
       "      <td>Retail Store</td>\n",
       "      <td>Simple</td>\n",
       "      <td>Medium (Moderately health-conscious)</td>\n",
       "      <td>Active (eg. Sports, gym)</td>\n",
       "      <td>100-150</td>\n",
       "    </tr>\n",
       "    <tr>\n",
       "      <th>20</th>\n",
       "      <td>R00021</td>\n",
       "      <td>23</td>\n",
       "      <td>M</td>\n",
       "      <td>Semi-Urban</td>\n",
       "      <td>Student</td>\n",
       "      <td>NaN</td>\n",
       "      <td>3-4 times</td>\n",
       "      <td>Newcomer</td>\n",
       "      <td>Large (1 L)</td>\n",
       "      <td>0 to 1</td>\n",
       "      <td>Availability</td>\n",
       "      <td>Traditional</td>\n",
       "      <td>Retail Store</td>\n",
       "      <td>Premium</td>\n",
       "      <td>Low (Not very concerned)</td>\n",
       "      <td>Active (eg. Sports, gym)</td>\n",
       "      <td>50-100</td>\n",
       "    </tr>\n",
       "    <tr>\n",
       "      <th>...</th>\n",
       "      <td>...</td>\n",
       "      <td>...</td>\n",
       "      <td>...</td>\n",
       "      <td>...</td>\n",
       "      <td>...</td>\n",
       "      <td>...</td>\n",
       "      <td>...</td>\n",
       "      <td>...</td>\n",
       "      <td>...</td>\n",
       "      <td>...</td>\n",
       "      <td>...</td>\n",
       "      <td>...</td>\n",
       "      <td>...</td>\n",
       "      <td>...</td>\n",
       "      <td>...</td>\n",
       "      <td>...</td>\n",
       "      <td>...</td>\n",
       "    </tr>\n",
       "    <tr>\n",
       "      <th>29995</th>\n",
       "      <td>R29986</td>\n",
       "      <td>24</td>\n",
       "      <td>F</td>\n",
       "      <td>Metro</td>\n",
       "      <td>Student</td>\n",
       "      <td>NaN</td>\n",
       "      <td>5-7 times</td>\n",
       "      <td>Newcomer</td>\n",
       "      <td>Small (250 ml)</td>\n",
       "      <td>0 to 1</td>\n",
       "      <td>Price</td>\n",
       "      <td>Traditional</td>\n",
       "      <td>Online</td>\n",
       "      <td>Premium</td>\n",
       "      <td>Low (Not very concerned)</td>\n",
       "      <td>Social (eg. Parties)</td>\n",
       "      <td>100-150</td>\n",
       "    </tr>\n",
       "    <tr>\n",
       "      <th>29996</th>\n",
       "      <td>R29987</td>\n",
       "      <td>22</td>\n",
       "      <td>M</td>\n",
       "      <td>Urban</td>\n",
       "      <td>Student</td>\n",
       "      <td>NaN</td>\n",
       "      <td>0-2 times</td>\n",
       "      <td>Established</td>\n",
       "      <td>Small (250 ml)</td>\n",
       "      <td>0 to 1</td>\n",
       "      <td>Price</td>\n",
       "      <td>Exotic</td>\n",
       "      <td>Online</td>\n",
       "      <td>Premium</td>\n",
       "      <td>Low (Not very concerned)</td>\n",
       "      <td>Social (eg. Parties)</td>\n",
       "      <td>50-100</td>\n",
       "    </tr>\n",
       "    <tr>\n",
       "      <th>29999</th>\n",
       "      <td>R29990</td>\n",
       "      <td>23</td>\n",
       "      <td>F</td>\n",
       "      <td>Metro</td>\n",
       "      <td>Student</td>\n",
       "      <td>NaN</td>\n",
       "      <td>3-4 times</td>\n",
       "      <td>Established</td>\n",
       "      <td>Small (250 ml)</td>\n",
       "      <td>2 to 4</td>\n",
       "      <td>Price</td>\n",
       "      <td>Exotic</td>\n",
       "      <td>Online</td>\n",
       "      <td>Simple</td>\n",
       "      <td>Medium (Moderately health-conscious)</td>\n",
       "      <td>Active (eg. Sports, gym)</td>\n",
       "      <td>100-150</td>\n",
       "    </tr>\n",
       "    <tr>\n",
       "      <th>30002</th>\n",
       "      <td>R29993</td>\n",
       "      <td>18</td>\n",
       "      <td>M</td>\n",
       "      <td>Metro</td>\n",
       "      <td>Student</td>\n",
       "      <td>NaN</td>\n",
       "      <td>0-2 times</td>\n",
       "      <td>Established</td>\n",
       "      <td>Medium (500 ml)</td>\n",
       "      <td>2 to 4</td>\n",
       "      <td>Availability</td>\n",
       "      <td>Exotic</td>\n",
       "      <td>Online</td>\n",
       "      <td>Premium</td>\n",
       "      <td>Low (Not very concerned)</td>\n",
       "      <td>Social (eg. Parties)</td>\n",
       "      <td>100-150</td>\n",
       "    </tr>\n",
       "    <tr>\n",
       "      <th>30009</th>\n",
       "      <td>R30000</td>\n",
       "      <td>26</td>\n",
       "      <td>M</td>\n",
       "      <td>Metro</td>\n",
       "      <td>Student</td>\n",
       "      <td>NaN</td>\n",
       "      <td>5-7 times</td>\n",
       "      <td>Newcomer</td>\n",
       "      <td>Medium (500 ml)</td>\n",
       "      <td>above 4</td>\n",
       "      <td>Price</td>\n",
       "      <td>Traditional</td>\n",
       "      <td>Retail Store</td>\n",
       "      <td>Simple</td>\n",
       "      <td>High (Very health-conscious)</td>\n",
       "      <td>Social (eg. Parties)</td>\n",
       "      <td>150-200</td>\n",
       "    </tr>\n",
       "  </tbody>\n",
       "</table>\n",
       "<p>8060 rows × 17 columns</p>\n",
       "</div>"
      ],
      "text/plain": [
       "      respondent_id  age gender        zone occupation income_levels  \\\n",
       "4            R00005   23      M       Metro    Student           NaN   \n",
       "5            R00006   22      F       Urban    Student           NaN   \n",
       "11           R00012   23      F       Urban    Student           NaN   \n",
       "14           R00015   22      M       Metro    Student           NaN   \n",
       "20           R00021   23      M  Semi-Urban    Student           NaN   \n",
       "...             ...  ...    ...         ...        ...           ...   \n",
       "29995        R29986   24      F       Metro    Student           NaN   \n",
       "29996        R29987   22      M       Urban    Student           NaN   \n",
       "29999        R29990   23      F       Metro    Student           NaN   \n",
       "30002        R29993   18      M       Metro    Student           NaN   \n",
       "30009        R30000   26      M       Metro    Student           NaN   \n",
       "\n",
       "      consume_frequency(weekly) current_brand preferable_consumption_size  \\\n",
       "4                     3-4 times   Established             Medium (500 ml)   \n",
       "5                     5-7 times   Established                 Large (1 L)   \n",
       "11                    0-2 times   Established              Small (250 ml)   \n",
       "14                    3-4 times   Established              Small (250 ml)   \n",
       "20                    3-4 times      Newcomer                 Large (1 L)   \n",
       "...                         ...           ...                         ...   \n",
       "29995                 5-7 times      Newcomer              Small (250 ml)   \n",
       "29996                 0-2 times   Established              Small (250 ml)   \n",
       "29999                 3-4 times   Established              Small (250 ml)   \n",
       "30002                 0-2 times   Established             Medium (500 ml)   \n",
       "30009                 5-7 times      Newcomer             Medium (500 ml)   \n",
       "\n",
       "      awareness_of_other_brands reasons_for_choosing_brands flavor_preference  \\\n",
       "4                        0 to 1                Availability       Traditional   \n",
       "5                        2 to 4                       Price       Traditional   \n",
       "11                       0 to 1                       Price            Exotic   \n",
       "14                       0 to 1                       Price       Traditional   \n",
       "20                       0 to 1                Availability       Traditional   \n",
       "...                         ...                         ...               ...   \n",
       "29995                    0 to 1                       Price       Traditional   \n",
       "29996                    0 to 1                       Price            Exotic   \n",
       "29999                    2 to 4                       Price            Exotic   \n",
       "30002                    2 to 4                Availability            Exotic   \n",
       "30009                   above 4                       Price       Traditional   \n",
       "\n",
       "      purchase_channel packaging_preference  \\\n",
       "4               Online              Premium   \n",
       "5               Online               Simple   \n",
       "11        Retail Store              Premium   \n",
       "14        Retail Store               Simple   \n",
       "20        Retail Store              Premium   \n",
       "...                ...                  ...   \n",
       "29995           Online              Premium   \n",
       "29996           Online              Premium   \n",
       "29999           Online               Simple   \n",
       "30002           Online              Premium   \n",
       "30009     Retail Store               Simple   \n",
       "\n",
       "                            health_concerns typical_consumption_situations  \\\n",
       "4      Medium (Moderately health-conscious)       Active (eg. Sports, gym)   \n",
       "5                  Low (Not very concerned)       Active (eg. Sports, gym)   \n",
       "11                 Low (Not very concerned)           Social (eg. Parties)   \n",
       "14     Medium (Moderately health-conscious)       Active (eg. Sports, gym)   \n",
       "20                 Low (Not very concerned)       Active (eg. Sports, gym)   \n",
       "...                                     ...                            ...   \n",
       "29995              Low (Not very concerned)           Social (eg. Parties)   \n",
       "29996              Low (Not very concerned)           Social (eg. Parties)   \n",
       "29999  Medium (Moderately health-conscious)       Active (eg. Sports, gym)   \n",
       "30002              Low (Not very concerned)           Social (eg. Parties)   \n",
       "30009          High (Very health-conscious)           Social (eg. Parties)   \n",
       "\n",
       "      price_range  \n",
       "4          50-100  \n",
       "5         100-150  \n",
       "11         50-100  \n",
       "14        100-150  \n",
       "20         50-100  \n",
       "...           ...  \n",
       "29995     100-150  \n",
       "29996      50-100  \n",
       "29999     100-150  \n",
       "30002     100-150  \n",
       "30009     150-200  \n",
       "\n",
       "[8060 rows x 17 columns]"
      ]
     },
     "execution_count": 24,
     "metadata": {},
     "output_type": "execute_result"
    }
   ],
   "source": [
    "df[df['income_levels'].isna()]"
   ]
  },
  {
   "cell_type": "code",
   "execution_count": 25,
   "id": "28ab412e8849f50",
   "metadata": {
    "ExecuteTime": {
     "end_time": "2024-12-20T22:01:41.635712Z",
     "start_time": "2024-12-20T22:01:41.628810Z"
    }
   },
   "outputs": [
    {
     "data": {
      "text/plain": [
       "income_levels\n",
       "16L - 25L    5897\n",
       "10L - 15L    5251\n",
       "<10L         4661\n",
       "26L - 35L    3872\n",
       "> 35L        2250\n",
       "Name: count, dtype: int64"
      ]
     },
     "execution_count": 25,
     "metadata": {},
     "output_type": "execute_result"
    }
   ],
   "source": [
    "df['income_levels'].value_counts()"
   ]
  },
  {
   "cell_type": "code",
   "execution_count": 26,
   "id": "61ed522ccca38af",
   "metadata": {
    "ExecuteTime": {
     "end_time": "2024-12-20T22:01:41.739455Z",
     "start_time": "2024-12-20T22:01:41.733880Z"
    }
   },
   "outputs": [
    {
     "name": "stderr",
     "output_type": "stream",
     "text": [
      "C:\\Users\\Gaurav\\AppData\\Local\\Temp\\ipykernel_28936\\3822980836.py:1: FutureWarning: A value is trying to be set on a copy of a DataFrame or Series through chained assignment using an inplace method.\n",
      "The behavior will change in pandas 3.0. This inplace method will never work because the intermediate object on which we are setting values always behaves as a copy.\n",
      "\n",
      "For example, when doing 'df[col].method(value, inplace=True)', try using 'df.method({col: value}, inplace=True)' or df[col] = df[col].method(value) instead, to perform the operation inplace on the original object.\n",
      "\n",
      "\n",
      "  df['income_levels'].fillna('Not Reported', inplace=True)\n"
     ]
    }
   ],
   "source": [
    "df['income_levels'].fillna('Not Reported', inplace=True)"
   ]
  },
  {
   "cell_type": "code",
   "execution_count": 27,
   "id": "356d8a17bbcce8f9",
   "metadata": {
    "ExecuteTime": {
     "end_time": "2024-12-20T22:01:41.891870Z",
     "start_time": "2024-12-20T22:01:41.865497Z"
    }
   },
   "outputs": [
    {
     "data": {
      "text/plain": [
       "respondent_id                      0\n",
       "age                                0\n",
       "gender                             0\n",
       "zone                               0\n",
       "occupation                         0\n",
       "income_levels                      0\n",
       "consume_frequency(weekly)          0\n",
       "current_brand                      0\n",
       "preferable_consumption_size        0\n",
       "awareness_of_other_brands          0\n",
       "reasons_for_choosing_brands        0\n",
       "flavor_preference                  0\n",
       "purchase_channel                  10\n",
       "packaging_preference               0\n",
       "health_concerns                    0\n",
       "typical_consumption_situations     0\n",
       "price_range                        0\n",
       "dtype: int64"
      ]
     },
     "execution_count": 27,
     "metadata": {},
     "output_type": "execute_result"
    }
   ],
   "source": [
    "df.isnull().sum()"
   ]
  },
  {
   "cell_type": "code",
   "execution_count": 28,
   "id": "15f3bf5e53c2f0fb",
   "metadata": {
    "ExecuteTime": {
     "end_time": "2024-12-20T22:01:41.989532Z",
     "start_time": "2024-12-20T22:01:41.982439Z"
    }
   },
   "outputs": [
    {
     "data": {
      "text/plain": [
       "purchase_channel\n",
       "Online          16562\n",
       "Retail Store    13419\n",
       "Name: count, dtype: int64"
      ]
     },
     "execution_count": 28,
     "metadata": {},
     "output_type": "execute_result"
    }
   ],
   "source": [
    "#Check purchase_channel\n",
    "df['purchase_channel'].value_counts()"
   ]
  },
  {
   "cell_type": "code",
   "execution_count": 29,
   "id": "d9c482b59cddefd2",
   "metadata": {
    "ExecuteTime": {
     "end_time": "2024-12-20T22:01:42.101658Z",
     "start_time": "2024-12-20T22:01:42.094453Z"
    }
   },
   "outputs": [
    {
     "data": {
      "text/plain": [
       "0    Online\n",
       "Name: purchase_channel, dtype: object"
      ]
     },
     "execution_count": 29,
     "metadata": {},
     "output_type": "execute_result"
    }
   ],
   "source": [
    "df['purchase_channel'].mode()"
   ]
  },
  {
   "cell_type": "code",
   "execution_count": 30,
   "id": "fc0cb5740cfb1fb6",
   "metadata": {
    "ExecuteTime": {
     "end_time": "2024-12-20T22:01:42.232121Z",
     "start_time": "2024-12-20T22:01:42.226903Z"
    }
   },
   "outputs": [],
   "source": [
    "df['purchase_channel'] =df['purchase_channel'].fillna('Online')"
   ]
  },
  {
   "cell_type": "code",
   "execution_count": 31,
   "id": "73dd6475d3a59f1e",
   "metadata": {
    "ExecuteTime": {
     "end_time": "2024-12-20T22:01:42.416877Z",
     "start_time": "2024-12-20T22:01:42.391201Z"
    }
   },
   "outputs": [
    {
     "data": {
      "text/plain": [
       "respondent_id                     0\n",
       "age                               0\n",
       "gender                            0\n",
       "zone                              0\n",
       "occupation                        0\n",
       "income_levels                     0\n",
       "consume_frequency(weekly)         0\n",
       "current_brand                     0\n",
       "preferable_consumption_size       0\n",
       "awareness_of_other_brands         0\n",
       "reasons_for_choosing_brands       0\n",
       "flavor_preference                 0\n",
       "purchase_channel                  0\n",
       "packaging_preference              0\n",
       "health_concerns                   0\n",
       "typical_consumption_situations    0\n",
       "price_range                       0\n",
       "dtype: int64"
      ]
     },
     "execution_count": 31,
     "metadata": {},
     "output_type": "execute_result"
    }
   ],
   "source": [
    "df.isnull().sum()"
   ]
  },
  {
   "cell_type": "code",
   "execution_count": 32,
   "id": "eef258ca0fd86085",
   "metadata": {
    "ExecuteTime": {
     "end_time": "2024-12-20T22:01:42.518970Z",
     "start_time": "2024-12-20T22:01:42.514473Z"
    }
   },
   "outputs": [
    {
     "data": {
      "text/plain": [
       "(29991, 17)"
      ]
     },
     "execution_count": 32,
     "metadata": {},
     "output_type": "execute_result"
    }
   ],
   "source": [
    "df.shape"
   ]
  },
  {
   "cell_type": "markdown",
   "id": "82d5d67885cb897a",
   "metadata": {},
   "source": [
    "### 4. Correct spelling"
   ]
  },
  {
   "cell_type": "code",
   "execution_count": 33,
   "id": "43513078985f1a80",
   "metadata": {
    "ExecuteTime": {
     "end_time": "2024-12-20T22:01:42.608439Z",
     "start_time": "2024-12-20T22:01:42.604452Z"
    }
   },
   "outputs": [
    {
     "data": {
      "text/plain": [
       "Index(['respondent_id', 'age', 'gender', 'zone', 'occupation', 'income_levels',\n",
       "       'consume_frequency(weekly)', 'current_brand',\n",
       "       'preferable_consumption_size', 'awareness_of_other_brands',\n",
       "       'reasons_for_choosing_brands', 'flavor_preference', 'purchase_channel',\n",
       "       'packaging_preference', 'health_concerns',\n",
       "       'typical_consumption_situations', 'price_range'],\n",
       "      dtype='object')"
      ]
     },
     "execution_count": 33,
     "metadata": {},
     "output_type": "execute_result"
    }
   ],
   "source": [
    "df.columns"
   ]
  },
  {
   "cell_type": "code",
   "execution_count": 34,
   "id": "15798c732d3f78b8",
   "metadata": {
    "ExecuteTime": {
     "end_time": "2024-12-20T22:01:42.748783Z",
     "start_time": "2024-12-20T22:01:42.702281Z"
    }
   },
   "outputs": [
    {
     "name": "stdout",
     "output_type": "stream",
     "text": [
      "respondent_id --> ['R00001' 'R00002' 'R00003' ... 'R29998' 'R29999' 'R30000']\n",
      "gender --> ['M' 'F']\n",
      "zone --> ['Urban' 'Metro' 'Rural' 'Semi-Urban' 'Metor' 'urbna']\n",
      "occupation --> ['Working Professional' 'Student' 'Entrepreneur' 'Retired']\n",
      "income_levels --> ['<10L' '> 35L' '16L - 25L' 'Not Reported' '10L - 15L' '26L - 35L']\n",
      "consume_frequency(weekly) --> ['3-4 times' '5-7 times' '0-2 times']\n",
      "current_brand --> ['Newcomer' 'Established' 'newcomer' 'Establishd']\n",
      "preferable_consumption_size --> ['Medium (500 ml)' 'Large (1 L)' 'Small (250 ml)']\n",
      "awareness_of_other_brands --> ['0 to 1' '2 to 4' 'above 4']\n",
      "reasons_for_choosing_brands --> ['Price' 'Quality' 'Availability' 'Brand Reputation']\n",
      "flavor_preference --> ['Traditional' 'Exotic']\n",
      "purchase_channel --> ['Online' 'Retail Store']\n",
      "packaging_preference --> ['Simple' 'Premium' 'Eco-Friendly']\n",
      "health_concerns --> ['Medium (Moderately health-conscious)' 'Low (Not very concerned)'\n",
      " 'High (Very health-conscious)']\n",
      "typical_consumption_situations --> ['Active (eg. Sports, gym)' 'Social (eg. Parties)' 'Casual (eg. At home)']\n",
      "price_range --> ['100-150' '200-250' '150-200' '50-100']\n"
     ]
    }
   ],
   "source": [
    "for col in df.select_dtypes('object').columns:\n",
    "    print(f\"{col} --> {df[col].unique()}\")"
   ]
  },
  {
   "cell_type": "code",
   "execution_count": 35,
   "id": "1d8629813f873c94",
   "metadata": {
    "ExecuteTime": {
     "end_time": "2024-12-20T22:01:42.808356Z",
     "start_time": "2024-12-20T22:01:42.796033Z"
    }
   },
   "outputs": [],
   "source": [
    "df['zone'] = df['zone'].replace('urbna', 'Urban')\n",
    "df['zone'] = df['zone'].replace('Metor', 'Metro')\n",
    "#df['current_brand'] = df['current_brand'].replace('newcomer', 'Newcomer')\n",
    "df['current_brand'] = df['current_brand'].replace('Establishd', 'Established')\n"
   ]
  },
  {
   "cell_type": "code",
   "execution_count": 36,
   "id": "b896100774a0e2b9",
   "metadata": {
    "ExecuteTime": {
     "end_time": "2024-12-20T22:01:42.868558Z",
     "start_time": "2024-12-20T22:01:42.863095Z"
    }
   },
   "outputs": [
    {
     "data": {
      "text/plain": [
       "array(['Newcomer', 'Established', 'newcomer'], dtype=object)"
      ]
     },
     "execution_count": 36,
     "metadata": {},
     "output_type": "execute_result"
    }
   ],
   "source": [
    "df['current_brand'].unique()"
   ]
  },
  {
   "cell_type": "code",
   "execution_count": 37,
   "id": "178809ed21d377d1",
   "metadata": {
    "ExecuteTime": {
     "end_time": "2024-12-20T22:01:42.924191Z",
     "start_time": "2024-12-20T22:01:42.907691Z"
    }
   },
   "outputs": [
    {
     "name": "stdout",
     "output_type": "stream",
     "text": [
      "(0, 17)\n"
     ]
    },
    {
     "data": {
      "text/html": [
       "<div>\n",
       "<style scoped>\n",
       "    .dataframe tbody tr th:only-of-type {\n",
       "        vertical-align: middle;\n",
       "    }\n",
       "\n",
       "    .dataframe tbody tr th {\n",
       "        vertical-align: top;\n",
       "    }\n",
       "\n",
       "    .dataframe thead th {\n",
       "        text-align: right;\n",
       "    }\n",
       "</style>\n",
       "<table border=\"1\" class=\"dataframe\">\n",
       "  <thead>\n",
       "    <tr style=\"text-align: right;\">\n",
       "      <th></th>\n",
       "      <th>respondent_id</th>\n",
       "      <th>age</th>\n",
       "      <th>gender</th>\n",
       "      <th>zone</th>\n",
       "      <th>occupation</th>\n",
       "      <th>income_levels</th>\n",
       "      <th>consume_frequency(weekly)</th>\n",
       "      <th>current_brand</th>\n",
       "      <th>preferable_consumption_size</th>\n",
       "      <th>awareness_of_other_brands</th>\n",
       "      <th>reasons_for_choosing_brands</th>\n",
       "      <th>flavor_preference</th>\n",
       "      <th>purchase_channel</th>\n",
       "      <th>packaging_preference</th>\n",
       "      <th>health_concerns</th>\n",
       "      <th>typical_consumption_situations</th>\n",
       "      <th>price_range</th>\n",
       "    </tr>\n",
       "  </thead>\n",
       "  <tbody>\n",
       "  </tbody>\n",
       "</table>\n",
       "</div>"
      ],
      "text/plain": [
       "Empty DataFrame\n",
       "Columns: [respondent_id, age, gender, zone, occupation, income_levels, consume_frequency(weekly), current_brand, preferable_consumption_size, awareness_of_other_brands, reasons_for_choosing_brands, flavor_preference, purchase_channel, packaging_preference, health_concerns, typical_consumption_situations, price_range]\n",
       "Index: []"
      ]
     },
     "execution_count": 37,
     "metadata": {},
     "output_type": "execute_result"
    }
   ],
   "source": [
    "print(df[df['zone'] == 'Metor'].shape)\n",
    "df[df['zone'] == 'Metor']"
   ]
  },
  {
   "cell_type": "code",
   "execution_count": 38,
   "id": "bd5dbb7e168be644",
   "metadata": {
    "ExecuteTime": {
     "end_time": "2024-12-20T22:01:43.027605Z",
     "start_time": "2024-12-20T22:01:43.019999Z"
    }
   },
   "outputs": [],
   "source": [
    "df['zone'] = df['zone'].replace('Metor', 'Metro')"
   ]
  },
  {
   "cell_type": "code",
   "execution_count": 39,
   "id": "3b6246c7e61ae7b0",
   "metadata": {
    "ExecuteTime": {
     "end_time": "2024-12-20T22:01:43.115020Z",
     "start_time": "2024-12-20T22:01:43.109550Z"
    }
   },
   "outputs": [
    {
     "data": {
      "text/plain": [
       "array(['Urban', 'Metro', 'Rural', 'Semi-Urban'], dtype=object)"
      ]
     },
     "execution_count": 39,
     "metadata": {},
     "output_type": "execute_result"
    }
   ],
   "source": [
    "df['zone'].unique()"
   ]
  },
  {
   "cell_type": "markdown",
   "id": "a823bddca1ec4be9",
   "metadata": {},
   "source": [
    "<h1 align = 'center' style=\"color:#daa520\">Feature Engineering<h1>"
   ]
  },
  {
   "cell_type": "markdown",
   "id": "46a7c08f3a3576b1",
   "metadata": {},
   "source": [
    "* Step 1:\n",
    "* Categorize Age into Age Groups\n",
    "* Objective: Create a new column `age_group` by categorizing the existing `age`\n",
    "column into specific age ranges.\n",
    "* ● Categorize ages into the following groups:\n",
    "* ○ 18-25 ○ 26-35 ○ 36-45 ○ 46-55 ○ 56-70 ○ 70+\n",
    "* ● Ensure that each age in the dataset is mapped to one of these age groups.\n",
    "* ● After that, remove the original `age` column from the dataset."
   ]
  },
  {
   "cell_type": "code",
   "execution_count": 40,
   "id": "840e25bdcbd72c43",
   "metadata": {
    "ExecuteTime": {
     "end_time": "2024-12-20T22:01:43.217768Z",
     "start_time": "2024-12-20T22:01:43.203522Z"
    }
   },
   "outputs": [
    {
     "data": {
      "text/html": [
       "<div>\n",
       "<style scoped>\n",
       "    .dataframe tbody tr th:only-of-type {\n",
       "        vertical-align: middle;\n",
       "    }\n",
       "\n",
       "    .dataframe tbody tr th {\n",
       "        vertical-align: top;\n",
       "    }\n",
       "\n",
       "    .dataframe thead th {\n",
       "        text-align: right;\n",
       "    }\n",
       "</style>\n",
       "<table border=\"1\" class=\"dataframe\">\n",
       "  <thead>\n",
       "    <tr style=\"text-align: right;\">\n",
       "      <th></th>\n",
       "      <th>respondent_id</th>\n",
       "      <th>age</th>\n",
       "      <th>gender</th>\n",
       "      <th>zone</th>\n",
       "      <th>occupation</th>\n",
       "      <th>income_levels</th>\n",
       "      <th>consume_frequency(weekly)</th>\n",
       "      <th>current_brand</th>\n",
       "      <th>preferable_consumption_size</th>\n",
       "      <th>awareness_of_other_brands</th>\n",
       "      <th>reasons_for_choosing_brands</th>\n",
       "      <th>flavor_preference</th>\n",
       "      <th>purchase_channel</th>\n",
       "      <th>packaging_preference</th>\n",
       "      <th>health_concerns</th>\n",
       "      <th>typical_consumption_situations</th>\n",
       "      <th>price_range</th>\n",
       "    </tr>\n",
       "  </thead>\n",
       "  <tbody>\n",
       "    <tr>\n",
       "      <th>0</th>\n",
       "      <td>R00001</td>\n",
       "      <td>30</td>\n",
       "      <td>M</td>\n",
       "      <td>Urban</td>\n",
       "      <td>Working Professional</td>\n",
       "      <td>&lt;10L</td>\n",
       "      <td>3-4 times</td>\n",
       "      <td>Newcomer</td>\n",
       "      <td>Medium (500 ml)</td>\n",
       "      <td>0 to 1</td>\n",
       "      <td>Price</td>\n",
       "      <td>Traditional</td>\n",
       "      <td>Online</td>\n",
       "      <td>Simple</td>\n",
       "      <td>Medium (Moderately health-conscious)</td>\n",
       "      <td>Active (eg. Sports, gym)</td>\n",
       "      <td>100-150</td>\n",
       "    </tr>\n",
       "    <tr>\n",
       "      <th>1</th>\n",
       "      <td>R00002</td>\n",
       "      <td>46</td>\n",
       "      <td>F</td>\n",
       "      <td>Metro</td>\n",
       "      <td>Working Professional</td>\n",
       "      <td>&gt; 35L</td>\n",
       "      <td>5-7 times</td>\n",
       "      <td>Established</td>\n",
       "      <td>Medium (500 ml)</td>\n",
       "      <td>2 to 4</td>\n",
       "      <td>Quality</td>\n",
       "      <td>Exotic</td>\n",
       "      <td>Retail Store</td>\n",
       "      <td>Premium</td>\n",
       "      <td>Medium (Moderately health-conscious)</td>\n",
       "      <td>Social (eg. Parties)</td>\n",
       "      <td>200-250</td>\n",
       "    </tr>\n",
       "    <tr>\n",
       "      <th>2</th>\n",
       "      <td>R00003</td>\n",
       "      <td>41</td>\n",
       "      <td>F</td>\n",
       "      <td>Rural</td>\n",
       "      <td>Working Professional</td>\n",
       "      <td>&gt; 35L</td>\n",
       "      <td>3-4 times</td>\n",
       "      <td>Newcomer</td>\n",
       "      <td>Medium (500 ml)</td>\n",
       "      <td>2 to 4</td>\n",
       "      <td>Availability</td>\n",
       "      <td>Traditional</td>\n",
       "      <td>Retail Store</td>\n",
       "      <td>Premium</td>\n",
       "      <td>Medium (Moderately health-conscious)</td>\n",
       "      <td>Active (eg. Sports, gym)</td>\n",
       "      <td>200-250</td>\n",
       "    </tr>\n",
       "    <tr>\n",
       "      <th>3</th>\n",
       "      <td>R00004</td>\n",
       "      <td>33</td>\n",
       "      <td>F</td>\n",
       "      <td>Urban</td>\n",
       "      <td>Working Professional</td>\n",
       "      <td>16L - 25L</td>\n",
       "      <td>5-7 times</td>\n",
       "      <td>Newcomer</td>\n",
       "      <td>Medium (500 ml)</td>\n",
       "      <td>0 to 1</td>\n",
       "      <td>Brand Reputation</td>\n",
       "      <td>Exotic</td>\n",
       "      <td>Online</td>\n",
       "      <td>Eco-Friendly</td>\n",
       "      <td>Low (Not very concerned)</td>\n",
       "      <td>Active (eg. Sports, gym)</td>\n",
       "      <td>150-200</td>\n",
       "    </tr>\n",
       "    <tr>\n",
       "      <th>4</th>\n",
       "      <td>R00005</td>\n",
       "      <td>23</td>\n",
       "      <td>M</td>\n",
       "      <td>Metro</td>\n",
       "      <td>Student</td>\n",
       "      <td>Not Reported</td>\n",
       "      <td>3-4 times</td>\n",
       "      <td>Established</td>\n",
       "      <td>Medium (500 ml)</td>\n",
       "      <td>0 to 1</td>\n",
       "      <td>Availability</td>\n",
       "      <td>Traditional</td>\n",
       "      <td>Online</td>\n",
       "      <td>Premium</td>\n",
       "      <td>Medium (Moderately health-conscious)</td>\n",
       "      <td>Active (eg. Sports, gym)</td>\n",
       "      <td>50-100</td>\n",
       "    </tr>\n",
       "  </tbody>\n",
       "</table>\n",
       "</div>"
      ],
      "text/plain": [
       "  respondent_id  age gender   zone            occupation income_levels  \\\n",
       "0        R00001   30      M  Urban  Working Professional          <10L   \n",
       "1        R00002   46      F  Metro  Working Professional         > 35L   \n",
       "2        R00003   41      F  Rural  Working Professional         > 35L   \n",
       "3        R00004   33      F  Urban  Working Professional     16L - 25L   \n",
       "4        R00005   23      M  Metro               Student  Not Reported   \n",
       "\n",
       "  consume_frequency(weekly) current_brand preferable_consumption_size  \\\n",
       "0                 3-4 times      Newcomer             Medium (500 ml)   \n",
       "1                 5-7 times   Established             Medium (500 ml)   \n",
       "2                 3-4 times      Newcomer             Medium (500 ml)   \n",
       "3                 5-7 times      Newcomer             Medium (500 ml)   \n",
       "4                 3-4 times   Established             Medium (500 ml)   \n",
       "\n",
       "  awareness_of_other_brands reasons_for_choosing_brands flavor_preference  \\\n",
       "0                    0 to 1                       Price       Traditional   \n",
       "1                    2 to 4                     Quality            Exotic   \n",
       "2                    2 to 4                Availability       Traditional   \n",
       "3                    0 to 1            Brand Reputation            Exotic   \n",
       "4                    0 to 1                Availability       Traditional   \n",
       "\n",
       "  purchase_channel packaging_preference                       health_concerns  \\\n",
       "0           Online               Simple  Medium (Moderately health-conscious)   \n",
       "1     Retail Store              Premium  Medium (Moderately health-conscious)   \n",
       "2     Retail Store              Premium  Medium (Moderately health-conscious)   \n",
       "3           Online         Eco-Friendly              Low (Not very concerned)   \n",
       "4           Online              Premium  Medium (Moderately health-conscious)   \n",
       "\n",
       "  typical_consumption_situations price_range  \n",
       "0       Active (eg. Sports, gym)     100-150  \n",
       "1           Social (eg. Parties)     200-250  \n",
       "2       Active (eg. Sports, gym)     200-250  \n",
       "3       Active (eg. Sports, gym)     150-200  \n",
       "4       Active (eg. Sports, gym)      50-100  "
      ]
     },
     "execution_count": 40,
     "metadata": {},
     "output_type": "execute_result"
    }
   ],
   "source": [
    "df.head()"
   ]
  },
  {
   "cell_type": "code",
   "execution_count": 41,
   "id": "b6428f8915d050df",
   "metadata": {
    "ExecuteTime": {
     "end_time": "2024-12-20T22:01:43.290161Z",
     "start_time": "2024-12-20T22:01:43.285761Z"
    }
   },
   "outputs": [],
   "source": [
    "def categorize_age_group(age):\n",
    "    if 18 <= age <= 25:\n",
    "        return '18-25'\n",
    "    elif 26 <= age <= 35:\n",
    "        return '26-35'\n",
    "    elif 36 <= age <= 45:\n",
    "        return '36-45'\n",
    "    elif 46 <= age <= 55:\n",
    "        return '46-55'\n",
    "    elif 56 <= age <= 70:\n",
    "        return '56-70'\n",
    "    elif age > 70:\n",
    "        return '70+'\n",
    "    else:\n",
    "        return None"
   ]
  },
  {
   "cell_type": "code",
   "execution_count": 42,
   "id": "6830e2eaa5534fb6",
   "metadata": {
    "ExecuteTime": {
     "end_time": "2024-12-20T22:01:43.383273Z",
     "start_time": "2024-12-20T22:01:43.349796Z"
    }
   },
   "outputs": [
    {
     "data": {
      "text/html": [
       "<div>\n",
       "<style scoped>\n",
       "    .dataframe tbody tr th:only-of-type {\n",
       "        vertical-align: middle;\n",
       "    }\n",
       "\n",
       "    .dataframe tbody tr th {\n",
       "        vertical-align: top;\n",
       "    }\n",
       "\n",
       "    .dataframe thead th {\n",
       "        text-align: right;\n",
       "    }\n",
       "</style>\n",
       "<table border=\"1\" class=\"dataframe\">\n",
       "  <thead>\n",
       "    <tr style=\"text-align: right;\">\n",
       "      <th></th>\n",
       "      <th>respondent_id</th>\n",
       "      <th>gender</th>\n",
       "      <th>zone</th>\n",
       "      <th>occupation</th>\n",
       "      <th>income_levels</th>\n",
       "      <th>consume_frequency(weekly)</th>\n",
       "      <th>current_brand</th>\n",
       "      <th>preferable_consumption_size</th>\n",
       "      <th>awareness_of_other_brands</th>\n",
       "      <th>reasons_for_choosing_brands</th>\n",
       "      <th>flavor_preference</th>\n",
       "      <th>purchase_channel</th>\n",
       "      <th>packaging_preference</th>\n",
       "      <th>health_concerns</th>\n",
       "      <th>typical_consumption_situations</th>\n",
       "      <th>price_range</th>\n",
       "      <th>age_group</th>\n",
       "    </tr>\n",
       "  </thead>\n",
       "  <tbody>\n",
       "    <tr>\n",
       "      <th>0</th>\n",
       "      <td>R00001</td>\n",
       "      <td>M</td>\n",
       "      <td>Urban</td>\n",
       "      <td>Working Professional</td>\n",
       "      <td>&lt;10L</td>\n",
       "      <td>3-4 times</td>\n",
       "      <td>Newcomer</td>\n",
       "      <td>Medium (500 ml)</td>\n",
       "      <td>0 to 1</td>\n",
       "      <td>Price</td>\n",
       "      <td>Traditional</td>\n",
       "      <td>Online</td>\n",
       "      <td>Simple</td>\n",
       "      <td>Medium (Moderately health-conscious)</td>\n",
       "      <td>Active (eg. Sports, gym)</td>\n",
       "      <td>100-150</td>\n",
       "      <td>26-35</td>\n",
       "    </tr>\n",
       "    <tr>\n",
       "      <th>1</th>\n",
       "      <td>R00002</td>\n",
       "      <td>F</td>\n",
       "      <td>Metro</td>\n",
       "      <td>Working Professional</td>\n",
       "      <td>&gt; 35L</td>\n",
       "      <td>5-7 times</td>\n",
       "      <td>Established</td>\n",
       "      <td>Medium (500 ml)</td>\n",
       "      <td>2 to 4</td>\n",
       "      <td>Quality</td>\n",
       "      <td>Exotic</td>\n",
       "      <td>Retail Store</td>\n",
       "      <td>Premium</td>\n",
       "      <td>Medium (Moderately health-conscious)</td>\n",
       "      <td>Social (eg. Parties)</td>\n",
       "      <td>200-250</td>\n",
       "      <td>46-55</td>\n",
       "    </tr>\n",
       "    <tr>\n",
       "      <th>2</th>\n",
       "      <td>R00003</td>\n",
       "      <td>F</td>\n",
       "      <td>Rural</td>\n",
       "      <td>Working Professional</td>\n",
       "      <td>&gt; 35L</td>\n",
       "      <td>3-4 times</td>\n",
       "      <td>Newcomer</td>\n",
       "      <td>Medium (500 ml)</td>\n",
       "      <td>2 to 4</td>\n",
       "      <td>Availability</td>\n",
       "      <td>Traditional</td>\n",
       "      <td>Retail Store</td>\n",
       "      <td>Premium</td>\n",
       "      <td>Medium (Moderately health-conscious)</td>\n",
       "      <td>Active (eg. Sports, gym)</td>\n",
       "      <td>200-250</td>\n",
       "      <td>36-45</td>\n",
       "    </tr>\n",
       "    <tr>\n",
       "      <th>3</th>\n",
       "      <td>R00004</td>\n",
       "      <td>F</td>\n",
       "      <td>Urban</td>\n",
       "      <td>Working Professional</td>\n",
       "      <td>16L - 25L</td>\n",
       "      <td>5-7 times</td>\n",
       "      <td>Newcomer</td>\n",
       "      <td>Medium (500 ml)</td>\n",
       "      <td>0 to 1</td>\n",
       "      <td>Brand Reputation</td>\n",
       "      <td>Exotic</td>\n",
       "      <td>Online</td>\n",
       "      <td>Eco-Friendly</td>\n",
       "      <td>Low (Not very concerned)</td>\n",
       "      <td>Active (eg. Sports, gym)</td>\n",
       "      <td>150-200</td>\n",
       "      <td>26-35</td>\n",
       "    </tr>\n",
       "    <tr>\n",
       "      <th>4</th>\n",
       "      <td>R00005</td>\n",
       "      <td>M</td>\n",
       "      <td>Metro</td>\n",
       "      <td>Student</td>\n",
       "      <td>Not Reported</td>\n",
       "      <td>3-4 times</td>\n",
       "      <td>Established</td>\n",
       "      <td>Medium (500 ml)</td>\n",
       "      <td>0 to 1</td>\n",
       "      <td>Availability</td>\n",
       "      <td>Traditional</td>\n",
       "      <td>Online</td>\n",
       "      <td>Premium</td>\n",
       "      <td>Medium (Moderately health-conscious)</td>\n",
       "      <td>Active (eg. Sports, gym)</td>\n",
       "      <td>50-100</td>\n",
       "      <td>18-25</td>\n",
       "    </tr>\n",
       "  </tbody>\n",
       "</table>\n",
       "</div>"
      ],
      "text/plain": [
       "  respondent_id gender   zone            occupation income_levels  \\\n",
       "0        R00001      M  Urban  Working Professional          <10L   \n",
       "1        R00002      F  Metro  Working Professional         > 35L   \n",
       "2        R00003      F  Rural  Working Professional         > 35L   \n",
       "3        R00004      F  Urban  Working Professional     16L - 25L   \n",
       "4        R00005      M  Metro               Student  Not Reported   \n",
       "\n",
       "  consume_frequency(weekly) current_brand preferable_consumption_size  \\\n",
       "0                 3-4 times      Newcomer             Medium (500 ml)   \n",
       "1                 5-7 times   Established             Medium (500 ml)   \n",
       "2                 3-4 times      Newcomer             Medium (500 ml)   \n",
       "3                 5-7 times      Newcomer             Medium (500 ml)   \n",
       "4                 3-4 times   Established             Medium (500 ml)   \n",
       "\n",
       "  awareness_of_other_brands reasons_for_choosing_brands flavor_preference  \\\n",
       "0                    0 to 1                       Price       Traditional   \n",
       "1                    2 to 4                     Quality            Exotic   \n",
       "2                    2 to 4                Availability       Traditional   \n",
       "3                    0 to 1            Brand Reputation            Exotic   \n",
       "4                    0 to 1                Availability       Traditional   \n",
       "\n",
       "  purchase_channel packaging_preference                       health_concerns  \\\n",
       "0           Online               Simple  Medium (Moderately health-conscious)   \n",
       "1     Retail Store              Premium  Medium (Moderately health-conscious)   \n",
       "2     Retail Store              Premium  Medium (Moderately health-conscious)   \n",
       "3           Online         Eco-Friendly              Low (Not very concerned)   \n",
       "4           Online              Premium  Medium (Moderately health-conscious)   \n",
       "\n",
       "  typical_consumption_situations price_range age_group  \n",
       "0       Active (eg. Sports, gym)     100-150     26-35  \n",
       "1           Social (eg. Parties)     200-250     46-55  \n",
       "2       Active (eg. Sports, gym)     200-250     36-45  \n",
       "3       Active (eg. Sports, gym)     150-200     26-35  \n",
       "4       Active (eg. Sports, gym)      50-100     18-25  "
      ]
     },
     "execution_count": 42,
     "metadata": {},
     "output_type": "execute_result"
    }
   ],
   "source": [
    "df['age_group'] = df['age'].apply(categorize_age_group)\n",
    "df.drop('age', axis=1, inplace=True)\n",
    "df.head()"
   ]
  },
  {
   "cell_type": "markdown",
   "id": "a72b2d79c28ff99a",
   "metadata": {
    "ExecuteTime": {
     "end_time": "2024-12-20T22:01:43.532619Z",
     "start_time": "2024-12-20T22:01:43.529525Z"
    }
   },
   "source": [
    "### Step 2: Create `cf_ab_score` (Consume Frequency and Awareness Brand Score)\n",
    " <p>Objective: Create a new column `cf_ab_score` by combining the information from `consume_frequency(weekly)` and `awareness_of_other_brands` columns.\n",
    " </p>\n",
    " <li>\n",
    "Use the following mappings for consume_frequency(weekly):\n",
    " <ul>○ \"0-2 times\" → 1</ul>\n",
    " <ul>○ \"3-4 times\" → 2</ul>\n",
    " <ul>○ \"5-7 times\" → 3</ul>\n",
    " </li>\n",
    " <li>Use the following mappings for awareness_of_other_brands:\n",
    " <ul> ○ \"0to1\"→1</ul>\n",
    "  <ul>○ \"2to4\"→2</ul>\n",
    "  <ul>○ \"above 4\" → 3</ul>\n",
    " </li>\n",
    " <li>\n",
    " Calculate cf_ab_score using the following formula:\n",
    "  <ul>cf_ab_score = (consume_frequency) / (consume_frequency + awareness_of_other_brands)</ul>\n",
    "</li>"
   ]
  },
  {
   "cell_type": "code",
   "execution_count": 43,
   "id": "39c58f15b5bc46a2",
   "metadata": {
    "ExecuteTime": {
     "end_time": "2024-12-20T22:01:43.620497Z",
     "start_time": "2024-12-20T22:01:43.613590Z"
    }
   },
   "outputs": [
    {
     "data": {
      "text/plain": [
       "array(['3-4 times', '5-7 times', '0-2 times'], dtype=object)"
      ]
     },
     "execution_count": 43,
     "metadata": {},
     "output_type": "execute_result"
    }
   ],
   "source": [
    "df['consume_frequency(weekly)'].unique()"
   ]
  },
  {
   "cell_type": "code",
   "execution_count": 44,
   "id": "ec77b804d9933817",
   "metadata": {
    "ExecuteTime": {
     "end_time": "2024-12-20T22:01:43.707509Z",
     "start_time": "2024-12-20T22:01:43.701564Z"
    }
   },
   "outputs": [
    {
     "data": {
      "text/plain": [
       "array(['0 to 1', '2 to 4', 'above 4'], dtype=object)"
      ]
     },
     "execution_count": 44,
     "metadata": {},
     "output_type": "execute_result"
    }
   ],
   "source": [
    "df['awareness_of_other_brands'].unique()"
   ]
  },
  {
   "cell_type": "code",
   "execution_count": 45,
   "id": "13ac7947a14e7af5",
   "metadata": {
    "ExecuteTime": {
     "end_time": "2024-12-20T22:01:43.833365Z",
     "start_time": "2024-12-20T22:01:43.812045Z"
    }
   },
   "outputs": [
    {
     "data": {
      "text/html": [
       "<div>\n",
       "<style scoped>\n",
       "    .dataframe tbody tr th:only-of-type {\n",
       "        vertical-align: middle;\n",
       "    }\n",
       "\n",
       "    .dataframe tbody tr th {\n",
       "        vertical-align: top;\n",
       "    }\n",
       "\n",
       "    .dataframe thead th {\n",
       "        text-align: right;\n",
       "    }\n",
       "</style>\n",
       "<table border=\"1\" class=\"dataframe\">\n",
       "  <thead>\n",
       "    <tr style=\"text-align: right;\">\n",
       "      <th></th>\n",
       "      <th>respondent_id</th>\n",
       "      <th>gender</th>\n",
       "      <th>zone</th>\n",
       "      <th>occupation</th>\n",
       "      <th>income_levels</th>\n",
       "      <th>consume_frequency(weekly)</th>\n",
       "      <th>current_brand</th>\n",
       "      <th>preferable_consumption_size</th>\n",
       "      <th>awareness_of_other_brands</th>\n",
       "      <th>reasons_for_choosing_brands</th>\n",
       "      <th>flavor_preference</th>\n",
       "      <th>purchase_channel</th>\n",
       "      <th>packaging_preference</th>\n",
       "      <th>health_concerns</th>\n",
       "      <th>typical_consumption_situations</th>\n",
       "      <th>price_range</th>\n",
       "      <th>age_group</th>\n",
       "    </tr>\n",
       "  </thead>\n",
       "  <tbody>\n",
       "    <tr>\n",
       "      <th>0</th>\n",
       "      <td>R00001</td>\n",
       "      <td>M</td>\n",
       "      <td>Urban</td>\n",
       "      <td>Working Professional</td>\n",
       "      <td>&lt;10L</td>\n",
       "      <td>2</td>\n",
       "      <td>Newcomer</td>\n",
       "      <td>Medium (500 ml)</td>\n",
       "      <td>1</td>\n",
       "      <td>Price</td>\n",
       "      <td>Traditional</td>\n",
       "      <td>Online</td>\n",
       "      <td>Simple</td>\n",
       "      <td>Medium (Moderately health-conscious)</td>\n",
       "      <td>Active (eg. Sports, gym)</td>\n",
       "      <td>100-150</td>\n",
       "      <td>26-35</td>\n",
       "    </tr>\n",
       "    <tr>\n",
       "      <th>1</th>\n",
       "      <td>R00002</td>\n",
       "      <td>F</td>\n",
       "      <td>Metro</td>\n",
       "      <td>Working Professional</td>\n",
       "      <td>&gt; 35L</td>\n",
       "      <td>3</td>\n",
       "      <td>Established</td>\n",
       "      <td>Medium (500 ml)</td>\n",
       "      <td>2</td>\n",
       "      <td>Quality</td>\n",
       "      <td>Exotic</td>\n",
       "      <td>Retail Store</td>\n",
       "      <td>Premium</td>\n",
       "      <td>Medium (Moderately health-conscious)</td>\n",
       "      <td>Social (eg. Parties)</td>\n",
       "      <td>200-250</td>\n",
       "      <td>46-55</td>\n",
       "    </tr>\n",
       "    <tr>\n",
       "      <th>2</th>\n",
       "      <td>R00003</td>\n",
       "      <td>F</td>\n",
       "      <td>Rural</td>\n",
       "      <td>Working Professional</td>\n",
       "      <td>&gt; 35L</td>\n",
       "      <td>2</td>\n",
       "      <td>Newcomer</td>\n",
       "      <td>Medium (500 ml)</td>\n",
       "      <td>2</td>\n",
       "      <td>Availability</td>\n",
       "      <td>Traditional</td>\n",
       "      <td>Retail Store</td>\n",
       "      <td>Premium</td>\n",
       "      <td>Medium (Moderately health-conscious)</td>\n",
       "      <td>Active (eg. Sports, gym)</td>\n",
       "      <td>200-250</td>\n",
       "      <td>36-45</td>\n",
       "    </tr>\n",
       "    <tr>\n",
       "      <th>3</th>\n",
       "      <td>R00004</td>\n",
       "      <td>F</td>\n",
       "      <td>Urban</td>\n",
       "      <td>Working Professional</td>\n",
       "      <td>16L - 25L</td>\n",
       "      <td>3</td>\n",
       "      <td>Newcomer</td>\n",
       "      <td>Medium (500 ml)</td>\n",
       "      <td>1</td>\n",
       "      <td>Brand Reputation</td>\n",
       "      <td>Exotic</td>\n",
       "      <td>Online</td>\n",
       "      <td>Eco-Friendly</td>\n",
       "      <td>Low (Not very concerned)</td>\n",
       "      <td>Active (eg. Sports, gym)</td>\n",
       "      <td>150-200</td>\n",
       "      <td>26-35</td>\n",
       "    </tr>\n",
       "    <tr>\n",
       "      <th>4</th>\n",
       "      <td>R00005</td>\n",
       "      <td>M</td>\n",
       "      <td>Metro</td>\n",
       "      <td>Student</td>\n",
       "      <td>Not Reported</td>\n",
       "      <td>2</td>\n",
       "      <td>Established</td>\n",
       "      <td>Medium (500 ml)</td>\n",
       "      <td>1</td>\n",
       "      <td>Availability</td>\n",
       "      <td>Traditional</td>\n",
       "      <td>Online</td>\n",
       "      <td>Premium</td>\n",
       "      <td>Medium (Moderately health-conscious)</td>\n",
       "      <td>Active (eg. Sports, gym)</td>\n",
       "      <td>50-100</td>\n",
       "      <td>18-25</td>\n",
       "    </tr>\n",
       "  </tbody>\n",
       "</table>\n",
       "</div>"
      ],
      "text/plain": [
       "  respondent_id gender   zone            occupation income_levels  \\\n",
       "0        R00001      M  Urban  Working Professional          <10L   \n",
       "1        R00002      F  Metro  Working Professional         > 35L   \n",
       "2        R00003      F  Rural  Working Professional         > 35L   \n",
       "3        R00004      F  Urban  Working Professional     16L - 25L   \n",
       "4        R00005      M  Metro               Student  Not Reported   \n",
       "\n",
       "   consume_frequency(weekly) current_brand preferable_consumption_size  \\\n",
       "0                          2      Newcomer             Medium (500 ml)   \n",
       "1                          3   Established             Medium (500 ml)   \n",
       "2                          2      Newcomer             Medium (500 ml)   \n",
       "3                          3      Newcomer             Medium (500 ml)   \n",
       "4                          2   Established             Medium (500 ml)   \n",
       "\n",
       "   awareness_of_other_brands reasons_for_choosing_brands flavor_preference  \\\n",
       "0                          1                       Price       Traditional   \n",
       "1                          2                     Quality            Exotic   \n",
       "2                          2                Availability       Traditional   \n",
       "3                          1            Brand Reputation            Exotic   \n",
       "4                          1                Availability       Traditional   \n",
       "\n",
       "  purchase_channel packaging_preference                       health_concerns  \\\n",
       "0           Online               Simple  Medium (Moderately health-conscious)   \n",
       "1     Retail Store              Premium  Medium (Moderately health-conscious)   \n",
       "2     Retail Store              Premium  Medium (Moderately health-conscious)   \n",
       "3           Online         Eco-Friendly              Low (Not very concerned)   \n",
       "4           Online              Premium  Medium (Moderately health-conscious)   \n",
       "\n",
       "  typical_consumption_situations price_range age_group  \n",
       "0       Active (eg. Sports, gym)     100-150     26-35  \n",
       "1           Social (eg. Parties)     200-250     46-55  \n",
       "2       Active (eg. Sports, gym)     200-250     36-45  \n",
       "3       Active (eg. Sports, gym)     150-200     26-35  \n",
       "4       Active (eg. Sports, gym)      50-100     18-25  "
      ]
     },
     "execution_count": 45,
     "metadata": {},
     "output_type": "execute_result"
    }
   ],
   "source": [
    "df['consume_frequency(weekly)'] = df['consume_frequency(weekly)'].map({'0-2 times': 1, '3-4 times': 2, '5-7 times': 3})\n",
    "df['awareness_of_other_brands'] = df['awareness_of_other_brands'].map({'0 to 1' : 1, '2 to 4' : 2, 'above 4' : 3})\n",
    "df.head()"
   ]
  },
  {
   "cell_type": "code",
   "execution_count": 46,
   "id": "12c3009a7c64de1b",
   "metadata": {
    "ExecuteTime": {
     "end_time": "2024-12-20T22:01:43.956293Z",
     "start_time": "2024-12-20T22:01:43.939536Z"
    }
   },
   "outputs": [
    {
     "data": {
      "text/html": [
       "<div>\n",
       "<style scoped>\n",
       "    .dataframe tbody tr th:only-of-type {\n",
       "        vertical-align: middle;\n",
       "    }\n",
       "\n",
       "    .dataframe tbody tr th {\n",
       "        vertical-align: top;\n",
       "    }\n",
       "\n",
       "    .dataframe thead th {\n",
       "        text-align: right;\n",
       "    }\n",
       "</style>\n",
       "<table border=\"1\" class=\"dataframe\">\n",
       "  <thead>\n",
       "    <tr style=\"text-align: right;\">\n",
       "      <th></th>\n",
       "      <th>respondent_id</th>\n",
       "      <th>gender</th>\n",
       "      <th>zone</th>\n",
       "      <th>occupation</th>\n",
       "      <th>income_levels</th>\n",
       "      <th>consume_frequency(weekly)</th>\n",
       "      <th>current_brand</th>\n",
       "      <th>preferable_consumption_size</th>\n",
       "      <th>awareness_of_other_brands</th>\n",
       "      <th>reasons_for_choosing_brands</th>\n",
       "      <th>flavor_preference</th>\n",
       "      <th>purchase_channel</th>\n",
       "      <th>packaging_preference</th>\n",
       "      <th>health_concerns</th>\n",
       "      <th>typical_consumption_situations</th>\n",
       "      <th>price_range</th>\n",
       "      <th>age_group</th>\n",
       "      <th>cf_ab_score</th>\n",
       "    </tr>\n",
       "  </thead>\n",
       "  <tbody>\n",
       "    <tr>\n",
       "      <th>0</th>\n",
       "      <td>R00001</td>\n",
       "      <td>M</td>\n",
       "      <td>Urban</td>\n",
       "      <td>Working Professional</td>\n",
       "      <td>&lt;10L</td>\n",
       "      <td>2</td>\n",
       "      <td>Newcomer</td>\n",
       "      <td>Medium (500 ml)</td>\n",
       "      <td>1</td>\n",
       "      <td>Price</td>\n",
       "      <td>Traditional</td>\n",
       "      <td>Online</td>\n",
       "      <td>Simple</td>\n",
       "      <td>Medium (Moderately health-conscious)</td>\n",
       "      <td>Active (eg. Sports, gym)</td>\n",
       "      <td>100-150</td>\n",
       "      <td>26-35</td>\n",
       "      <td>0.67</td>\n",
       "    </tr>\n",
       "    <tr>\n",
       "      <th>1</th>\n",
       "      <td>R00002</td>\n",
       "      <td>F</td>\n",
       "      <td>Metro</td>\n",
       "      <td>Working Professional</td>\n",
       "      <td>&gt; 35L</td>\n",
       "      <td>3</td>\n",
       "      <td>Established</td>\n",
       "      <td>Medium (500 ml)</td>\n",
       "      <td>2</td>\n",
       "      <td>Quality</td>\n",
       "      <td>Exotic</td>\n",
       "      <td>Retail Store</td>\n",
       "      <td>Premium</td>\n",
       "      <td>Medium (Moderately health-conscious)</td>\n",
       "      <td>Social (eg. Parties)</td>\n",
       "      <td>200-250</td>\n",
       "      <td>46-55</td>\n",
       "      <td>0.60</td>\n",
       "    </tr>\n",
       "    <tr>\n",
       "      <th>2</th>\n",
       "      <td>R00003</td>\n",
       "      <td>F</td>\n",
       "      <td>Rural</td>\n",
       "      <td>Working Professional</td>\n",
       "      <td>&gt; 35L</td>\n",
       "      <td>2</td>\n",
       "      <td>Newcomer</td>\n",
       "      <td>Medium (500 ml)</td>\n",
       "      <td>2</td>\n",
       "      <td>Availability</td>\n",
       "      <td>Traditional</td>\n",
       "      <td>Retail Store</td>\n",
       "      <td>Premium</td>\n",
       "      <td>Medium (Moderately health-conscious)</td>\n",
       "      <td>Active (eg. Sports, gym)</td>\n",
       "      <td>200-250</td>\n",
       "      <td>36-45</td>\n",
       "      <td>0.50</td>\n",
       "    </tr>\n",
       "    <tr>\n",
       "      <th>3</th>\n",
       "      <td>R00004</td>\n",
       "      <td>F</td>\n",
       "      <td>Urban</td>\n",
       "      <td>Working Professional</td>\n",
       "      <td>16L - 25L</td>\n",
       "      <td>3</td>\n",
       "      <td>Newcomer</td>\n",
       "      <td>Medium (500 ml)</td>\n",
       "      <td>1</td>\n",
       "      <td>Brand Reputation</td>\n",
       "      <td>Exotic</td>\n",
       "      <td>Online</td>\n",
       "      <td>Eco-Friendly</td>\n",
       "      <td>Low (Not very concerned)</td>\n",
       "      <td>Active (eg. Sports, gym)</td>\n",
       "      <td>150-200</td>\n",
       "      <td>26-35</td>\n",
       "      <td>0.75</td>\n",
       "    </tr>\n",
       "    <tr>\n",
       "      <th>4</th>\n",
       "      <td>R00005</td>\n",
       "      <td>M</td>\n",
       "      <td>Metro</td>\n",
       "      <td>Student</td>\n",
       "      <td>Not Reported</td>\n",
       "      <td>2</td>\n",
       "      <td>Established</td>\n",
       "      <td>Medium (500 ml)</td>\n",
       "      <td>1</td>\n",
       "      <td>Availability</td>\n",
       "      <td>Traditional</td>\n",
       "      <td>Online</td>\n",
       "      <td>Premium</td>\n",
       "      <td>Medium (Moderately health-conscious)</td>\n",
       "      <td>Active (eg. Sports, gym)</td>\n",
       "      <td>50-100</td>\n",
       "      <td>18-25</td>\n",
       "      <td>0.67</td>\n",
       "    </tr>\n",
       "  </tbody>\n",
       "</table>\n",
       "</div>"
      ],
      "text/plain": [
       "  respondent_id gender   zone            occupation income_levels  \\\n",
       "0        R00001      M  Urban  Working Professional          <10L   \n",
       "1        R00002      F  Metro  Working Professional         > 35L   \n",
       "2        R00003      F  Rural  Working Professional         > 35L   \n",
       "3        R00004      F  Urban  Working Professional     16L - 25L   \n",
       "4        R00005      M  Metro               Student  Not Reported   \n",
       "\n",
       "   consume_frequency(weekly) current_brand preferable_consumption_size  \\\n",
       "0                          2      Newcomer             Medium (500 ml)   \n",
       "1                          3   Established             Medium (500 ml)   \n",
       "2                          2      Newcomer             Medium (500 ml)   \n",
       "3                          3      Newcomer             Medium (500 ml)   \n",
       "4                          2   Established             Medium (500 ml)   \n",
       "\n",
       "   awareness_of_other_brands reasons_for_choosing_brands flavor_preference  \\\n",
       "0                          1                       Price       Traditional   \n",
       "1                          2                     Quality            Exotic   \n",
       "2                          2                Availability       Traditional   \n",
       "3                          1            Brand Reputation            Exotic   \n",
       "4                          1                Availability       Traditional   \n",
       "\n",
       "  purchase_channel packaging_preference                       health_concerns  \\\n",
       "0           Online               Simple  Medium (Moderately health-conscious)   \n",
       "1     Retail Store              Premium  Medium (Moderately health-conscious)   \n",
       "2     Retail Store              Premium  Medium (Moderately health-conscious)   \n",
       "3           Online         Eco-Friendly              Low (Not very concerned)   \n",
       "4           Online              Premium  Medium (Moderately health-conscious)   \n",
       "\n",
       "  typical_consumption_situations price_range age_group  cf_ab_score  \n",
       "0       Active (eg. Sports, gym)     100-150     26-35         0.67  \n",
       "1           Social (eg. Parties)     200-250     46-55         0.60  \n",
       "2       Active (eg. Sports, gym)     200-250     36-45         0.50  \n",
       "3       Active (eg. Sports, gym)     150-200     26-35         0.75  \n",
       "4       Active (eg. Sports, gym)      50-100     18-25         0.67  "
      ]
     },
     "execution_count": 46,
     "metadata": {},
     "output_type": "execute_result"
    }
   ],
   "source": [
    "df['cf_ab_score'] = (df['consume_frequency(weekly)'] / (df['consume_frequency(weekly)'] + df['awareness_of_other_brands'])).round(2)\n",
    "df.head()"
   ]
  },
  {
   "cell_type": "code",
   "execution_count": 47,
   "id": "7d922da0d2c24ea2",
   "metadata": {
    "ExecuteTime": {
     "end_time": "2024-12-20T22:01:44.035907Z",
     "start_time": "2024-12-20T22:01:44.032184Z"
    }
   },
   "outputs": [
    {
     "data": {
      "text/plain": [
       "0.75"
      ]
     },
     "execution_count": 47,
     "metadata": {},
     "output_type": "execute_result"
    }
   ],
   "source": [
    "df['cf_ab_score'].max()"
   ]
  },
  {
   "cell_type": "markdown",
   "id": "818babf83b4f58a3",
   "metadata": {
    "ExecuteTime": {
     "end_time": "2024-12-20T22:01:44.141854Z",
     "start_time": "2024-12-20T22:01:44.138692Z"
    }
   },
   "source": [
    "# Step 3: Create Zone Affluence Score (ZAS)\n",
    "Objective: Calculate the `zas_score` using a combination of the `zone` and\n",
    " `income_levels` columns.\n",
    "<li>Use the following mappings for the zone column:\n",
    "<ul>\"Urban\" → 3</ul>\n",
    "<ul>\"Metro\" → 4</ul>\n",
    "<ul>\"Rural\" → 1</ul>\n",
    "<ul>\"Semi-Urban\" → 2</ul>\n",
    "</li> \n",
    "<li>Use the following mappings for the income_levels column:\n",
    "<ul>\"<10L\" → 1</ul>\n",
    "<ul>\"10L-15L\"→2</ul>\n",
    "<ul>\"16L-25L\"→3</ul>\n",
    "<ul>\"26L-35L\"→4</ul>\n",
    "<ul>\">35L\"→5</ul>\n",
    "<ul>\"Not Reported\" → 0</ul>\n",
    "</li>\n",
    "<li>Calculate the zas_score using the following formula:\n",
    "<ul>zas_score = zone_score * income_score</ul>\n",
    "</li>"
   ]
  },
  {
   "cell_type": "code",
   "execution_count": 48,
   "id": "b9ac1f1980639cfa",
   "metadata": {
    "ExecuteTime": {
     "end_time": "2024-12-20T22:01:44.256655Z",
     "start_time": "2024-12-20T22:01:44.250785Z"
    }
   },
   "outputs": [
    {
     "data": {
      "text/plain": [
       "array(['Urban', 'Metro', 'Rural', 'Semi-Urban'], dtype=object)"
      ]
     },
     "execution_count": 48,
     "metadata": {},
     "output_type": "execute_result"
    }
   ],
   "source": [
    "df['zone'].unique()"
   ]
  },
  {
   "cell_type": "code",
   "execution_count": 49,
   "id": "792cbbcd0c30d652",
   "metadata": {
    "ExecuteTime": {
     "end_time": "2024-12-20T22:01:44.323282Z",
     "start_time": "2024-12-20T22:01:44.317537Z"
    }
   },
   "outputs": [
    {
     "data": {
      "text/plain": [
       "array(['<10L', '> 35L', '16L - 25L', 'Not Reported', '10L - 15L',\n",
       "       '26L - 35L'], dtype=object)"
      ]
     },
     "execution_count": 49,
     "metadata": {},
     "output_type": "execute_result"
    }
   ],
   "source": [
    "df['income_levels'].unique()"
   ]
  },
  {
   "cell_type": "code",
   "execution_count": 50,
   "id": "3177b99dbf606a70",
   "metadata": {
    "ExecuteTime": {
     "end_time": "2024-12-20T22:01:44.381715Z",
     "start_time": "2024-12-20T22:01:44.377087Z"
    }
   },
   "outputs": [
    {
     "data": {
      "text/plain": [
       "'>35L'"
      ]
     },
     "execution_count": 50,
     "metadata": {},
     "output_type": "execute_result"
    }
   ],
   "source": [
    "def strip_income_leve(text):\n",
    "    return text.replace(' ', '')\n",
    "\n",
    "strip_income_leve('> 35L')"
   ]
  },
  {
   "cell_type": "code",
   "execution_count": 51,
   "id": "45f6135685bda80f",
   "metadata": {
    "ExecuteTime": {
     "end_time": "2024-12-20T22:01:44.460865Z",
     "start_time": "2024-12-20T22:01:44.447933Z"
    }
   },
   "outputs": [],
   "source": [
    "df['income_levels'] = df['income_levels'].apply(strip_income_leve)"
   ]
  },
  {
   "cell_type": "code",
   "execution_count": 52,
   "id": "ef833be594cef5af",
   "metadata": {
    "ExecuteTime": {
     "end_time": "2024-12-20T22:01:44.505433Z",
     "start_time": "2024-12-20T22:01:44.499228Z"
    }
   },
   "outputs": [
    {
     "data": {
      "text/plain": [
       "array(['<10L', '>35L', '16L-25L', 'NotReported', '10L-15L', '26L-35L'],\n",
       "      dtype=object)"
      ]
     },
     "execution_count": 52,
     "metadata": {},
     "output_type": "execute_result"
    }
   ],
   "source": [
    "df['income_levels'].unique()"
   ]
  },
  {
   "cell_type": "code",
   "execution_count": 53,
   "id": "5775a2e09879a64e",
   "metadata": {
    "ExecuteTime": {
     "end_time": "2024-12-20T22:01:44.538717Z",
     "start_time": "2024-12-20T22:01:44.516317Z"
    }
   },
   "outputs": [
    {
     "data": {
      "text/html": [
       "<div>\n",
       "<style scoped>\n",
       "    .dataframe tbody tr th:only-of-type {\n",
       "        vertical-align: middle;\n",
       "    }\n",
       "\n",
       "    .dataframe tbody tr th {\n",
       "        vertical-align: top;\n",
       "    }\n",
       "\n",
       "    .dataframe thead th {\n",
       "        text-align: right;\n",
       "    }\n",
       "</style>\n",
       "<table border=\"1\" class=\"dataframe\">\n",
       "  <thead>\n",
       "    <tr style=\"text-align: right;\">\n",
       "      <th></th>\n",
       "      <th>respondent_id</th>\n",
       "      <th>gender</th>\n",
       "      <th>zone</th>\n",
       "      <th>occupation</th>\n",
       "      <th>income_levels</th>\n",
       "      <th>consume_frequency(weekly)</th>\n",
       "      <th>current_brand</th>\n",
       "      <th>preferable_consumption_size</th>\n",
       "      <th>awareness_of_other_brands</th>\n",
       "      <th>reasons_for_choosing_brands</th>\n",
       "      <th>flavor_preference</th>\n",
       "      <th>purchase_channel</th>\n",
       "      <th>packaging_preference</th>\n",
       "      <th>health_concerns</th>\n",
       "      <th>typical_consumption_situations</th>\n",
       "      <th>price_range</th>\n",
       "      <th>age_group</th>\n",
       "      <th>cf_ab_score</th>\n",
       "      <th>zas_score</th>\n",
       "    </tr>\n",
       "  </thead>\n",
       "  <tbody>\n",
       "    <tr>\n",
       "      <th>0</th>\n",
       "      <td>R00001</td>\n",
       "      <td>M</td>\n",
       "      <td>3</td>\n",
       "      <td>Working Professional</td>\n",
       "      <td>1</td>\n",
       "      <td>2</td>\n",
       "      <td>Newcomer</td>\n",
       "      <td>Medium (500 ml)</td>\n",
       "      <td>1</td>\n",
       "      <td>Price</td>\n",
       "      <td>Traditional</td>\n",
       "      <td>Online</td>\n",
       "      <td>Simple</td>\n",
       "      <td>Medium (Moderately health-conscious)</td>\n",
       "      <td>Active (eg. Sports, gym)</td>\n",
       "      <td>100-150</td>\n",
       "      <td>26-35</td>\n",
       "      <td>0.67</td>\n",
       "      <td>3</td>\n",
       "    </tr>\n",
       "    <tr>\n",
       "      <th>1</th>\n",
       "      <td>R00002</td>\n",
       "      <td>F</td>\n",
       "      <td>4</td>\n",
       "      <td>Working Professional</td>\n",
       "      <td>5</td>\n",
       "      <td>3</td>\n",
       "      <td>Established</td>\n",
       "      <td>Medium (500 ml)</td>\n",
       "      <td>2</td>\n",
       "      <td>Quality</td>\n",
       "      <td>Exotic</td>\n",
       "      <td>Retail Store</td>\n",
       "      <td>Premium</td>\n",
       "      <td>Medium (Moderately health-conscious)</td>\n",
       "      <td>Social (eg. Parties)</td>\n",
       "      <td>200-250</td>\n",
       "      <td>46-55</td>\n",
       "      <td>0.60</td>\n",
       "      <td>20</td>\n",
       "    </tr>\n",
       "    <tr>\n",
       "      <th>2</th>\n",
       "      <td>R00003</td>\n",
       "      <td>F</td>\n",
       "      <td>1</td>\n",
       "      <td>Working Professional</td>\n",
       "      <td>5</td>\n",
       "      <td>2</td>\n",
       "      <td>Newcomer</td>\n",
       "      <td>Medium (500 ml)</td>\n",
       "      <td>2</td>\n",
       "      <td>Availability</td>\n",
       "      <td>Traditional</td>\n",
       "      <td>Retail Store</td>\n",
       "      <td>Premium</td>\n",
       "      <td>Medium (Moderately health-conscious)</td>\n",
       "      <td>Active (eg. Sports, gym)</td>\n",
       "      <td>200-250</td>\n",
       "      <td>36-45</td>\n",
       "      <td>0.50</td>\n",
       "      <td>5</td>\n",
       "    </tr>\n",
       "    <tr>\n",
       "      <th>3</th>\n",
       "      <td>R00004</td>\n",
       "      <td>F</td>\n",
       "      <td>3</td>\n",
       "      <td>Working Professional</td>\n",
       "      <td>3</td>\n",
       "      <td>3</td>\n",
       "      <td>Newcomer</td>\n",
       "      <td>Medium (500 ml)</td>\n",
       "      <td>1</td>\n",
       "      <td>Brand Reputation</td>\n",
       "      <td>Exotic</td>\n",
       "      <td>Online</td>\n",
       "      <td>Eco-Friendly</td>\n",
       "      <td>Low (Not very concerned)</td>\n",
       "      <td>Active (eg. Sports, gym)</td>\n",
       "      <td>150-200</td>\n",
       "      <td>26-35</td>\n",
       "      <td>0.75</td>\n",
       "      <td>9</td>\n",
       "    </tr>\n",
       "    <tr>\n",
       "      <th>4</th>\n",
       "      <td>R00005</td>\n",
       "      <td>M</td>\n",
       "      <td>4</td>\n",
       "      <td>Student</td>\n",
       "      <td>0</td>\n",
       "      <td>2</td>\n",
       "      <td>Established</td>\n",
       "      <td>Medium (500 ml)</td>\n",
       "      <td>1</td>\n",
       "      <td>Availability</td>\n",
       "      <td>Traditional</td>\n",
       "      <td>Online</td>\n",
       "      <td>Premium</td>\n",
       "      <td>Medium (Moderately health-conscious)</td>\n",
       "      <td>Active (eg. Sports, gym)</td>\n",
       "      <td>50-100</td>\n",
       "      <td>18-25</td>\n",
       "      <td>0.67</td>\n",
       "      <td>0</td>\n",
       "    </tr>\n",
       "  </tbody>\n",
       "</table>\n",
       "</div>"
      ],
      "text/plain": [
       "  respondent_id gender  zone            occupation  income_levels  \\\n",
       "0        R00001      M     3  Working Professional              1   \n",
       "1        R00002      F     4  Working Professional              5   \n",
       "2        R00003      F     1  Working Professional              5   \n",
       "3        R00004      F     3  Working Professional              3   \n",
       "4        R00005      M     4               Student              0   \n",
       "\n",
       "   consume_frequency(weekly) current_brand preferable_consumption_size  \\\n",
       "0                          2      Newcomer             Medium (500 ml)   \n",
       "1                          3   Established             Medium (500 ml)   \n",
       "2                          2      Newcomer             Medium (500 ml)   \n",
       "3                          3      Newcomer             Medium (500 ml)   \n",
       "4                          2   Established             Medium (500 ml)   \n",
       "\n",
       "   awareness_of_other_brands reasons_for_choosing_brands flavor_preference  \\\n",
       "0                          1                       Price       Traditional   \n",
       "1                          2                     Quality            Exotic   \n",
       "2                          2                Availability       Traditional   \n",
       "3                          1            Brand Reputation            Exotic   \n",
       "4                          1                Availability       Traditional   \n",
       "\n",
       "  purchase_channel packaging_preference                       health_concerns  \\\n",
       "0           Online               Simple  Medium (Moderately health-conscious)   \n",
       "1     Retail Store              Premium  Medium (Moderately health-conscious)   \n",
       "2     Retail Store              Premium  Medium (Moderately health-conscious)   \n",
       "3           Online         Eco-Friendly              Low (Not very concerned)   \n",
       "4           Online              Premium  Medium (Moderately health-conscious)   \n",
       "\n",
       "  typical_consumption_situations price_range age_group  cf_ab_score  zas_score  \n",
       "0       Active (eg. Sports, gym)     100-150     26-35         0.67          3  \n",
       "1           Social (eg. Parties)     200-250     46-55         0.60         20  \n",
       "2       Active (eg. Sports, gym)     200-250     36-45         0.50          5  \n",
       "3       Active (eg. Sports, gym)     150-200     26-35         0.75          9  \n",
       "4       Active (eg. Sports, gym)      50-100     18-25         0.67          0  "
      ]
     },
     "execution_count": 53,
     "metadata": {},
     "output_type": "execute_result"
    }
   ],
   "source": [
    "df['zone'] = df['zone'].map({\"Rural\" :1, \"Urban\" :3, \"Semi-Urban\" :2, \"Metro\" :4})\n",
    "df['income_levels'] = df['income_levels'].map({\"<10L\": 1, \"10L-15L\":2, \"16L-25L\":3, \"26L-35L\":4, \">35L\":5, \"NotReported\":0})\n",
    "df['zas_score'] = df['zone'] * df['income_levels']\n",
    "df.head()"
   ]
  },
  {
   "cell_type": "code",
   "execution_count": 54,
   "id": "218ca380fddc6441",
   "metadata": {
    "ExecuteTime": {
     "end_time": "2024-12-20T22:01:44.619711Z",
     "start_time": "2024-12-20T22:01:44.615466Z"
    }
   },
   "outputs": [
    {
     "data": {
      "text/plain": [
       "14"
      ]
     },
     "execution_count": 54,
     "metadata": {},
     "output_type": "execute_result"
    }
   ],
   "source": [
    "df['zas_score'].nunique()"
   ]
  },
  {
   "cell_type": "markdown",
   "id": "a1ad94c7000f2296",
   "metadata": {
    "ExecuteTime": {
     "end_time": "2024-12-20T22:01:44.754870Z",
     "start_time": "2024-12-20T22:01:44.751963Z"
    }
   },
   "source": [
    "### Step 4: Brand Switching Indicator (BSI)\n",
    "Objective: Create a binary indicator column `bsi` that identifies if a respondent is likely to switch brands.\n",
    "<li>Check if the respondent’s current_brand is not \"Established\".\n",
    "<li>Also check if the reasons_for_choosing_brands are either \"Price\" or\n",
    "\"Quality\".\n",
    "<li>If both conditions are true, assign a value of 1 to indicate potential for brand\n",
    "switching. Otherwise, assign 0."
   ]
  },
  {
   "cell_type": "code",
   "execution_count": 55,
   "id": "834cb12858756cc2",
   "metadata": {
    "ExecuteTime": {
     "end_time": "2024-12-20T22:01:44.872706Z",
     "start_time": "2024-12-20T22:01:44.846661Z"
    }
   },
   "outputs": [
    {
     "data": {
      "text/html": [
       "<div>\n",
       "<style scoped>\n",
       "    .dataframe tbody tr th:only-of-type {\n",
       "        vertical-align: middle;\n",
       "    }\n",
       "\n",
       "    .dataframe tbody tr th {\n",
       "        vertical-align: top;\n",
       "    }\n",
       "\n",
       "    .dataframe thead th {\n",
       "        text-align: right;\n",
       "    }\n",
       "</style>\n",
       "<table border=\"1\" class=\"dataframe\">\n",
       "  <thead>\n",
       "    <tr style=\"text-align: right;\">\n",
       "      <th></th>\n",
       "      <th>respondent_id</th>\n",
       "      <th>gender</th>\n",
       "      <th>zone</th>\n",
       "      <th>occupation</th>\n",
       "      <th>income_levels</th>\n",
       "      <th>consume_frequency(weekly)</th>\n",
       "      <th>current_brand</th>\n",
       "      <th>preferable_consumption_size</th>\n",
       "      <th>awareness_of_other_brands</th>\n",
       "      <th>reasons_for_choosing_brands</th>\n",
       "      <th>flavor_preference</th>\n",
       "      <th>purchase_channel</th>\n",
       "      <th>packaging_preference</th>\n",
       "      <th>health_concerns</th>\n",
       "      <th>typical_consumption_situations</th>\n",
       "      <th>price_range</th>\n",
       "      <th>age_group</th>\n",
       "      <th>cf_ab_score</th>\n",
       "      <th>zas_score</th>\n",
       "      <th>bsi</th>\n",
       "    </tr>\n",
       "  </thead>\n",
       "  <tbody>\n",
       "    <tr>\n",
       "      <th>21086</th>\n",
       "      <td>R21080</td>\n",
       "      <td>M</td>\n",
       "      <td>3</td>\n",
       "      <td>Working Professional</td>\n",
       "      <td>1</td>\n",
       "      <td>3</td>\n",
       "      <td>Established</td>\n",
       "      <td>Medium (500 ml)</td>\n",
       "      <td>1</td>\n",
       "      <td>Price</td>\n",
       "      <td>Traditional</td>\n",
       "      <td>Retail Store</td>\n",
       "      <td>Simple</td>\n",
       "      <td>High (Very health-conscious)</td>\n",
       "      <td>Social (eg. Parties)</td>\n",
       "      <td>150-200</td>\n",
       "      <td>18-25</td>\n",
       "      <td>0.75</td>\n",
       "      <td>3</td>\n",
       "      <td>0</td>\n",
       "    </tr>\n",
       "    <tr>\n",
       "      <th>17514</th>\n",
       "      <td>R17509</td>\n",
       "      <td>M</td>\n",
       "      <td>3</td>\n",
       "      <td>Entrepreneur</td>\n",
       "      <td>4</td>\n",
       "      <td>3</td>\n",
       "      <td>Newcomer</td>\n",
       "      <td>Large (1 L)</td>\n",
       "      <td>2</td>\n",
       "      <td>Brand Reputation</td>\n",
       "      <td>Exotic</td>\n",
       "      <td>Online</td>\n",
       "      <td>Premium</td>\n",
       "      <td>Low (Not very concerned)</td>\n",
       "      <td>Casual (eg. At home)</td>\n",
       "      <td>200-250</td>\n",
       "      <td>26-35</td>\n",
       "      <td>0.60</td>\n",
       "      <td>12</td>\n",
       "      <td>0</td>\n",
       "    </tr>\n",
       "    <tr>\n",
       "      <th>29996</th>\n",
       "      <td>R29987</td>\n",
       "      <td>M</td>\n",
       "      <td>3</td>\n",
       "      <td>Student</td>\n",
       "      <td>0</td>\n",
       "      <td>1</td>\n",
       "      <td>Established</td>\n",
       "      <td>Small (250 ml)</td>\n",
       "      <td>1</td>\n",
       "      <td>Price</td>\n",
       "      <td>Exotic</td>\n",
       "      <td>Online</td>\n",
       "      <td>Premium</td>\n",
       "      <td>Low (Not very concerned)</td>\n",
       "      <td>Social (eg. Parties)</td>\n",
       "      <td>50-100</td>\n",
       "      <td>18-25</td>\n",
       "      <td>0.50</td>\n",
       "      <td>0</td>\n",
       "      <td>0</td>\n",
       "    </tr>\n",
       "    <tr>\n",
       "      <th>17862</th>\n",
       "      <td>R17857</td>\n",
       "      <td>F</td>\n",
       "      <td>3</td>\n",
       "      <td>Working Professional</td>\n",
       "      <td>1</td>\n",
       "      <td>2</td>\n",
       "      <td>Established</td>\n",
       "      <td>Small (250 ml)</td>\n",
       "      <td>3</td>\n",
       "      <td>Availability</td>\n",
       "      <td>Exotic</td>\n",
       "      <td>Online</td>\n",
       "      <td>Premium</td>\n",
       "      <td>Medium (Moderately health-conscious)</td>\n",
       "      <td>Social (eg. Parties)</td>\n",
       "      <td>150-200</td>\n",
       "      <td>18-25</td>\n",
       "      <td>0.40</td>\n",
       "      <td>3</td>\n",
       "      <td>0</td>\n",
       "    </tr>\n",
       "    <tr>\n",
       "      <th>26045</th>\n",
       "      <td>R26036</td>\n",
       "      <td>M</td>\n",
       "      <td>4</td>\n",
       "      <td>Working Professional</td>\n",
       "      <td>3</td>\n",
       "      <td>3</td>\n",
       "      <td>Established</td>\n",
       "      <td>Medium (500 ml)</td>\n",
       "      <td>3</td>\n",
       "      <td>Brand Reputation</td>\n",
       "      <td>Traditional</td>\n",
       "      <td>Online</td>\n",
       "      <td>Premium</td>\n",
       "      <td>High (Very health-conscious)</td>\n",
       "      <td>Social (eg. Parties)</td>\n",
       "      <td>200-250</td>\n",
       "      <td>36-45</td>\n",
       "      <td>0.50</td>\n",
       "      <td>12</td>\n",
       "      <td>0</td>\n",
       "    </tr>\n",
       "    <tr>\n",
       "      <th>6684</th>\n",
       "      <td>R06682</td>\n",
       "      <td>M</td>\n",
       "      <td>4</td>\n",
       "      <td>Working Professional</td>\n",
       "      <td>5</td>\n",
       "      <td>2</td>\n",
       "      <td>Newcomer</td>\n",
       "      <td>Large (1 L)</td>\n",
       "      <td>3</td>\n",
       "      <td>Brand Reputation</td>\n",
       "      <td>Exotic</td>\n",
       "      <td>Online</td>\n",
       "      <td>Simple</td>\n",
       "      <td>Medium (Moderately health-conscious)</td>\n",
       "      <td>Casual (eg. At home)</td>\n",
       "      <td>200-250</td>\n",
       "      <td>46-55</td>\n",
       "      <td>0.40</td>\n",
       "      <td>20</td>\n",
       "      <td>0</td>\n",
       "    </tr>\n",
       "    <tr>\n",
       "      <th>9252</th>\n",
       "      <td>R09248</td>\n",
       "      <td>F</td>\n",
       "      <td>3</td>\n",
       "      <td>Student</td>\n",
       "      <td>0</td>\n",
       "      <td>1</td>\n",
       "      <td>Newcomer</td>\n",
       "      <td>Large (1 L)</td>\n",
       "      <td>1</td>\n",
       "      <td>Price</td>\n",
       "      <td>Exotic</td>\n",
       "      <td>Online</td>\n",
       "      <td>Simple</td>\n",
       "      <td>High (Very health-conscious)</td>\n",
       "      <td>Active (eg. Sports, gym)</td>\n",
       "      <td>100-150</td>\n",
       "      <td>26-35</td>\n",
       "      <td>0.50</td>\n",
       "      <td>0</td>\n",
       "      <td>1</td>\n",
       "    </tr>\n",
       "    <tr>\n",
       "      <th>8801</th>\n",
       "      <td>R08797</td>\n",
       "      <td>F</td>\n",
       "      <td>2</td>\n",
       "      <td>Working Professional</td>\n",
       "      <td>2</td>\n",
       "      <td>2</td>\n",
       "      <td>Newcomer</td>\n",
       "      <td>Medium (500 ml)</td>\n",
       "      <td>1</td>\n",
       "      <td>Price</td>\n",
       "      <td>Exotic</td>\n",
       "      <td>Online</td>\n",
       "      <td>Simple</td>\n",
       "      <td>Medium (Moderately health-conscious)</td>\n",
       "      <td>Active (eg. Sports, gym)</td>\n",
       "      <td>100-150</td>\n",
       "      <td>36-45</td>\n",
       "      <td>0.67</td>\n",
       "      <td>4</td>\n",
       "      <td>1</td>\n",
       "    </tr>\n",
       "    <tr>\n",
       "      <th>22101</th>\n",
       "      <td>R22095</td>\n",
       "      <td>M</td>\n",
       "      <td>4</td>\n",
       "      <td>Working Professional</td>\n",
       "      <td>3</td>\n",
       "      <td>3</td>\n",
       "      <td>Established</td>\n",
       "      <td>Medium (500 ml)</td>\n",
       "      <td>1</td>\n",
       "      <td>Brand Reputation</td>\n",
       "      <td>Traditional</td>\n",
       "      <td>Online</td>\n",
       "      <td>Simple</td>\n",
       "      <td>High (Very health-conscious)</td>\n",
       "      <td>Social (eg. Parties)</td>\n",
       "      <td>200-250</td>\n",
       "      <td>46-55</td>\n",
       "      <td>0.75</td>\n",
       "      <td>12</td>\n",
       "      <td>0</td>\n",
       "    </tr>\n",
       "    <tr>\n",
       "      <th>26089</th>\n",
       "      <td>R26080</td>\n",
       "      <td>M</td>\n",
       "      <td>4</td>\n",
       "      <td>Student</td>\n",
       "      <td>0</td>\n",
       "      <td>2</td>\n",
       "      <td>Newcomer</td>\n",
       "      <td>Medium (500 ml)</td>\n",
       "      <td>2</td>\n",
       "      <td>Price</td>\n",
       "      <td>Exotic</td>\n",
       "      <td>Online</td>\n",
       "      <td>Simple</td>\n",
       "      <td>High (Very health-conscious)</td>\n",
       "      <td>Active (eg. Sports, gym)</td>\n",
       "      <td>100-150</td>\n",
       "      <td>18-25</td>\n",
       "      <td>0.50</td>\n",
       "      <td>0</td>\n",
       "      <td>1</td>\n",
       "    </tr>\n",
       "    <tr>\n",
       "      <th>19146</th>\n",
       "      <td>R19140</td>\n",
       "      <td>F</td>\n",
       "      <td>4</td>\n",
       "      <td>Working Professional</td>\n",
       "      <td>1</td>\n",
       "      <td>3</td>\n",
       "      <td>Established</td>\n",
       "      <td>Medium (500 ml)</td>\n",
       "      <td>3</td>\n",
       "      <td>Price</td>\n",
       "      <td>Traditional</td>\n",
       "      <td>Online</td>\n",
       "      <td>Eco-Friendly</td>\n",
       "      <td>Medium (Moderately health-conscious)</td>\n",
       "      <td>Active (eg. Sports, gym)</td>\n",
       "      <td>150-200</td>\n",
       "      <td>26-35</td>\n",
       "      <td>0.50</td>\n",
       "      <td>4</td>\n",
       "      <td>0</td>\n",
       "    </tr>\n",
       "    <tr>\n",
       "      <th>3000</th>\n",
       "      <td>R02999</td>\n",
       "      <td>M</td>\n",
       "      <td>1</td>\n",
       "      <td>Working Professional</td>\n",
       "      <td>4</td>\n",
       "      <td>1</td>\n",
       "      <td>Established</td>\n",
       "      <td>Large (1 L)</td>\n",
       "      <td>3</td>\n",
       "      <td>Brand Reputation</td>\n",
       "      <td>Traditional</td>\n",
       "      <td>Retail Store</td>\n",
       "      <td>Premium</td>\n",
       "      <td>High (Very health-conscious)</td>\n",
       "      <td>Social (eg. Parties)</td>\n",
       "      <td>200-250</td>\n",
       "      <td>46-55</td>\n",
       "      <td>0.25</td>\n",
       "      <td>4</td>\n",
       "      <td>0</td>\n",
       "    </tr>\n",
       "    <tr>\n",
       "      <th>7007</th>\n",
       "      <td>R07005</td>\n",
       "      <td>F</td>\n",
       "      <td>3</td>\n",
       "      <td>Retired</td>\n",
       "      <td>1</td>\n",
       "      <td>3</td>\n",
       "      <td>Newcomer</td>\n",
       "      <td>Small (250 ml)</td>\n",
       "      <td>1</td>\n",
       "      <td>Price</td>\n",
       "      <td>Exotic</td>\n",
       "      <td>Retail Store</td>\n",
       "      <td>Simple</td>\n",
       "      <td>High (Very health-conscious)</td>\n",
       "      <td>Active (eg. Sports, gym)</td>\n",
       "      <td>150-200</td>\n",
       "      <td>56-70</td>\n",
       "      <td>0.75</td>\n",
       "      <td>3</td>\n",
       "      <td>1</td>\n",
       "    </tr>\n",
       "    <tr>\n",
       "      <th>18202</th>\n",
       "      <td>R18197</td>\n",
       "      <td>F</td>\n",
       "      <td>4</td>\n",
       "      <td>Working Professional</td>\n",
       "      <td>1</td>\n",
       "      <td>1</td>\n",
       "      <td>Established</td>\n",
       "      <td>Small (250 ml)</td>\n",
       "      <td>1</td>\n",
       "      <td>Price</td>\n",
       "      <td>Traditional</td>\n",
       "      <td>Retail Store</td>\n",
       "      <td>Premium</td>\n",
       "      <td>Low (Not very concerned)</td>\n",
       "      <td>Casual (eg. At home)</td>\n",
       "      <td>100-150</td>\n",
       "      <td>36-45</td>\n",
       "      <td>0.50</td>\n",
       "      <td>4</td>\n",
       "      <td>0</td>\n",
       "    </tr>\n",
       "    <tr>\n",
       "      <th>19171</th>\n",
       "      <td>R19165</td>\n",
       "      <td>M</td>\n",
       "      <td>4</td>\n",
       "      <td>Student</td>\n",
       "      <td>0</td>\n",
       "      <td>1</td>\n",
       "      <td>Newcomer</td>\n",
       "      <td>Medium (500 ml)</td>\n",
       "      <td>1</td>\n",
       "      <td>Price</td>\n",
       "      <td>Exotic</td>\n",
       "      <td>Online</td>\n",
       "      <td>Premium</td>\n",
       "      <td>High (Very health-conscious)</td>\n",
       "      <td>Active (eg. Sports, gym)</td>\n",
       "      <td>100-150</td>\n",
       "      <td>18-25</td>\n",
       "      <td>0.50</td>\n",
       "      <td>0</td>\n",
       "      <td>1</td>\n",
       "    </tr>\n",
       "    <tr>\n",
       "      <th>11340</th>\n",
       "      <td>R11335</td>\n",
       "      <td>M</td>\n",
       "      <td>2</td>\n",
       "      <td>Student</td>\n",
       "      <td>0</td>\n",
       "      <td>3</td>\n",
       "      <td>Newcomer</td>\n",
       "      <td>Small (250 ml)</td>\n",
       "      <td>2</td>\n",
       "      <td>Price</td>\n",
       "      <td>Traditional</td>\n",
       "      <td>Retail Store</td>\n",
       "      <td>Simple</td>\n",
       "      <td>High (Very health-conscious)</td>\n",
       "      <td>Casual (eg. At home)</td>\n",
       "      <td>100-150</td>\n",
       "      <td>18-25</td>\n",
       "      <td>0.60</td>\n",
       "      <td>0</td>\n",
       "      <td>1</td>\n",
       "    </tr>\n",
       "    <tr>\n",
       "      <th>17141</th>\n",
       "      <td>R17136</td>\n",
       "      <td>F</td>\n",
       "      <td>4</td>\n",
       "      <td>Retired</td>\n",
       "      <td>1</td>\n",
       "      <td>2</td>\n",
       "      <td>Established</td>\n",
       "      <td>Medium (500 ml)</td>\n",
       "      <td>2</td>\n",
       "      <td>Availability</td>\n",
       "      <td>Exotic</td>\n",
       "      <td>Retail Store</td>\n",
       "      <td>Simple</td>\n",
       "      <td>Low (Not very concerned)</td>\n",
       "      <td>Active (eg. Sports, gym)</td>\n",
       "      <td>150-200</td>\n",
       "      <td>56-70</td>\n",
       "      <td>0.50</td>\n",
       "      <td>4</td>\n",
       "      <td>0</td>\n",
       "    </tr>\n",
       "    <tr>\n",
       "      <th>2855</th>\n",
       "      <td>R02854</td>\n",
       "      <td>M</td>\n",
       "      <td>2</td>\n",
       "      <td>Working Professional</td>\n",
       "      <td>2</td>\n",
       "      <td>2</td>\n",
       "      <td>Newcomer</td>\n",
       "      <td>Large (1 L)</td>\n",
       "      <td>1</td>\n",
       "      <td>Availability</td>\n",
       "      <td>Exotic</td>\n",
       "      <td>Retail Store</td>\n",
       "      <td>Simple</td>\n",
       "      <td>High (Very health-conscious)</td>\n",
       "      <td>Social (eg. Parties)</td>\n",
       "      <td>100-150</td>\n",
       "      <td>36-45</td>\n",
       "      <td>0.67</td>\n",
       "      <td>4</td>\n",
       "      <td>0</td>\n",
       "    </tr>\n",
       "    <tr>\n",
       "      <th>29815</th>\n",
       "      <td>R29806</td>\n",
       "      <td>F</td>\n",
       "      <td>2</td>\n",
       "      <td>Working Professional</td>\n",
       "      <td>1</td>\n",
       "      <td>1</td>\n",
       "      <td>Newcomer</td>\n",
       "      <td>Small (250 ml)</td>\n",
       "      <td>1</td>\n",
       "      <td>Availability</td>\n",
       "      <td>Exotic</td>\n",
       "      <td>Retail Store</td>\n",
       "      <td>Premium</td>\n",
       "      <td>Low (Not very concerned)</td>\n",
       "      <td>Social (eg. Parties)</td>\n",
       "      <td>50-100</td>\n",
       "      <td>26-35</td>\n",
       "      <td>0.50</td>\n",
       "      <td>2</td>\n",
       "      <td>0</td>\n",
       "    </tr>\n",
       "    <tr>\n",
       "      <th>24199</th>\n",
       "      <td>R24191</td>\n",
       "      <td>F</td>\n",
       "      <td>4</td>\n",
       "      <td>Working Professional</td>\n",
       "      <td>4</td>\n",
       "      <td>2</td>\n",
       "      <td>Established</td>\n",
       "      <td>Large (1 L)</td>\n",
       "      <td>3</td>\n",
       "      <td>Brand Reputation</td>\n",
       "      <td>Traditional</td>\n",
       "      <td>Online</td>\n",
       "      <td>Premium</td>\n",
       "      <td>High (Very health-conscious)</td>\n",
       "      <td>Casual (eg. At home)</td>\n",
       "      <td>200-250</td>\n",
       "      <td>26-35</td>\n",
       "      <td>0.40</td>\n",
       "      <td>16</td>\n",
       "      <td>0</td>\n",
       "    </tr>\n",
       "    <tr>\n",
       "      <th>9574</th>\n",
       "      <td>R09570</td>\n",
       "      <td>F</td>\n",
       "      <td>3</td>\n",
       "      <td>Working Professional</td>\n",
       "      <td>1</td>\n",
       "      <td>3</td>\n",
       "      <td>Established</td>\n",
       "      <td>Large (1 L)</td>\n",
       "      <td>1</td>\n",
       "      <td>Price</td>\n",
       "      <td>Traditional</td>\n",
       "      <td>Online</td>\n",
       "      <td>Simple</td>\n",
       "      <td>Medium (Moderately health-conscious)</td>\n",
       "      <td>Casual (eg. At home)</td>\n",
       "      <td>100-150</td>\n",
       "      <td>26-35</td>\n",
       "      <td>0.75</td>\n",
       "      <td>3</td>\n",
       "      <td>0</td>\n",
       "    </tr>\n",
       "    <tr>\n",
       "      <th>6631</th>\n",
       "      <td>R06629</td>\n",
       "      <td>F</td>\n",
       "      <td>4</td>\n",
       "      <td>Working Professional</td>\n",
       "      <td>1</td>\n",
       "      <td>2</td>\n",
       "      <td>Established</td>\n",
       "      <td>Small (250 ml)</td>\n",
       "      <td>1</td>\n",
       "      <td>Price</td>\n",
       "      <td>Traditional</td>\n",
       "      <td>Online</td>\n",
       "      <td>Eco-Friendly</td>\n",
       "      <td>Medium (Moderately health-conscious)</td>\n",
       "      <td>Active (eg. Sports, gym)</td>\n",
       "      <td>150-200</td>\n",
       "      <td>36-45</td>\n",
       "      <td>0.67</td>\n",
       "      <td>4</td>\n",
       "      <td>0</td>\n",
       "    </tr>\n",
       "    <tr>\n",
       "      <th>21604</th>\n",
       "      <td>R21598</td>\n",
       "      <td>F</td>\n",
       "      <td>3</td>\n",
       "      <td>Working Professional</td>\n",
       "      <td>1</td>\n",
       "      <td>2</td>\n",
       "      <td>Established</td>\n",
       "      <td>Large (1 L)</td>\n",
       "      <td>1</td>\n",
       "      <td>Availability</td>\n",
       "      <td>Traditional</td>\n",
       "      <td>Online</td>\n",
       "      <td>Simple</td>\n",
       "      <td>Medium (Moderately health-conscious)</td>\n",
       "      <td>Active (eg. Sports, gym)</td>\n",
       "      <td>100-150</td>\n",
       "      <td>18-25</td>\n",
       "      <td>0.67</td>\n",
       "      <td>3</td>\n",
       "      <td>0</td>\n",
       "    </tr>\n",
       "    <tr>\n",
       "      <th>18841</th>\n",
       "      <td>R18836</td>\n",
       "      <td>F</td>\n",
       "      <td>2</td>\n",
       "      <td>Working Professional</td>\n",
       "      <td>1</td>\n",
       "      <td>3</td>\n",
       "      <td>Established</td>\n",
       "      <td>Large (1 L)</td>\n",
       "      <td>1</td>\n",
       "      <td>Price</td>\n",
       "      <td>Traditional</td>\n",
       "      <td>Online</td>\n",
       "      <td>Simple</td>\n",
       "      <td>Medium (Moderately health-conscious)</td>\n",
       "      <td>Casual (eg. At home)</td>\n",
       "      <td>100-150</td>\n",
       "      <td>26-35</td>\n",
       "      <td>0.75</td>\n",
       "      <td>2</td>\n",
       "      <td>0</td>\n",
       "    </tr>\n",
       "    <tr>\n",
       "      <th>27743</th>\n",
       "      <td>R27734</td>\n",
       "      <td>F</td>\n",
       "      <td>1</td>\n",
       "      <td>Entrepreneur</td>\n",
       "      <td>4</td>\n",
       "      <td>3</td>\n",
       "      <td>Newcomer</td>\n",
       "      <td>Large (1 L)</td>\n",
       "      <td>2</td>\n",
       "      <td>Availability</td>\n",
       "      <td>Traditional</td>\n",
       "      <td>Retail Store</td>\n",
       "      <td>Premium</td>\n",
       "      <td>Medium (Moderately health-conscious)</td>\n",
       "      <td>Social (eg. Parties)</td>\n",
       "      <td>200-250</td>\n",
       "      <td>26-35</td>\n",
       "      <td>0.60</td>\n",
       "      <td>4</td>\n",
       "      <td>0</td>\n",
       "    </tr>\n",
       "  </tbody>\n",
       "</table>\n",
       "</div>"
      ],
      "text/plain": [
       "      respondent_id gender  zone            occupation  income_levels  \\\n",
       "21086        R21080      M     3  Working Professional              1   \n",
       "17514        R17509      M     3          Entrepreneur              4   \n",
       "29996        R29987      M     3               Student              0   \n",
       "17862        R17857      F     3  Working Professional              1   \n",
       "26045        R26036      M     4  Working Professional              3   \n",
       "6684         R06682      M     4  Working Professional              5   \n",
       "9252         R09248      F     3               Student              0   \n",
       "8801         R08797      F     2  Working Professional              2   \n",
       "22101        R22095      M     4  Working Professional              3   \n",
       "26089        R26080      M     4               Student              0   \n",
       "19146        R19140      F     4  Working Professional              1   \n",
       "3000         R02999      M     1  Working Professional              4   \n",
       "7007         R07005      F     3               Retired              1   \n",
       "18202        R18197      F     4  Working Professional              1   \n",
       "19171        R19165      M     4               Student              0   \n",
       "11340        R11335      M     2               Student              0   \n",
       "17141        R17136      F     4               Retired              1   \n",
       "2855         R02854      M     2  Working Professional              2   \n",
       "29815        R29806      F     2  Working Professional              1   \n",
       "24199        R24191      F     4  Working Professional              4   \n",
       "9574         R09570      F     3  Working Professional              1   \n",
       "6631         R06629      F     4  Working Professional              1   \n",
       "21604        R21598      F     3  Working Professional              1   \n",
       "18841        R18836      F     2  Working Professional              1   \n",
       "27743        R27734      F     1          Entrepreneur              4   \n",
       "\n",
       "       consume_frequency(weekly) current_brand preferable_consumption_size  \\\n",
       "21086                          3   Established             Medium (500 ml)   \n",
       "17514                          3      Newcomer                 Large (1 L)   \n",
       "29996                          1   Established              Small (250 ml)   \n",
       "17862                          2   Established              Small (250 ml)   \n",
       "26045                          3   Established             Medium (500 ml)   \n",
       "6684                           2      Newcomer                 Large (1 L)   \n",
       "9252                           1      Newcomer                 Large (1 L)   \n",
       "8801                           2      Newcomer             Medium (500 ml)   \n",
       "22101                          3   Established             Medium (500 ml)   \n",
       "26089                          2      Newcomer             Medium (500 ml)   \n",
       "19146                          3   Established             Medium (500 ml)   \n",
       "3000                           1   Established                 Large (1 L)   \n",
       "7007                           3      Newcomer              Small (250 ml)   \n",
       "18202                          1   Established              Small (250 ml)   \n",
       "19171                          1      Newcomer             Medium (500 ml)   \n",
       "11340                          3      Newcomer              Small (250 ml)   \n",
       "17141                          2   Established             Medium (500 ml)   \n",
       "2855                           2      Newcomer                 Large (1 L)   \n",
       "29815                          1      Newcomer              Small (250 ml)   \n",
       "24199                          2   Established                 Large (1 L)   \n",
       "9574                           3   Established                 Large (1 L)   \n",
       "6631                           2   Established              Small (250 ml)   \n",
       "21604                          2   Established                 Large (1 L)   \n",
       "18841                          3   Established                 Large (1 L)   \n",
       "27743                          3      Newcomer                 Large (1 L)   \n",
       "\n",
       "       awareness_of_other_brands reasons_for_choosing_brands  \\\n",
       "21086                          1                       Price   \n",
       "17514                          2            Brand Reputation   \n",
       "29996                          1                       Price   \n",
       "17862                          3                Availability   \n",
       "26045                          3            Brand Reputation   \n",
       "6684                           3            Brand Reputation   \n",
       "9252                           1                       Price   \n",
       "8801                           1                       Price   \n",
       "22101                          1            Brand Reputation   \n",
       "26089                          2                       Price   \n",
       "19146                          3                       Price   \n",
       "3000                           3            Brand Reputation   \n",
       "7007                           1                       Price   \n",
       "18202                          1                       Price   \n",
       "19171                          1                       Price   \n",
       "11340                          2                       Price   \n",
       "17141                          2                Availability   \n",
       "2855                           1                Availability   \n",
       "29815                          1                Availability   \n",
       "24199                          3            Brand Reputation   \n",
       "9574                           1                       Price   \n",
       "6631                           1                       Price   \n",
       "21604                          1                Availability   \n",
       "18841                          1                       Price   \n",
       "27743                          2                Availability   \n",
       "\n",
       "      flavor_preference purchase_channel packaging_preference  \\\n",
       "21086       Traditional     Retail Store               Simple   \n",
       "17514            Exotic           Online              Premium   \n",
       "29996            Exotic           Online              Premium   \n",
       "17862            Exotic           Online              Premium   \n",
       "26045       Traditional           Online              Premium   \n",
       "6684             Exotic           Online               Simple   \n",
       "9252             Exotic           Online               Simple   \n",
       "8801             Exotic           Online               Simple   \n",
       "22101       Traditional           Online               Simple   \n",
       "26089            Exotic           Online               Simple   \n",
       "19146       Traditional           Online         Eco-Friendly   \n",
       "3000        Traditional     Retail Store              Premium   \n",
       "7007             Exotic     Retail Store               Simple   \n",
       "18202       Traditional     Retail Store              Premium   \n",
       "19171            Exotic           Online              Premium   \n",
       "11340       Traditional     Retail Store               Simple   \n",
       "17141            Exotic     Retail Store               Simple   \n",
       "2855             Exotic     Retail Store               Simple   \n",
       "29815            Exotic     Retail Store              Premium   \n",
       "24199       Traditional           Online              Premium   \n",
       "9574        Traditional           Online               Simple   \n",
       "6631        Traditional           Online         Eco-Friendly   \n",
       "21604       Traditional           Online               Simple   \n",
       "18841       Traditional           Online               Simple   \n",
       "27743       Traditional     Retail Store              Premium   \n",
       "\n",
       "                            health_concerns typical_consumption_situations  \\\n",
       "21086          High (Very health-conscious)           Social (eg. Parties)   \n",
       "17514              Low (Not very concerned)           Casual (eg. At home)   \n",
       "29996              Low (Not very concerned)           Social (eg. Parties)   \n",
       "17862  Medium (Moderately health-conscious)           Social (eg. Parties)   \n",
       "26045          High (Very health-conscious)           Social (eg. Parties)   \n",
       "6684   Medium (Moderately health-conscious)           Casual (eg. At home)   \n",
       "9252           High (Very health-conscious)       Active (eg. Sports, gym)   \n",
       "8801   Medium (Moderately health-conscious)       Active (eg. Sports, gym)   \n",
       "22101          High (Very health-conscious)           Social (eg. Parties)   \n",
       "26089          High (Very health-conscious)       Active (eg. Sports, gym)   \n",
       "19146  Medium (Moderately health-conscious)       Active (eg. Sports, gym)   \n",
       "3000           High (Very health-conscious)           Social (eg. Parties)   \n",
       "7007           High (Very health-conscious)       Active (eg. Sports, gym)   \n",
       "18202              Low (Not very concerned)           Casual (eg. At home)   \n",
       "19171          High (Very health-conscious)       Active (eg. Sports, gym)   \n",
       "11340          High (Very health-conscious)           Casual (eg. At home)   \n",
       "17141              Low (Not very concerned)       Active (eg. Sports, gym)   \n",
       "2855           High (Very health-conscious)           Social (eg. Parties)   \n",
       "29815              Low (Not very concerned)           Social (eg. Parties)   \n",
       "24199          High (Very health-conscious)           Casual (eg. At home)   \n",
       "9574   Medium (Moderately health-conscious)           Casual (eg. At home)   \n",
       "6631   Medium (Moderately health-conscious)       Active (eg. Sports, gym)   \n",
       "21604  Medium (Moderately health-conscious)       Active (eg. Sports, gym)   \n",
       "18841  Medium (Moderately health-conscious)           Casual (eg. At home)   \n",
       "27743  Medium (Moderately health-conscious)           Social (eg. Parties)   \n",
       "\n",
       "      price_range age_group  cf_ab_score  zas_score  bsi  \n",
       "21086     150-200     18-25         0.75          3    0  \n",
       "17514     200-250     26-35         0.60         12    0  \n",
       "29996      50-100     18-25         0.50          0    0  \n",
       "17862     150-200     18-25         0.40          3    0  \n",
       "26045     200-250     36-45         0.50         12    0  \n",
       "6684      200-250     46-55         0.40         20    0  \n",
       "9252      100-150     26-35         0.50          0    1  \n",
       "8801      100-150     36-45         0.67          4    1  \n",
       "22101     200-250     46-55         0.75         12    0  \n",
       "26089     100-150     18-25         0.50          0    1  \n",
       "19146     150-200     26-35         0.50          4    0  \n",
       "3000      200-250     46-55         0.25          4    0  \n",
       "7007      150-200     56-70         0.75          3    1  \n",
       "18202     100-150     36-45         0.50          4    0  \n",
       "19171     100-150     18-25         0.50          0    1  \n",
       "11340     100-150     18-25         0.60          0    1  \n",
       "17141     150-200     56-70         0.50          4    0  \n",
       "2855      100-150     36-45         0.67          4    0  \n",
       "29815      50-100     26-35         0.50          2    0  \n",
       "24199     200-250     26-35         0.40         16    0  \n",
       "9574      100-150     26-35         0.75          3    0  \n",
       "6631      150-200     36-45         0.67          4    0  \n",
       "21604     100-150     18-25         0.67          3    0  \n",
       "18841     100-150     26-35         0.75          2    0  \n",
       "27743     200-250     26-35         0.60          4    0  "
      ]
     },
     "execution_count": 55,
     "metadata": {},
     "output_type": "execute_result"
    }
   ],
   "source": [
    "df['bsi'] = ((df['current_brand'] != 'Established') & (df['reasons_for_choosing_brands'].isin(['Price', 'Quality']))).astype(int)\n",
    "df.sample(25)"
   ]
  },
  {
   "cell_type": "code",
   "execution_count": 56,
   "id": "89764d2468797e42",
   "metadata": {
    "ExecuteTime": {
     "end_time": "2024-12-20T22:01:44.959482Z",
     "start_time": "2024-12-20T22:01:44.954822Z"
    }
   },
   "outputs": [
    {
     "data": {
      "text/plain": [
       "(dtype('O'), dtype('O'))"
      ]
     },
     "execution_count": 56,
     "metadata": {},
     "output_type": "execute_result"
    }
   ],
   "source": [
    "df['current_brand'].dtype, df['reasons_for_choosing_brands'].dtype"
   ]
  },
  {
   "cell_type": "code",
   "execution_count": 57,
   "id": "1712685b2b0c6153",
   "metadata": {
    "ExecuteTime": {
     "end_time": "2024-12-20T22:01:45.026360Z",
     "start_time": "2024-12-20T22:01:45.019416Z"
    }
   },
   "outputs": [
    {
     "data": {
      "text/plain": [
       "(0, 0)"
      ]
     },
     "execution_count": 57,
     "metadata": {},
     "output_type": "execute_result"
    }
   ],
   "source": [
    "df['current_brand'].isna().sum(), df['reasons_for_choosing_brands'].isna().sum()"
   ]
  },
  {
   "cell_type": "code",
   "execution_count": 58,
   "id": "458b17378c377101",
   "metadata": {
    "ExecuteTime": {
     "end_time": "2024-12-20T22:01:45.198282Z",
     "start_time": "2024-12-20T22:01:45.194321Z"
    }
   },
   "outputs": [
    {
     "data": {
      "text/plain": [
       "0"
      ]
     },
     "execution_count": 58,
     "metadata": {},
     "output_type": "execute_result"
    }
   ],
   "source": [
    "df['bsi'].isna().sum()"
   ]
  },
  {
   "cell_type": "markdown",
   "id": "ef0769f2b4141eaf",
   "metadata": {},
   "source": [
    "### Final Cleaning Step:\n",
    "#### Removing Logical Outliers:"
   ]
  },
  {
   "cell_type": "code",
   "execution_count": 59,
   "id": "310b6211663688f7",
   "metadata": {
    "ExecuteTime": {
     "end_time": "2024-12-20T22:01:45.278069Z",
     "start_time": "2024-12-20T22:01:45.263532Z"
    }
   },
   "outputs": [
    {
     "data": {
      "text/html": [
       "<div>\n",
       "<style scoped>\n",
       "    .dataframe tbody tr th:only-of-type {\n",
       "        vertical-align: middle;\n",
       "    }\n",
       "\n",
       "    .dataframe tbody tr th {\n",
       "        vertical-align: top;\n",
       "    }\n",
       "\n",
       "    .dataframe thead th {\n",
       "        text-align: right;\n",
       "    }\n",
       "</style>\n",
       "<table border=\"1\" class=\"dataframe\">\n",
       "  <thead>\n",
       "    <tr style=\"text-align: right;\">\n",
       "      <th></th>\n",
       "      <th>respondent_id</th>\n",
       "      <th>gender</th>\n",
       "      <th>zone</th>\n",
       "      <th>occupation</th>\n",
       "      <th>income_levels</th>\n",
       "      <th>consume_frequency(weekly)</th>\n",
       "      <th>current_brand</th>\n",
       "      <th>preferable_consumption_size</th>\n",
       "      <th>awareness_of_other_brands</th>\n",
       "      <th>reasons_for_choosing_brands</th>\n",
       "      <th>flavor_preference</th>\n",
       "      <th>purchase_channel</th>\n",
       "      <th>packaging_preference</th>\n",
       "      <th>health_concerns</th>\n",
       "      <th>typical_consumption_situations</th>\n",
       "      <th>price_range</th>\n",
       "      <th>age_group</th>\n",
       "      <th>cf_ab_score</th>\n",
       "      <th>zas_score</th>\n",
       "      <th>bsi</th>\n",
       "    </tr>\n",
       "  </thead>\n",
       "  <tbody>\n",
       "    <tr>\n",
       "      <th>0</th>\n",
       "      <td>R00001</td>\n",
       "      <td>M</td>\n",
       "      <td>3</td>\n",
       "      <td>Working Professional</td>\n",
       "      <td>1</td>\n",
       "      <td>2</td>\n",
       "      <td>Newcomer</td>\n",
       "      <td>Medium (500 ml)</td>\n",
       "      <td>1</td>\n",
       "      <td>Price</td>\n",
       "      <td>Traditional</td>\n",
       "      <td>Online</td>\n",
       "      <td>Simple</td>\n",
       "      <td>Medium (Moderately health-conscious)</td>\n",
       "      <td>Active (eg. Sports, gym)</td>\n",
       "      <td>100-150</td>\n",
       "      <td>26-35</td>\n",
       "      <td>0.67</td>\n",
       "      <td>3</td>\n",
       "      <td>1</td>\n",
       "    </tr>\n",
       "    <tr>\n",
       "      <th>1</th>\n",
       "      <td>R00002</td>\n",
       "      <td>F</td>\n",
       "      <td>4</td>\n",
       "      <td>Working Professional</td>\n",
       "      <td>5</td>\n",
       "      <td>3</td>\n",
       "      <td>Established</td>\n",
       "      <td>Medium (500 ml)</td>\n",
       "      <td>2</td>\n",
       "      <td>Quality</td>\n",
       "      <td>Exotic</td>\n",
       "      <td>Retail Store</td>\n",
       "      <td>Premium</td>\n",
       "      <td>Medium (Moderately health-conscious)</td>\n",
       "      <td>Social (eg. Parties)</td>\n",
       "      <td>200-250</td>\n",
       "      <td>46-55</td>\n",
       "      <td>0.60</td>\n",
       "      <td>20</td>\n",
       "      <td>0</td>\n",
       "    </tr>\n",
       "    <tr>\n",
       "      <th>2</th>\n",
       "      <td>R00003</td>\n",
       "      <td>F</td>\n",
       "      <td>1</td>\n",
       "      <td>Working Professional</td>\n",
       "      <td>5</td>\n",
       "      <td>2</td>\n",
       "      <td>Newcomer</td>\n",
       "      <td>Medium (500 ml)</td>\n",
       "      <td>2</td>\n",
       "      <td>Availability</td>\n",
       "      <td>Traditional</td>\n",
       "      <td>Retail Store</td>\n",
       "      <td>Premium</td>\n",
       "      <td>Medium (Moderately health-conscious)</td>\n",
       "      <td>Active (eg. Sports, gym)</td>\n",
       "      <td>200-250</td>\n",
       "      <td>36-45</td>\n",
       "      <td>0.50</td>\n",
       "      <td>5</td>\n",
       "      <td>0</td>\n",
       "    </tr>\n",
       "    <tr>\n",
       "      <th>3</th>\n",
       "      <td>R00004</td>\n",
       "      <td>F</td>\n",
       "      <td>3</td>\n",
       "      <td>Working Professional</td>\n",
       "      <td>3</td>\n",
       "      <td>3</td>\n",
       "      <td>Newcomer</td>\n",
       "      <td>Medium (500 ml)</td>\n",
       "      <td>1</td>\n",
       "      <td>Brand Reputation</td>\n",
       "      <td>Exotic</td>\n",
       "      <td>Online</td>\n",
       "      <td>Eco-Friendly</td>\n",
       "      <td>Low (Not very concerned)</td>\n",
       "      <td>Active (eg. Sports, gym)</td>\n",
       "      <td>150-200</td>\n",
       "      <td>26-35</td>\n",
       "      <td>0.75</td>\n",
       "      <td>9</td>\n",
       "      <td>0</td>\n",
       "    </tr>\n",
       "    <tr>\n",
       "      <th>4</th>\n",
       "      <td>R00005</td>\n",
       "      <td>M</td>\n",
       "      <td>4</td>\n",
       "      <td>Student</td>\n",
       "      <td>0</td>\n",
       "      <td>2</td>\n",
       "      <td>Established</td>\n",
       "      <td>Medium (500 ml)</td>\n",
       "      <td>1</td>\n",
       "      <td>Availability</td>\n",
       "      <td>Traditional</td>\n",
       "      <td>Online</td>\n",
       "      <td>Premium</td>\n",
       "      <td>Medium (Moderately health-conscious)</td>\n",
       "      <td>Active (eg. Sports, gym)</td>\n",
       "      <td>50-100</td>\n",
       "      <td>18-25</td>\n",
       "      <td>0.67</td>\n",
       "      <td>0</td>\n",
       "      <td>0</td>\n",
       "    </tr>\n",
       "  </tbody>\n",
       "</table>\n",
       "</div>"
      ],
      "text/plain": [
       "  respondent_id gender  zone            occupation  income_levels  \\\n",
       "0        R00001      M     3  Working Professional              1   \n",
       "1        R00002      F     4  Working Professional              5   \n",
       "2        R00003      F     1  Working Professional              5   \n",
       "3        R00004      F     3  Working Professional              3   \n",
       "4        R00005      M     4               Student              0   \n",
       "\n",
       "   consume_frequency(weekly) current_brand preferable_consumption_size  \\\n",
       "0                          2      Newcomer             Medium (500 ml)   \n",
       "1                          3   Established             Medium (500 ml)   \n",
       "2                          2      Newcomer             Medium (500 ml)   \n",
       "3                          3      Newcomer             Medium (500 ml)   \n",
       "4                          2   Established             Medium (500 ml)   \n",
       "\n",
       "   awareness_of_other_brands reasons_for_choosing_brands flavor_preference  \\\n",
       "0                          1                       Price       Traditional   \n",
       "1                          2                     Quality            Exotic   \n",
       "2                          2                Availability       Traditional   \n",
       "3                          1            Brand Reputation            Exotic   \n",
       "4                          1                Availability       Traditional   \n",
       "\n",
       "  purchase_channel packaging_preference                       health_concerns  \\\n",
       "0           Online               Simple  Medium (Moderately health-conscious)   \n",
       "1     Retail Store              Premium  Medium (Moderately health-conscious)   \n",
       "2     Retail Store              Premium  Medium (Moderately health-conscious)   \n",
       "3           Online         Eco-Friendly              Low (Not very concerned)   \n",
       "4           Online              Premium  Medium (Moderately health-conscious)   \n",
       "\n",
       "  typical_consumption_situations price_range age_group  cf_ab_score  \\\n",
       "0       Active (eg. Sports, gym)     100-150     26-35         0.67   \n",
       "1           Social (eg. Parties)     200-250     46-55         0.60   \n",
       "2       Active (eg. Sports, gym)     200-250     36-45         0.50   \n",
       "3       Active (eg. Sports, gym)     150-200     26-35         0.75   \n",
       "4       Active (eg. Sports, gym)      50-100     18-25         0.67   \n",
       "\n",
       "   zas_score  bsi  \n",
       "0          3    1  \n",
       "1         20    0  \n",
       "2          5    0  \n",
       "3          9    0  \n",
       "4          0    0  "
      ]
     },
     "execution_count": 59,
     "metadata": {},
     "output_type": "execute_result"
    }
   ],
   "source": [
    "df.head()"
   ]
  },
  {
   "cell_type": "code",
   "execution_count": 60,
   "id": "cade44d12fa9f4b5",
   "metadata": {
    "ExecuteTime": {
     "end_time": "2024-12-20T22:01:45.362664Z",
     "start_time": "2024-12-20T22:01:45.348809Z"
    }
   },
   "outputs": [
    {
     "data": {
      "text/plain": [
       "age_group  occupation          \n",
       "18-25      Student                 7328\n",
       "           Working Professional    2605\n",
       "           Entrepreneur             535\n",
       "26-35      Working Professional    6570\n",
       "           Entrepreneur            1826\n",
       "           Student                  697\n",
       "36-45      Working Professional    4353\n",
       "           Entrepreneur            1619\n",
       "46-55      Working Professional    2167\n",
       "           Entrepreneur             799\n",
       "56-70      Retired                 1130\n",
       "           Entrepreneur             221\n",
       "           Working Professional     106\n",
       "           Student                   35\n",
       "Name: count, dtype: int64"
      ]
     },
     "execution_count": 60,
     "metadata": {},
     "output_type": "execute_result"
    }
   ],
   "source": [
    "df.groupby('age_group')['occupation'].value_counts()"
   ]
  },
  {
   "cell_type": "code",
   "execution_count": 61,
   "id": "86f296c8a6016227",
   "metadata": {
    "ExecuteTime": {
     "end_time": "2024-12-20T22:01:45.476623Z",
     "start_time": "2024-12-20T22:01:45.453676Z"
    }
   },
   "outputs": [
    {
     "data": {
      "text/html": [
       "<div>\n",
       "<style scoped>\n",
       "    .dataframe tbody tr th:only-of-type {\n",
       "        vertical-align: middle;\n",
       "    }\n",
       "\n",
       "    .dataframe tbody tr th {\n",
       "        vertical-align: top;\n",
       "    }\n",
       "\n",
       "    .dataframe thead th {\n",
       "        text-align: right;\n",
       "    }\n",
       "</style>\n",
       "<table border=\"1\" class=\"dataframe\">\n",
       "  <thead>\n",
       "    <tr style=\"text-align: right;\">\n",
       "      <th></th>\n",
       "      <th>respondent_id</th>\n",
       "      <th>gender</th>\n",
       "      <th>zone</th>\n",
       "      <th>occupation</th>\n",
       "      <th>income_levels</th>\n",
       "      <th>consume_frequency(weekly)</th>\n",
       "      <th>current_brand</th>\n",
       "      <th>preferable_consumption_size</th>\n",
       "      <th>awareness_of_other_brands</th>\n",
       "      <th>reasons_for_choosing_brands</th>\n",
       "      <th>flavor_preference</th>\n",
       "      <th>purchase_channel</th>\n",
       "      <th>packaging_preference</th>\n",
       "      <th>health_concerns</th>\n",
       "      <th>typical_consumption_situations</th>\n",
       "      <th>price_range</th>\n",
       "      <th>age_group</th>\n",
       "      <th>cf_ab_score</th>\n",
       "      <th>zas_score</th>\n",
       "      <th>bsi</th>\n",
       "    </tr>\n",
       "  </thead>\n",
       "  <tbody>\n",
       "    <tr>\n",
       "      <th>25</th>\n",
       "      <td>R00026</td>\n",
       "      <td>F</td>\n",
       "      <td>4</td>\n",
       "      <td>Entrepreneur</td>\n",
       "      <td>4</td>\n",
       "      <td>3</td>\n",
       "      <td>Established</td>\n",
       "      <td>Large (1 L)</td>\n",
       "      <td>3</td>\n",
       "      <td>Quality</td>\n",
       "      <td>Exotic</td>\n",
       "      <td>Online</td>\n",
       "      <td>Premium</td>\n",
       "      <td>Medium (Moderately health-conscious)</td>\n",
       "      <td>Social (eg. Parties)</td>\n",
       "      <td>200-250</td>\n",
       "      <td>18-25</td>\n",
       "      <td>0.50</td>\n",
       "      <td>16</td>\n",
       "      <td>0</td>\n",
       "    </tr>\n",
       "    <tr>\n",
       "      <th>58</th>\n",
       "      <td>R00059</td>\n",
       "      <td>F</td>\n",
       "      <td>3</td>\n",
       "      <td>Entrepreneur</td>\n",
       "      <td>3</td>\n",
       "      <td>2</td>\n",
       "      <td>Established</td>\n",
       "      <td>Medium (500 ml)</td>\n",
       "      <td>1</td>\n",
       "      <td>Quality</td>\n",
       "      <td>Traditional</td>\n",
       "      <td>Online</td>\n",
       "      <td>Eco-Friendly</td>\n",
       "      <td>Low (Not very concerned)</td>\n",
       "      <td>Social (eg. Parties)</td>\n",
       "      <td>150-200</td>\n",
       "      <td>18-25</td>\n",
       "      <td>0.67</td>\n",
       "      <td>9</td>\n",
       "      <td>0</td>\n",
       "    </tr>\n",
       "    <tr>\n",
       "      <th>81</th>\n",
       "      <td>R00082</td>\n",
       "      <td>M</td>\n",
       "      <td>4</td>\n",
       "      <td>Entrepreneur</td>\n",
       "      <td>2</td>\n",
       "      <td>2</td>\n",
       "      <td>Established</td>\n",
       "      <td>Medium (500 ml)</td>\n",
       "      <td>3</td>\n",
       "      <td>Price</td>\n",
       "      <td>Traditional</td>\n",
       "      <td>Retail Store</td>\n",
       "      <td>Premium</td>\n",
       "      <td>High (Very health-conscious)</td>\n",
       "      <td>Active (eg. Sports, gym)</td>\n",
       "      <td>200-250</td>\n",
       "      <td>18-25</td>\n",
       "      <td>0.40</td>\n",
       "      <td>8</td>\n",
       "      <td>0</td>\n",
       "    </tr>\n",
       "    <tr>\n",
       "      <th>113</th>\n",
       "      <td>R00114</td>\n",
       "      <td>F</td>\n",
       "      <td>3</td>\n",
       "      <td>Entrepreneur</td>\n",
       "      <td>3</td>\n",
       "      <td>3</td>\n",
       "      <td>Established</td>\n",
       "      <td>Medium (500 ml)</td>\n",
       "      <td>3</td>\n",
       "      <td>Quality</td>\n",
       "      <td>Traditional</td>\n",
       "      <td>Retail Store</td>\n",
       "      <td>Premium</td>\n",
       "      <td>Low (Not very concerned)</td>\n",
       "      <td>Active (eg. Sports, gym)</td>\n",
       "      <td>200-250</td>\n",
       "      <td>18-25</td>\n",
       "      <td>0.50</td>\n",
       "      <td>9</td>\n",
       "      <td>0</td>\n",
       "    </tr>\n",
       "    <tr>\n",
       "      <th>159</th>\n",
       "      <td>R00160</td>\n",
       "      <td>M</td>\n",
       "      <td>1</td>\n",
       "      <td>Entrepreneur</td>\n",
       "      <td>2</td>\n",
       "      <td>1</td>\n",
       "      <td>Newcomer</td>\n",
       "      <td>Small (250 ml)</td>\n",
       "      <td>3</td>\n",
       "      <td>Price</td>\n",
       "      <td>Traditional</td>\n",
       "      <td>Online</td>\n",
       "      <td>Simple</td>\n",
       "      <td>Low (Not very concerned)</td>\n",
       "      <td>Casual (eg. At home)</td>\n",
       "      <td>100-150</td>\n",
       "      <td>18-25</td>\n",
       "      <td>0.25</td>\n",
       "      <td>2</td>\n",
       "      <td>1</td>\n",
       "    </tr>\n",
       "    <tr>\n",
       "      <th>...</th>\n",
       "      <td>...</td>\n",
       "      <td>...</td>\n",
       "      <td>...</td>\n",
       "      <td>...</td>\n",
       "      <td>...</td>\n",
       "      <td>...</td>\n",
       "      <td>...</td>\n",
       "      <td>...</td>\n",
       "      <td>...</td>\n",
       "      <td>...</td>\n",
       "      <td>...</td>\n",
       "      <td>...</td>\n",
       "      <td>...</td>\n",
       "      <td>...</td>\n",
       "      <td>...</td>\n",
       "      <td>...</td>\n",
       "      <td>...</td>\n",
       "      <td>...</td>\n",
       "      <td>...</td>\n",
       "      <td>...</td>\n",
       "    </tr>\n",
       "    <tr>\n",
       "      <th>29777</th>\n",
       "      <td>R29768</td>\n",
       "      <td>M</td>\n",
       "      <td>3</td>\n",
       "      <td>Entrepreneur</td>\n",
       "      <td>2</td>\n",
       "      <td>1</td>\n",
       "      <td>Newcomer</td>\n",
       "      <td>Medium (500 ml)</td>\n",
       "      <td>1</td>\n",
       "      <td>Price</td>\n",
       "      <td>Exotic</td>\n",
       "      <td>Online</td>\n",
       "      <td>Simple</td>\n",
       "      <td>Medium (Moderately health-conscious)</td>\n",
       "      <td>Social (eg. Parties)</td>\n",
       "      <td>100-150</td>\n",
       "      <td>18-25</td>\n",
       "      <td>0.50</td>\n",
       "      <td>6</td>\n",
       "      <td>1</td>\n",
       "    </tr>\n",
       "    <tr>\n",
       "      <th>29852</th>\n",
       "      <td>R29843</td>\n",
       "      <td>M</td>\n",
       "      <td>2</td>\n",
       "      <td>Entrepreneur</td>\n",
       "      <td>3</td>\n",
       "      <td>3</td>\n",
       "      <td>Established</td>\n",
       "      <td>Medium (500 ml)</td>\n",
       "      <td>1</td>\n",
       "      <td>Brand Reputation</td>\n",
       "      <td>Traditional</td>\n",
       "      <td>Retail Store</td>\n",
       "      <td>Eco-Friendly</td>\n",
       "      <td>Medium (Moderately health-conscious)</td>\n",
       "      <td>Active (eg. Sports, gym)</td>\n",
       "      <td>100-150</td>\n",
       "      <td>18-25</td>\n",
       "      <td>0.75</td>\n",
       "      <td>6</td>\n",
       "      <td>0</td>\n",
       "    </tr>\n",
       "    <tr>\n",
       "      <th>29894</th>\n",
       "      <td>R29885</td>\n",
       "      <td>F</td>\n",
       "      <td>3</td>\n",
       "      <td>Entrepreneur</td>\n",
       "      <td>3</td>\n",
       "      <td>3</td>\n",
       "      <td>Newcomer</td>\n",
       "      <td>Medium (500 ml)</td>\n",
       "      <td>2</td>\n",
       "      <td>Brand Reputation</td>\n",
       "      <td>Traditional</td>\n",
       "      <td>Online</td>\n",
       "      <td>Simple</td>\n",
       "      <td>Medium (Moderately health-conscious)</td>\n",
       "      <td>Casual (eg. At home)</td>\n",
       "      <td>200-250</td>\n",
       "      <td>18-25</td>\n",
       "      <td>0.60</td>\n",
       "      <td>9</td>\n",
       "      <td>0</td>\n",
       "    </tr>\n",
       "    <tr>\n",
       "      <th>29968</th>\n",
       "      <td>R29959</td>\n",
       "      <td>M</td>\n",
       "      <td>4</td>\n",
       "      <td>Entrepreneur</td>\n",
       "      <td>1</td>\n",
       "      <td>1</td>\n",
       "      <td>Established</td>\n",
       "      <td>Small (250 ml)</td>\n",
       "      <td>1</td>\n",
       "      <td>Price</td>\n",
       "      <td>Traditional</td>\n",
       "      <td>Retail Store</td>\n",
       "      <td>Simple</td>\n",
       "      <td>High (Very health-conscious)</td>\n",
       "      <td>Casual (eg. At home)</td>\n",
       "      <td>100-150</td>\n",
       "      <td>18-25</td>\n",
       "      <td>0.50</td>\n",
       "      <td>4</td>\n",
       "      <td>0</td>\n",
       "    </tr>\n",
       "    <tr>\n",
       "      <th>29994</th>\n",
       "      <td>R29985</td>\n",
       "      <td>F</td>\n",
       "      <td>3</td>\n",
       "      <td>Entrepreneur</td>\n",
       "      <td>2</td>\n",
       "      <td>2</td>\n",
       "      <td>Newcomer</td>\n",
       "      <td>Large (1 L)</td>\n",
       "      <td>2</td>\n",
       "      <td>Price</td>\n",
       "      <td>Traditional</td>\n",
       "      <td>Online</td>\n",
       "      <td>Premium</td>\n",
       "      <td>Low (Not very concerned)</td>\n",
       "      <td>Active (eg. Sports, gym)</td>\n",
       "      <td>150-200</td>\n",
       "      <td>18-25</td>\n",
       "      <td>0.50</td>\n",
       "      <td>6</td>\n",
       "      <td>1</td>\n",
       "    </tr>\n",
       "  </tbody>\n",
       "</table>\n",
       "<p>535 rows × 20 columns</p>\n",
       "</div>"
      ],
      "text/plain": [
       "      respondent_id gender  zone    occupation  income_levels  \\\n",
       "25           R00026      F     4  Entrepreneur              4   \n",
       "58           R00059      F     3  Entrepreneur              3   \n",
       "81           R00082      M     4  Entrepreneur              2   \n",
       "113          R00114      F     3  Entrepreneur              3   \n",
       "159          R00160      M     1  Entrepreneur              2   \n",
       "...             ...    ...   ...           ...            ...   \n",
       "29777        R29768      M     3  Entrepreneur              2   \n",
       "29852        R29843      M     2  Entrepreneur              3   \n",
       "29894        R29885      F     3  Entrepreneur              3   \n",
       "29968        R29959      M     4  Entrepreneur              1   \n",
       "29994        R29985      F     3  Entrepreneur              2   \n",
       "\n",
       "       consume_frequency(weekly) current_brand preferable_consumption_size  \\\n",
       "25                             3   Established                 Large (1 L)   \n",
       "58                             2   Established             Medium (500 ml)   \n",
       "81                             2   Established             Medium (500 ml)   \n",
       "113                            3   Established             Medium (500 ml)   \n",
       "159                            1      Newcomer              Small (250 ml)   \n",
       "...                          ...           ...                         ...   \n",
       "29777                          1      Newcomer             Medium (500 ml)   \n",
       "29852                          3   Established             Medium (500 ml)   \n",
       "29894                          3      Newcomer             Medium (500 ml)   \n",
       "29968                          1   Established              Small (250 ml)   \n",
       "29994                          2      Newcomer                 Large (1 L)   \n",
       "\n",
       "       awareness_of_other_brands reasons_for_choosing_brands  \\\n",
       "25                             3                     Quality   \n",
       "58                             1                     Quality   \n",
       "81                             3                       Price   \n",
       "113                            3                     Quality   \n",
       "159                            3                       Price   \n",
       "...                          ...                         ...   \n",
       "29777                          1                       Price   \n",
       "29852                          1            Brand Reputation   \n",
       "29894                          2            Brand Reputation   \n",
       "29968                          1                       Price   \n",
       "29994                          2                       Price   \n",
       "\n",
       "      flavor_preference purchase_channel packaging_preference  \\\n",
       "25               Exotic           Online              Premium   \n",
       "58          Traditional           Online         Eco-Friendly   \n",
       "81          Traditional     Retail Store              Premium   \n",
       "113         Traditional     Retail Store              Premium   \n",
       "159         Traditional           Online               Simple   \n",
       "...                 ...              ...                  ...   \n",
       "29777            Exotic           Online               Simple   \n",
       "29852       Traditional     Retail Store         Eco-Friendly   \n",
       "29894       Traditional           Online               Simple   \n",
       "29968       Traditional     Retail Store               Simple   \n",
       "29994       Traditional           Online              Premium   \n",
       "\n",
       "                            health_concerns typical_consumption_situations  \\\n",
       "25     Medium (Moderately health-conscious)           Social (eg. Parties)   \n",
       "58                 Low (Not very concerned)           Social (eg. Parties)   \n",
       "81             High (Very health-conscious)       Active (eg. Sports, gym)   \n",
       "113                Low (Not very concerned)       Active (eg. Sports, gym)   \n",
       "159                Low (Not very concerned)           Casual (eg. At home)   \n",
       "...                                     ...                            ...   \n",
       "29777  Medium (Moderately health-conscious)           Social (eg. Parties)   \n",
       "29852  Medium (Moderately health-conscious)       Active (eg. Sports, gym)   \n",
       "29894  Medium (Moderately health-conscious)           Casual (eg. At home)   \n",
       "29968          High (Very health-conscious)           Casual (eg. At home)   \n",
       "29994              Low (Not very concerned)       Active (eg. Sports, gym)   \n",
       "\n",
       "      price_range age_group  cf_ab_score  zas_score  bsi  \n",
       "25        200-250     18-25         0.50         16    0  \n",
       "58        150-200     18-25         0.67          9    0  \n",
       "81        200-250     18-25         0.40          8    0  \n",
       "113       200-250     18-25         0.50          9    0  \n",
       "159       100-150     18-25         0.25          2    1  \n",
       "...           ...       ...          ...        ...  ...  \n",
       "29777     100-150     18-25         0.50          6    1  \n",
       "29852     100-150     18-25         0.75          6    0  \n",
       "29894     200-250     18-25         0.60          9    0  \n",
       "29968     100-150     18-25         0.50          4    0  \n",
       "29994     150-200     18-25         0.50          6    1  \n",
       "\n",
       "[535 rows x 20 columns]"
      ]
     },
     "execution_count": 61,
     "metadata": {},
     "output_type": "execute_result"
    }
   ],
   "source": [
    "df[(df['age_group'] == '18-25') & (df['occupation']=='Entrepreneur')]"
   ]
  },
  {
   "cell_type": "code",
   "execution_count": 62,
   "id": "409be7b7414c1c5b",
   "metadata": {
    "ExecuteTime": {
     "end_time": "2024-12-20T22:01:45.675851Z",
     "start_time": "2024-12-20T22:01:45.647011Z"
    }
   },
   "outputs": [
    {
     "name": "stdout",
     "output_type": "stream",
     "text": [
      "(29956, 20)\n"
     ]
    },
    {
     "data": {
      "text/html": [
       "<div>\n",
       "<style scoped>\n",
       "    .dataframe tbody tr th:only-of-type {\n",
       "        vertical-align: middle;\n",
       "    }\n",
       "\n",
       "    .dataframe tbody tr th {\n",
       "        vertical-align: top;\n",
       "    }\n",
       "\n",
       "    .dataframe thead th {\n",
       "        text-align: right;\n",
       "    }\n",
       "</style>\n",
       "<table border=\"1\" class=\"dataframe\">\n",
       "  <thead>\n",
       "    <tr style=\"text-align: right;\">\n",
       "      <th></th>\n",
       "      <th>respondent_id</th>\n",
       "      <th>gender</th>\n",
       "      <th>zone</th>\n",
       "      <th>occupation</th>\n",
       "      <th>income_levels</th>\n",
       "      <th>consume_frequency(weekly)</th>\n",
       "      <th>current_brand</th>\n",
       "      <th>preferable_consumption_size</th>\n",
       "      <th>awareness_of_other_brands</th>\n",
       "      <th>reasons_for_choosing_brands</th>\n",
       "      <th>flavor_preference</th>\n",
       "      <th>purchase_channel</th>\n",
       "      <th>packaging_preference</th>\n",
       "      <th>health_concerns</th>\n",
       "      <th>typical_consumption_situations</th>\n",
       "      <th>price_range</th>\n",
       "      <th>age_group</th>\n",
       "      <th>cf_ab_score</th>\n",
       "      <th>zas_score</th>\n",
       "      <th>bsi</th>\n",
       "    </tr>\n",
       "  </thead>\n",
       "  <tbody>\n",
       "    <tr>\n",
       "      <th>0</th>\n",
       "      <td>R00001</td>\n",
       "      <td>M</td>\n",
       "      <td>3</td>\n",
       "      <td>Working Professional</td>\n",
       "      <td>1</td>\n",
       "      <td>2</td>\n",
       "      <td>Newcomer</td>\n",
       "      <td>Medium (500 ml)</td>\n",
       "      <td>1</td>\n",
       "      <td>Price</td>\n",
       "      <td>Traditional</td>\n",
       "      <td>Online</td>\n",
       "      <td>Simple</td>\n",
       "      <td>Medium (Moderately health-conscious)</td>\n",
       "      <td>Active (eg. Sports, gym)</td>\n",
       "      <td>100-150</td>\n",
       "      <td>26-35</td>\n",
       "      <td>0.67</td>\n",
       "      <td>3</td>\n",
       "      <td>1</td>\n",
       "    </tr>\n",
       "    <tr>\n",
       "      <th>1</th>\n",
       "      <td>R00002</td>\n",
       "      <td>F</td>\n",
       "      <td>4</td>\n",
       "      <td>Working Professional</td>\n",
       "      <td>5</td>\n",
       "      <td>3</td>\n",
       "      <td>Established</td>\n",
       "      <td>Medium (500 ml)</td>\n",
       "      <td>2</td>\n",
       "      <td>Quality</td>\n",
       "      <td>Exotic</td>\n",
       "      <td>Retail Store</td>\n",
       "      <td>Premium</td>\n",
       "      <td>Medium (Moderately health-conscious)</td>\n",
       "      <td>Social (eg. Parties)</td>\n",
       "      <td>200-250</td>\n",
       "      <td>46-55</td>\n",
       "      <td>0.60</td>\n",
       "      <td>20</td>\n",
       "      <td>0</td>\n",
       "    </tr>\n",
       "    <tr>\n",
       "      <th>2</th>\n",
       "      <td>R00003</td>\n",
       "      <td>F</td>\n",
       "      <td>1</td>\n",
       "      <td>Working Professional</td>\n",
       "      <td>5</td>\n",
       "      <td>2</td>\n",
       "      <td>Newcomer</td>\n",
       "      <td>Medium (500 ml)</td>\n",
       "      <td>2</td>\n",
       "      <td>Availability</td>\n",
       "      <td>Traditional</td>\n",
       "      <td>Retail Store</td>\n",
       "      <td>Premium</td>\n",
       "      <td>Medium (Moderately health-conscious)</td>\n",
       "      <td>Active (eg. Sports, gym)</td>\n",
       "      <td>200-250</td>\n",
       "      <td>36-45</td>\n",
       "      <td>0.50</td>\n",
       "      <td>5</td>\n",
       "      <td>0</td>\n",
       "    </tr>\n",
       "    <tr>\n",
       "      <th>3</th>\n",
       "      <td>R00004</td>\n",
       "      <td>F</td>\n",
       "      <td>3</td>\n",
       "      <td>Working Professional</td>\n",
       "      <td>3</td>\n",
       "      <td>3</td>\n",
       "      <td>Newcomer</td>\n",
       "      <td>Medium (500 ml)</td>\n",
       "      <td>1</td>\n",
       "      <td>Brand Reputation</td>\n",
       "      <td>Exotic</td>\n",
       "      <td>Online</td>\n",
       "      <td>Eco-Friendly</td>\n",
       "      <td>Low (Not very concerned)</td>\n",
       "      <td>Active (eg. Sports, gym)</td>\n",
       "      <td>150-200</td>\n",
       "      <td>26-35</td>\n",
       "      <td>0.75</td>\n",
       "      <td>9</td>\n",
       "      <td>0</td>\n",
       "    </tr>\n",
       "    <tr>\n",
       "      <th>4</th>\n",
       "      <td>R00005</td>\n",
       "      <td>M</td>\n",
       "      <td>4</td>\n",
       "      <td>Student</td>\n",
       "      <td>0</td>\n",
       "      <td>2</td>\n",
       "      <td>Established</td>\n",
       "      <td>Medium (500 ml)</td>\n",
       "      <td>1</td>\n",
       "      <td>Availability</td>\n",
       "      <td>Traditional</td>\n",
       "      <td>Online</td>\n",
       "      <td>Premium</td>\n",
       "      <td>Medium (Moderately health-conscious)</td>\n",
       "      <td>Active (eg. Sports, gym)</td>\n",
       "      <td>50-100</td>\n",
       "      <td>18-25</td>\n",
       "      <td>0.67</td>\n",
       "      <td>0</td>\n",
       "      <td>0</td>\n",
       "    </tr>\n",
       "  </tbody>\n",
       "</table>\n",
       "</div>"
      ],
      "text/plain": [
       "  respondent_id gender  zone            occupation  income_levels  \\\n",
       "0        R00001      M     3  Working Professional              1   \n",
       "1        R00002      F     4  Working Professional              5   \n",
       "2        R00003      F     1  Working Professional              5   \n",
       "3        R00004      F     3  Working Professional              3   \n",
       "4        R00005      M     4               Student              0   \n",
       "\n",
       "   consume_frequency(weekly) current_brand preferable_consumption_size  \\\n",
       "0                          2      Newcomer             Medium (500 ml)   \n",
       "1                          3   Established             Medium (500 ml)   \n",
       "2                          2      Newcomer             Medium (500 ml)   \n",
       "3                          3      Newcomer             Medium (500 ml)   \n",
       "4                          2   Established             Medium (500 ml)   \n",
       "\n",
       "   awareness_of_other_brands reasons_for_choosing_brands flavor_preference  \\\n",
       "0                          1                       Price       Traditional   \n",
       "1                          2                     Quality            Exotic   \n",
       "2                          2                Availability       Traditional   \n",
       "3                          1            Brand Reputation            Exotic   \n",
       "4                          1                Availability       Traditional   \n",
       "\n",
       "  purchase_channel packaging_preference                       health_concerns  \\\n",
       "0           Online               Simple  Medium (Moderately health-conscious)   \n",
       "1     Retail Store              Premium  Medium (Moderately health-conscious)   \n",
       "2     Retail Store              Premium  Medium (Moderately health-conscious)   \n",
       "3           Online         Eco-Friendly              Low (Not very concerned)   \n",
       "4           Online              Premium  Medium (Moderately health-conscious)   \n",
       "\n",
       "  typical_consumption_situations price_range age_group  cf_ab_score  \\\n",
       "0       Active (eg. Sports, gym)     100-150     26-35         0.67   \n",
       "1           Social (eg. Parties)     200-250     46-55         0.60   \n",
       "2       Active (eg. Sports, gym)     200-250     36-45         0.50   \n",
       "3       Active (eg. Sports, gym)     150-200     26-35         0.75   \n",
       "4       Active (eg. Sports, gym)      50-100     18-25         0.67   \n",
       "\n",
       "   zas_score  bsi  \n",
       "0          3    1  \n",
       "1         20    0  \n",
       "2          5    0  \n",
       "3          9    0  \n",
       "4          0    0  "
      ]
     },
     "execution_count": 62,
     "metadata": {},
     "output_type": "execute_result"
    }
   ],
   "source": [
    "df = df[~((df['age_group'] == '56-70') & (df['occupation']=='Student'))]\n",
    "print(df.shape)\n",
    "df.head()"
   ]
  },
  {
   "cell_type": "code",
   "execution_count": 63,
   "id": "32b7b08418c5bc16",
   "metadata": {
    "ExecuteTime": {
     "end_time": "2024-12-20T22:01:45.807203Z",
     "start_time": "2024-12-20T22:01:45.794960Z"
    }
   },
   "outputs": [
    {
     "data": {
      "text/plain": [
       "age_group  occupation          \n",
       "18-25      Student                 7328\n",
       "           Working Professional    2605\n",
       "           Entrepreneur             535\n",
       "26-35      Working Professional    6570\n",
       "           Entrepreneur            1826\n",
       "           Student                  697\n",
       "36-45      Working Professional    4353\n",
       "           Entrepreneur            1619\n",
       "46-55      Working Professional    2167\n",
       "           Entrepreneur             799\n",
       "56-70      Retired                 1130\n",
       "           Entrepreneur             221\n",
       "           Working Professional     106\n",
       "Name: count, dtype: int64"
      ]
     },
     "execution_count": 63,
     "metadata": {},
     "output_type": "execute_result"
    }
   ],
   "source": [
    "df.groupby('age_group')['occupation'].value_counts()"
   ]
  },
  {
   "cell_type": "code",
   "execution_count": 64,
   "id": "b9d5c9ba451bbe0e",
   "metadata": {
    "ExecuteTime": {
     "end_time": "2024-12-20T22:01:45.950709Z",
     "start_time": "2024-12-20T22:01:45.946930Z"
    }
   },
   "outputs": [
    {
     "data": {
      "text/plain": [
       "(29956, 20)"
      ]
     },
     "execution_count": 64,
     "metadata": {},
     "output_type": "execute_result"
    }
   ],
   "source": [
    "df.shape"
   ]
  },
  {
   "cell_type": "code",
   "execution_count": 65,
   "id": "93613d802690544b",
   "metadata": {
    "ExecuteTime": {
     "end_time": "2024-12-20T22:01:46.090430Z",
     "start_time": "2024-12-20T22:01:46.084713Z"
    }
   },
   "outputs": [
    {
     "data": {
      "text/plain": [
       "bsi\n",
       "0    20796\n",
       "1     9160\n",
       "Name: count, dtype: int64"
      ]
     },
     "execution_count": 65,
     "metadata": {},
     "output_type": "execute_result"
    }
   ],
   "source": [
    "df['bsi'].value_counts()"
   ]
  },
  {
   "cell_type": "markdown",
   "id": "1122a7192accd38f",
   "metadata": {
    "ExecuteTime": {
     "end_time": "2024-12-20T22:01:46.265225Z",
     "start_time": "2024-12-20T22:01:46.262545Z"
    }
   },
   "source": [
    "<h1 align='center' style='color:#daa520'>Modeling Instructions</h1>"
   ]
  },
  {
   "cell_type": "markdown",
   "id": "0b4fc029",
   "metadata": {},
   "source": [
    "### 1. Prepare Features and Target Variables:"
   ]
  },
  {
   "cell_type": "code",
   "execution_count": 66,
   "id": "7deb641b",
   "metadata": {},
   "outputs": [
    {
     "name": "stdout",
     "output_type": "stream",
     "text": [
      "Shape of Feature Matrix (X): (29956, 18)\n",
      "Shape of Target Variable (y): (29956,)\n"
     ]
    }
   ],
   "source": [
    "# Prepare Feature Matrix (X) and Target Variable (y)\\n\n",
    "X = df.drop(['respondent_id', 'price_range'], axis=1)\n",
    "y = df['price_range']\n",
    "print(\"Shape of Feature Matrix (X):\", X.shape)\n",
    "print(\"Shape of Target Variable (y):\", y.shape)"
   ]
  },
  {
   "cell_type": "markdown",
   "id": "7449272d",
   "metadata": {},
   "source": [
    "### 2. Data Splitting:"
   ]
  },
  {
   "cell_type": "code",
   "execution_count": 67,
   "id": "1ce158aa",
   "metadata": {},
   "outputs": [
    {
     "name": "stdout",
     "output_type": "stream",
     "text": [
      "X_train shape: (22467, 18)\n",
      "X_test shape: (7489, 18)\n",
      "y_train shape: (22467,)\n",
      "y_test shape: (7489,)\n"
     ]
    }
   ],
   "source": [
    "from sklearn.model_selection import train_test_split\n",
    "# Split data into training and testing sets\n",
    "X_train, X_test, y_train, y_test = train_test_split(X, y, test_size=0.25, random_state=42)\n",
    "print(\"X_train shape:\", X_train.shape)\n",
    "print(\"X_test shape:\", X_test.shape)\n",
    "print(\"y_train shape:\", y_train.shape)\n",
    "print(\"y_test shape:\", y_test.shape)"
   ]
  },
  {
   "cell_type": "markdown",
   "id": "ab52b360",
   "metadata": {},
   "source": [
    "### 3. Feature Encoding"
   ]
  },
  {
   "cell_type": "markdown",
   "id": "fd6cbe0b",
   "metadata": {},
   "source": [
    "#### Use Label Encoding for the following Columns:\n",
    "age_groups, income_levels. health_concerns, consume_frequency(weekly), and preferable_consumption_size"
   ]
  },
  {
   "cell_type": "code",
   "execution_count": 68,
   "id": "a0455f07",
   "metadata": {},
   "outputs": [
    {
     "name": "stdout",
     "output_type": "stream",
     "text": [
      "Label Encoding completed for specified columns.\n"
     ]
    }
   ],
   "source": [
    "from sklearn.preprocessing import LabelEncoder\n",
    "# Columns for Label Encoding\n",
    "label_encode_cols = ['age_group', 'income_levels', 'health_concerns', 'consume_frequency(weekly)', 'preferable_consumption_size', 'price_range']\n",
    "# Initialize LabelEncoder\n",
    "label_encoder = LabelEncoder()\n",
    "# Apply Label Encoding to target variable\n",
    "y_train_encoded = label_encoder.fit_transform(y_train)\n",
    "y_test_encoded = label_encoder.transform(y_test)\n",
    "\n",
    "# Apply Label Encoding to specified feature columns in training set\n",
    "for col in label_encode_cols:\n",
    "    if col != 'price_range': # Avoid encoding price_range here, it's target\n",
    "        X_train[col] = label_encoder.fit_transform(X_train[col])\n",
    "        X_test[col] = label_encoder.transform(X_test[col])\n",
    "\n",
    "print(\"Label Encoding completed for specified columns.\")"
   ]
  },
  {
   "cell_type": "markdown",
   "id": "ba7c2019",
   "metadata": {},
   "source": [
    "#### Apply One-Hot-Encoding to all remaining categorical columns"
   ]
  },
  {
   "cell_type": "code",
   "execution_count": 69,
   "id": "ce8426d6",
   "metadata": {},
   "outputs": [
    {
     "name": "stdout",
     "output_type": "stream",
     "text": [
      "One-Hot Encoding completed for remaining categorical columns.\n",
      "Shape of encoded X_train: (22467, 33)\n",
      "Shape of encoded X_test: (7489, 33)\n"
     ]
    }
   ],
   "source": [
    "from sklearn.preprocessing import OneHotEncoder\n",
    "import pandas as pd\n",
    "\n",
    "# Identify categorical columns for One-Hot Encoding (excluding already Label Encoded and target)\n",
    "categorical_cols = X_train.select_dtypes(include='object').columns.tolist()\n",
    "\n",
    "# Initialize OneHotEncoder with handle_unknown='ignore'\n",
    "onehot_encoder = OneHotEncoder(sparse_output=False, handle_unknown='ignore')\n",
    "\n",
    "# Apply One-Hot Encoding to categorical columns in training set\n",
    "X_train_encoded = onehot_encoder.fit_transform(X_train[categorical_cols])\n",
    "X_test_encoded = onehot_encoder.transform(X_test[categorical_cols])\n",
    "\n",
    "# Create DataFrame from encoded features\n",
    "X_train_encoded_df = pd.DataFrame(X_train_encoded, columns=onehot_encoder.get_feature_names_out(categorical_cols), index=X_train.index)\n",
    "X_test_encoded_df = pd.DataFrame(X_test_encoded, columns=onehot_encoder.get_feature_names_out(categorical_cols), index=X_test.index)\n",
    "\n",
    "# Drop original categorical columns and concatenate encoded features\n",
    "X_train = X_train.drop(categorical_cols, axis=1)\n",
    "X_test = X_test.drop(categorical_cols, axis=1)\n",
    "\n",
    "X_train = pd.concat([X_train, X_train_encoded_df], axis=1)\n",
    "X_test = pd.concat([X_test, X_test_encoded_df], axis=1)\n",
    "\n",
    "print(\"One-Hot Encoding completed for remaining categorical columns.\")\n",
    "print(\"Shape of encoded X_train:\", X_train.shape)\n",
    "print(\"Shape of encoded X_test:\", X_test.shape)"
   ]
  },
  {
   "cell_type": "markdown",
   "id": "8f7ceb7c",
   "metadata": {},
   "source": [
    "### 4. Model Selection"
   ]
  },
  {
   "cell_type": "code",
   "execution_count": 70,
   "id": "3cab4ec9",
   "metadata": {},
   "outputs": [],
   "source": [
    "import mlflow\n",
    "import mlflow.sklearn\n",
    "import mlflow.xgboost\n",
    "import mlflow.lightgbm"
   ]
  },
  {
   "cell_type": "code",
   "execution_count": 71,
   "id": "49e175db",
   "metadata": {},
   "outputs": [
    {
     "data": {
      "text/html": [
       "<pre style=\"white-space:pre;overflow-x:auto;line-height:normal;font-family:Menlo,'DejaVu Sans Mono',consolas,'Courier New',monospace\">Accessing as gauravanilwankhede2002\n",
       "</pre>\n"
      ],
      "text/plain": [
       "Accessing as gauravanilwankhede2002\n"
      ]
     },
     "metadata": {},
     "output_type": "display_data"
    },
    {
     "data": {
      "text/html": [
       "<pre style=\"white-space:pre;overflow-x:auto;line-height:normal;font-family:Menlo,'DejaVu Sans Mono',consolas,'Courier New',monospace\">Initialized MLflow to track repo <span style=\"color: #008000; text-decoration-color: #008000\">\"gauravanilwankhede2002/mlflow_first_project\"</span>\n",
       "</pre>\n"
      ],
      "text/plain": [
       "Initialized MLflow to track repo \u001b[32m\"gauravanilwankhede2002/mlflow_first_project\"\u001b[0m\n"
      ]
     },
     "metadata": {},
     "output_type": "display_data"
    },
    {
     "data": {
      "text/html": [
       "<pre style=\"white-space:pre;overflow-x:auto;line-height:normal;font-family:Menlo,'DejaVu Sans Mono',consolas,'Courier New',monospace\">Repository gauravanilwankhede2002/mlflow_first_project initialized!\n",
       "</pre>\n"
      ],
      "text/plain": [
       "Repository gauravanilwankhede2002/mlflow_first_project initialized!\n"
      ]
     },
     "metadata": {},
     "output_type": "display_data"
    }
   ],
   "source": [
    "import dagshub\n",
    "dagshub.init(repo_owner='gauravanilwankhede2002', repo_name='mlflow_first_project', mlflow=True)"
   ]
  },
  {
   "cell_type": "code",
   "execution_count": null,
   "id": "3a9e5c35",
   "metadata": {},
   "outputs": [
    {
     "name": "stderr",
     "output_type": "stream",
     "text": [
      "2025/01/25 15:16:11 INFO mlflow.tracking.fluent: Experiment with name 'ML FLow First Experiment' does not exist. Creating a new experiment.\n",
      "2025/01/25 15:16:11 INFO mlflow.tracking.fluent: Autologging successfully enabled for lightgbm.\n",
      "2025/01/25 15:16:12 INFO mlflow.tracking.fluent: Autologging successfully enabled for sklearn.\n",
      "2025/01/25 15:16:12 INFO mlflow.tracking.fluent: Autologging successfully enabled for statsmodels.\n",
      "2025/01/25 15:16:12 INFO mlflow.tracking.fluent: Autologging successfully enabled for xgboost.\n"
     ]
    },
    {
     "name": "stdout",
     "output_type": "stream",
     "text": [
      "\n",
      "Training and evaluating Gaussian Naive Bayes...\n"
     ]
    },
    {
     "name": "stderr",
     "output_type": "stream",
     "text": [
      "2025/01/25 15:16:14 WARNING mlflow.utils.autologging_utils: MLflow autologging encountered a warning: \"C:\\Users\\Gaurav\\AppData\\Roaming\\Python\\Python312\\site-packages\\mlflow\\types\\utils.py:452: UserWarning: Hint: Inferred schema contains integer column(s). Integer columns in Python cannot represent missing values. If your input data contains missing values at inference time, it will be encoded as floats and will cause a schema enforcement error. The best way to avoid this problem is to infer the model schema based on a realistic data sample (training dataset) that includes missing values. Alternatively, you can declare integer columns as doubles (float64) whenever these columns may have missing values. See `Handling Integers With Missing Values <https://www.mlflow.org/docs/latest/models.html#handling-integers-with-missing-values>`_ for more details.\"\n",
      "c:\\ProgramData\\anaconda3\\Lib\\site-packages\\sklearn\\metrics\\_classification.py:2981: UserWarning: The y_pred values do not sum to one. Starting from 1.5 thiswill result in an error.\n",
      "  warnings.warn(\n",
      "2025/01/25 15:16:16 WARNING mlflow.utils.autologging_utils: MLflow autologging encountered a warning: \"C:\\Users\\Gaurav\\AppData\\Roaming\\Python\\Python312\\site-packages\\mlflow\\types\\utils.py:452: UserWarning: Hint: Inferred schema contains integer column(s). Integer columns in Python cannot represent missing values. If your input data contains missing values at inference time, it will be encoded as floats and will cause a schema enforcement error. The best way to avoid this problem is to infer the model schema based on a realistic data sample (training dataset) that includes missing values. Alternatively, you can declare integer columns as doubles (float64) whenever these columns may have missing values. See `Handling Integers With Missing Values <https://www.mlflow.org/docs/latest/models.html#handling-integers-with-missing-values>`_ for more details.\"\n",
      "2025/01/25 15:16:24 WARNING mlflow.utils.autologging_utils: MLflow autologging encountered a warning: \"C:\\Users\\Gaurav\\AppData\\Roaming\\Python\\Python312\\site-packages\\mlflow\\types\\utils.py:452: UserWarning: Hint: Inferred schema contains integer column(s). Integer columns in Python cannot represent missing values. If your input data contains missing values at inference time, it will be encoded as floats and will cause a schema enforcement error. The best way to avoid this problem is to infer the model schema based on a realistic data sample (training dataset) that includes missing values. Alternatively, you can declare integer columns as doubles (float64) whenever these columns may have missing values. See `Handling Integers With Missing Values <https://www.mlflow.org/docs/latest/models.html#handling-integers-with-missing-values>`_ for more details.\"\n",
      "2025/01/25 15:16:47 WARNING mlflow.models.model: Model logged without a signature and input example. Please set `input_example` parameter when logging the model to auto infer the model signature.\n"
     ]
    },
    {
     "name": "stdout",
     "output_type": "stream",
     "text": [
      "Gaussian Naive Bayes - Accuracy: 0.5642\n",
      "Gaussian Naive Bayes - Classification Report:\n",
      "              precision    recall  f1-score   support\n",
      "\n",
      "           0       0.43      0.18      0.26      1930\n",
      "           1       0.62      0.34      0.44      2223\n",
      "           2       0.69      0.92      0.79      2430\n",
      "           3       0.39      0.95      0.56       906\n",
      "\n",
      "    accuracy                           0.56      7489\n",
      "   macro avg       0.53      0.60      0.51      7489\n",
      "weighted avg       0.57      0.56      0.52      7489\n",
      "\n",
      "🏃 View run Gaussian Naive Bayes at: https://dagshub.com/gauravanilwankhede2002/mlflow_first_project.mlflow/#/experiments/1/runs/02cafd1f369546b9a0152a0a14df53e6\n",
      "🧪 View experiment at: https://dagshub.com/gauravanilwankhede2002/mlflow_first_project.mlflow/#/experiments/1\n",
      "\n",
      "Training and evaluating Logistic Regression...\n"
     ]
    },
    {
     "name": "stderr",
     "output_type": "stream",
     "text": [
      "2025/01/25 15:16:56 WARNING mlflow.utils.autologging_utils: MLflow autologging encountered a warning: \"C:\\Users\\Gaurav\\AppData\\Roaming\\Python\\Python312\\site-packages\\mlflow\\types\\utils.py:452: UserWarning: Hint: Inferred schema contains integer column(s). Integer columns in Python cannot represent missing values. If your input data contains missing values at inference time, it will be encoded as floats and will cause a schema enforcement error. The best way to avoid this problem is to infer the model schema based on a realistic data sample (training dataset) that includes missing values. Alternatively, you can declare integer columns as doubles (float64) whenever these columns may have missing values. See `Handling Integers With Missing Values <https://www.mlflow.org/docs/latest/models.html#handling-integers-with-missing-values>`_ for more details.\"\n",
      "2025/01/25 15:17:00 WARNING mlflow.utils.autologging_utils: MLflow autologging encountered a warning: \"C:\\Users\\Gaurav\\AppData\\Roaming\\Python\\Python312\\site-packages\\mlflow\\types\\utils.py:452: UserWarning: Hint: Inferred schema contains integer column(s). Integer columns in Python cannot represent missing values. If your input data contains missing values at inference time, it will be encoded as floats and will cause a schema enforcement error. The best way to avoid this problem is to infer the model schema based on a realistic data sample (training dataset) that includes missing values. Alternatively, you can declare integer columns as doubles (float64) whenever these columns may have missing values. See `Handling Integers With Missing Values <https://www.mlflow.org/docs/latest/models.html#handling-integers-with-missing-values>`_ for more details.\"\n",
      "2025/01/25 15:17:07 WARNING mlflow.utils.autologging_utils: MLflow autologging encountered a warning: \"C:\\Users\\Gaurav\\AppData\\Roaming\\Python\\Python312\\site-packages\\mlflow\\types\\utils.py:452: UserWarning: Hint: Inferred schema contains integer column(s). Integer columns in Python cannot represent missing values. If your input data contains missing values at inference time, it will be encoded as floats and will cause a schema enforcement error. The best way to avoid this problem is to infer the model schema based on a realistic data sample (training dataset) that includes missing values. Alternatively, you can declare integer columns as doubles (float64) whenever these columns may have missing values. See `Handling Integers With Missing Values <https://www.mlflow.org/docs/latest/models.html#handling-integers-with-missing-values>`_ for more details.\"\n",
      "2025/01/25 15:17:37 WARNING mlflow.models.model: Model logged without a signature and input example. Please set `input_example` parameter when logging the model to auto infer the model signature.\n"
     ]
    },
    {
     "name": "stdout",
     "output_type": "stream",
     "text": [
      "Logistic Regression - Accuracy: 0.7929\n",
      "Logistic Regression - Classification Report:\n",
      "              precision    recall  f1-score   support\n",
      "\n",
      "           0       0.73      0.75      0.74      1930\n",
      "           1       0.74      0.75      0.75      2223\n",
      "           2       0.89      0.88      0.89      2430\n",
      "           3       0.79      0.74      0.76       906\n",
      "\n",
      "    accuracy                           0.79      7489\n",
      "   macro avg       0.79      0.78      0.78      7489\n",
      "weighted avg       0.79      0.79      0.79      7489\n",
      "\n",
      "🏃 View run Logistic Regression at: https://dagshub.com/gauravanilwankhede2002/mlflow_first_project.mlflow/#/experiments/1/runs/b26c667f1d734e32bdad9e8da95aa5bd\n",
      "🧪 View experiment at: https://dagshub.com/gauravanilwankhede2002/mlflow_first_project.mlflow/#/experiments/1\n",
      "\n",
      "Training and evaluating Support Vector Machine...\n"
     ]
    },
    {
     "name": "stderr",
     "output_type": "stream",
     "text": [
      "2025/01/25 15:17:46 WARNING mlflow.utils.autologging_utils: MLflow autologging encountered a warning: \"C:\\Users\\Gaurav\\AppData\\Roaming\\Python\\Python312\\site-packages\\mlflow\\types\\utils.py:452: UserWarning: Hint: Inferred schema contains integer column(s). Integer columns in Python cannot represent missing values. If your input data contains missing values at inference time, it will be encoded as floats and will cause a schema enforcement error. The best way to avoid this problem is to infer the model schema based on a realistic data sample (training dataset) that includes missing values. Alternatively, you can declare integer columns as doubles (float64) whenever these columns may have missing values. See `Handling Integers With Missing Values <https://www.mlflow.org/docs/latest/models.html#handling-integers-with-missing-values>`_ for more details.\"\n",
      "2025/01/25 15:18:41 WARNING mlflow.utils.autologging_utils: MLflow autologging encountered a warning: \"C:\\Users\\Gaurav\\AppData\\Roaming\\Python\\Python312\\site-packages\\mlflow\\types\\utils.py:452: UserWarning: Hint: Inferred schema contains integer column(s). Integer columns in Python cannot represent missing values. If your input data contains missing values at inference time, it will be encoded as floats and will cause a schema enforcement error. The best way to avoid this problem is to infer the model schema based on a realistic data sample (training dataset) that includes missing values. Alternatively, you can declare integer columns as doubles (float64) whenever these columns may have missing values. See `Handling Integers With Missing Values <https://www.mlflow.org/docs/latest/models.html#handling-integers-with-missing-values>`_ for more details.\"\n",
      "2025/01/25 15:18:56 WARNING mlflow.utils.autologging_utils: MLflow autologging encountered a warning: \"C:\\Users\\Gaurav\\AppData\\Roaming\\Python\\Python312\\site-packages\\mlflow\\types\\utils.py:452: UserWarning: Hint: Inferred schema contains integer column(s). Integer columns in Python cannot represent missing values. If your input data contains missing values at inference time, it will be encoded as floats and will cause a schema enforcement error. The best way to avoid this problem is to infer the model schema based on a realistic data sample (training dataset) that includes missing values. Alternatively, you can declare integer columns as doubles (float64) whenever these columns may have missing values. See `Handling Integers With Missing Values <https://www.mlflow.org/docs/latest/models.html#handling-integers-with-missing-values>`_ for more details.\"\n",
      "2025/01/25 15:19:14 WARNING mlflow.models.model: Model logged without a signature and input example. Please set `input_example` parameter when logging the model to auto infer the model signature.\n"
     ]
    },
    {
     "name": "stdout",
     "output_type": "stream",
     "text": [
      "Support Vector Machine - Accuracy: 0.8144\n",
      "Support Vector Machine - Classification Report:\n",
      "              precision    recall  f1-score   support\n",
      "\n",
      "           0       0.76      0.77      0.76      1930\n",
      "           1       0.77      0.79      0.78      2223\n",
      "           2       0.91      0.90      0.90      2430\n",
      "           3       0.82      0.75      0.78       906\n",
      "\n",
      "    accuracy                           0.81      7489\n",
      "   macro avg       0.81      0.80      0.81      7489\n",
      "weighted avg       0.82      0.81      0.81      7489\n",
      "\n",
      "🏃 View run Support Vector Machine at: https://dagshub.com/gauravanilwankhede2002/mlflow_first_project.mlflow/#/experiments/1/runs/4ce8948d7a8b49ec8a19e12405772bf7\n",
      "🧪 View experiment at: https://dagshub.com/gauravanilwankhede2002/mlflow_first_project.mlflow/#/experiments/1\n",
      "\n",
      "Training and evaluating Random Forest...\n"
     ]
    },
    {
     "name": "stderr",
     "output_type": "stream",
     "text": [
      "2025/01/25 15:19:23 WARNING mlflow.utils.autologging_utils: MLflow autologging encountered a warning: \"C:\\Users\\Gaurav\\AppData\\Roaming\\Python\\Python312\\site-packages\\mlflow\\types\\utils.py:452: UserWarning: Hint: Inferred schema contains integer column(s). Integer columns in Python cannot represent missing values. If your input data contains missing values at inference time, it will be encoded as floats and will cause a schema enforcement error. The best way to avoid this problem is to infer the model schema based on a realistic data sample (training dataset) that includes missing values. Alternatively, you can declare integer columns as doubles (float64) whenever these columns may have missing values. See `Handling Integers With Missing Values <https://www.mlflow.org/docs/latest/models.html#handling-integers-with-missing-values>`_ for more details.\"\n",
      "2025/01/25 15:19:27 WARNING mlflow.utils.autologging_utils: MLflow autologging encountered a warning: \"C:\\Users\\Gaurav\\AppData\\Roaming\\Python\\Python312\\site-packages\\mlflow\\types\\utils.py:452: UserWarning: Hint: Inferred schema contains integer column(s). Integer columns in Python cannot represent missing values. If your input data contains missing values at inference time, it will be encoded as floats and will cause a schema enforcement error. The best way to avoid this problem is to infer the model schema based on a realistic data sample (training dataset) that includes missing values. Alternatively, you can declare integer columns as doubles (float64) whenever these columns may have missing values. See `Handling Integers With Missing Values <https://www.mlflow.org/docs/latest/models.html#handling-integers-with-missing-values>`_ for more details.\"\n",
      "2025/01/25 15:19:51 WARNING mlflow.utils.autologging_utils: MLflow autologging encountered a warning: \"C:\\Users\\Gaurav\\AppData\\Roaming\\Python\\Python312\\site-packages\\mlflow\\types\\utils.py:452: UserWarning: Hint: Inferred schema contains integer column(s). Integer columns in Python cannot represent missing values. If your input data contains missing values at inference time, it will be encoded as floats and will cause a schema enforcement error. The best way to avoid this problem is to infer the model schema based on a realistic data sample (training dataset) that includes missing values. Alternatively, you can declare integer columns as doubles (float64) whenever these columns may have missing values. See `Handling Integers With Missing Values <https://www.mlflow.org/docs/latest/models.html#handling-integers-with-missing-values>`_ for more details.\"\n",
      "2025/01/25 15:20:12 WARNING mlflow.models.model: Model logged without a signature and input example. Please set `input_example` parameter when logging the model to auto infer the model signature.\n"
     ]
    },
    {
     "name": "stdout",
     "output_type": "stream",
     "text": [
      "Random Forest - Accuracy: 0.8909\n",
      "Random Forest - Classification Report:\n",
      "              precision    recall  f1-score   support\n",
      "\n",
      "           0       0.88      0.86      0.87      1930\n",
      "           1       0.84      0.89      0.86      2223\n",
      "           2       0.94      0.93      0.93      2430\n",
      "           3       0.91      0.88      0.89       906\n",
      "\n",
      "    accuracy                           0.89      7489\n",
      "   macro avg       0.89      0.89      0.89      7489\n",
      "weighted avg       0.89      0.89      0.89      7489\n",
      "\n",
      "🏃 View run Random Forest at: https://dagshub.com/gauravanilwankhede2002/mlflow_first_project.mlflow/#/experiments/1/runs/d7c562f698914eddb25d225917494e35\n",
      "🧪 View experiment at: https://dagshub.com/gauravanilwankhede2002/mlflow_first_project.mlflow/#/experiments/1\n",
      "\n",
      "Training and evaluating XGBoost...\n"
     ]
    },
    {
     "name": "stderr",
     "output_type": "stream",
     "text": [
      "C:\\Users\\Gaurav\\AppData\\Roaming\\Python\\Python312\\site-packages\\xgboost\\core.py:158: UserWarning: [15:20:36] WARNING: C:\\buildkite-agent\\builds\\buildkite-windows-cpu-autoscaling-group-i-0c55ff5f71b100e98-1\\xgboost\\xgboost-ci-windows\\src\\learner.cc:740: \n",
      "Parameters: { \"use_label_encoder\" } are not used.\n",
      "\n",
      "  warnings.warn(smsg, UserWarning)\n",
      "2025/01/25 15:20:39 WARNING mlflow.utils.autologging_utils: MLflow autologging encountered a warning: \"C:\\Users\\Gaurav\\AppData\\Roaming\\Python\\Python312\\site-packages\\mlflow\\types\\utils.py:452: UserWarning: Hint: Inferred schema contains integer column(s). Integer columns in Python cannot represent missing values. If your input data contains missing values at inference time, it will be encoded as floats and will cause a schema enforcement error. The best way to avoid this problem is to infer the model schema based on a realistic data sample (training dataset) that includes missing values. Alternatively, you can declare integer columns as doubles (float64) whenever these columns may have missing values. See `Handling Integers With Missing Values <https://www.mlflow.org/docs/latest/models.html#handling-integers-with-missing-values>`_ for more details.\"\n",
      "2025/01/25 15:20:39 WARNING mlflow.utils.autologging_utils: MLflow autologging encountered a warning: \"C:\\Users\\Gaurav\\AppData\\Roaming\\Python\\Python312\\site-packages\\xgboost\\core.py:158: UserWarning: [15:20:39] WARNING: C:\\buildkite-agent\\builds\\buildkite-windows-cpu-autoscaling-group-i-0c55ff5f71b100e98-1\\xgboost\\xgboost-ci-windows\\src\\c_api\\c_api.cc:1374: Saving model in the UBJSON format as default.  You can use file extension: `json`, `ubj` or `deprecated` to choose between formats.\"\n",
      "2025/01/25 15:20:46 WARNING mlflow.utils.autologging_utils: MLflow autologging encountered a warning: \"C:\\Users\\Gaurav\\AppData\\Roaming\\Python\\Python312\\site-packages\\mlflow\\types\\utils.py:452: UserWarning: Hint: Inferred schema contains integer column(s). Integer columns in Python cannot represent missing values. If your input data contains missing values at inference time, it will be encoded as floats and will cause a schema enforcement error. The best way to avoid this problem is to infer the model schema based on a realistic data sample (training dataset) that includes missing values. Alternatively, you can declare integer columns as doubles (float64) whenever these columns may have missing values. See `Handling Integers With Missing Values <https://www.mlflow.org/docs/latest/models.html#handling-integers-with-missing-values>`_ for more details.\"\n"
     ]
    }
   ],
   "source": [
    "import mlflow\n",
    "from sklearn.naive_bayes import GaussianNB\n",
    "from sklearn.linear_model import LogisticRegression\n",
    "from sklearn.svm import SVC\n",
    "from sklearn.ensemble import RandomForestClassifier\n",
    "import xgboost as xgb\n",
    "from lightgbm import LGBMClassifier\n",
    "from sklearn.metrics import accuracy_score, classification_report\n",
    "import pandas as pd\n",
    "\n",
    "mlflow.set_experiment(\"ML FLow First Experiment\")\n",
    "\n",
    "mlflow.set_tracking_uri(\"https://dagshub.com/gauravanilwankhede2002/mlflow_first_project.mlflow\")\n",
    "\n",
    "# Enable autologging\n",
    "mlflow.autolog()\n",
    "\n",
    "# Clean feature names to be compatible with LightGBM\n",
    "X_train.columns = [\"\".join(c if c.isalnum() else \"_\" for c in str(x)) for x in X_train.columns]\n",
    "X_test.columns = [\"\".join(c if c.isalnum() else \"_\" for c in str(x)) for x in X_test.columns]\n",
    "\n",
    "# Initialize models dictionary to store different classifiers\n",
    "models = {\n",
    "    'Gaussian Naive Bayes': GaussianNB(),\n",
    "    'Logistic Regression': LogisticRegression(max_iter=1000, random_state=42),\n",
    "    'Support Vector Machine': SVC(random_state=42),\n",
    "    'Random Forest': RandomForestClassifier(random_state=42),\n",
    "    'XGBoost': xgb.XGBClassifier(random_state=42, use_label_encoder=False, eval_metric='logloss'),\n",
    "    'LightGBM': LGBMClassifier(random_state=42)\n",
    "}\n",
    "\n",
    "# Dictionary to store model performance metrics\n",
    "model_performance = {}\n",
    "\n",
    "# Loop through each model to train and evaluate\n",
    "for name, model in models.items():\n",
    "    print(f'\\nTraining and evaluating {name}...')\n",
    "    with mlflow.start_run(run_name=name) as run:  # Added run_name\n",
    "        # Log parameters (manual logging for specific models)\n",
    "        if name == 'Logistic Regression':\n",
    "            mlflow.log_param(\"max_iter\", 1000)\n",
    "            mlflow.log_param(\"random_state\", 42)\n",
    "        elif name == 'XGBoost':\n",
    "            mlflow.log_param(\"random_state\", 42)\n",
    "            mlflow.log_param(\"use_label_encoder\", False)\n",
    "            mlflow.log_param(\"eval_metric\", 'logloss')\n",
    "        else:\n",
    "            mlflow.log_param(\"random_state\", 42)\n",
    "\n",
    "        # Add a tag for the model type\n",
    "        mlflow.set_tag(\"model_type\", name)\n",
    "\n",
    "        # Train the model on the training data\n",
    "        model.fit(X_train, y_train_encoded)\n",
    "\n",
    "        # Make predictions on the test data\n",
    "        y_pred = model.predict(X_test)\n",
    "\n",
    "        # Evaluate model performance\n",
    "        accuracy = accuracy_score(y_test_encoded, y_pred)\n",
    "        class_report = classification_report(y_test_encoded, y_pred)\n",
    "\n",
    "        # Store accuracy in model_performance dictionary\n",
    "        model_performance[name] = accuracy\n",
    "\n",
    "        # Log metrics (manual logging for accuracy)\n",
    "        mlflow.log_metric(\"accuracy\", accuracy)\n",
    "\n",
    "        # Log classification report metrics (manual logging)\n",
    "        report_dict = classification_report(y_test_encoded, y_pred, output_dict=True)\n",
    "        for label, metrics in report_dict.items():\n",
    "            if isinstance(metrics, dict):\n",
    "                for metric_name, metric_value in metrics.items():\n",
    "                    mlflow.log_metric(f\"{name}_{label}_{metric_name}\", metric_value)\n",
    "\n",
    "        # Log the model (autologging will also log the model)\n",
    "        mlflow.sklearn.log_model(model, artifact_path=\"model\")\n",
    "\n",
    "        # Print accuracy and classification report for each model\n",
    "        print(f'{name} - Accuracy: {accuracy:.4f}')\n",
    "        print(f'{name} - Classification Report:\\n{class_report}')\n",
    "\n",
    "print('\\nModel Comparison based on Accuracy:')\n",
    "\n",
    "# Iterate through the model_performance dictionary to compare accuracies\n",
    "for model, accuracy in model_performance.items():\n",
    "    print(f'{model}: Accuracy = {accuracy:.4f}')\n",
    "\n",
    "# Identify the best performing model based on accuracy\n",
    "best_model_name = max(model_performance, key=model_performance.get)\n",
    "best_accuracy = model_performance[best_model_name]\n",
    "\n",
    "# Print the best performing model and its accuracy\n",
    "print(f'\\nBest Performing Model: {best_model_name} with Accuracy = {best_accuracy:.4f}')"
   ]
  }
 ],
 "metadata": {
  "kernelspec": {
   "display_name": "base",
   "language": "python",
   "name": "python3"
  },
  "language_info": {
   "codemirror_mode": {
    "name": "ipython",
    "version": 3
   },
   "file_extension": ".py",
   "mimetype": "text/x-python",
   "name": "python",
   "nbconvert_exporter": "python",
   "pygments_lexer": "ipython3",
   "version": "3.12.4"
  }
 },
 "nbformat": 4,
 "nbformat_minor": 5
}
